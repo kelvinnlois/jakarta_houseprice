{
 "cells": [
  {
   "cell_type": "markdown",
   "metadata": {},
   "source": [
    "cuma mau ngecek apakah datanya bagus / engga"
   ]
  },
  {
   "cell_type": "code",
   "execution_count": 1,
   "metadata": {},
   "outputs": [],
   "source": [
    "import numpy as np\n",
    "import pandas as pd\n",
    "import matplotlib.pyplot as plt\n",
    "%matplotlib inline\n",
    "import seaborn as sns\n",
    "pd.set_option('display.max_columns',False)\n",
    "sns.set(rc={'figure.figsize':(20.7,8.27)})\n",
    "sns.set_style(\"whitegrid\")\n",
    "sns.color_palette(\"dark\")\n",
    "plt.style.use(\"fivethirtyeight\")"
   ]
  },
  {
   "cell_type": "code",
   "execution_count": 2,
   "metadata": {},
   "outputs": [
    {
     "data": {
      "text/html": [
       "<div>\n",
       "<style scoped>\n",
       "    .dataframe tbody tr th:only-of-type {\n",
       "        vertical-align: middle;\n",
       "    }\n",
       "\n",
       "    .dataframe tbody tr th {\n",
       "        vertical-align: top;\n",
       "    }\n",
       "\n",
       "    .dataframe thead th {\n",
       "        text-align: right;\n",
       "    }\n",
       "</style>\n",
       "<table border=\"1\" class=\"dataframe\">\n",
       "  <thead>\n",
       "    <tr style=\"text-align: right;\">\n",
       "      <th></th>\n",
       "      <th>kamar_mandi</th>\n",
       "      <th>kamar_tidur</th>\n",
       "      <th>luas_bangunan</th>\n",
       "      <th>luas_tanah</th>\n",
       "      <th>harga</th>\n",
       "      <th>kecamatan</th>\n",
       "      <th>garasi</th>\n",
       "      <th>kolam_renang</th>\n",
       "      <th>taman</th>\n",
       "      <th>gym</th>\n",
       "      <th>jumlah_lantai</th>\n",
       "      <th>listrik</th>\n",
       "    </tr>\n",
       "  </thead>\n",
       "  <tbody>\n",
       "    <tr>\n",
       "      <th>0</th>\n",
       "      <td>5</td>\n",
       "      <td>6</td>\n",
       "      <td>353.0</td>\n",
       "      <td>155.0</td>\n",
       "      <td>6.700000e+09</td>\n",
       "      <td>Mampang Prapatan</td>\n",
       "      <td>True</td>\n",
       "      <td>True</td>\n",
       "      <td>False</td>\n",
       "      <td>False</td>\n",
       "      <td>2</td>\n",
       "      <td>6600.0</td>\n",
       "    </tr>\n",
       "    <tr>\n",
       "      <th>1</th>\n",
       "      <td>4</td>\n",
       "      <td>4</td>\n",
       "      <td>90.0</td>\n",
       "      <td>60.0</td>\n",
       "      <td>1.299000e+09</td>\n",
       "      <td>Cilandak</td>\n",
       "      <td>True</td>\n",
       "      <td>False</td>\n",
       "      <td>False</td>\n",
       "      <td>False</td>\n",
       "      <td>2</td>\n",
       "      <td>2200.0</td>\n",
       "    </tr>\n",
       "    <tr>\n",
       "      <th>2</th>\n",
       "      <td>4</td>\n",
       "      <td>6</td>\n",
       "      <td>160.0</td>\n",
       "      <td>109.0</td>\n",
       "      <td>2.300000e+09</td>\n",
       "      <td>Kebayoran Baru</td>\n",
       "      <td>True</td>\n",
       "      <td>False</td>\n",
       "      <td>False</td>\n",
       "      <td>False</td>\n",
       "      <td>2</td>\n",
       "      <td>3500.0</td>\n",
       "    </tr>\n",
       "    <tr>\n",
       "      <th>3</th>\n",
       "      <td>3</td>\n",
       "      <td>4</td>\n",
       "      <td>125.0</td>\n",
       "      <td>72.0</td>\n",
       "      <td>3.149480e+09</td>\n",
       "      <td>Mampang Prapatan</td>\n",
       "      <td>True</td>\n",
       "      <td>False</td>\n",
       "      <td>True</td>\n",
       "      <td>False</td>\n",
       "      <td>2</td>\n",
       "      <td>2200.0</td>\n",
       "    </tr>\n",
       "    <tr>\n",
       "      <th>4</th>\n",
       "      <td>3</td>\n",
       "      <td>4</td>\n",
       "      <td>90.0</td>\n",
       "      <td>87.0</td>\n",
       "      <td>1.210000e+09</td>\n",
       "      <td>Jagakarsa</td>\n",
       "      <td>True</td>\n",
       "      <td>True</td>\n",
       "      <td>False</td>\n",
       "      <td>False</td>\n",
       "      <td>2</td>\n",
       "      <td>2200.0</td>\n",
       "    </tr>\n",
       "  </tbody>\n",
       "</table>\n",
       "</div>"
      ],
      "text/plain": [
       "   kamar_mandi  kamar_tidur  luas_bangunan  luas_tanah         harga         kecamatan  garasi  kolam_renang  taman    gym  jumlah_lantai  listrik\n",
       "0            5            6          353.0       155.0  6.700000e+09  Mampang Prapatan    True          True  False  False              2   6600.0\n",
       "1            4            4           90.0        60.0  1.299000e+09          Cilandak    True         False  False  False              2   2200.0\n",
       "2            4            6          160.0       109.0  2.300000e+09    Kebayoran Baru    True         False  False  False              2   3500.0\n",
       "3            3            4          125.0        72.0  3.149480e+09  Mampang Prapatan    True         False   True  False              2   2200.0\n",
       "4            3            4           90.0        87.0  1.210000e+09         Jagakarsa    True          True  False  False              2   2200.0"
      ]
     },
     "execution_count": 2,
     "metadata": {},
     "output_type": "execute_result"
    }
   ],
   "source": [
    "df = pd.read_csv('data_bersih.csv')\n",
    "df = df.drop(['Unnamed: 0', 'index'], axis = 1)\n",
    "df.head()"
   ]
  },
  {
   "cell_type": "code",
   "execution_count": 3,
   "metadata": {},
   "outputs": [],
   "source": [
    "num = [i for i in df.columns if df[i].dtypes in ['int64', 'float']]\n",
    "cat = [i for i in df.columns if df[i].dtypes in ['O', 'bool']]"
   ]
  },
  {
   "cell_type": "code",
   "execution_count": 4,
   "metadata": {},
   "outputs": [
    {
     "data": {
      "text/plain": [
       "['kamar_mandi',\n",
       " 'kamar_tidur',\n",
       " 'luas_bangunan',\n",
       " 'luas_tanah',\n",
       " 'harga',\n",
       " 'jumlah_lantai',\n",
       " 'listrik']"
      ]
     },
     "execution_count": 4,
     "metadata": {},
     "output_type": "execute_result"
    }
   ],
   "source": [
    "num"
   ]
  },
  {
   "cell_type": "code",
   "execution_count": 5,
   "metadata": {},
   "outputs": [
    {
     "data": {
      "text/plain": [
       "['kecamatan', 'garasi', 'kolam_renang', 'taman', 'gym']"
      ]
     },
     "execution_count": 5,
     "metadata": {},
     "output_type": "execute_result"
    }
   ],
   "source": [
    "cat"
   ]
  },
  {
   "cell_type": "code",
   "execution_count": 6,
   "metadata": {},
   "outputs": [],
   "source": [
    "from sklearn.model_selection import train_test_split as tts"
   ]
  },
  {
   "cell_type": "code",
   "execution_count": 7,
   "metadata": {},
   "outputs": [],
   "source": [
    "x_train, x_test, y_train, y_test = tts(\n",
    "    df.drop(['harga'],axis = 1),\n",
    "    df['harga'],\n",
    "    test_size = 0.1,\n",
    "    random_state = 0\n",
    ")"
   ]
  },
  {
   "cell_type": "code",
   "execution_count": 8,
   "metadata": {},
   "outputs": [
    {
     "name": "stdout",
     "output_type": "stream",
     "text": [
      "12162 1352 12162 1352\n"
     ]
    }
   ],
   "source": [
    "print(len(x_train), len(x_test), len(y_train), len(y_test))"
   ]
  },
  {
   "cell_type": "code",
   "execution_count": 9,
   "metadata": {},
   "outputs": [],
   "source": [
    "from feature_engine.encoding import DecisionTreeEncoder as dte"
   ]
  },
  {
   "cell_type": "code",
   "execution_count": 10,
   "metadata": {},
   "outputs": [],
   "source": [
    "encoding = dte(encoding_method='ordered')\n",
    "x_train = encoding.fit_transform(X=x_train, y=y_train)\n",
    "x_test = encoding.transform(x_test)"
   ]
  },
  {
   "cell_type": "code",
   "execution_count": 11,
   "metadata": {},
   "outputs": [],
   "source": [
    "from sklearn.preprocessing import StandardScaler as ss"
   ]
  },
  {
   "cell_type": "code",
   "execution_count": 12,
   "metadata": {},
   "outputs": [],
   "source": [
    "scaler = ss()\n",
    "x_train = scaler.fit_transform(x_train)\n",
    "x_test = scaler.transform(x_test)"
   ]
  },
  {
   "cell_type": "code",
   "execution_count": 13,
   "metadata": {},
   "outputs": [],
   "source": [
    "from sklearn.linear_model import Lasso "
   ]
  },
  {
   "cell_type": "code",
   "execution_count": 14,
   "metadata": {},
   "outputs": [
    {
     "data": {
      "text/plain": [
       "Lasso()"
      ]
     },
     "execution_count": 14,
     "metadata": {},
     "output_type": "execute_result"
    }
   ],
   "source": [
    "reg = Lasso()\n",
    "reg.fit(x_train, y_train)"
   ]
  },
  {
   "cell_type": "code",
   "execution_count": 15,
   "metadata": {},
   "outputs": [],
   "source": [
    "from sklearn.metrics import (\n",
    "    r2_score as r2,\n",
    "    mean_squared_error as mse\n",
    ")\n",
    "from math import sqrt"
   ]
  },
  {
   "cell_type": "code",
   "execution_count": 16,
   "metadata": {},
   "outputs": [
    {
     "name": "stdout",
     "output_type": "stream",
     "text": [
      "Train set\n",
      "\n",
      "r2 score :0.6724886338460326\n",
      "rmse score :8023559183.855603\n"
     ]
    }
   ],
   "source": [
    "r2_train = r2(y_train,reg.predict(x_train))\n",
    "rmse_train = sqrt(mse(y_train,reg.predict(x_train)))\n",
    "print(\"Train set\\n\")\n",
    "print(f\"r2 score :{r2_train}\")\n",
    "print(f\"rmse score :{rmse_train}\")"
   ]
  },
  {
   "cell_type": "code",
   "execution_count": 17,
   "metadata": {},
   "outputs": [
    {
     "name": "stdout",
     "output_type": "stream",
     "text": [
      "Test set\n",
      "\n",
      "r2 score :0.6609991059049758\n",
      "rmse score :8193292386.255005\n"
     ]
    }
   ],
   "source": [
    "r2_test = r2(y_test,reg.predict(x_test))\n",
    "rmse_test = sqrt(mse(y_test,reg.predict(x_test)))\n",
    "print(\"Test set\\n\")\n",
    "print(f\"r2 score :{r2_test}\")\n",
    "print(f\"rmse score :{rmse_test}\")"
   ]
  },
  {
   "cell_type": "code",
   "execution_count": 18,
   "metadata": {},
   "outputs": [],
   "source": [
    "feature = pd.DataFrame(reg.coef_,index=df.drop('harga',axis=1).columns)"
   ]
  },
  {
   "cell_type": "code",
   "execution_count": 19,
   "metadata": {},
   "outputs": [],
   "source": [
    "feature.columns = ['coef']"
   ]
  },
  {
   "cell_type": "code",
   "execution_count": 20,
   "metadata": {},
   "outputs": [
    {
     "data": {
      "text/html": [
       "<div>\n",
       "<style scoped>\n",
       "    .dataframe tbody tr th:only-of-type {\n",
       "        vertical-align: middle;\n",
       "    }\n",
       "\n",
       "    .dataframe tbody tr th {\n",
       "        vertical-align: top;\n",
       "    }\n",
       "\n",
       "    .dataframe thead th {\n",
       "        text-align: right;\n",
       "    }\n",
       "</style>\n",
       "<table border=\"1\" class=\"dataframe\">\n",
       "  <thead>\n",
       "    <tr style=\"text-align: right;\">\n",
       "      <th></th>\n",
       "      <th>coef</th>\n",
       "    </tr>\n",
       "  </thead>\n",
       "  <tbody>\n",
       "    <tr>\n",
       "      <th>kecamatan</th>\n",
       "      <td>5.613214e+09</td>\n",
       "    </tr>\n",
       "    <tr>\n",
       "      <th>luas_bangunan</th>\n",
       "      <td>5.178946e+09</td>\n",
       "    </tr>\n",
       "    <tr>\n",
       "      <th>luas_tanah</th>\n",
       "      <td>3.440416e+09</td>\n",
       "    </tr>\n",
       "    <tr>\n",
       "      <th>listrik</th>\n",
       "      <td>6.057467e+08</td>\n",
       "    </tr>\n",
       "    <tr>\n",
       "      <th>gym</th>\n",
       "      <td>2.209059e+08</td>\n",
       "    </tr>\n",
       "    <tr>\n",
       "      <th>kolam_renang</th>\n",
       "      <td>1.307602e+08</td>\n",
       "    </tr>\n",
       "    <tr>\n",
       "      <th>kamar_mandi</th>\n",
       "      <td>1.282305e+08</td>\n",
       "    </tr>\n",
       "    <tr>\n",
       "      <th>taman</th>\n",
       "      <td>6.919544e+07</td>\n",
       "    </tr>\n",
       "    <tr>\n",
       "      <th>garasi</th>\n",
       "      <td>-9.522657e+07</td>\n",
       "    </tr>\n",
       "    <tr>\n",
       "      <th>jumlah_lantai</th>\n",
       "      <td>-2.259097e+08</td>\n",
       "    </tr>\n",
       "    <tr>\n",
       "      <th>kamar_tidur</th>\n",
       "      <td>-6.744030e+08</td>\n",
       "    </tr>\n",
       "  </tbody>\n",
       "</table>\n",
       "</div>"
      ],
      "text/plain": [
       "                       coef\n",
       "kecamatan      5.613214e+09\n",
       "luas_bangunan  5.178946e+09\n",
       "luas_tanah     3.440416e+09\n",
       "listrik        6.057467e+08\n",
       "gym            2.209059e+08\n",
       "kolam_renang   1.307602e+08\n",
       "kamar_mandi    1.282305e+08\n",
       "taman          6.919544e+07\n",
       "garasi        -9.522657e+07\n",
       "jumlah_lantai -2.259097e+08\n",
       "kamar_tidur   -6.744030e+08"
      ]
     },
     "execution_count": 20,
     "metadata": {},
     "output_type": "execute_result"
    }
   ],
   "source": [
    "feature.sort_values(by='coef', ascending = False)"
   ]
  },
  {
   "cell_type": "code",
   "execution_count": 21,
   "metadata": {},
   "outputs": [
    {
     "data": {
      "text/plain": [
       "<matplotlib.collections.PathCollection at 0x7fc2ff7d7370>"
      ]
     },
     "execution_count": 21,
     "metadata": {},
     "output_type": "execute_result"
    },
    {
     "data": {
      "image/png": "[encoded data removed]",
      "text/plain": [
       "<Figure size 1490.4x595.44 with 1 Axes>"
      ]
     },
     "metadata": {},
     "output_type": "display_data"
    }
   ],
   "source": [
    "plt.scatter(df['jumlah_lantai'],df['harga'])"
   ]
  },
  {
   "cell_type": "code",
   "execution_count": 23,
   "metadata": {},
   "outputs": [],
   "source": [
    "from scipy import stats"
   ]
  },
  {
   "cell_type": "code",
   "execution_count": 32,
   "metadata": {},
   "outputs": [
    {
     "name": "stdout",
     "output_type": "stream",
     "text": [
      "1 2\n",
      "1 3\n",
      "1 4\n",
      "1 5\n",
      "2 3\n",
      "2 4\n",
      "2 5\n",
      "3 4\n",
      "3 5\n",
      "4 5\n"
     ]
    }
   ],
   "source": [
    "lantai = [i for i in df['jumlah_lantai'].unique()]\n",
    "lantai.sort()\n",
    "udah = []\n",
    "pair = {}\n",
    "for i in lantai:\n",
    "    for j in lantai:\n",
    "        if (j not in udah) & (i != j):\n",
    "            ttest = stats.ttest_ind(a = df[df['jumlah_lantai'] == i]['harga'],\n",
    "                                    b = df[df['jumlah_lantai'] == j]['harga'])\n",
    "            p_value = ttest.pvalue\n",
    "            pair[f'{i} - {j}'] = p_value\n",
    "            print(i,j)\n",
    "    udah.append(i)"
   ]
  },
  {
   "cell_type": "code",
   "execution_count": 33,
   "metadata": {},
   "outputs": [
    {
     "name": "stdout",
     "output_type": "stream",
     "text": [
      "3 10\n"
     ]
    }
   ],
   "source": [
    "count = 0\n",
    "for i,j in pair.items():\n",
    "    if j >= 0.05:\n",
    "        count += 1\n",
    "print(count, len(pair))"
   ]
  },
  {
   "cell_type": "code",
   "execution_count": 34,
   "metadata": {},
   "outputs": [
    {
     "name": "stdout",
     "output_type": "stream",
     "text": [
      "1 - 2\n",
      "3 - 4\n",
      "4 - 5\n"
     ]
    }
   ],
   "source": [
    "for i,j in pair.items():\n",
    "    if j >= 0.05:\n",
    "        print(i)"
   ]
  },
  {
   "cell_type": "code",
   "execution_count": 35,
   "metadata": {},
   "outputs": [
    {
     "data": {
      "text/plain": [
       "<matplotlib.collections.PathCollection at 0x7fc2fefde430>"
      ]
     },
     "execution_count": 35,
     "metadata": {},
     "output_type": "execute_result"
    },
    {
     "data": {
      "image/png": "[encoded data removed]",
      "text/plain": [
       "<Figure size 1490.4x595.44 with 1 Axes>"
      ]
     },
     "metadata": {},
     "output_type": "display_data"
    }
   ],
   "source": [
    "plt.scatter(df['kamar_tidur'],df['harga'])"
   ]
  },
  {
   "cell_type": "code",
   "execution_count": 44,
   "metadata": {},
   "outputs": [
    {
     "name": "stderr",
     "output_type": "stream",
     "text": [
      "/Users/rhzphlv/opt/anaconda3/lib/python3.8/site-packages/numpy/core/fromnumeric.py:3621: RuntimeWarning: Degrees of freedom <= 0 for slice\n",
      "  return _methods._var(a, axis=axis, dtype=dtype, out=out, ddof=ddof,\n",
      "/Users/rhzphlv/opt/anaconda3/lib/python3.8/site-packages/numpy/core/_methods.py:226: RuntimeWarning: invalid value encountered in double_scalars\n",
      "  ret = ret.dtype.type(ret / rcount)\n",
      "/Users/rhzphlv/opt/anaconda3/lib/python3.8/site-packages/numpy/core/fromnumeric.py:3621: RuntimeWarning: Degrees of freedom <= 0 for slice\n",
      "  return _methods._var(a, axis=axis, dtype=dtype, out=out, ddof=ddof,\n",
      "/Users/rhzphlv/opt/anaconda3/lib/python3.8/site-packages/numpy/core/_methods.py:226: RuntimeWarning: invalid value encountered in double_scalars\n",
      "  ret = ret.dtype.type(ret / rcount)\n",
      "/Users/rhzphlv/opt/anaconda3/lib/python3.8/site-packages/numpy/core/fromnumeric.py:3621: RuntimeWarning: Degrees of freedom <= 0 for slice\n",
      "  return _methods._var(a, axis=axis, dtype=dtype, out=out, ddof=ddof,\n",
      "/Users/rhzphlv/opt/anaconda3/lib/python3.8/site-packages/numpy/core/_methods.py:226: RuntimeWarning: invalid value encountered in double_scalars\n",
      "  ret = ret.dtype.type(ret / rcount)\n",
      "/Users/rhzphlv/opt/anaconda3/lib/python3.8/site-packages/numpy/core/fromnumeric.py:3621: RuntimeWarning: Degrees of freedom <= 0 for slice\n",
      "  return _methods._var(a, axis=axis, dtype=dtype, out=out, ddof=ddof,\n",
      "/Users/rhzphlv/opt/anaconda3/lib/python3.8/site-packages/numpy/core/_methods.py:226: RuntimeWarning: invalid value encountered in double_scalars\n",
      "  ret = ret.dtype.type(ret / rcount)\n",
      "/Users/rhzphlv/opt/anaconda3/lib/python3.8/site-packages/numpy/core/fromnumeric.py:3621: RuntimeWarning: Degrees of freedom <= 0 for slice\n",
      "  return _methods._var(a, axis=axis, dtype=dtype, out=out, ddof=ddof,\n",
      "/Users/rhzphlv/opt/anaconda3/lib/python3.8/site-packages/numpy/core/_methods.py:226: RuntimeWarning: invalid value encountered in double_scalars\n",
      "  ret = ret.dtype.type(ret / rcount)\n",
      "/Users/rhzphlv/opt/anaconda3/lib/python3.8/site-packages/numpy/core/fromnumeric.py:3621: RuntimeWarning: Degrees of freedom <= 0 for slice\n",
      "  return _methods._var(a, axis=axis, dtype=dtype, out=out, ddof=ddof,\n",
      "/Users/rhzphlv/opt/anaconda3/lib/python3.8/site-packages/numpy/core/_methods.py:226: RuntimeWarning: invalid value encountered in double_scalars\n",
      "  ret = ret.dtype.type(ret / rcount)\n",
      "/Users/rhzphlv/opt/anaconda3/lib/python3.8/site-packages/numpy/core/fromnumeric.py:3621: RuntimeWarning: Degrees of freedom <= 0 for slice\n",
      "  return _methods._var(a, axis=axis, dtype=dtype, out=out, ddof=ddof,\n",
      "/Users/rhzphlv/opt/anaconda3/lib/python3.8/site-packages/numpy/core/_methods.py:226: RuntimeWarning: invalid value encountered in double_scalars\n",
      "  ret = ret.dtype.type(ret / rcount)\n",
      "/Users/rhzphlv/opt/anaconda3/lib/python3.8/site-packages/numpy/core/fromnumeric.py:3621: RuntimeWarning: Degrees of freedom <= 0 for slice\n",
      "  return _methods._var(a, axis=axis, dtype=dtype, out=out, ddof=ddof,\n",
      "/Users/rhzphlv/opt/anaconda3/lib/python3.8/site-packages/numpy/core/_methods.py:226: RuntimeWarning: invalid value encountered in double_scalars\n",
      "  ret = ret.dtype.type(ret / rcount)\n",
      "/Users/rhzphlv/opt/anaconda3/lib/python3.8/site-packages/numpy/core/fromnumeric.py:3621: RuntimeWarning: Degrees of freedom <= 0 for slice\n",
      "  return _methods._var(a, axis=axis, dtype=dtype, out=out, ddof=ddof,\n",
      "/Users/rhzphlv/opt/anaconda3/lib/python3.8/site-packages/numpy/core/_methods.py:226: RuntimeWarning: invalid value encountered in double_scalars\n",
      "  ret = ret.dtype.type(ret / rcount)\n",
      "/Users/rhzphlv/opt/anaconda3/lib/python3.8/site-packages/numpy/core/fromnumeric.py:3621: RuntimeWarning: Degrees of freedom <= 0 for slice\n",
      "  return _methods._var(a, axis=axis, dtype=dtype, out=out, ddof=ddof,\n",
      "/Users/rhzphlv/opt/anaconda3/lib/python3.8/site-packages/numpy/core/_methods.py:226: RuntimeWarning: invalid value encountered in double_scalars\n",
      "  ret = ret.dtype.type(ret / rcount)\n",
      "/Users/rhzphlv/opt/anaconda3/lib/python3.8/site-packages/numpy/core/fromnumeric.py:3621: RuntimeWarning: Degrees of freedom <= 0 for slice\n",
      "  return _methods._var(a, axis=axis, dtype=dtype, out=out, ddof=ddof,\n",
      "/Users/rhzphlv/opt/anaconda3/lib/python3.8/site-packages/numpy/core/_methods.py:226: RuntimeWarning: invalid value encountered in double_scalars\n",
      "  ret = ret.dtype.type(ret / rcount)\n",
      "/Users/rhzphlv/opt/anaconda3/lib/python3.8/site-packages/numpy/core/fromnumeric.py:3621: RuntimeWarning: Degrees of freedom <= 0 for slice\n",
      "  return _methods._var(a, axis=axis, dtype=dtype, out=out, ddof=ddof,\n",
      "/Users/rhzphlv/opt/anaconda3/lib/python3.8/site-packages/numpy/core/_methods.py:226: RuntimeWarning: invalid value encountered in double_scalars\n",
      "  ret = ret.dtype.type(ret / rcount)\n",
      "/Users/rhzphlv/opt/anaconda3/lib/python3.8/site-packages/numpy/core/fromnumeric.py:3621: RuntimeWarning: Degrees of freedom <= 0 for slice\n",
      "  return _methods._var(a, axis=axis, dtype=dtype, out=out, ddof=ddof,\n",
      "/Users/rhzphlv/opt/anaconda3/lib/python3.8/site-packages/numpy/core/_methods.py:226: RuntimeWarning: invalid value encountered in double_scalars\n",
      "  ret = ret.dtype.type(ret / rcount)\n",
      "/Users/rhzphlv/opt/anaconda3/lib/python3.8/site-packages/numpy/core/fromnumeric.py:3621: RuntimeWarning: Degrees of freedom <= 0 for slice\n",
      "  return _methods._var(a, axis=axis, dtype=dtype, out=out, ddof=ddof,\n",
      "/Users/rhzphlv/opt/anaconda3/lib/python3.8/site-packages/numpy/core/_methods.py:226: RuntimeWarning: invalid value encountered in double_scalars\n",
      "  ret = ret.dtype.type(ret / rcount)\n",
      "/Users/rhzphlv/opt/anaconda3/lib/python3.8/site-packages/numpy/core/fromnumeric.py:3621: RuntimeWarning: Degrees of freedom <= 0 for slice\n",
      "  return _methods._var(a, axis=axis, dtype=dtype, out=out, ddof=ddof,\n",
      "/Users/rhzphlv/opt/anaconda3/lib/python3.8/site-packages/numpy/core/_methods.py:226: RuntimeWarning: invalid value encountered in double_scalars\n",
      "  ret = ret.dtype.type(ret / rcount)\n",
      "/Users/rhzphlv/opt/anaconda3/lib/python3.8/site-packages/numpy/core/fromnumeric.py:3621: RuntimeWarning: Degrees of freedom <= 0 for slice\n",
      "  return _methods._var(a, axis=axis, dtype=dtype, out=out, ddof=ddof,\n",
      "/Users/rhzphlv/opt/anaconda3/lib/python3.8/site-packages/numpy/core/_methods.py:226: RuntimeWarning: invalid value encountered in double_scalars\n",
      "  ret = ret.dtype.type(ret / rcount)\n",
      "/Users/rhzphlv/opt/anaconda3/lib/python3.8/site-packages/numpy/core/fromnumeric.py:3621: RuntimeWarning: Degrees of freedom <= 0 for slice\n",
      "  return _methods._var(a, axis=axis, dtype=dtype, out=out, ddof=ddof,\n",
      "/Users/rhzphlv/opt/anaconda3/lib/python3.8/site-packages/numpy/core/_methods.py:226: RuntimeWarning: invalid value encountered in double_scalars\n",
      "  ret = ret.dtype.type(ret / rcount)\n",
      "/Users/rhzphlv/opt/anaconda3/lib/python3.8/site-packages/numpy/core/fromnumeric.py:3621: RuntimeWarning: Degrees of freedom <= 0 for slice\n",
      "  return _methods._var(a, axis=axis, dtype=dtype, out=out, ddof=ddof,\n",
      "/Users/rhzphlv/opt/anaconda3/lib/python3.8/site-packages/numpy/core/_methods.py:226: RuntimeWarning: invalid value encountered in double_scalars\n",
      "  ret = ret.dtype.type(ret / rcount)\n",
      "/Users/rhzphlv/opt/anaconda3/lib/python3.8/site-packages/numpy/core/fromnumeric.py:3621: RuntimeWarning: Degrees of freedom <= 0 for slice\n",
      "  return _methods._var(a, axis=axis, dtype=dtype, out=out, ddof=ddof,\n",
      "/Users/rhzphlv/opt/anaconda3/lib/python3.8/site-packages/numpy/core/_methods.py:226: RuntimeWarning: invalid value encountered in double_scalars\n",
      "  ret = ret.dtype.type(ret / rcount)\n",
      "/Users/rhzphlv/opt/anaconda3/lib/python3.8/site-packages/numpy/core/fromnumeric.py:3621: RuntimeWarning: Degrees of freedom <= 0 for slice\n",
      "  return _methods._var(a, axis=axis, dtype=dtype, out=out, ddof=ddof,\n",
      "/Users/rhzphlv/opt/anaconda3/lib/python3.8/site-packages/numpy/core/_methods.py:226: RuntimeWarning: invalid value encountered in double_scalars\n",
      "  ret = ret.dtype.type(ret / rcount)\n",
      "/Users/rhzphlv/opt/anaconda3/lib/python3.8/site-packages/numpy/core/fromnumeric.py:3621: RuntimeWarning: Degrees of freedom <= 0 for slice\n",
      "  return _methods._var(a, axis=axis, dtype=dtype, out=out, ddof=ddof,\n",
      "/Users/rhzphlv/opt/anaconda3/lib/python3.8/site-packages/numpy/core/_methods.py:226: RuntimeWarning: invalid value encountered in double_scalars\n",
      "  ret = ret.dtype.type(ret / rcount)\n",
      "/Users/rhzphlv/opt/anaconda3/lib/python3.8/site-packages/numpy/core/fromnumeric.py:3621: RuntimeWarning: Degrees of freedom <= 0 for slice\n",
      "  return _methods._var(a, axis=axis, dtype=dtype, out=out, ddof=ddof,\n",
      "/Users/rhzphlv/opt/anaconda3/lib/python3.8/site-packages/numpy/core/_methods.py:226: RuntimeWarning: invalid value encountered in double_scalars\n",
      "  ret = ret.dtype.type(ret / rcount)\n",
      "/Users/rhzphlv/opt/anaconda3/lib/python3.8/site-packages/numpy/core/fromnumeric.py:3621: RuntimeWarning: Degrees of freedom <= 0 for slice\n",
      "  return _methods._var(a, axis=axis, dtype=dtype, out=out, ddof=ddof,\n",
      "/Users/rhzphlv/opt/anaconda3/lib/python3.8/site-packages/numpy/core/_methods.py:226: RuntimeWarning: invalid value encountered in double_scalars\n",
      "  ret = ret.dtype.type(ret / rcount)\n",
      "/Users/rhzphlv/opt/anaconda3/lib/python3.8/site-packages/numpy/core/fromnumeric.py:3621: RuntimeWarning: Degrees of freedom <= 0 for slice\n",
      "  return _methods._var(a, axis=axis, dtype=dtype, out=out, ddof=ddof,\n",
      "/Users/rhzphlv/opt/anaconda3/lib/python3.8/site-packages/numpy/core/_methods.py:226: RuntimeWarning: invalid value encountered in double_scalars\n",
      "  ret = ret.dtype.type(ret / rcount)\n",
      "/Users/rhzphlv/opt/anaconda3/lib/python3.8/site-packages/numpy/core/fromnumeric.py:3621: RuntimeWarning: Degrees of freedom <= 0 for slice\n",
      "  return _methods._var(a, axis=axis, dtype=dtype, out=out, ddof=ddof,\n",
      "/Users/rhzphlv/opt/anaconda3/lib/python3.8/site-packages/numpy/core/_methods.py:226: RuntimeWarning: invalid value encountered in double_scalars\n",
      "  ret = ret.dtype.type(ret / rcount)\n",
      "/Users/rhzphlv/opt/anaconda3/lib/python3.8/site-packages/numpy/core/fromnumeric.py:3621: RuntimeWarning: Degrees of freedom <= 0 for slice\n",
      "  return _methods._var(a, axis=axis, dtype=dtype, out=out, ddof=ddof,\n",
      "/Users/rhzphlv/opt/anaconda3/lib/python3.8/site-packages/numpy/core/_methods.py:226: RuntimeWarning: invalid value encountered in double_scalars\n",
      "  ret = ret.dtype.type(ret / rcount)\n",
      "/Users/rhzphlv/opt/anaconda3/lib/python3.8/site-packages/numpy/core/fromnumeric.py:3621: RuntimeWarning: Degrees of freedom <= 0 for slice\n",
      "  return _methods._var(a, axis=axis, dtype=dtype, out=out, ddof=ddof,\n",
      "/Users/rhzphlv/opt/anaconda3/lib/python3.8/site-packages/numpy/core/_methods.py:226: RuntimeWarning: invalid value encountered in double_scalars\n",
      "  ret = ret.dtype.type(ret / rcount)\n",
      "/Users/rhzphlv/opt/anaconda3/lib/python3.8/site-packages/numpy/core/fromnumeric.py:3621: RuntimeWarning: Degrees of freedom <= 0 for slice\n",
      "  return _methods._var(a, axis=axis, dtype=dtype, out=out, ddof=ddof,\n",
      "/Users/rhzphlv/opt/anaconda3/lib/python3.8/site-packages/numpy/core/_methods.py:226: RuntimeWarning: invalid value encountered in double_scalars\n",
      "  ret = ret.dtype.type(ret / rcount)\n",
      "/Users/rhzphlv/opt/anaconda3/lib/python3.8/site-packages/numpy/core/fromnumeric.py:3621: RuntimeWarning: Degrees of freedom <= 0 for slice\n",
      "  return _methods._var(a, axis=axis, dtype=dtype, out=out, ddof=ddof,\n",
      "/Users/rhzphlv/opt/anaconda3/lib/python3.8/site-packages/numpy/core/_methods.py:226: RuntimeWarning: invalid value encountered in double_scalars\n",
      "  ret = ret.dtype.type(ret / rcount)\n",
      "/Users/rhzphlv/opt/anaconda3/lib/python3.8/site-packages/numpy/core/fromnumeric.py:3621: RuntimeWarning: Degrees of freedom <= 0 for slice\n",
      "  return _methods._var(a, axis=axis, dtype=dtype, out=out, ddof=ddof,\n",
      "/Users/rhzphlv/opt/anaconda3/lib/python3.8/site-packages/numpy/core/_methods.py:226: RuntimeWarning: invalid value encountered in double_scalars\n",
      "  ret = ret.dtype.type(ret / rcount)\n",
      "/Users/rhzphlv/opt/anaconda3/lib/python3.8/site-packages/numpy/core/fromnumeric.py:3621: RuntimeWarning: Degrees of freedom <= 0 for slice\n",
      "  return _methods._var(a, axis=axis, dtype=dtype, out=out, ddof=ddof,\n",
      "/Users/rhzphlv/opt/anaconda3/lib/python3.8/site-packages/numpy/core/_methods.py:226: RuntimeWarning: invalid value encountered in double_scalars\n",
      "  ret = ret.dtype.type(ret / rcount)\n",
      "/Users/rhzphlv/opt/anaconda3/lib/python3.8/site-packages/numpy/core/fromnumeric.py:3621: RuntimeWarning: Degrees of freedom <= 0 for slice\n",
      "  return _methods._var(a, axis=axis, dtype=dtype, out=out, ddof=ddof,\n",
      "/Users/rhzphlv/opt/anaconda3/lib/python3.8/site-packages/numpy/core/_methods.py:226: RuntimeWarning: invalid value encountered in double_scalars\n",
      "  ret = ret.dtype.type(ret / rcount)\n",
      "/Users/rhzphlv/opt/anaconda3/lib/python3.8/site-packages/numpy/core/fromnumeric.py:3621: RuntimeWarning: Degrees of freedom <= 0 for slice\n",
      "  return _methods._var(a, axis=axis, dtype=dtype, out=out, ddof=ddof,\n",
      "/Users/rhzphlv/opt/anaconda3/lib/python3.8/site-packages/numpy/core/_methods.py:226: RuntimeWarning: invalid value encountered in double_scalars\n",
      "  ret = ret.dtype.type(ret / rcount)\n",
      "/Users/rhzphlv/opt/anaconda3/lib/python3.8/site-packages/numpy/core/fromnumeric.py:3621: RuntimeWarning: Degrees of freedom <= 0 for slice\n",
      "  return _methods._var(a, axis=axis, dtype=dtype, out=out, ddof=ddof,\n",
      "/Users/rhzphlv/opt/anaconda3/lib/python3.8/site-packages/numpy/core/_methods.py:226: RuntimeWarning: invalid value encountered in double_scalars\n",
      "  ret = ret.dtype.type(ret / rcount)\n"
     ]
    }
   ],
   "source": [
    "kamar = [i for i in df['kamar_tidur'].unique()]\n",
    "pair = {}\n",
    "udah = []\n",
    "for i in kamar:\n",
    "    for j in kamar:\n",
    "        if (j not in udah) & (i != j):\n",
    "            ttest = stats.ttest_ind(a = df[df['kamar_tidur'] == i]['harga'],\n",
    "                                    b = df[df['kamar_tidur'] == j]['harga'])\n",
    "            p_value = ttest.pvalue\n",
    "            pair[f'{i} - {j}'] = p_value\n",
    "    udah.append(i)"
   ]
  },
  {
   "cell_type": "code",
   "execution_count": 45,
   "metadata": {},
   "outputs": [
    {
     "name": "stdout",
     "output_type": "stream",
     "text": [
      "418 595\n"
     ]
    }
   ],
   "source": [
    "count = 0\n",
    "for i,j in pair.items():\n",
    "    if j >= 0.05:\n",
    "        count += 1\n",
    "print(count, len(pair))"
   ]
  },
  {
   "cell_type": "code",
   "execution_count": 46,
   "metadata": {},
   "outputs": [
    {
     "name": "stdout",
     "output_type": "stream",
     "text": [
      "6 - 15\n",
      "6 - 18\n",
      "6 - 13\n",
      "6 - 12\n",
      "6 - 19\n",
      "6 - 27\n",
      "6 - 25\n",
      "6 - 17\n",
      "6 - 16\n",
      "6 - 21\n",
      "6 - 26\n",
      "6 - 20\n",
      "6 - 23\n",
      "6 - 22\n",
      "6 - 34\n",
      "6 - 28\n",
      "6 - 29\n",
      "6 - 36\n",
      "6 - 40\n",
      "6 - 43\n",
      "6 - 24\n",
      "6 - 33\n",
      "4 - 18\n",
      "4 - 19\n",
      "4 - 27\n",
      "4 - 25\n",
      "4 - 17\n",
      "4 - 21\n",
      "4 - 26\n",
      "4 - 20\n",
      "4 - 23\n",
      "4 - 22\n",
      "4 - 34\n",
      "4 - 28\n",
      "4 - 29\n",
      "4 - 36\n",
      "4 - 1\n",
      "4 - 40\n",
      "4 - 24\n",
      "4 - 33\n",
      "5 - 18\n",
      "5 - 19\n",
      "5 - 27\n",
      "5 - 25\n",
      "5 - 17\n",
      "5 - 21\n",
      "5 - 26\n",
      "5 - 20\n",
      "5 - 23\n",
      "5 - 22\n",
      "5 - 34\n",
      "5 - 28\n",
      "5 - 29\n",
      "5 - 36\n",
      "5 - 40\n",
      "5 - 43\n",
      "5 - 24\n",
      "5 - 33\n",
      "8 - 11\n",
      "8 - 10\n",
      "8 - 9\n",
      "8 - 15\n",
      "8 - 18\n",
      "8 - 13\n",
      "8 - 12\n",
      "8 - 14\n",
      "8 - 27\n",
      "8 - 25\n",
      "8 - 16\n",
      "8 - 21\n",
      "8 - 26\n",
      "8 - 20\n",
      "8 - 23\n",
      "8 - 22\n",
      "8 - 34\n",
      "8 - 28\n",
      "8 - 29\n",
      "8 - 36\n",
      "8 - 40\n",
      "8 - 43\n",
      "8 - 24\n",
      "8 - 33\n",
      "2 - 18\n",
      "2 - 27\n",
      "2 - 21\n",
      "2 - 34\n",
      "2 - 28\n",
      "2 - 29\n",
      "2 - 1\n",
      "2 - 33\n",
      "7 - 15\n",
      "7 - 18\n",
      "7 - 13\n",
      "7 - 12\n",
      "7 - 19\n",
      "7 - 27\n",
      "7 - 25\n",
      "7 - 16\n",
      "7 - 21\n",
      "7 - 26\n",
      "7 - 20\n",
      "7 - 23\n",
      "7 - 22\n",
      "7 - 34\n",
      "7 - 28\n",
      "7 - 29\n",
      "7 - 36\n",
      "7 - 40\n",
      "7 - 43\n",
      "7 - 24\n",
      "7 - 33\n",
      "11 - 10\n",
      "11 - 9\n",
      "11 - 15\n",
      "11 - 18\n",
      "11 - 13\n",
      "11 - 12\n",
      "11 - 14\n",
      "11 - 27\n",
      "11 - 25\n",
      "11 - 16\n",
      "11 - 21\n",
      "11 - 26\n",
      "11 - 23\n",
      "11 - 22\n",
      "11 - 34\n",
      "11 - 28\n",
      "11 - 29\n",
      "11 - 36\n",
      "11 - 40\n",
      "11 - 43\n",
      "11 - 24\n",
      "11 - 33\n",
      "10 - 9\n",
      "10 - 15\n",
      "10 - 18\n",
      "10 - 13\n",
      "10 - 12\n",
      "10 - 14\n",
      "10 - 27\n",
      "10 - 25\n",
      "10 - 16\n",
      "10 - 21\n",
      "10 - 26\n",
      "10 - 23\n",
      "10 - 22\n",
      "10 - 34\n",
      "10 - 28\n",
      "10 - 29\n",
      "10 - 36\n",
      "10 - 40\n",
      "10 - 43\n",
      "10 - 24\n",
      "10 - 33\n",
      "9 - 15\n",
      "9 - 13\n",
      "9 - 12\n",
      "9 - 14\n",
      "9 - 27\n",
      "9 - 25\n",
      "9 - 16\n",
      "9 - 21\n",
      "9 - 26\n",
      "9 - 23\n",
      "9 - 22\n",
      "9 - 34\n",
      "9 - 28\n",
      "9 - 29\n",
      "9 - 36\n",
      "9 - 40\n",
      "9 - 43\n",
      "9 - 24\n",
      "9 - 33\n",
      "15 - 18\n",
      "15 - 13\n",
      "15 - 12\n",
      "15 - 19\n",
      "15 - 14\n",
      "15 - 27\n",
      "15 - 25\n",
      "15 - 17\n",
      "15 - 16\n",
      "15 - 21\n",
      "15 - 26\n",
      "15 - 20\n",
      "15 - 23\n",
      "15 - 22\n",
      "15 - 34\n",
      "15 - 28\n",
      "15 - 29\n",
      "15 - 36\n",
      "15 - 40\n",
      "15 - 43\n",
      "15 - 24\n",
      "15 - 33\n",
      "3 - 18\n",
      "3 - 27\n",
      "3 - 17\n",
      "3 - 21\n",
      "3 - 23\n",
      "3 - 34\n",
      "3 - 28\n",
      "3 - 29\n",
      "3 - 1\n",
      "3 - 33\n",
      "18 - 13\n",
      "18 - 12\n",
      "18 - 19\n",
      "18 - 14\n",
      "18 - 27\n",
      "18 - 25\n",
      "18 - 17\n",
      "18 - 16\n",
      "18 - 21\n",
      "18 - 26\n",
      "18 - 20\n",
      "18 - 23\n",
      "18 - 22\n",
      "18 - 34\n",
      "18 - 28\n",
      "18 - 29\n",
      "18 - 1\n",
      "18 - 40\n",
      "18 - 24\n",
      "18 - 33\n",
      "13 - 12\n",
      "13 - 14\n",
      "13 - 27\n",
      "13 - 25\n",
      "13 - 16\n",
      "13 - 21\n",
      "13 - 26\n",
      "13 - 20\n",
      "13 - 23\n",
      "13 - 22\n",
      "13 - 34\n",
      "13 - 28\n",
      "13 - 29\n",
      "13 - 36\n",
      "13 - 40\n",
      "13 - 43\n",
      "13 - 24\n",
      "13 - 33\n",
      "12 - 14\n",
      "12 - 27\n",
      "12 - 25\n",
      "12 - 16\n",
      "12 - 21\n",
      "12 - 26\n",
      "12 - 20\n",
      "12 - 23\n",
      "12 - 22\n",
      "12 - 34\n",
      "12 - 28\n",
      "12 - 29\n",
      "12 - 36\n",
      "12 - 40\n",
      "12 - 43\n",
      "12 - 24\n",
      "12 - 33\n",
      "19 - 27\n",
      "19 - 25\n",
      "19 - 17\n",
      "19 - 16\n",
      "19 - 21\n",
      "19 - 26\n",
      "19 - 20\n",
      "19 - 23\n",
      "19 - 22\n",
      "19 - 34\n",
      "19 - 28\n",
      "19 - 29\n",
      "19 - 1\n",
      "19 - 40\n",
      "19 - 24\n",
      "19 - 33\n",
      "14 - 27\n",
      "14 - 25\n",
      "14 - 16\n",
      "14 - 21\n",
      "14 - 26\n",
      "14 - 23\n",
      "14 - 22\n",
      "14 - 34\n",
      "14 - 28\n",
      "14 - 29\n",
      "14 - 36\n",
      "14 - 40\n",
      "14 - 43\n",
      "14 - 24\n",
      "14 - 33\n",
      "27 - 25\n",
      "27 - 17\n",
      "27 - 16\n",
      "27 - 21\n",
      "27 - 26\n",
      "27 - 20\n",
      "27 - 23\n",
      "27 - 22\n",
      "27 - 34\n",
      "27 - 28\n",
      "27 - 29\n",
      "27 - 36\n",
      "27 - 1\n",
      "27 - 40\n",
      "27 - 24\n",
      "27 - 33\n",
      "25 - 16\n",
      "25 - 21\n",
      "25 - 26\n",
      "25 - 20\n",
      "25 - 23\n",
      "25 - 22\n",
      "25 - 34\n",
      "25 - 28\n",
      "25 - 29\n",
      "25 - 36\n",
      "25 - 40\n",
      "25 - 24\n",
      "25 - 33\n",
      "17 - 16\n",
      "17 - 21\n",
      "17 - 20\n",
      "17 - 23\n",
      "17 - 22\n",
      "17 - 28\n",
      "17 - 29\n",
      "17 - 1\n",
      "17 - 33\n",
      "16 - 21\n",
      "16 - 26\n",
      "16 - 20\n",
      "16 - 23\n",
      "16 - 22\n",
      "16 - 34\n",
      "16 - 28\n",
      "16 - 29\n",
      "16 - 36\n",
      "16 - 40\n",
      "16 - 43\n",
      "16 - 24\n",
      "16 - 33\n",
      "21 - 26\n",
      "21 - 20\n",
      "21 - 23\n",
      "21 - 22\n",
      "21 - 34\n",
      "21 - 28\n",
      "21 - 29\n",
      "21 - 36\n",
      "21 - 1\n",
      "21 - 40\n",
      "21 - 24\n",
      "21 - 33\n",
      "26 - 20\n",
      "26 - 23\n",
      "26 - 22\n",
      "26 - 34\n",
      "26 - 28\n",
      "26 - 29\n",
      "26 - 36\n",
      "26 - 40\n",
      "26 - 24\n",
      "26 - 33\n",
      "20 - 23\n",
      "20 - 22\n",
      "20 - 34\n",
      "20 - 28\n",
      "20 - 29\n",
      "20 - 1\n",
      "20 - 40\n",
      "20 - 24\n",
      "20 - 33\n",
      "23 - 22\n",
      "23 - 34\n",
      "23 - 28\n",
      "23 - 29\n",
      "23 - 1\n",
      "23 - 40\n",
      "23 - 24\n",
      "23 - 33\n",
      "22 - 34\n",
      "22 - 28\n",
      "22 - 29\n",
      "22 - 36\n",
      "22 - 1\n",
      "22 - 40\n",
      "22 - 24\n",
      "22 - 33\n",
      "34 - 28\n",
      "34 - 29\n",
      "34 - 36\n",
      "34 - 1\n",
      "34 - 40\n",
      "34 - 24\n",
      "28 - 29\n",
      "28 - 36\n",
      "28 - 1\n",
      "28 - 40\n",
      "28 - 24\n",
      "28 - 33\n",
      "29 - 36\n",
      "29 - 1\n",
      "29 - 40\n",
      "29 - 43\n",
      "29 - 24\n",
      "29 - 33\n",
      "36 - 40\n",
      "36 - 43\n",
      "36 - 24\n",
      "36 - 33\n",
      "1 - 40\n",
      "1 - 24\n",
      "1 - 33\n",
      "40 - 43\n",
      "40 - 24\n",
      "40 - 33\n",
      "24 - 33\n"
     ]
    }
   ],
   "source": [
    "for i,j in pair.items():\n",
    "    if j >= 0.05:\n",
    "        print(i)"
   ]
  },
  {
   "cell_type": "code",
   "execution_count": 47,
   "metadata": {},
   "outputs": [
    {
     "data": {
      "text/plain": [
       "<matplotlib.collections.PathCollection at 0x7fc2ff3e2d60>"
      ]
     },
     "execution_count": 47,
     "metadata": {},
     "output_type": "execute_result"
    },
    {
     "data": {
      "image/png": "[encoded data removed]",
      "text/plain": [
       "<Figure size 1490.4x595.44 with 1 Axes>"
      ]
     },
     "metadata": {},
     "output_type": "display_data"
    }
   ],
   "source": [
    "plt.scatter(df['garasi'],df['harga'])"
   ]
  },
  {
   "cell_type": "code",
   "execution_count": 48,
   "metadata": {},
   "outputs": [],
   "source": [
    "garasi = [i for i in df['garasi'].unique()]\n",
    "pair = {}\n",
    "udah = []\n",
    "for i in garasi:\n",
    "    for j in garasi:\n",
    "        if (j not in udah) & (i != j):\n",
    "            ttest = stats.ttest_ind(a = df[df['garasi'] == i]['harga'],\n",
    "                                    b = df[df['garasi'] == j]['harga'])\n",
    "            p_value = ttest.pvalue\n",
    "            pair[f'{i} - {j}'] = p_value\n",
    "    udah.append(i)"
   ]
  },
  {
   "cell_type": "code",
   "execution_count": 49,
   "metadata": {},
   "outputs": [
    {
     "name": "stdout",
     "output_type": "stream",
     "text": [
      "0 1\n"
     ]
    }
   ],
   "source": [
    "count = 0\n",
    "for i,j in pair.items():\n",
    "    if j >= 0.05:\n",
    "        count += 1\n",
    "print(count, len(pair))"
   ]
  },
  {
   "cell_type": "code",
   "execution_count": 50,
   "metadata": {},
   "outputs": [],
   "source": [
    "for i,j in pair.items():\n",
    "    if j >= 0.05:\n",
    "        print(i)"
   ]
  },
  {
   "cell_type": "code",
   "execution_count": null,
   "metadata": {},
   "outputs": [],
   "source": []
  }
 ],
 "metadata": {
  "kernelspec": {
   "display_name": "Python 3",
   "language": "python",
   "name": "python3"
  },
  "language_info": {
   "codemirror_mode": {
    "name": "ipython",
    "version": 3
   },
   "file_extension": ".py",
   "mimetype": "text/x-python",
   "name": "python",
   "nbconvert_exporter": "python",
   "pygments_lexer": "ipython3",
   "version": "3.8.5"
  }
 },
 "nbformat": 4,
 "nbformat_minor": 4
}
