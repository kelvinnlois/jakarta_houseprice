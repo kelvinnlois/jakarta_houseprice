{
 "cells": [
  {
   "cell_type": "code",
   "execution_count": 1,
   "metadata": {},
   "outputs": [],
   "source": [
    "import numpy as np\n",
    "import pandas as pd\n",
    "import matplotlib.pyplot as plt\n",
    "%matplotlib inline\n",
    "import seaborn as sns\n",
    "pd.set_option('display.max_columns',False)\n",
    "sns.set(rc={'figure.figsize':(20.7,8.27)})\n",
    "sns.set_style(\"whitegrid\")\n",
    "sns.color_palette(\"dark\")\n",
    "plt.style.use(\"fivethirtyeight\")"
   ]
  },
  {
   "cell_type": "code",
   "execution_count": 2,
   "metadata": {},
   "outputs": [],
   "source": [
    "df = pd.read_csv('~/Desktop/jakarta_houseprice/data/data.csv')\n",
    "df = df.drop(['Unnamed: 0','Unnamed: 0.1'], axis = 1)\n",
    "df = df.drop_duplicates(subset = ['deskripsi'])"
   ]
  },
  {
   "cell_type": "code",
   "execution_count": 3,
   "metadata": {},
   "outputs": [
    {
     "name": "stdout",
     "output_type": "stream",
     "text": [
      "<class 'pandas.core.frame.DataFrame'>\n",
      "Int64Index: 25525 entries, 0 to 26372\n",
      "Data columns (total 15 columns):\n",
      " #   Column         Non-Null Count  Dtype  \n",
      "---  ------         --------------  -----  \n",
      " 0   kamar_mandi    25525 non-null  object \n",
      " 1   kamar          25525 non-null  object \n",
      " 2   lb             24790 non-null  float64\n",
      " 3   lt             21072 non-null  float64\n",
      " 4   tipe_property  25525 non-null  object \n",
      " 5   price          25512 non-null  float64\n",
      " 6   sertifikat     25525 non-null  int64  \n",
      " 7   deskripsi      25524 non-null  object \n",
      " 8   lokasi         25156 non-null  object \n",
      " 9   ada_garasi     25525 non-null  float64\n",
      " 10  pool           25525 non-null  int64  \n",
      " 11  taman          25525 non-null  int64  \n",
      " 12  electricity    24715 non-null  float64\n",
      " 13  floors_total   25341 non-null  float64\n",
      " 14  gym            25525 non-null  int64  \n",
      "dtypes: float64(6), int64(4), object(5)\n",
      "memory usage: 3.1+ MB\n"
     ]
    }
   ],
   "source": [
    "df.info()"
   ]
  },
  {
   "cell_type": "markdown",
   "metadata": {},
   "source": [
    "Benerin tipe data"
   ]
  },
  {
   "cell_type": "code",
   "execution_count": 4,
   "metadata": {},
   "outputs": [],
   "source": [
    "df = df.dropna(subset = ['price','lokasi'])"
   ]
  },
  {
   "cell_type": "code",
   "execution_count": 5,
   "metadata": {},
   "outputs": [],
   "source": [
    "df[['pool','taman','gym','sertifikat']] = df[['pool','taman','gym','sertifikat']].astype('bool')"
   ]
  },
  {
   "cell_type": "code",
   "execution_count": 6,
   "metadata": {},
   "outputs": [],
   "source": [
    "df['ada_garasi'] = df['ada_garasi'].apply(lambda x: True if x > 0 else False)"
   ]
  },
  {
   "cell_type": "code",
   "execution_count": 7,
   "metadata": {},
   "outputs": [],
   "source": [
    "df = df[df['kamar']!='>10']"
   ]
  },
  {
   "cell_type": "code",
   "execution_count": 8,
   "metadata": {},
   "outputs": [],
   "source": [
    "df['kamar'] = df['kamar'].astype('float')"
   ]
  },
  {
   "cell_type": "code",
   "execution_count": 9,
   "metadata": {},
   "outputs": [],
   "source": [
    "df['kamar'] = df['kamar'].astype('int')"
   ]
  },
  {
   "cell_type": "code",
   "execution_count": 10,
   "metadata": {},
   "outputs": [],
   "source": [
    "df = df[df['kamar_mandi'] != '>10']"
   ]
  },
  {
   "cell_type": "code",
   "execution_count": 11,
   "metadata": {},
   "outputs": [],
   "source": [
    "df['kamar_mandi'] = df['kamar_mandi'].astype('float')"
   ]
  },
  {
   "cell_type": "code",
   "execution_count": 12,
   "metadata": {},
   "outputs": [],
   "source": [
    "df['kamar_mandi'] = df['kamar_mandi'].astype('int')"
   ]
  },
  {
   "cell_type": "code",
   "execution_count": 13,
   "metadata": {},
   "outputs": [
    {
     "name": "stdout",
     "output_type": "stream",
     "text": [
      "<class 'pandas.core.frame.DataFrame'>\n",
      "Int64Index: 25097 entries, 0 to 26372\n",
      "Data columns (total 15 columns):\n",
      " #   Column         Non-Null Count  Dtype  \n",
      "---  ------         --------------  -----  \n",
      " 0   kamar_mandi    25097 non-null  int64  \n",
      " 1   kamar          25097 non-null  int64  \n",
      " 2   lb             24389 non-null  float64\n",
      " 3   lt             20811 non-null  float64\n",
      " 4   tipe_property  25097 non-null  object \n",
      " 5   price          25097 non-null  float64\n",
      " 6   sertifikat     25097 non-null  bool   \n",
      " 7   deskripsi      25097 non-null  object \n",
      " 8   lokasi         25097 non-null  object \n",
      " 9   ada_garasi     25097 non-null  bool   \n",
      " 10  pool           25097 non-null  bool   \n",
      " 11  taman          25097 non-null  bool   \n",
      " 12  electricity    24303 non-null  float64\n",
      " 13  floors_total   24918 non-null  float64\n",
      " 14  gym            25097 non-null  bool   \n",
      "dtypes: bool(5), float64(5), int64(2), object(3)\n",
      "memory usage: 2.2+ MB\n"
     ]
    }
   ],
   "source": [
    "df.info()"
   ]
  },
  {
   "cell_type": "markdown",
   "metadata": {},
   "source": [
    "# Nilai masuk akal\n",
    "lantai max 60 (cek wiki)\n",
    "\n",
    "kamar max 100(kos2an masih masuk akal)\n",
    "\n",
    "kamar mandi 50(idem)\n"
   ]
  },
  {
   "cell_type": "code",
   "execution_count": 14,
   "metadata": {},
   "outputs": [
    {
     "data": {
      "text/plain": [
       "37"
      ]
     },
     "execution_count": 14,
     "metadata": {},
     "output_type": "execute_result"
    }
   ],
   "source": [
    "len(df[df['electricity']>50000])"
   ]
  },
  {
   "cell_type": "code",
   "execution_count": 15,
   "metadata": {},
   "outputs": [
    {
     "name": "stdout",
     "output_type": "stream",
     "text": [
      "<class 'pandas.core.frame.DataFrame'>\n",
      "Int64Index: 24899 entries, 1 to 26372\n",
      "Data columns (total 15 columns):\n",
      " #   Column         Non-Null Count  Dtype  \n",
      "---  ------         --------------  -----  \n",
      " 0   kamar_mandi    24899 non-null  int64  \n",
      " 1   kamar          24899 non-null  int64  \n",
      " 2   lb             24194 non-null  float64\n",
      " 3   lt             20621 non-null  float64\n",
      " 4   tipe_property  24899 non-null  object \n",
      " 5   price          24899 non-null  float64\n",
      " 6   sertifikat     24899 non-null  bool   \n",
      " 7   deskripsi      24899 non-null  object \n",
      " 8   lokasi         24899 non-null  object \n",
      " 9   ada_garasi     24899 non-null  bool   \n",
      " 10  pool           24899 non-null  bool   \n",
      " 11  taman          24899 non-null  bool   \n",
      " 12  electricity    24117 non-null  float64\n",
      " 13  floors_total   24899 non-null  float64\n",
      " 14  gym            24899 non-null  bool   \n",
      "dtypes: bool(5), float64(5), int64(2), object(3)\n",
      "memory usage: 2.2+ MB\n"
     ]
    }
   ],
   "source": [
    "df = df[df['floors_total']<60]\n",
    "df.info()"
   ]
  },
  {
   "cell_type": "code",
   "execution_count": 16,
   "metadata": {},
   "outputs": [
    {
     "name": "stdout",
     "output_type": "stream",
     "text": [
      "<class 'pandas.core.frame.DataFrame'>\n",
      "Int64Index: 24667 entries, 1 to 26372\n",
      "Data columns (total 15 columns):\n",
      " #   Column         Non-Null Count  Dtype  \n",
      "---  ------         --------------  -----  \n",
      " 0   kamar_mandi    24667 non-null  int64  \n",
      " 1   kamar          24667 non-null  int64  \n",
      " 2   lb             23970 non-null  float64\n",
      " 3   lt             20396 non-null  float64\n",
      " 4   tipe_property  24667 non-null  object \n",
      " 5   price          24667 non-null  float64\n",
      " 6   sertifikat     24667 non-null  bool   \n",
      " 7   deskripsi      24667 non-null  object \n",
      " 8   lokasi         24667 non-null  object \n",
      " 9   ada_garasi     24667 non-null  bool   \n",
      " 10  pool           24667 non-null  bool   \n",
      " 11  taman          24667 non-null  bool   \n",
      " 12  electricity    23892 non-null  float64\n",
      " 13  floors_total   24667 non-null  float64\n",
      " 14  gym            24667 non-null  bool   \n",
      "dtypes: bool(5), float64(5), int64(2), object(3)\n",
      "memory usage: 2.2+ MB\n"
     ]
    }
   ],
   "source": [
    "df = df[df['kamar_mandi']<30]\n",
    "df.info()"
   ]
  },
  {
   "cell_type": "code",
   "execution_count": 17,
   "metadata": {},
   "outputs": [
    {
     "name": "stdout",
     "output_type": "stream",
     "text": [
      "<class 'pandas.core.frame.DataFrame'>\n",
      "RangeIndex: 24661 entries, 0 to 24660\n",
      "Data columns (total 16 columns):\n",
      " #   Column         Non-Null Count  Dtype  \n",
      "---  ------         --------------  -----  \n",
      " 0   index          24661 non-null  int64  \n",
      " 1   kamar_mandi    24661 non-null  int64  \n",
      " 2   kamar          24661 non-null  int64  \n",
      " 3   lb             23965 non-null  float64\n",
      " 4   lt             20391 non-null  float64\n",
      " 5   tipe_property  24661 non-null  object \n",
      " 6   price          24661 non-null  float64\n",
      " 7   sertifikat     24661 non-null  bool   \n",
      " 8   deskripsi      24661 non-null  object \n",
      " 9   lokasi         24661 non-null  object \n",
      " 10  ada_garasi     24661 non-null  bool   \n",
      " 11  pool           24661 non-null  bool   \n",
      " 12  taman          24661 non-null  bool   \n",
      " 13  electricity    23886 non-null  float64\n",
      " 14  floors_total   24661 non-null  float64\n",
      " 15  gym            24661 non-null  bool   \n",
      "dtypes: bool(5), float64(5), int64(3), object(3)\n",
      "memory usage: 2.2+ MB\n"
     ]
    }
   ],
   "source": [
    "df = df[df['kamar']<60]\n",
    "df = df.reset_index()\n",
    "df.info()"
   ]
  },
  {
   "cell_type": "code",
   "execution_count": 18,
   "metadata": {},
   "outputs": [
    {
     "data": {
      "text/plain": [
       "0.6338280824232521"
      ]
     },
     "execution_count": 18,
     "metadata": {},
     "output_type": "execute_result"
    }
   ],
   "source": [
    "# check margin of error *catatan = data masih mengandung outliers\n",
    "# jumlah rumah tangga di jakarta = 2659205(bps) -> kurang lebih jumlah rumah/apartemen sama\n",
    "# ga include keluarga yg ngekost sama anak gatau diri yg udah nikah masih nebeng ortu\n",
    "# yekali sekeluarga ngemper\n",
    "from math import sqrt\n",
    "sqrt((2659205-len(df))/(2659205*len(df)))*100"
   ]
  },
  {
   "cell_type": "markdown",
   "metadata": {},
   "source": [
    "Cek distribusi"
   ]
  },
  {
   "cell_type": "code",
   "execution_count": 19,
   "metadata": {},
   "outputs": [],
   "source": [
    "num = [i for i in df.columns if (df[i].dtypes in ['int','float']) & (i != 'index')]\n",
    "cat = [i for i in df.columns if (df[i].dtypes == 'O') | (df[i].dtypes == 'bool')]"
   ]
  },
  {
   "cell_type": "code",
   "execution_count": 20,
   "metadata": {},
   "outputs": [
    {
     "name": "stdout",
     "output_type": "stream",
     "text": [
      "kamar_mandi\n"
     ]
    },
    {
     "data": {
      "image/png": "[encoded data removed]",
      "text/plain": [
       "<Figure size 1490.4x595.44 with 1 Axes>"
      ]
     },
     "metadata": {},
     "output_type": "display_data"
    },
    {
     "name": "stdout",
     "output_type": "stream",
     "text": [
      "kamar\n"
     ]
    },
    {
     "data": {
      "image/png": "[encoded data removed]",
      "text/plain": [
       "<Figure size 1490.4x595.44 with 1 Axes>"
      ]
     },
     "metadata": {},
     "output_type": "display_data"
    },
    {
     "name": "stdout",
     "output_type": "stream",
     "text": [
      "lb\n"
     ]
    },
    {
     "data": {
      "image/png": "[encoded data removed]",
      "text/plain": [
       "<Figure size 1490.4x595.44 with 1 Axes>"
      ]
     },
     "metadata": {},
     "output_type": "display_data"
    },
    {
     "name": "stdout",
     "output_type": "stream",
     "text": [
      "lt\n"
     ]
    },
    {
     "data": {
      "image/png": "[encoded data removed]",
      "text/plain": [
       "<Figure size 1490.4x595.44 with 1 Axes>"
      ]
     },
     "metadata": {},
     "output_type": "display_data"
    },
    {
     "name": "stdout",
     "output_type": "stream",
     "text": [
      "price\n"
     ]
    },
    {
     "data": {
      "image/png": "[encoded data removed]",
      "text/plain": [
       "<Figure size 1490.4x595.44 with 1 Axes>"
      ]
     },
     "metadata": {},
     "output_type": "display_data"
    },
    {
     "name": "stdout",
     "output_type": "stream",
     "text": [
      "electricity\n"
     ]
    },
    {
     "data": {
      "image/png": "[encoded data removed]",
      "text/plain": [
       "<Figure size 1490.4x595.44 with 1 Axes>"
      ]
     },
     "metadata": {},
     "output_type": "display_data"
    },
    {
     "name": "stdout",
     "output_type": "stream",
     "text": [
      "floors_total\n"
     ]
    },
    {
     "data": {
      "image/png": "[encoded data removed]",
      "text/plain": [
       "<Figure size 1490.4x595.44 with 1 Axes>"
      ]
     },
     "metadata": {},
     "output_type": "display_data"
    }
   ],
   "source": [
    "for i in num:\n",
    "    print(i)\n",
    "    df[i].plot.hist()\n",
    "    plt.show()"
   ]
  },
  {
   "cell_type": "code",
   "execution_count": 21,
   "metadata": {},
   "outputs": [
    {
     "name": "stdout",
     "output_type": "stream",
     "text": [
      "tipe_property\n"
     ]
    },
    {
     "data": {
      "image/png": "[encoded data removed]",
      "text/plain": [
       "<Figure size 1490.4x595.44 with 1 Axes>"
      ]
     },
     "metadata": {},
     "output_type": "display_data"
    },
    {
     "name": "stdout",
     "output_type": "stream",
     "text": [
      "sertifikat\n"
     ]
    },
    {
     "data": {
      "image/png": "[encoded data removed]",
      "text/plain": [
       "<Figure size 1490.4x595.44 with 1 Axes>"
      ]
     },
     "metadata": {},
     "output_type": "display_data"
    },
    {
     "name": "stdout",
     "output_type": "stream",
     "text": [
      "lokasi\n"
     ]
    },
    {
     "data": {
      "image/png": "[encoded data removed]",
      "text/plain": [
       "<Figure size 1490.4x595.44 with 1 Axes>"
      ]
     },
     "metadata": {},
     "output_type": "display_data"
    },
    {
     "name": "stdout",
     "output_type": "stream",
     "text": [
      "ada_garasi\n"
     ]
    },
    {
     "data": {
      "image/png": "[encoded data removed]",
      "text/plain": [
       "<Figure size 1490.4x595.44 with 1 Axes>"
      ]
     },
     "metadata": {},
     "output_type": "display_data"
    },
    {
     "name": "stdout",
     "output_type": "stream",
     "text": [
      "pool\n"
     ]
    },
    {
     "data": {
      "image/png": "[encoded data removed]",
      "text/plain": [
       "<Figure size 1490.4x595.44 with 1 Axes>"
      ]
     },
     "metadata": {},
     "output_type": "display_data"
    },
    {
     "name": "stdout",
     "output_type": "stream",
     "text": [
      "taman\n"
     ]
    },
    {
     "data": {
      "image/png": "[encoded data removed]",
      "text/plain": [
       "<Figure size 1490.4x595.44 with 1 Axes>"
      ]
     },
     "metadata": {},
     "output_type": "display_data"
    },
    {
     "name": "stdout",
     "output_type": "stream",
     "text": [
      "gym\n"
     ]
    },
    {
     "data": {
      "image/png": "[encoded data removed]",
      "text/plain": [
       "<Figure size 1490.4x595.44 with 1 Axes>"
      ]
     },
     "metadata": {},
     "output_type": "display_data"
    }
   ],
   "source": [
    "for i in cat:\n",
    "    if df[i].nunique()<100:\n",
    "\n",
    "        print(i)\n",
    "        df[i].value_counts().plot.bar()\n",
    "        plt.show()"
   ]
  },
  {
   "cell_type": "code",
   "execution_count": 22,
   "metadata": {},
   "outputs": [
    {
     "data": {
      "text/html": [
       "<div>\n",
       "<style scoped>\n",
       "    .dataframe tbody tr th:only-of-type {\n",
       "        vertical-align: middle;\n",
       "    }\n",
       "\n",
       "    .dataframe tbody tr th {\n",
       "        vertical-align: top;\n",
       "    }\n",
       "\n",
       "    .dataframe thead th {\n",
       "        text-align: right;\n",
       "    }\n",
       "</style>\n",
       "<table border=\"1\" class=\"dataframe\">\n",
       "  <thead>\n",
       "    <tr style=\"text-align: right;\">\n",
       "      <th></th>\n",
       "      <th>kamar_mandi</th>\n",
       "      <th>kamar</th>\n",
       "      <th>lb</th>\n",
       "      <th>lt</th>\n",
       "      <th>price</th>\n",
       "      <th>electricity</th>\n",
       "      <th>floors_total</th>\n",
       "    </tr>\n",
       "  </thead>\n",
       "  <tbody>\n",
       "    <tr>\n",
       "      <th>count</th>\n",
       "      <td>24661.000000</td>\n",
       "      <td>24661.000000</td>\n",
       "      <td>23965.000000</td>\n",
       "      <td>20391.000000</td>\n",
       "      <td>2.466100e+04</td>\n",
       "      <td>2.388600e+04</td>\n",
       "      <td>24661.000000</td>\n",
       "    </tr>\n",
       "    <tr>\n",
       "      <th>mean</th>\n",
       "      <td>3.805645</td>\n",
       "      <td>4.783018</td>\n",
       "      <td>300.113624</td>\n",
       "      <td>360.786033</td>\n",
       "      <td>8.887048e+09</td>\n",
       "      <td>7.304371e+03</td>\n",
       "      <td>2.098293</td>\n",
       "    </tr>\n",
       "    <tr>\n",
       "      <th>std</th>\n",
       "      <td>2.365399</td>\n",
       "      <td>2.952104</td>\n",
       "      <td>758.736985</td>\n",
       "      <td>2561.824543</td>\n",
       "      <td>2.856656e+10</td>\n",
       "      <td>2.848695e+05</td>\n",
       "      <td>1.961095</td>\n",
       "    </tr>\n",
       "    <tr>\n",
       "      <th>min</th>\n",
       "      <td>1.000000</td>\n",
       "      <td>1.000000</td>\n",
       "      <td>0.000000</td>\n",
       "      <td>1.000000</td>\n",
       "      <td>5.650000e+05</td>\n",
       "      <td>-1.000000e+00</td>\n",
       "      <td>-1.000000</td>\n",
       "    </tr>\n",
       "    <tr>\n",
       "      <th>25%</th>\n",
       "      <td>3.000000</td>\n",
       "      <td>3.000000</td>\n",
       "      <td>100.000000</td>\n",
       "      <td>90.000000</td>\n",
       "      <td>1.600000e+09</td>\n",
       "      <td>2.000000e+03</td>\n",
       "      <td>2.000000</td>\n",
       "    </tr>\n",
       "    <tr>\n",
       "      <th>50%</th>\n",
       "      <td>3.000000</td>\n",
       "      <td>4.000000</td>\n",
       "      <td>180.000000</td>\n",
       "      <td>150.000000</td>\n",
       "      <td>3.000000e+09</td>\n",
       "      <td>2.200000e+03</td>\n",
       "      <td>2.000000</td>\n",
       "    </tr>\n",
       "    <tr>\n",
       "      <th>75%</th>\n",
       "      <td>5.000000</td>\n",
       "      <td>5.000000</td>\n",
       "      <td>320.000000</td>\n",
       "      <td>283.000000</td>\n",
       "      <td>6.800000e+09</td>\n",
       "      <td>4.400000e+03</td>\n",
       "      <td>2.000000</td>\n",
       "    </tr>\n",
       "    <tr>\n",
       "      <th>max</th>\n",
       "      <td>29.000000</td>\n",
       "      <td>54.000000</td>\n",
       "      <td>38668.000000</td>\n",
       "      <td>182860.000000</td>\n",
       "      <td>1.830000e+12</td>\n",
       "      <td>4.400350e+07</td>\n",
       "      <td>59.000000</td>\n",
       "    </tr>\n",
       "  </tbody>\n",
       "</table>\n",
       "</div>"
      ],
      "text/plain": [
       "        kamar_mandi         kamar  ...   electricity  floors_total\n",
       "count  24661.000000  24661.000000  ...  2.388600e+04  24661.000000\n",
       "mean       3.805645      4.783018  ...  7.304371e+03      2.098293\n",
       "std        2.365399      2.952104  ...  2.848695e+05      1.961095\n",
       "min        1.000000      1.000000  ... -1.000000e+00     -1.000000\n",
       "25%        3.000000      3.000000  ...  2.000000e+03      2.000000\n",
       "50%        3.000000      4.000000  ...  2.200000e+03      2.000000\n",
       "75%        5.000000      5.000000  ...  4.400000e+03      2.000000\n",
       "max       29.000000     54.000000  ...  4.400350e+07     59.000000\n",
       "\n",
       "[8 rows x 7 columns]"
      ]
     },
     "execution_count": 22,
     "metadata": {},
     "output_type": "execute_result"
    }
   ],
   "source": [
    "df[num].describe()"
   ]
  },
  {
   "cell_type": "markdown",
   "metadata": {},
   "source": [
    "Check median price distribution"
   ]
  },
  {
   "cell_type": "code",
   "execution_count": 23,
   "metadata": {},
   "outputs": [
    {
     "data": {
      "image/png": "[encoded data removed]",
      "text/plain": [
       "<Figure size 1490.4x595.44 with 1 Axes>"
      ]
     },
     "metadata": {},
     "output_type": "display_data"
    }
   ],
   "source": [
    "df.groupby('lokasi')['price'].median().sort_values().plot.bar()\n",
    "plt.show()"
   ]
  },
  {
   "cell_type": "code",
   "execution_count": 24,
   "metadata": {},
   "outputs": [
    {
     "data": {
      "text/html": [
       "<div>\n",
       "<style scoped>\n",
       "    .dataframe tbody tr th:only-of-type {\n",
       "        vertical-align: middle;\n",
       "    }\n",
       "\n",
       "    .dataframe tbody tr th {\n",
       "        vertical-align: top;\n",
       "    }\n",
       "\n",
       "    .dataframe thead th {\n",
       "        text-align: right;\n",
       "    }\n",
       "</style>\n",
       "<table border=\"1\" class=\"dataframe\">\n",
       "  <thead>\n",
       "    <tr style=\"text-align: right;\">\n",
       "      <th></th>\n",
       "      <th>lokasi</th>\n",
       "      <th>price</th>\n",
       "    </tr>\n",
       "  </thead>\n",
       "  <tbody>\n",
       "    <tr>\n",
       "      <th>0</th>\n",
       "      <td>Kebayoran Lama</td>\n",
       "      <td>1.000000e+11</td>\n",
       "    </tr>\n",
       "    <tr>\n",
       "      <th>1</th>\n",
       "      <td>Pasar Minggu</td>\n",
       "      <td>3.250000e+10</td>\n",
       "    </tr>\n",
       "    <tr>\n",
       "      <th>2</th>\n",
       "      <td>Pancoran</td>\n",
       "      <td>4.718000e+10</td>\n",
       "    </tr>\n",
       "    <tr>\n",
       "      <th>3</th>\n",
       "      <td>Pasar Minggu</td>\n",
       "      <td>2.115000e+10</td>\n",
       "    </tr>\n",
       "    <tr>\n",
       "      <th>4</th>\n",
       "      <td>Mampang Prapatan</td>\n",
       "      <td>4.900000e+09</td>\n",
       "    </tr>\n",
       "    <tr>\n",
       "      <th>...</th>\n",
       "      <td>...</td>\n",
       "      <td>...</td>\n",
       "    </tr>\n",
       "    <tr>\n",
       "      <th>24656</th>\n",
       "      <td>Koja</td>\n",
       "      <td>8.800000e+09</td>\n",
       "    </tr>\n",
       "    <tr>\n",
       "      <th>24657</th>\n",
       "      <td>Koja</td>\n",
       "      <td>2.950000e+09</td>\n",
       "    </tr>\n",
       "    <tr>\n",
       "      <th>24658</th>\n",
       "      <td>Koja</td>\n",
       "      <td>1.750000e+09</td>\n",
       "    </tr>\n",
       "    <tr>\n",
       "      <th>24659</th>\n",
       "      <td>Koja</td>\n",
       "      <td>7.700000e+09</td>\n",
       "    </tr>\n",
       "    <tr>\n",
       "      <th>24660</th>\n",
       "      <td>Koja</td>\n",
       "      <td>2.100000e+09</td>\n",
       "    </tr>\n",
       "  </tbody>\n",
       "</table>\n",
       "<p>24661 rows × 2 columns</p>\n",
       "</div>"
      ],
      "text/plain": [
       "                 lokasi         price\n",
       "0        Kebayoran Lama  1.000000e+11\n",
       "1          Pasar Minggu  3.250000e+10\n",
       "2              Pancoran  4.718000e+10\n",
       "3          Pasar Minggu  2.115000e+10\n",
       "4      Mampang Prapatan  4.900000e+09\n",
       "...                 ...           ...\n",
       "24656              Koja  8.800000e+09\n",
       "24657              Koja  2.950000e+09\n",
       "24658              Koja  1.750000e+09\n",
       "24659              Koja  7.700000e+09\n",
       "24660              Koja  2.100000e+09\n",
       "\n",
       "[24661 rows x 2 columns]"
      ]
     },
     "execution_count": 24,
     "metadata": {},
     "output_type": "execute_result"
    }
   ],
   "source": [
    "df[['lokasi','price']]"
   ]
  },
  {
   "cell_type": "markdown",
   "metadata": {},
   "source": [
    "### Cleaning"
   ]
  },
  {
   "cell_type": "code",
   "execution_count": 25,
   "metadata": {},
   "outputs": [
    {
     "name": "stdout",
     "output_type": "stream",
     "text": [
      "<class 'pandas.core.frame.DataFrame'>\n",
      "RangeIndex: 24661 entries, 0 to 24660\n",
      "Data columns (total 16 columns):\n",
      " #   Column         Non-Null Count  Dtype  \n",
      "---  ------         --------------  -----  \n",
      " 0   index          24661 non-null  int64  \n",
      " 1   kamar_mandi    24661 non-null  int64  \n",
      " 2   kamar          24661 non-null  int64  \n",
      " 3   lb             23965 non-null  float64\n",
      " 4   lt             20391 non-null  float64\n",
      " 5   tipe_property  24661 non-null  object \n",
      " 6   price          24661 non-null  float64\n",
      " 7   sertifikat     24661 non-null  bool   \n",
      " 8   deskripsi      24661 non-null  object \n",
      " 9   lokasi         24661 non-null  object \n",
      " 10  ada_garasi     24661 non-null  bool   \n",
      " 11  pool           24661 non-null  bool   \n",
      " 12  taman          24661 non-null  bool   \n",
      " 13  electricity    23886 non-null  float64\n",
      " 14  floors_total   24661 non-null  float64\n",
      " 15  gym            24661 non-null  bool   \n",
      "dtypes: bool(5), float64(5), int64(3), object(3)\n",
      "memory usage: 2.2+ MB\n"
     ]
    }
   ],
   "source": [
    "df.info()"
   ]
  },
  {
   "cell_type": "code",
   "execution_count": 26,
   "metadata": {},
   "outputs": [
    {
     "data": {
      "text/html": [
       "<div>\n",
       "<style scoped>\n",
       "    .dataframe tbody tr th:only-of-type {\n",
       "        vertical-align: middle;\n",
       "    }\n",
       "\n",
       "    .dataframe tbody tr th {\n",
       "        vertical-align: top;\n",
       "    }\n",
       "\n",
       "    .dataframe thead th {\n",
       "        text-align: right;\n",
       "    }\n",
       "</style>\n",
       "<table border=\"1\" class=\"dataframe\">\n",
       "  <thead>\n",
       "    <tr style=\"text-align: right;\">\n",
       "      <th></th>\n",
       "      <th>kamar_mandi</th>\n",
       "      <th>kamar</th>\n",
       "      <th>lb</th>\n",
       "      <th>lt</th>\n",
       "      <th>price</th>\n",
       "      <th>electricity</th>\n",
       "      <th>floors_total</th>\n",
       "    </tr>\n",
       "  </thead>\n",
       "  <tbody>\n",
       "    <tr>\n",
       "      <th>count</th>\n",
       "      <td>24661.000000</td>\n",
       "      <td>24661.000000</td>\n",
       "      <td>23965.000000</td>\n",
       "      <td>20391.000000</td>\n",
       "      <td>2.466100e+04</td>\n",
       "      <td>2.388600e+04</td>\n",
       "      <td>24661.000000</td>\n",
       "    </tr>\n",
       "    <tr>\n",
       "      <th>mean</th>\n",
       "      <td>3.805645</td>\n",
       "      <td>4.783018</td>\n",
       "      <td>300.113624</td>\n",
       "      <td>360.786033</td>\n",
       "      <td>8.887048e+09</td>\n",
       "      <td>7.304371e+03</td>\n",
       "      <td>2.098293</td>\n",
       "    </tr>\n",
       "    <tr>\n",
       "      <th>std</th>\n",
       "      <td>2.365399</td>\n",
       "      <td>2.952104</td>\n",
       "      <td>758.736985</td>\n",
       "      <td>2561.824543</td>\n",
       "      <td>2.856656e+10</td>\n",
       "      <td>2.848695e+05</td>\n",
       "      <td>1.961095</td>\n",
       "    </tr>\n",
       "    <tr>\n",
       "      <th>min</th>\n",
       "      <td>1.000000</td>\n",
       "      <td>1.000000</td>\n",
       "      <td>0.000000</td>\n",
       "      <td>1.000000</td>\n",
       "      <td>5.650000e+05</td>\n",
       "      <td>-1.000000e+00</td>\n",
       "      <td>-1.000000</td>\n",
       "    </tr>\n",
       "    <tr>\n",
       "      <th>25%</th>\n",
       "      <td>3.000000</td>\n",
       "      <td>3.000000</td>\n",
       "      <td>100.000000</td>\n",
       "      <td>90.000000</td>\n",
       "      <td>1.600000e+09</td>\n",
       "      <td>2.000000e+03</td>\n",
       "      <td>2.000000</td>\n",
       "    </tr>\n",
       "    <tr>\n",
       "      <th>50%</th>\n",
       "      <td>3.000000</td>\n",
       "      <td>4.000000</td>\n",
       "      <td>180.000000</td>\n",
       "      <td>150.000000</td>\n",
       "      <td>3.000000e+09</td>\n",
       "      <td>2.200000e+03</td>\n",
       "      <td>2.000000</td>\n",
       "    </tr>\n",
       "    <tr>\n",
       "      <th>75%</th>\n",
       "      <td>5.000000</td>\n",
       "      <td>5.000000</td>\n",
       "      <td>320.000000</td>\n",
       "      <td>283.000000</td>\n",
       "      <td>6.800000e+09</td>\n",
       "      <td>4.400000e+03</td>\n",
       "      <td>2.000000</td>\n",
       "    </tr>\n",
       "    <tr>\n",
       "      <th>max</th>\n",
       "      <td>29.000000</td>\n",
       "      <td>54.000000</td>\n",
       "      <td>38668.000000</td>\n",
       "      <td>182860.000000</td>\n",
       "      <td>1.830000e+12</td>\n",
       "      <td>4.400350e+07</td>\n",
       "      <td>59.000000</td>\n",
       "    </tr>\n",
       "  </tbody>\n",
       "</table>\n",
       "</div>"
      ],
      "text/plain": [
       "        kamar_mandi         kamar  ...   electricity  floors_total\n",
       "count  24661.000000  24661.000000  ...  2.388600e+04  24661.000000\n",
       "mean       3.805645      4.783018  ...  7.304371e+03      2.098293\n",
       "std        2.365399      2.952104  ...  2.848695e+05      1.961095\n",
       "min        1.000000      1.000000  ... -1.000000e+00     -1.000000\n",
       "25%        3.000000      3.000000  ...  2.000000e+03      2.000000\n",
       "50%        3.000000      4.000000  ...  2.200000e+03      2.000000\n",
       "75%        5.000000      5.000000  ...  4.400000e+03      2.000000\n",
       "max       29.000000     54.000000  ...  4.400350e+07     59.000000\n",
       "\n",
       "[8 rows x 7 columns]"
      ]
     },
     "execution_count": 26,
     "metadata": {},
     "output_type": "execute_result"
    }
   ],
   "source": [
    "df[num].describe()"
   ]
  },
  {
   "cell_type": "code",
   "execution_count": 27,
   "metadata": {},
   "outputs": [
    {
     "data": {
      "text/html": [
       "<div>\n",
       "<style scoped>\n",
       "    .dataframe tbody tr th:only-of-type {\n",
       "        vertical-align: middle;\n",
       "    }\n",
       "\n",
       "    .dataframe tbody tr th {\n",
       "        vertical-align: top;\n",
       "    }\n",
       "\n",
       "    .dataframe thead th {\n",
       "        text-align: right;\n",
       "    }\n",
       "</style>\n",
       "<table border=\"1\" class=\"dataframe\">\n",
       "  <thead>\n",
       "    <tr style=\"text-align: right;\">\n",
       "      <th></th>\n",
       "      <th>tipe_property</th>\n",
       "      <th>sertifikat</th>\n",
       "      <th>deskripsi</th>\n",
       "      <th>lokasi</th>\n",
       "      <th>ada_garasi</th>\n",
       "      <th>pool</th>\n",
       "      <th>taman</th>\n",
       "      <th>gym</th>\n",
       "    </tr>\n",
       "  </thead>\n",
       "  <tbody>\n",
       "    <tr>\n",
       "      <th>count</th>\n",
       "      <td>24661</td>\n",
       "      <td>24661</td>\n",
       "      <td>24661</td>\n",
       "      <td>24661</td>\n",
       "      <td>24661</td>\n",
       "      <td>24661</td>\n",
       "      <td>24661</td>\n",
       "      <td>24661</td>\n",
       "    </tr>\n",
       "    <tr>\n",
       "      <th>unique</th>\n",
       "      <td>4</td>\n",
       "      <td>2</td>\n",
       "      <td>24661</td>\n",
       "      <td>42</td>\n",
       "      <td>2</td>\n",
       "      <td>2</td>\n",
       "      <td>2</td>\n",
       "      <td>2</td>\n",
       "    </tr>\n",
       "    <tr>\n",
       "      <th>top</th>\n",
       "      <td>Rumah</td>\n",
       "      <td>True</td>\n",
       "      <td>Rumah siap pakai di Menteng- Jakarta Pusat:Rum...</td>\n",
       "      <td>Penjaringan</td>\n",
       "      <td>True</td>\n",
       "      <td>False</td>\n",
       "      <td>False</td>\n",
       "      <td>False</td>\n",
       "    </tr>\n",
       "    <tr>\n",
       "      <th>freq</th>\n",
       "      <td>17874</td>\n",
       "      <td>17163</td>\n",
       "      <td>1</td>\n",
       "      <td>1542</td>\n",
       "      <td>21199</td>\n",
       "      <td>21220</td>\n",
       "      <td>19763</td>\n",
       "      <td>24090</td>\n",
       "    </tr>\n",
       "  </tbody>\n",
       "</table>\n",
       "</div>"
      ],
      "text/plain": [
       "       tipe_property sertifikat  ...  taman    gym\n",
       "count          24661      24661  ...  24661  24661\n",
       "unique             4          2  ...      2      2\n",
       "top            Rumah       True  ...  False  False\n",
       "freq           17874      17163  ...  19763  24090\n",
       "\n",
       "[4 rows x 8 columns]"
      ]
     },
     "execution_count": 27,
     "metadata": {},
     "output_type": "execute_result"
    }
   ],
   "source": [
    "df.describe(exclude=[np.number])  "
   ]
  },
  {
   "cell_type": "code",
   "execution_count": 28,
   "metadata": {},
   "outputs": [
    {
     "data": {
      "text/html": [
       "<div>\n",
       "<style scoped>\n",
       "    .dataframe tbody tr th:only-of-type {\n",
       "        vertical-align: middle;\n",
       "    }\n",
       "\n",
       "    .dataframe tbody tr th {\n",
       "        vertical-align: top;\n",
       "    }\n",
       "\n",
       "    .dataframe thead th {\n",
       "        text-align: right;\n",
       "    }\n",
       "</style>\n",
       "<table border=\"1\" class=\"dataframe\">\n",
       "  <thead>\n",
       "    <tr style=\"text-align: right;\">\n",
       "      <th></th>\n",
       "      <th>Features</th>\n",
       "      <th>DataType</th>\n",
       "      <th>Null</th>\n",
       "      <th>NullPercentage</th>\n",
       "      <th>Unique</th>\n",
       "      <th>Unique Sample</th>\n",
       "    </tr>\n",
       "  </thead>\n",
       "  <tbody>\n",
       "    <tr>\n",
       "      <th>0</th>\n",
       "      <td>index</td>\n",
       "      <td>int64</td>\n",
       "      <td>0</td>\n",
       "      <td>0.00</td>\n",
       "      <td>24661</td>\n",
       "      <td>[19668, 21663]</td>\n",
       "    </tr>\n",
       "    <tr>\n",
       "      <th>1</th>\n",
       "      <td>kamar_mandi</td>\n",
       "      <td>int64</td>\n",
       "      <td>0</td>\n",
       "      <td>0.00</td>\n",
       "      <td>29</td>\n",
       "      <td>[21, 5]</td>\n",
       "    </tr>\n",
       "    <tr>\n",
       "      <th>2</th>\n",
       "      <td>kamar</td>\n",
       "      <td>int64</td>\n",
       "      <td>0</td>\n",
       "      <td>0.00</td>\n",
       "      <td>43</td>\n",
       "      <td>[24, 5]</td>\n",
       "    </tr>\n",
       "    <tr>\n",
       "      <th>3</th>\n",
       "      <td>lb</td>\n",
       "      <td>float64</td>\n",
       "      <td>696</td>\n",
       "      <td>2.82</td>\n",
       "      <td>934</td>\n",
       "      <td>[585.0, 632.0]</td>\n",
       "    </tr>\n",
       "    <tr>\n",
       "      <th>4</th>\n",
       "      <td>lt</td>\n",
       "      <td>float64</td>\n",
       "      <td>4270</td>\n",
       "      <td>17.31</td>\n",
       "      <td>1223</td>\n",
       "      <td>[155.0, 734.0]</td>\n",
       "    </tr>\n",
       "    <tr>\n",
       "      <th>5</th>\n",
       "      <td>tipe_property</td>\n",
       "      <td>object</td>\n",
       "      <td>0</td>\n",
       "      <td>0.00</td>\n",
       "      <td>4</td>\n",
       "      <td>[Rumah, Ruko]</td>\n",
       "    </tr>\n",
       "    <tr>\n",
       "      <th>6</th>\n",
       "      <td>price</td>\n",
       "      <td>float64</td>\n",
       "      <td>0</td>\n",
       "      <td>0.00</td>\n",
       "      <td>1966</td>\n",
       "      <td>[960000000.0, 18800000000.0]</td>\n",
       "    </tr>\n",
       "    <tr>\n",
       "      <th>7</th>\n",
       "      <td>sertifikat</td>\n",
       "      <td>bool</td>\n",
       "      <td>0</td>\n",
       "      <td>0.00</td>\n",
       "      <td>2</td>\n",
       "      <td>[False, True]</td>\n",
       "    </tr>\n",
       "    <tr>\n",
       "      <th>8</th>\n",
       "      <td>deskripsi</td>\n",
       "      <td>object</td>\n",
       "      <td>0</td>\n",
       "      <td>0.00</td>\n",
       "      <td>24661</td>\n",
       "      <td>[for sale:\\nrumah kost baru 25 kamar tidur lok...</td>\n",
       "    </tr>\n",
       "    <tr>\n",
       "      <th>9</th>\n",
       "      <td>lokasi</td>\n",
       "      <td>object</td>\n",
       "      <td>0</td>\n",
       "      <td>0.00</td>\n",
       "      <td>42</td>\n",
       "      <td>[Duren Sawit, Kembangan]</td>\n",
       "    </tr>\n",
       "    <tr>\n",
       "      <th>10</th>\n",
       "      <td>ada_garasi</td>\n",
       "      <td>bool</td>\n",
       "      <td>0</td>\n",
       "      <td>0.00</td>\n",
       "      <td>2</td>\n",
       "      <td>[True, False]</td>\n",
       "    </tr>\n",
       "    <tr>\n",
       "      <th>11</th>\n",
       "      <td>pool</td>\n",
       "      <td>bool</td>\n",
       "      <td>0</td>\n",
       "      <td>0.00</td>\n",
       "      <td>2</td>\n",
       "      <td>[True, False]</td>\n",
       "    </tr>\n",
       "    <tr>\n",
       "      <th>12</th>\n",
       "      <td>taman</td>\n",
       "      <td>bool</td>\n",
       "      <td>0</td>\n",
       "      <td>0.00</td>\n",
       "      <td>2</td>\n",
       "      <td>[False, True]</td>\n",
       "    </tr>\n",
       "    <tr>\n",
       "      <th>13</th>\n",
       "      <td>electricity</td>\n",
       "      <td>float64</td>\n",
       "      <td>775</td>\n",
       "      <td>3.14</td>\n",
       "      <td>159</td>\n",
       "      <td>[770.0, 12300.0]</td>\n",
       "    </tr>\n",
       "    <tr>\n",
       "      <th>14</th>\n",
       "      <td>floors_total</td>\n",
       "      <td>float64</td>\n",
       "      <td>0</td>\n",
       "      <td>0.00</td>\n",
       "      <td>35</td>\n",
       "      <td>[6.0, 1.0]</td>\n",
       "    </tr>\n",
       "    <tr>\n",
       "      <th>15</th>\n",
       "      <td>gym</td>\n",
       "      <td>bool</td>\n",
       "      <td>0</td>\n",
       "      <td>0.00</td>\n",
       "      <td>2</td>\n",
       "      <td>[False, True]</td>\n",
       "    </tr>\n",
       "  </tbody>\n",
       "</table>\n",
       "</div>"
      ],
      "text/plain": [
       "         Features  ...                                      Unique Sample\n",
       "0           index  ...                                     [19668, 21663]\n",
       "1     kamar_mandi  ...                                            [21, 5]\n",
       "2           kamar  ...                                            [24, 5]\n",
       "3              lb  ...                                     [585.0, 632.0]\n",
       "4              lt  ...                                     [155.0, 734.0]\n",
       "5   tipe_property  ...                                      [Rumah, Ruko]\n",
       "6           price  ...                       [960000000.0, 18800000000.0]\n",
       "7      sertifikat  ...                                      [False, True]\n",
       "8       deskripsi  ...  [for sale:\\nrumah kost baru 25 kamar tidur lok...\n",
       "9          lokasi  ...                           [Duren Sawit, Kembangan]\n",
       "10     ada_garasi  ...                                      [True, False]\n",
       "11           pool  ...                                      [True, False]\n",
       "12          taman  ...                                      [False, True]\n",
       "13    electricity  ...                                   [770.0, 12300.0]\n",
       "14   floors_total  ...                                         [6.0, 1.0]\n",
       "15            gym  ...                                      [False, True]\n",
       "\n",
       "[16 rows x 6 columns]"
      ]
     },
     "execution_count": 28,
     "metadata": {},
     "output_type": "execute_result"
    }
   ],
   "source": [
    "bsDesc = []\n",
    "\n",
    "for i in df.columns:\n",
    "    bsDesc.append([\n",
    "        i,\n",
    "        df[i].dtypes,\n",
    "        df[i].isna().sum(),\n",
    "        round((((df[i].isna().sum() )/ len(df)) * 100),2),\n",
    "        df[i].nunique(),\n",
    "        df[i].drop_duplicates().sample(2).values\n",
    "    ])\n",
    "\n",
    "pd.DataFrame(data = bsDesc,\n",
    "            columns = [\n",
    "                'Features',\n",
    "                'DataType',\n",
    "                'Null',\n",
    "                'NullPercentage',\n",
    "                'Unique',\n",
    "                'Unique Sample'\n",
    "            ])"
   ]
  },
  {
   "cell_type": "code",
   "execution_count": 29,
   "metadata": {},
   "outputs": [
    {
     "name": "stdout",
     "output_type": "stream",
     "text": [
      "Jumlah Outliers kolom kamar_mandi = 614\n",
      "Jumlah Outliers kolom kamar = 1218\n",
      "Jumlah Outliers kolom lb = 1834\n",
      "Jumlah Outliers kolom lt = 2020\n",
      "Jumlah Outliers kolom price = 3076\n",
      "Jumlah Outliers kolom electricity = 3120\n",
      "Jumlah Outliers kolom floors_total = 11103\n"
     ]
    }
   ],
   "source": [
    "# Pengecekan Outliers\n",
    "for kolom in num:\n",
    "    Q1 = df.describe()[kolom]['25%']\n",
    "    Q3 = df.describe()[kolom]['75%']\n",
    "    IQR = Q3 - Q1\n",
    "    Upper_Fence = Q3 + (1.5 * IQR)\n",
    "    Lower_Fence = Q1 - (1.5 * IQR)\n",
    "\n",
    "    OutLiers = df[(df[kolom] < Lower_Fence) | (df[kolom] > Upper_Fence)]\n",
    "    print(f\"Jumlah Outliers kolom {kolom} = {len(OutLiers)}\")\n",
    "    "
   ]
  },
  {
   "cell_type": "markdown",
   "metadata": {},
   "source": [
    "#### Cleaning Kolom `lb`\n",
    "- Drop NaN value (NaN values kebanyakan memiliki tipe properti 'lainnya' - jual tanah)\n",
    "- Batas nilai `lb` dibatasi $20<lb<10000$"
   ]
  },
  {
   "cell_type": "code",
   "execution_count": 30,
   "metadata": {},
   "outputs": [
    {
     "data": {
      "text/plain": [
       "lainnya      396\n",
       "Rumah        254\n",
       "Ruko          28\n",
       "Apartemen     18\n",
       "Name: tipe_property, dtype: int64"
      ]
     },
     "execution_count": 30,
     "metadata": {},
     "output_type": "execute_result"
    }
   ],
   "source": [
    "df[df['lb'].isna()==True]['tipe_property'].value_counts()"
   ]
  },
  {
   "cell_type": "code",
   "execution_count": 31,
   "metadata": {},
   "outputs": [],
   "source": [
    "df.dropna(subset=['lb'], inplace=True)"
   ]
  },
  {
   "cell_type": "code",
   "execution_count": 32,
   "metadata": {},
   "outputs": [],
   "source": [
    "df = df[(df['lb']<10000) & (df['lb']>20)]"
   ]
  },
  {
   "cell_type": "code",
   "execution_count": 33,
   "metadata": {},
   "outputs": [
    {
     "name": "stdout",
     "output_type": "stream",
     "text": [
      "Jumlah data outliers pada kolom lb =  1815\n",
      "Jumlah data keseluruhan = 23816\n"
     ]
    }
   ],
   "source": [
    "# Handling Outliers Kolom lb\n",
    "Q1 = df.describe()['lb']['25%']\n",
    "Q3 = df.describe()['lb']['75%']\n",
    "IQR = Q3 - Q1\n",
    "Upper_Fence = Q3 + (1.5 * IQR)\n",
    "Lower_Fence = Q1 - (1.5 * IQR)\n",
    "\n",
    "Out = df[(df['lb'] < Lower_Fence) | (df['lb'] > Upper_Fence)]\n",
    "print('Jumlah data outliers pada kolom lb = ', len(Out['lb']))\n",
    "print('Jumlah data keseluruhan =', len(df))\n",
    "# df[(df['lb'] > Upper_Fence)]"
   ]
  },
  {
   "cell_type": "markdown",
   "metadata": {},
   "source": [
    "#### Cleaning kolom `lt` "
   ]
  },
  {
   "cell_type": "code",
   "execution_count": 34,
   "metadata": {},
   "outputs": [],
   "source": [
    "df.loc[df['tipe_property'] == \"Apartemen\", \"lt\"] = 0"
   ]
  },
  {
   "cell_type": "code",
   "execution_count": 35,
   "metadata": {},
   "outputs": [
    {
     "data": {
      "text/plain": [
       "lainnya    1215\n",
       "Ruko        728\n",
       "Rumah       385\n",
       "Name: tipe_property, dtype: int64"
      ]
     },
     "execution_count": 35,
     "metadata": {},
     "output_type": "execute_result"
    }
   ],
   "source": [
    "df[df['lt'].isna()==True]['tipe_property'].value_counts()"
   ]
  },
  {
   "cell_type": "code",
   "execution_count": 36,
   "metadata": {},
   "outputs": [],
   "source": [
    "df.dropna(subset=['lt'], inplace=True)"
   ]
  },
  {
   "cell_type": "code",
   "execution_count": 37,
   "metadata": {},
   "outputs": [
    {
     "data": {
      "text/plain": [
       "count    19589.000000\n",
       "mean       244.523202\n",
       "std        379.667884\n",
       "min          1.000000\n",
       "25%         90.000000\n",
       "50%        145.000000\n",
       "75%        270.000000\n",
       "max      29375.000000\n",
       "Name: lt, dtype: float64"
      ]
     },
     "execution_count": 37,
     "metadata": {},
     "output_type": "execute_result"
    }
   ],
   "source": [
    "df[~(df['tipe_property']=='Apartemen')].describe()['lt']"
   ]
  },
  {
   "cell_type": "code",
   "execution_count": 38,
   "metadata": {},
   "outputs": [
    {
     "data": {
      "text/plain": [
       "24452     1.0\n",
       "12335     1.0\n",
       "9062      1.0\n",
       "17261     1.0\n",
       "252       1.0\n",
       "         ... \n",
       "13673    21.0\n",
       "14352    21.0\n",
       "23233    21.0\n",
       "23257    21.0\n",
       "23207    21.0\n",
       "Name: lt, Length: 120, dtype: float64"
      ]
     },
     "execution_count": 38,
     "metadata": {},
     "output_type": "execute_result"
    }
   ],
   "source": [
    "df[~(df['tipe_property']=='Apartemen')]['lt'].sort_values()[:120]"
   ]
  },
  {
   "cell_type": "code",
   "execution_count": 39,
   "metadata": {},
   "outputs": [
    {
     "data": {
      "text/plain": [
       "17184    29375.0\n",
       "21501    11000.0\n",
       "1822      7000.0\n",
       "14547     6575.0\n",
       "24335     6427.0\n",
       "17294     6201.0\n",
       "23571     6075.0\n",
       "22888     6000.0\n",
       "13823     5356.0\n",
       "2352      5250.0\n",
       "Name: lt, dtype: float64"
      ]
     },
     "execution_count": 39,
     "metadata": {},
     "output_type": "execute_result"
    }
   ],
   "source": [
    "df[~(df['tipe_property']=='Apartemen')]['lt'].sort_values(ascending=False)[:10]"
   ]
  },
  {
   "cell_type": "code",
   "execution_count": 40,
   "metadata": {},
   "outputs": [
    {
     "data": {
      "text/html": [
       "<div>\n",
       "<style scoped>\n",
       "    .dataframe tbody tr th:only-of-type {\n",
       "        vertical-align: middle;\n",
       "    }\n",
       "\n",
       "    .dataframe tbody tr th {\n",
       "        vertical-align: top;\n",
       "    }\n",
       "\n",
       "    .dataframe thead th {\n",
       "        text-align: right;\n",
       "    }\n",
       "</style>\n",
       "<table border=\"1\" class=\"dataframe\">\n",
       "  <thead>\n",
       "    <tr style=\"text-align: right;\">\n",
       "      <th></th>\n",
       "      <th>index</th>\n",
       "      <th>kamar_mandi</th>\n",
       "      <th>kamar</th>\n",
       "      <th>lb</th>\n",
       "      <th>lt</th>\n",
       "      <th>tipe_property</th>\n",
       "      <th>price</th>\n",
       "      <th>sertifikat</th>\n",
       "      <th>deskripsi</th>\n",
       "      <th>lokasi</th>\n",
       "      <th>ada_garasi</th>\n",
       "      <th>pool</th>\n",
       "      <th>taman</th>\n",
       "      <th>electricity</th>\n",
       "      <th>floors_total</th>\n",
       "      <th>gym</th>\n",
       "    </tr>\n",
       "  </thead>\n",
       "  <tbody>\n",
       "    <tr>\n",
       "      <th>16069</th>\n",
       "      <td>16932</td>\n",
       "      <td>5</td>\n",
       "      <td>18</td>\n",
       "      <td>200.0</td>\n",
       "      <td>222.0</td>\n",
       "      <td>Rumah</td>\n",
       "      <td>1.220000e+10</td>\n",
       "      <td>True</td>\n",
       "      <td>Rumah Kost Di Jual dengan 18 Kamar:Rumah kost ...</td>\n",
       "      <td>Tanah Abang</td>\n",
       "      <td>True</td>\n",
       "      <td>False</td>\n",
       "      <td>False</td>\n",
       "      <td>0.0</td>\n",
       "      <td>-1.0</td>\n",
       "      <td>False</td>\n",
       "    </tr>\n",
       "    <tr>\n",
       "      <th>11857</th>\n",
       "      <td>12287</td>\n",
       "      <td>5</td>\n",
       "      <td>6</td>\n",
       "      <td>370.0</td>\n",
       "      <td>212.0</td>\n",
       "      <td>lainnya</td>\n",
       "      <td>6.200000e+09</td>\n",
       "      <td>True</td>\n",
       "      <td>townhouse siap huni jak-bar joglo raya ready s...</td>\n",
       "      <td>Kembangan</td>\n",
       "      <td>True</td>\n",
       "      <td>True</td>\n",
       "      <td>True</td>\n",
       "      <td>11000.0</td>\n",
       "      <td>3.0</td>\n",
       "      <td>False</td>\n",
       "    </tr>\n",
       "  </tbody>\n",
       "</table>\n",
       "</div>"
      ],
      "text/plain": [
       "       index  kamar_mandi  kamar  ...  electricity  floors_total    gym\n",
       "16069  16932            5     18  ...          0.0          -1.0  False\n",
       "11857  12287            5      6  ...      11000.0           3.0  False\n",
       "\n",
       "[2 rows x 16 columns]"
      ]
     },
     "execution_count": 40,
     "metadata": {},
     "output_type": "execute_result"
    }
   ],
   "source": [
    "df.sample(2)"
   ]
  },
  {
   "cell_type": "code",
   "execution_count": 41,
   "metadata": {},
   "outputs": [],
   "source": [
    "df.drop(df[(df['lt']<22) & (df['tipe_property'] != 'Apartemen')].index, inplace=True)"
   ]
  },
  {
   "cell_type": "code",
   "execution_count": 42,
   "metadata": {},
   "outputs": [],
   "source": [
    "df.drop(df[df['lt'] > 10000].index, inplace=True)"
   ]
  },
  {
   "cell_type": "code",
   "execution_count": 43,
   "metadata": {},
   "outputs": [
    {
     "name": "stdout",
     "output_type": "stream",
     "text": [
      "<class 'pandas.core.frame.DataFrame'>\n",
      "Int64Index: 21319 entries, 0 to 24660\n",
      "Data columns (total 16 columns):\n",
      " #   Column         Non-Null Count  Dtype  \n",
      "---  ------         --------------  -----  \n",
      " 0   index          21319 non-null  int64  \n",
      " 1   kamar_mandi    21319 non-null  int64  \n",
      " 2   kamar          21319 non-null  int64  \n",
      " 3   lb             21319 non-null  float64\n",
      " 4   lt             21319 non-null  float64\n",
      " 5   tipe_property  21319 non-null  object \n",
      " 6   price          21319 non-null  float64\n",
      " 7   sertifikat     21319 non-null  bool   \n",
      " 8   deskripsi      21319 non-null  object \n",
      " 9   lokasi         21319 non-null  object \n",
      " 10  ada_garasi     21319 non-null  bool   \n",
      " 11  pool           21319 non-null  bool   \n",
      " 12  taman          21319 non-null  bool   \n",
      " 13  electricity    20672 non-null  float64\n",
      " 14  floors_total   21319 non-null  float64\n",
      " 15  gym            21319 non-null  bool   \n",
      "dtypes: bool(5), float64(5), int64(3), object(3)\n",
      "memory usage: 2.1+ MB\n"
     ]
    }
   ],
   "source": [
    "df.info()"
   ]
  },
  {
   "cell_type": "markdown",
   "metadata": {},
   "source": [
    "#### Cleaning kolom `tipe_property`"
   ]
  },
  {
   "cell_type": "code",
   "execution_count": 44,
   "metadata": {},
   "outputs": [
    {
     "data": {
      "text/plain": [
       "Rumah        17021\n",
       "lainnya       2355\n",
       "Apartemen     1899\n",
       "Ruko            44\n",
       "Name: tipe_property, dtype: int64"
      ]
     },
     "execution_count": 44,
     "metadata": {},
     "output_type": "execute_result"
    }
   ],
   "source": [
    "df['tipe_property'].value_counts()"
   ]
  },
  {
   "cell_type": "code",
   "execution_count": 45,
   "metadata": {},
   "outputs": [
    {
     "data": {
      "text/plain": [
       "Rumah        17021\n",
       "lainnya       2355\n",
       "Apartemen     1899\n",
       "Name: tipe_property, dtype: int64"
      ]
     },
     "execution_count": 45,
     "metadata": {},
     "output_type": "execute_result"
    }
   ],
   "source": [
    "df = df[df['tipe_property'] != 'Ruko']\n",
    "df['tipe_property'].value_counts()"
   ]
  },
  {
   "cell_type": "code",
   "execution_count": 46,
   "metadata": {},
   "outputs": [
    {
     "data": {
      "text/plain": [
       "'[ for sale ]hunian nyaman & asrijagakarsa - jakarta selatan\\ncluster idaman design classic ready stock 1 unit lagilt 116 m2lb 180 m2kt 4 + 1km 3 + 1carport 1 mobillistrik 2200 watt\\nopen : 1.8 m - nego\\ndekat pusat perbelanjaandekat pusat transportasidekat pusat pendidikandekat pasar tradisional\\nlegalitas : shm - imb & pbb clear\\ncash / kpr * di bantu sampai tuntas *\\ninfo hub : akmalcall or wa\\nkami juga menyediakan hunian :clusternon clusterindent - custom\\nkami akan melayani anda dengan senang hati , karena kepuasan anda keutamaan bagi kami_vine property'"
      ]
     },
     "execution_count": 46,
     "metadata": {},
     "output_type": "execute_result"
    }
   ],
   "source": [
    "x = df[df['tipe_property'] == 'lainnya'].head(10)\n",
    "x['deskripsi'].iloc[4]"
   ]
  },
  {
   "cell_type": "markdown",
   "metadata": {},
   "source": [
    "__untuk sementara pertahankan data dengan tipe properti $=$ lainnya__"
   ]
  },
  {
   "cell_type": "code",
   "execution_count": 47,
   "metadata": {},
   "outputs": [
    {
     "name": "stdout",
     "output_type": "stream",
     "text": [
      "<class 'pandas.core.frame.DataFrame'>\n",
      "Int64Index: 21275 entries, 0 to 24660\n",
      "Data columns (total 16 columns):\n",
      " #   Column         Non-Null Count  Dtype  \n",
      "---  ------         --------------  -----  \n",
      " 0   index          21275 non-null  int64  \n",
      " 1   kamar_mandi    21275 non-null  int64  \n",
      " 2   kamar          21275 non-null  int64  \n",
      " 3   lb             21275 non-null  float64\n",
      " 4   lt             21275 non-null  float64\n",
      " 5   tipe_property  21275 non-null  object \n",
      " 6   price          21275 non-null  float64\n",
      " 7   sertifikat     21275 non-null  bool   \n",
      " 8   deskripsi      21275 non-null  object \n",
      " 9   lokasi         21275 non-null  object \n",
      " 10  ada_garasi     21275 non-null  bool   \n",
      " 11  pool           21275 non-null  bool   \n",
      " 12  taman          21275 non-null  bool   \n",
      " 13  electricity    20630 non-null  float64\n",
      " 14  floors_total   21275 non-null  float64\n",
      " 15  gym            21275 non-null  bool   \n",
      "dtypes: bool(5), float64(5), int64(3), object(3)\n",
      "memory usage: 2.0+ MB\n"
     ]
    }
   ],
   "source": [
    "df.info()"
   ]
  },
  {
   "cell_type": "markdown",
   "metadata": {},
   "source": [
    "#### Cleaning kolom `price`\n",
    "- drop data dengan harga dibawah 50 jt\n",
    "- pertahankan data dengan harga rumah di atas upper fence"
   ]
  },
  {
   "cell_type": "code",
   "execution_count": 48,
   "metadata": {},
   "outputs": [
    {
     "data": {
      "text/plain": [
       "count    2.127500e+04\n",
       "mean     7.195779e+09\n",
       "std      1.452871e+10\n",
       "min      5.650000e+05\n",
       "25%      1.550000e+09\n",
       "50%      2.990000e+09\n",
       "75%      6.500000e+09\n",
       "max      3.750000e+11\n",
       "Name: price, dtype: float64"
      ]
     },
     "execution_count": 48,
     "metadata": {},
     "output_type": "execute_result"
    }
   ],
   "source": [
    "df['price'].describe()"
   ]
  },
  {
   "cell_type": "code",
   "execution_count": 49,
   "metadata": {},
   "outputs": [
    {
     "data": {
      "text/plain": [
       "24123      0.565\n",
       "17519      3.000\n",
       "17186      4.500\n",
       "22075     10.000\n",
       "22377     12.000\n",
       "15468     16.000\n",
       "22535     16.000\n",
       "21884     16.000\n",
       "22815     24.000\n",
       "18763     33.000\n",
       "23480     35.000\n",
       "19095     35.500\n",
       "18930     40.000\n",
       "18929     40.000\n",
       "16322     40.000\n",
       "14224     45.000\n",
       "21368     52.500\n",
       "19093     55.000\n",
       "16035     55.000\n",
       "15103     63.000\n",
       "19348     65.000\n",
       "14951     85.000\n",
       "13676     85.000\n",
       "20821     88.000\n",
       "20824     95.000\n",
       "17670     95.000\n",
       "14759     99.000\n",
       "13562    100.000\n",
       "14820    100.000\n",
       "14557    100.000\n",
       "Name: price, dtype: float64"
      ]
     },
     "execution_count": 49,
     "metadata": {},
     "output_type": "execute_result"
    }
   ],
   "source": [
    "df.sort_values(by=['price'], ascending=True).head(30)['price']/1_000_000"
   ]
  },
  {
   "cell_type": "code",
   "execution_count": 50,
   "metadata": {},
   "outputs": [
    {
     "name": "stdout",
     "output_type": "stream",
     "text": [
      "Jumlah data outliers pada kolom lb =  2510\n",
      "Jumlah data keseluruhan = 21275\n"
     ]
    }
   ],
   "source": [
    "## Drop rumah dengan harga pencilan?\n",
    "# Handling Outliers Kolom price\n",
    "Q1 = df.describe()['price']['25%']\n",
    "Q3 = df.describe()['price']['75%']\n",
    "IQR = Q3 - Q1\n",
    "Upper_Fence = Q3 + (1.5 * IQR)\n",
    "Lower_Fence = Q1 - (1.5 * IQR)\n",
    "\n",
    "Out = df[(df['price'] < Lower_Fence) | (df['price'] > Upper_Fence)]\n",
    "print('Jumlah data outliers pada kolom lb = ', len(Out['lb']))\n",
    "print('Jumlah data keseluruhan =', len(df))\n",
    "# df[(df['price'] > Upper_Fence)]\n",
    "# df[(df['price'] > Lower_Fence)]"
   ]
  },
  {
   "cell_type": "code",
   "execution_count": 51,
   "metadata": {},
   "outputs": [
    {
     "data": {
      "text/html": [
       "<div>\n",
       "<style scoped>\n",
       "    .dataframe tbody tr th:only-of-type {\n",
       "        vertical-align: middle;\n",
       "    }\n",
       "\n",
       "    .dataframe tbody tr th {\n",
       "        vertical-align: top;\n",
       "    }\n",
       "\n",
       "    .dataframe thead th {\n",
       "        text-align: right;\n",
       "    }\n",
       "</style>\n",
       "<table border=\"1\" class=\"dataframe\">\n",
       "  <thead>\n",
       "    <tr style=\"text-align: right;\">\n",
       "      <th></th>\n",
       "      <th>index</th>\n",
       "      <th>kamar_mandi</th>\n",
       "      <th>kamar</th>\n",
       "      <th>lb</th>\n",
       "      <th>lt</th>\n",
       "      <th>tipe_property</th>\n",
       "      <th>price</th>\n",
       "      <th>sertifikat</th>\n",
       "      <th>deskripsi</th>\n",
       "      <th>lokasi</th>\n",
       "      <th>ada_garasi</th>\n",
       "      <th>pool</th>\n",
       "      <th>taman</th>\n",
       "      <th>electricity</th>\n",
       "      <th>floors_total</th>\n",
       "      <th>gym</th>\n",
       "    </tr>\n",
       "  </thead>\n",
       "  <tbody>\n",
       "  </tbody>\n",
       "</table>\n",
       "</div>"
      ],
      "text/plain": [
       "Empty DataFrame\n",
       "Columns: [index, kamar_mandi, kamar, lb, lt, tipe_property, price, sertifikat, deskripsi, lokasi, ada_garasi, pool, taman, electricity, floors_total, gym]\n",
       "Index: []"
      ]
     },
     "execution_count": 51,
     "metadata": {},
     "output_type": "execute_result"
    }
   ],
   "source": [
    "df[(df['price'] < Lower_Fence)]"
   ]
  },
  {
   "cell_type": "code",
   "execution_count": 52,
   "metadata": {},
   "outputs": [
    {
     "data": {
      "text/html": [
       "<div>\n",
       "<style scoped>\n",
       "    .dataframe tbody tr th:only-of-type {\n",
       "        vertical-align: middle;\n",
       "    }\n",
       "\n",
       "    .dataframe tbody tr th {\n",
       "        vertical-align: top;\n",
       "    }\n",
       "\n",
       "    .dataframe thead th {\n",
       "        text-align: right;\n",
       "    }\n",
       "</style>\n",
       "<table border=\"1\" class=\"dataframe\">\n",
       "  <thead>\n",
       "    <tr style=\"text-align: right;\">\n",
       "      <th></th>\n",
       "      <th>index</th>\n",
       "      <th>kamar_mandi</th>\n",
       "      <th>kamar</th>\n",
       "      <th>lb</th>\n",
       "      <th>lt</th>\n",
       "      <th>tipe_property</th>\n",
       "      <th>price</th>\n",
       "      <th>sertifikat</th>\n",
       "      <th>deskripsi</th>\n",
       "      <th>lokasi</th>\n",
       "      <th>ada_garasi</th>\n",
       "      <th>pool</th>\n",
       "      <th>taman</th>\n",
       "      <th>electricity</th>\n",
       "      <th>floors_total</th>\n",
       "      <th>gym</th>\n",
       "    </tr>\n",
       "  </thead>\n",
       "  <tbody>\n",
       "    <tr>\n",
       "      <th>317</th>\n",
       "      <td>324</td>\n",
       "      <td>7</td>\n",
       "      <td>8</td>\n",
       "      <td>2700.0</td>\n",
       "      <td>4260.0</td>\n",
       "      <td>Rumah</td>\n",
       "      <td>3.750000e+11</td>\n",
       "      <td>True</td>\n",
       "      <td>rumah super mewah view golf luxurious european...</td>\n",
       "      <td>Kebayoran Lama</td>\n",
       "      <td>True</td>\n",
       "      <td>True</td>\n",
       "      <td>False</td>\n",
       "      <td>NaN</td>\n",
       "      <td>2.0</td>\n",
       "      <td>False</td>\n",
       "    </tr>\n",
       "    <tr>\n",
       "      <th>21544</th>\n",
       "      <td>23034</td>\n",
       "      <td>7</td>\n",
       "      <td>6</td>\n",
       "      <td>4260.0</td>\n",
       "      <td>2700.0</td>\n",
       "      <td>Rumah</td>\n",
       "      <td>3.750000e+11</td>\n",
       "      <td>True</td>\n",
       "      <td>RUMAH MEWAH DI BUKIT GOLF PONDOK INDAH HARGA M...</td>\n",
       "      <td>Kebayoran Lama</td>\n",
       "      <td>True</td>\n",
       "      <td>True</td>\n",
       "      <td>True</td>\n",
       "      <td>76000.0</td>\n",
       "      <td>3.0</td>\n",
       "      <td>False</td>\n",
       "    </tr>\n",
       "    <tr>\n",
       "      <th>21631</th>\n",
       "      <td>23121</td>\n",
       "      <td>7</td>\n",
       "      <td>6</td>\n",
       "      <td>2700.0</td>\n",
       "      <td>4260.0</td>\n",
       "      <td>Rumah</td>\n",
       "      <td>3.750000e+11</td>\n",
       "      <td>True</td>\n",
       "      <td>RUMAH BUKIT GOLF PONDOK INDAH ~ LT/LB 4.260/2....</td>\n",
       "      <td>Kebayoran Lama</td>\n",
       "      <td>True</td>\n",
       "      <td>True</td>\n",
       "      <td>True</td>\n",
       "      <td>76000.0</td>\n",
       "      <td>2.0</td>\n",
       "      <td>False</td>\n",
       "    </tr>\n",
       "    <tr>\n",
       "      <th>22888</th>\n",
       "      <td>24416</td>\n",
       "      <td>5</td>\n",
       "      <td>7</td>\n",
       "      <td>700.0</td>\n",
       "      <td>6000.0</td>\n",
       "      <td>Rumah</td>\n",
       "      <td>3.500000e+11</td>\n",
       "      <td>True</td>\n",
       "      <td>rumah hitung tanah saja patra Kuningan Jakarta...</td>\n",
       "      <td>Setiabudi</td>\n",
       "      <td>True</td>\n",
       "      <td>False</td>\n",
       "      <td>False</td>\n",
       "      <td>0.0</td>\n",
       "      <td>2.0</td>\n",
       "      <td>False</td>\n",
       "    </tr>\n",
       "    <tr>\n",
       "      <th>21517</th>\n",
       "      <td>23007</td>\n",
       "      <td>4</td>\n",
       "      <td>4</td>\n",
       "      <td>1300.0</td>\n",
       "      <td>1580.0</td>\n",
       "      <td>Rumah</td>\n",
       "      <td>3.000000e+11</td>\n",
       "      <td>True</td>\n",
       "      <td>BUKIT GOLF RUMAH MEWAH:Bukit Golf pondok Indah...</td>\n",
       "      <td>Kebayoran Lama</td>\n",
       "      <td>True</td>\n",
       "      <td>True</td>\n",
       "      <td>False</td>\n",
       "      <td>0.0</td>\n",
       "      <td>2.0</td>\n",
       "      <td>False</td>\n",
       "    </tr>\n",
       "  </tbody>\n",
       "</table>\n",
       "</div>"
      ],
      "text/plain": [
       "       index  kamar_mandi  kamar  ...  electricity  floors_total    gym\n",
       "317      324            7      8  ...          NaN           2.0  False\n",
       "21544  23034            7      6  ...      76000.0           3.0  False\n",
       "21631  23121            7      6  ...      76000.0           2.0  False\n",
       "22888  24416            5      7  ...          0.0           2.0  False\n",
       "21517  23007            4      4  ...          0.0           2.0  False\n",
       "\n",
       "[5 rows x 16 columns]"
      ]
     },
     "execution_count": 52,
     "metadata": {},
     "output_type": "execute_result"
    }
   ],
   "source": [
    "df[(df['price'] > Upper_Fence)].sort_values(by=['price'], ascending=False).head()"
   ]
  },
  {
   "cell_type": "code",
   "execution_count": 53,
   "metadata": {},
   "outputs": [],
   "source": [
    "df = df[(df['price'] > 50_000_000)]"
   ]
  },
  {
   "cell_type": "code",
   "execution_count": 54,
   "metadata": {},
   "outputs": [
    {
     "data": {
      "text/plain": [
       "count    2.125900e+04\n",
       "mean     7.201177e+09\n",
       "std      1.453284e+10\n",
       "min      5.250000e+07\n",
       "25%      1.550000e+09\n",
       "50%      2.998000e+09\n",
       "75%      6.500000e+09\n",
       "max      3.750000e+11\n",
       "Name: price, dtype: float64"
      ]
     },
     "execution_count": 54,
     "metadata": {},
     "output_type": "execute_result"
    }
   ],
   "source": [
    "df['price'].describe()"
   ]
  },
  {
   "cell_type": "code",
   "execution_count": 55,
   "metadata": {},
   "outputs": [
    {
     "name": "stdout",
     "output_type": "stream",
     "text": [
      "<class 'pandas.core.frame.DataFrame'>\n",
      "Int64Index: 21259 entries, 0 to 24660\n",
      "Data columns (total 16 columns):\n",
      " #   Column         Non-Null Count  Dtype  \n",
      "---  ------         --------------  -----  \n",
      " 0   index          21259 non-null  int64  \n",
      " 1   kamar_mandi    21259 non-null  int64  \n",
      " 2   kamar          21259 non-null  int64  \n",
      " 3   lb             21259 non-null  float64\n",
      " 4   lt             21259 non-null  float64\n",
      " 5   tipe_property  21259 non-null  object \n",
      " 6   price          21259 non-null  float64\n",
      " 7   sertifikat     21259 non-null  bool   \n",
      " 8   deskripsi      21259 non-null  object \n",
      " 9   lokasi         21259 non-null  object \n",
      " 10  ada_garasi     21259 non-null  bool   \n",
      " 11  pool           21259 non-null  bool   \n",
      " 12  taman          21259 non-null  bool   \n",
      " 13  electricity    20614 non-null  float64\n",
      " 14  floors_total   21259 non-null  float64\n",
      " 15  gym            21259 non-null  bool   \n",
      "dtypes: bool(5), float64(5), int64(3), object(3)\n",
      "memory usage: 2.0+ MB\n"
     ]
    }
   ],
   "source": [
    "df.info()"
   ]
  },
  {
   "cell_type": "markdown",
   "metadata": {},
   "source": [
    "#### Cleaning kolom sertifikat\n",
    "- No missing value\n",
    "- Nothing dropped"
   ]
  },
  {
   "cell_type": "code",
   "execution_count": 56,
   "metadata": {},
   "outputs": [
    {
     "data": {
      "text/plain": [
       "True     15602\n",
       "False     5657\n",
       "Name: sertifikat, dtype: int64"
      ]
     },
     "execution_count": 56,
     "metadata": {},
     "output_type": "execute_result"
    }
   ],
   "source": [
    "df['sertifikat'].value_counts()"
   ]
  },
  {
   "cell_type": "code",
   "execution_count": 57,
   "metadata": {},
   "outputs": [
    {
     "data": {
      "text/html": [
       "<div>\n",
       "<style scoped>\n",
       "    .dataframe tbody tr th:only-of-type {\n",
       "        vertical-align: middle;\n",
       "    }\n",
       "\n",
       "    .dataframe tbody tr th {\n",
       "        vertical-align: top;\n",
       "    }\n",
       "\n",
       "    .dataframe thead th {\n",
       "        text-align: right;\n",
       "    }\n",
       "</style>\n",
       "<table border=\"1\" class=\"dataframe\">\n",
       "  <thead>\n",
       "    <tr style=\"text-align: right;\">\n",
       "      <th>sertifikat</th>\n",
       "      <th>False</th>\n",
       "      <th>True</th>\n",
       "      <th>All</th>\n",
       "    </tr>\n",
       "    <tr>\n",
       "      <th>tipe_property</th>\n",
       "      <th></th>\n",
       "      <th></th>\n",
       "      <th></th>\n",
       "    </tr>\n",
       "  </thead>\n",
       "  <tbody>\n",
       "    <tr>\n",
       "      <th>Apartemen</th>\n",
       "      <td>812</td>\n",
       "      <td>1082</td>\n",
       "      <td>1894</td>\n",
       "    </tr>\n",
       "    <tr>\n",
       "      <th>Rumah</th>\n",
       "      <td>3617</td>\n",
       "      <td>13393</td>\n",
       "      <td>17010</td>\n",
       "    </tr>\n",
       "    <tr>\n",
       "      <th>lainnya</th>\n",
       "      <td>1228</td>\n",
       "      <td>1127</td>\n",
       "      <td>2355</td>\n",
       "    </tr>\n",
       "    <tr>\n",
       "      <th>All</th>\n",
       "      <td>5657</td>\n",
       "      <td>15602</td>\n",
       "      <td>21259</td>\n",
       "    </tr>\n",
       "  </tbody>\n",
       "</table>\n",
       "</div>"
      ],
      "text/plain": [
       "sertifikat     False   True    All\n",
       "tipe_property                     \n",
       "Apartemen        812   1082   1894\n",
       "Rumah           3617  13393  17010\n",
       "lainnya         1228   1127   2355\n",
       "All             5657  15602  21259"
      ]
     },
     "execution_count": 57,
     "metadata": {},
     "output_type": "execute_result"
    }
   ],
   "source": [
    "pd.crosstab(index=df['tipe_property'], columns=df['sertifikat'], margins=True )"
   ]
  },
  {
   "cell_type": "markdown",
   "metadata": {},
   "source": [
    "#### Cleaning kolom `lokasi`"
   ]
  },
  {
   "cell_type": "code",
   "execution_count": 58,
   "metadata": {},
   "outputs": [
    {
     "data": {
      "text/plain": [
       "42"
      ]
     },
     "execution_count": 58,
     "metadata": {},
     "output_type": "execute_result"
    }
   ],
   "source": [
    "df['lokasi'].nunique()"
   ]
  },
  {
   "cell_type": "markdown",
   "metadata": {},
   "source": [
    "#### Cleaning kolom `ada_garasi`, `pool`, `taman`, `gym`\n",
    "- No missing value"
   ]
  },
  {
   "cell_type": "markdown",
   "metadata": {},
   "source": [
    "#### Cleaning kolom `floors_total`\n",
    "- drop data with values $0$ and $-1$\n",
    "- normalisasi `floors_total` untuk data dengan tipe properti apartemen $= 1$\n",
    "- Nilai kolom dengan jlh lantai $\\geq 5$ masih banyak yang tidak sesuai deskripsi $\\rightarrow$ dibaca lagi dari deskripsi?"
   ]
  },
  {
   "cell_type": "code",
   "execution_count": 59,
   "metadata": {},
   "outputs": [
    {
     "data": {
      "text/plain": [
       "1.0     1253\n",
       "2.0      359\n",
       "3.0      173\n",
       "4.0       64\n",
       "5.0       22\n",
       "11.0       4\n",
       "8.0        3\n",
       "9.0        2\n",
       "21.0       2\n",
       "48.0       2\n",
       "7.0        1\n",
       "0.0        1\n",
       "39.0       1\n",
       "59.0       1\n",
       "35.0       1\n",
       "30.0       1\n",
       "36.0       1\n",
       "6.0        1\n",
       "16.0       1\n",
       "29.0       1\n",
       "Name: floors_total, dtype: int64"
      ]
     },
     "execution_count": 59,
     "metadata": {},
     "output_type": "execute_result"
    }
   ],
   "source": [
    "df[df['tipe_property'] == 'Apartemen']['floors_total'].value_counts()"
   ]
  },
  {
   "cell_type": "code",
   "execution_count": 60,
   "metadata": {},
   "outputs": [
    {
     "data": {
      "text/plain": [
       "1.0    1894\n",
       "Name: floors_total, dtype: int64"
      ]
     },
     "execution_count": 60,
     "metadata": {},
     "output_type": "execute_result"
    }
   ],
   "source": [
    "# df[(df['tipe_property'] == 'Apartemen') & (df['floors_total']==3)].iloc[0]['deskripsi']\n",
    "df.loc[df['tipe_property'] == \"Apartemen\", \"floors_total\"] = 1\n",
    "df[df['tipe_property'] == 'Apartemen']['floors_total'].value_counts()"
   ]
  },
  {
   "cell_type": "code",
   "execution_count": 61,
   "metadata": {},
   "outputs": [
    {
     "data": {
      "text/plain": [
       "count    21259.000000\n",
       "mean         1.893504\n",
       "std          1.435457\n",
       "min         -1.000000\n",
       "25%          1.000000\n",
       "50%          2.000000\n",
       "75%          2.000000\n",
       "max         48.000000\n",
       "Name: floors_total, dtype: float64"
      ]
     },
     "execution_count": 61,
     "metadata": {},
     "output_type": "execute_result"
    }
   ],
   "source": [
    "df['floors_total'].describe()"
   ]
  },
  {
   "cell_type": "code",
   "execution_count": 62,
   "metadata": {},
   "outputs": [
    {
     "data": {
      "text/plain": [
       " 2.0     11752\n",
       " 1.0      4824\n",
       " 3.0      2878\n",
       "-1.0       990\n",
       " 4.0       600\n",
       " 5.0       118\n",
       " 8.0        17\n",
       " 6.0        12\n",
       " 7.0        11\n",
       " 9.0        10\n",
       " 11.0        8\n",
       " 0.0         8\n",
       " 21.0        6\n",
       " 30.0        6\n",
       " 39.0        2\n",
       " 16.0        2\n",
       " 25.0        2\n",
       " 12.0        1\n",
       " 48.0        1\n",
       " 46.0        1\n",
       " 15.0        1\n",
       " 22.0        1\n",
       " 19.0        1\n",
       " 28.0        1\n",
       " 10.0        1\n",
       " 40.0        1\n",
       " 23.0        1\n",
       " 38.0        1\n",
       " 26.0        1\n",
       " 36.0        1\n",
       "Name: floors_total, dtype: int64"
      ]
     },
     "execution_count": 62,
     "metadata": {},
     "output_type": "execute_result"
    }
   ],
   "source": [
    "df['floors_total'].value_counts()"
   ]
  },
  {
   "cell_type": "code",
   "execution_count": 63,
   "metadata": {},
   "outputs": [
    {
     "data": {
      "text/plain": [
       "count    20261.000000\n",
       "mean         2.035635\n",
       "std          1.315791\n",
       "min          1.000000\n",
       "25%          2.000000\n",
       "50%          2.000000\n",
       "75%          2.000000\n",
       "max         48.000000\n",
       "Name: floors_total, dtype: float64"
      ]
     },
     "execution_count": 63,
     "metadata": {},
     "output_type": "execute_result"
    }
   ],
   "source": [
    "df = df[df['floors_total'] > 0]\n",
    "df['floors_total'].describe()"
   ]
  },
  {
   "cell_type": "markdown",
   "metadata": {},
   "source": [
    "##### _Periksa data dengan nilai `floors_total` tinggi_"
   ]
  },
  {
   "cell_type": "code",
   "execution_count": 64,
   "metadata": {},
   "outputs": [
    {
     "data": {
      "text/plain": [
       "8.0     17\n",
       "6.0     12\n",
       "7.0     11\n",
       "9.0     10\n",
       "11.0     8\n",
       "30.0     6\n",
       "21.0     6\n",
       "39.0     2\n",
       "25.0     2\n",
       "16.0     2\n",
       "15.0     1\n",
       "12.0     1\n",
       "19.0     1\n",
       "23.0     1\n",
       "38.0     1\n",
       "28.0     1\n",
       "40.0     1\n",
       "10.0     1\n",
       "26.0     1\n",
       "36.0     1\n",
       "48.0     1\n",
       "22.0     1\n",
       "46.0     1\n",
       "Name: floors_total, dtype: int64"
      ]
     },
     "execution_count": 64,
     "metadata": {},
     "output_type": "execute_result"
    }
   ],
   "source": [
    "L  = df[df['floors_total']>5]\n",
    "L['floors_total'].value_counts()"
   ]
  },
  {
   "cell_type": "code",
   "execution_count": 65,
   "metadata": {},
   "outputs": [
    {
     "data": {
      "text/plain": [
       "Rumah      74\n",
       "lainnya    15\n",
       "Name: tipe_property, dtype: int64"
      ]
     },
     "execution_count": 65,
     "metadata": {},
     "output_type": "execute_result"
    }
   ],
   "source": [
    "L['tipe_property'].value_counts()"
   ]
  },
  {
   "cell_type": "code",
   "execution_count": 66,
   "metadata": {},
   "outputs": [
    {
     "data": {
      "text/plain": [
       "'kondisi bagus, 2 lantai, luas tanah 26m2, sertifikat shm - sertifikat hak milik, hadap selatan, 2kt, 2km, listrik 2200 watt. mohon sebutkan ga14020-br saat menghubungi kami.\\nstatus : dijual\\nharga dan ketersediaan properti ini bisa berubah sewaktu-waktu tanpa pemberitahuan terlebih dahulu. harap hubungi kami untuk mendapat harga dan informasi ketersediaan terkini.\\nhubungi segera'"
      ]
     },
     "execution_count": 66,
     "metadata": {},
     "output_type": "execute_result"
    }
   ],
   "source": [
    "L[L['floors_total'] == 48].iloc[0]['deskripsi']"
   ]
  },
  {
   "cell_type": "code",
   "execution_count": 67,
   "metadata": {},
   "outputs": [
    {
     "data": {
      "text/plain": [
       "'jual\\xa0rumah mewah baru\\xa0model semi klasik\\xa0kawasan elite siap huni cempaka putih jakarta pusat  harga 6.9 m nego  spesifikasi :  1. lt/lb : 225/ 370 2. kamar tidur / kamar mandi : 4+1/ 4+1 3. carport : 2 garasi 1 5. listrik\\xa0: 3500 watt 7. air\\xa0: jetpump 8. shm + imb 9. model semi klasik  selling point :  1. dekat rs. islam jakarta 2. dekat sekolah smp , sma negeri dan swasta 3. dekat universitas yarsi 4. dekat ke jalan utama / jalan protokol\\xa0 5. posisi hoek  meeting point kfc cempaka putih  (olv)'"
      ]
     },
     "execution_count": 67,
     "metadata": {},
     "output_type": "execute_result"
    }
   ],
   "source": [
    "L[L['floors_total'] == 46].iloc[0]['deskripsi']"
   ]
  },
  {
   "cell_type": "code",
   "execution_count": 68,
   "metadata": {},
   "outputs": [
    {
     "data": {
      "text/plain": [
       "'cempaka putih tengah kompleks mewah\\n(cocok untuk mess pemda karena sudah ada beberapa)\\n\\nlt/lb 382/282, 2 lantai, shm.\\n\\nkt 5+2\\n\\nkm 3+1\\n\\nlebar 15m panjang 26m\\n\\ngarasi 2+2 mobil\\n\\nac 7 units\\n\\nkondisi standard atap full baja ringan\\n\\nlebar jalan 7m (2.5 mobil), jalanan portal tidak lalu lalang mobil.\\n\\nrumah masih ditempati\\n\\n2km to lotte mall\\n2km to transmart carrefour\\n1km to kawasan bisnis'"
      ]
     },
     "execution_count": 68,
     "metadata": {},
     "output_type": "execute_result"
    }
   ],
   "source": [
    "L[L['floors_total'] == 21].iloc[3]['deskripsi']"
   ]
  },
  {
   "cell_type": "code",
   "execution_count": 69,
   "metadata": {},
   "outputs": [
    {
     "data": {
      "text/plain": [
       "'dijual rumah 2 lantai villa fatmawati town house, \\xa0sangat strategis, dekat mall, sekolah, rs, bank, perkantoran, sangat strategis, nyaman, tenang, siap huni, cocok untuk tempat hunian yang sehat, hadap timur. mudah mencari angkutan umum. dekat dengan stasiun mrt fatmawati.  spesifikasi : 2 lantai luas tanah : 320 m2 luas bangunan : 275 m2 kamar tidur : 3 kamar mandi : 4 kmr tdr pembantu : 1 kmr mandi pembantu : 1 gudang : 1  fasilitas : *swimming pool *garasi : 2 mobil *carport : 2 mobil *ada halaman depan \\xa0 *listrik 10.600 watt *jet-pump  sertifikat : hak milik  harga jual rp 7,7 m (nego)   lokasi :  fatmawati town house jl rs fatmawati no 15 pondok labu - cilandak jakarta selatan 12450   yang berminat, hubungi : \"bless property\" ibu dhany ,'"
      ]
     },
     "execution_count": 69,
     "metadata": {},
     "output_type": "execute_result"
    }
   ],
   "source": [
    "L[L['floors_total'] == 8].iloc[2]['deskripsi']"
   ]
  },
  {
   "cell_type": "code",
   "execution_count": 70,
   "metadata": {},
   "outputs": [
    {
     "name": "stdout",
     "output_type": "stream",
     "text": [
      "for sales luxury house pondok indah jakarta selatan.  264m/603m 4 + 3 bedrooms 6 + 1 bathrooms lift for 5 floors basement entertainment center wide swimming pool rooftop area imported marble flooring premium finish and sanitair designed by ateiler riri top architect indonesia price 18.5m nego\n",
      "====================================================================================================\n",
      "for sale brand new classic house prestigious location-pondok indah south jakarta the environment is highly desired  with a very large front road property specifications : land : 348 m2 build:1200 m2 5 storey  bedroom 5+2 bathroom 5+2 car park 10 lift  swiming pool fish pond maid pavilion banker mini golf upper dark  full marble import  sauna room water heater electricity 34.000 price idr 33,000,000,000\n",
      "====================================================================================================\n",
      "for sale. minimalist home /cozy living *beautiful interiors* semi furnished townhouse at lebak bulus cilandak - jakarta selatan - very close to mayapada hospital - carrefour lebak bulus - tol jorr fatmawati - mrt station lebak bulus - trans jakarta station - calm & convinient environment - free from flood - 24 h security - one gate system cozy living room cool and beautiful interiors.\n",
      "====================================================================================================\n",
      "dijual rumah 3 lantai dalam townhouse baru siap huni di ampera, jakarta selatan   rumah : ready stock security 24 jam  bebas banjir  spesifikasi : - luas tanah : 151 m2 - luas bangunan : 245 m2 - bangunan 3 lantai - legalitas : shm + imb - kamar tidur : 3 + 1  - kamar mandi : 3 + 1  - listrik : 5500 w - a i r : jetpump - garasi/carport : 3 mobil - dapur basah + dapur kering - taman depan & belakang - optional pool space - service area @ roof lantai 3 - harga : 5,9 m (nego) - cash / kpr bank  (rh)\n",
      "====================================================================================================\n",
      "praja / arteri pondok indah - rumah cantik dan mewah, dekat gancit, private lift.  lokasi strategis: di antara 2 area premium, pondok indah dan kebayoran baru.  area sekitar: gandaria city, pondok indah mal, area senayan, dll.  akses sangat mudah dan cepat, jalan depan rumah lebar untuk 2 mobil.  bebas banjir.  bangunan cukup baru dan sangat terawat, jadi tahun 2015, design cantik dan mewah.  kondisi siap huni.  ceilling tinggi.  kondisi semi furnished  pembelian dengan cash atau kpr (bisa dengan semua bank). .  spesifikasi rumah: lt: 200 m2 lb 600 m2 kt: 3 km: 3 kp: 2 kmp: 1 lantai: 3 garasi: 1 carport: 1 listrik: 26,000 hadap: barat shm price: rp 10 m (nego)  fasilitas rumah:  security lingkungan 24 jam  private lift (merek eurolift)  internet and cable ready.  musholla.  ruang serbaguna.  private family area.  please contact our agent for inquries: fandy\n",
      "====================================================================================================\n",
      "dijual rumah mewah luas strategis di lebak bulus, jakarta selatan  spesifikasi : - luas tanah : 3.300 m2 - luas bangunan : 1.800 m2 (2 lantai) - legalitas : shm + imb + pbb - kamar tidur utama : 1 - kamar tidur : 7 + 3 - kamar mandi : 7 + 3 - garasi : 10 mobil - listrik : 29.000 w - generator : 45 kva - a i r : pam + jetpump - swimming pool - tennis court (granite) - home theater - security - harga : 55 m (nego)  selling point : - bisa dijadikan hunian pribadi atau cluster - lokasi dekat jln fatmawati raya - pinggir jalan besar - 5 menit tol jorr simatupang - 5 menit cilandak town square - 10 menit pondok indah area - 15 menit kemang area  (rht)\n",
      "====================================================================================================\n",
      "di jual rumah di kelapa gading jakarta utara dekat mall kelapa gading lt:140 3 lantai kt:6 km:3 shm air pam ada tempat jemuran listrik 3500 w jalan 2 mobil garasi bisa 3 mobil harga 3 m nego hubungin joness m2  hub : evan arta\n",
      "====================================================================================================\n",
      "dijual garden house 8x17m2 3+1kt 2+1km semi furnished rapi turun harga 6m*jadi *5,6m  more info  dani lai remax  360 pik\n",
      "====================================================================================================\n",
      "rumah siap huni, tipe classic, semi furnish, badan, lokasi bagus, komplek perumahan pantai indah kapuk pik, bebas banjir, aman, harga nego  luas tanah : 600 luas bangunan : 900 kamar tidur : 5 kamar mandi :5\n",
      "====================================================================================================\n",
      "dijual / disewakan  rumah mewah di pasir putih, ancol timur, jakarta utara  luas tanah 780 m² luas bangunan 600 m² dimensi 32×25 hadap barat kamar mandi 5 kamar tidur 5 tingkat 2 lantai air pdam sertifikat hgb diatas hpl listrik 4400 watt  harga jual rp 15 m (nego)  harga sewa  rp 150 jt /thn  note: - lokasi strategis di pinggir pantai - dekat halte busway - dekat pintu toll  - fasilitas garasi 2 mobil  - semi furnish  telp / whatsapp: denis s -  brighton kelapa gading\n",
      "====================================================================================================\n"
     ]
    }
   ],
   "source": [
    "x = df[df['floors_total'] == 5]\n",
    "for i in range(10):\n",
    "    print(x.iloc[i]['deskripsi'])\n",
    "    print(100*'=')"
   ]
  },
  {
   "cell_type": "code",
   "execution_count": 71,
   "metadata": {},
   "outputs": [
    {
     "name": "stdout",
     "output_type": "stream",
     "text": [
      "harga perdana !! siapa cepat dia dapat!! unit terbatas!! hunian terbaru, termurah dalam cluster, lokasi strategis di jakarta selatan, hanya selangkah ke pondok indah, pintu tol jorr dan senayan di design exclusive dengan konsep modern elegant dengan kualitas material terbaik, sirkulasi udara dan pencahayaan dalam rumah sangat bagus. unit terbatas !! bebas banjir, terletak di jakarta selatan, lokasi sangat strategis, lingkungan aman, nyaman dan tenang. akses yang sangat mudah seperti : - 10 menit ke senayan - 10 menit ke sudirman, scbd - 10 menit ke mal pondok indah - 10 menit ke tol jorr spesifikasi: - luas tanah : 111 m2 - luas bangunan : 182 m2 - bangunan : 3 lantai - kamar tidur : 3 + 1 - kamar mandi : 3 + 1 - ruang tamu, ruang keluarga, dapur, taman depan dan belakang - carport 2 mobil - one gate system - keamanan/security 24 jam harga sudah termasuk shm, imb, listrik 3300 watt, pompa air jet pump, 1 line telepon cara bayar sangat fleksibel : *bisa cash keras, cash bertahap dan kpr *promo harga perdana *promo free ac atau tv led unit terbatas !! jangan lewatkan harga perdana dan promo menarik ayoo.. pilih unit anda sebelum kehabisan !! hubungi marketing : usmar (wa)\n",
      "====================================================================================================\n",
      "rumah mewah dan megah, siap huni, lingkungan eksklusif, di pondok indah yang terletak di jalan duta niaga pondok indah, jakarta selatan. bagi anda yang mendambakan hunian yang tenang, nyaman dan mewah di lokasi yang tepat, dekat pusat kawasan bisnis tb. simatupang dan dekat kawasan pusat perbelanjaan elit. daerah yang telah lama dikenal sebagai kawasan elit dan berkelas didukung oleh infrastruktur yang berkualitas. terletak di lokasi yang sangat strategis dikelilingi oleh office tower, pim 2 mall, taman air, rumah sakit pondok indah, sekolah internasional, pondok indah golf, menjadikan rumah ini tempat tinggal yang menyenangkan. bangunan ini dirancang dalam gaya modern, memiliki dua lantai, langit-langit tinggi, 8 tempat parkir, menghadap ke selatan, terdiri dari 4 kamar tidur, 4 kamar mandi, 2 kamar pembantu, kolam renang, taman, semi furnish\n",
      "====================================================================================================\n",
      "exclusive townhouse at cilandak    7 unit hunian modern american classic berkonsep bangunan split level /mezzanine    open 2.57 m negotiable  bangunan 3 lantai semi basement untuk 2 mobil   luas tanah 108 m2  luas bangunan 166 m2 kamar tidur 3 +1  kamar mandi 4   legalitas : shm imb pbb     selling poin  - dekat pusat perbelanjaan trans mart cilandak  - 2 menit ke toll tb simatupang  - dekat rumah sakit   - dekat selter bus way  - dekat tempat rekreasi  - 3 menit ke ampera   - akses 2 mobil  - angkutan umum 24 jam  - bebas banjir    *ket.   kav a lt/lb 140/166 harga 3.47 m  cash 2.95 m  kav b lt/lb 191/171 harga 5 m  cash 4.1 m  kav c lt/lb 110/166 harga 2.99 m cash 2.69 m  kav d lt/lb 119/171 harga 3.4 m cash 2.99 m  kav e lt/lb 111/166 harga 3.2 m cash 2.83 m  kav f lt/lb 108/166 harga 2.86 m cash 2.57 m  kav g lt/lb 136/171 harga 3.74 m cash 2.99 m\n",
      "====================================================================================================\n",
      "spesifikasi - luas tanah 245 m² - luas bangunan 450 m² - bangunan 3 lantai - bangunan sangat baru - kamar tidur 5 -kamar tidur pembantu 2 - kamar mandi 6 - dapur kering dan basah - garasi 2 mobil - carport 2 mobil - swimming pool - good architecture design pencahayan rumah ini cukup baik - lingkungan tenang, aman dan nyaman - akses jalan 2 mobil selling point :  - dekat akses tol tebet - area komersial tebet barat - pasar tebet barat, - gelael, tis square, - stasiun cawang & - stasiun lrt ciliwung.  - legalitas shm + imb  turun harga dari  rp. 9.5 m  menjadi 8.6 - turun 700 jt(nego by owner) hubungi kami\n",
      "====================================================================================================\n",
      "miliki segera!!satu-satunya townhouse termurah dan strategis dekat kuningan, gatot subroto, jakarta selatan dengan harga paling murah dan berkualitas, buktikan sendiri!!hanya 5 menit ke rasuna said, gatot subrotohanya 10 menit ke semanggi, sudirman, thamrinready stok.. ada kolam renang.. unit terbatas.. bebas banjir!!terletak di pusat kota jakarta, lokasi sangat strategis dan akses yang sangat mudah menuju :- 5 menit ke rasuna said kuningan & gatot subroto- 5 menit ke pintu tol- 5 menit ke kemang- 10 menit ke scbd sudirman & thamrin- 15 menit ke senayan- 30 menit ke bandara soetaspesifikasi :- luas tanah : 158 m2 & 184 m2- luas bangunan : 337 m2- design high ceiling- bangunan : 3 lantai- kamar tidur : 4 + 2- kamar mandi : 4 + 1- kolam renang- ruang tamu, ruang keluarga, dapur, taman depan dan taman belakang- carport 2 mobil- garasi 2 mobil- one gate system- keamanan/security 24 jamharga sudah termasuk ppn, ajb, shm, imb, listrik 4400 watt, pompa air jet pump, 1 line teleponcara bayar sangat fleksibel :*bisa cash keras, cash bertahap dan kpr*promo free ac dan tv led*promo diskon menarikunit terbatas !!ayoo.. pilih unitnya sebelum kehabisan !!hubungi marketing :usmar\n",
      "====================================================================================================\n",
      "jp1315 for sale : rumah cantik brand new dalam cluster asri, nyaman, bebas banjir, akses jalan lebar di jagakarsa jaksel.  selling point : - dekat ke cilandak marinir - dekat ke busway ragunan - dekat ke gate tol andara - dekat ke stasiun lenteng agung - dekat ke sekolah\" negeri dan swasta favorite - dekat ke kampus ui, pancasila - dekat ke wisata ragunan.  spesifikasi : lt : 66 m2 lb : 100 m2 kmr tidur  3 kmr mandi 3 carport shm, imb harga : rp 1,3 m (nego) call : nanik\n",
      "====================================================================================================\n",
      "satu lagi kami hadirkan the colony residence kawasan hunian nyaman yang menyajikan layout maksimal dan siap huni, pencahayaan dan sirkulasi udara yang sehat menjadikan pertimbangan tinggi dimana anda akan menempatkan keluarga bahagia anda.tak diragukan lagi lokasi yang sangat strategis dipinggir jalan raya dan mudah diakses wilayah karang tengah terletak dikawasan antara fatmawati dan lebak bulus, sehingga memiliki nilai investasi yang sangat bagus.jadikan the colony residence menjadi rumah idaman dan kado terindah untuk keluarga andaluas tanah: 104-143luas bangunan: 118-126kamar tidur: 3+1kamar mandi: 3+1jumlah lantai: 2carpot: 2listrik: 2200 wattsumber air: air tanah+pompa listrik+toren (1000ltr)surat shm dan imbpoints of interest5 menit menuju: pondok indah5 menit menuju: rs. fatmawati5 menit menuju: tol jorr5 menit menuju: citossegera hubungi team marketing kami;\n",
      "====================================================================================================\n",
      "cari rumah di jakarta selatan saya siap membantu bpk/ibu mencarikan rumah sesuai keinginan bpk/ibu khususnya daerah jagakarsa dan sekitarnya ** jasa kami gratis untuk anda ** * transparan langsung nego sama owner / pemilik langsung * legalitas clear dan aman ( shm, imb, pbb ). * pembayaran bisa cash / kpr ( kpr kami bantu sampai akad )  selling point : one gate system -   5 menit dari pintu tol desari - 15 menit tol tb simatupang - 15 menit cilandak transmart - 15 menit kb ragunan dan busway - 20 menit citos/ampera/fatmawati - 20 menit penvill ( pejaten village ) - 15 menit cinere mall - 15 menit stasiun l.agung/ui  survey lokasi bisa kapan saja dan atur janji terlebih dahulu / langsung via wa ( fast respon ) development and property agent : vine property  more info hubungi : fahad zabadi\n",
      "====================================================================================================\n",
      "dijual murah rumah siap huni di tebet utara - tebet jakarta selatan  selling point : - akses jalan 2 mobil - 5 menit ke stasiun tebet - lokasi aman, tenang dan bebas banjir  bangunan 2,5 lantai  luas tanah 100 m2 luas bangunan 185 m2  kamar tidur 5 kamar mandi 4  garasi 1 mobil carpot 1 mobil  - bangunan thn 2018 - gudang, service area - semi furnish : free kitchen set - listrik 3.500 watt - shm, imb, pbb  harga rp.3,5 m nego cash & kpr  utk info hub : agus supriyanto tlp/wa instagram @rumaindoaja\n",
      "====================================================================================================\n",
      "nego dengan owner - kolam renang 5mnt ke mrt, dp0 s/d24x bunga flat 0%  *pasti* *untung*, gratis free biaya kpr, pajak dll -kolam renang, mini gym & musholla - rumah modern dan strategis  - harga bersaing di lebak bulus cirendeu *bisa dp0%, langsung akad*. lokasi strategis dekat dengan stasiun mrt dan tol lebak bulus. selisih kpr bisa di cicil 3th - hunian tipe ... dengan model exclusive, *klaim* hari ini untuk mendapatkan promo free biaya kpr, pajak dll\n",
      "====================================================================================================\n"
     ]
    }
   ],
   "source": [
    "x = df[df['floors_total'] == 3]\n",
    "for i in range(10):\n",
    "    print(x.iloc[i]['deskripsi'])\n",
    "    print(100*'=')"
   ]
  },
  {
   "cell_type": "code",
   "execution_count": 72,
   "metadata": {},
   "outputs": [
    {
     "name": "stdout",
     "output_type": "stream",
     "text": [
      "3.0\n",
      "exclusive townhouse at cilandak    7 unit hunian modern american classic berkonsep bangunan split level /mezzanine    open 2.57 m negotiable  bangunan 3 lantai semi basement untuk 2 mobil   luas tanah 108 m2  luas bangunan 166 m2 kamar tidur 3 +1  kamar mandi 4   legalitas : shm imb pbb     selling poin  - dekat pusat perbelanjaan trans mart cilandak  - 2 menit ke toll tb simatupang  - dekat rumah sakit   - dekat selter bus way  - dekat tempat rekreasi  - 3 menit ke ampera   - akses 2 mobil  - angkutan umum 24 jam  - bebas banjir    *ket.   kav a lt/lb 140/166 harga 3.47 m  cash 2.95 m  kav b lt/lb 191/171 harga 5 m  cash 4.1 m  kav c lt/lb 110/166 harga 2.99 m cash 2.69 m  kav d lt/lb 119/171 harga 3.4 m cash 2.99 m  kav e lt/lb 111/166 harga 3.2 m cash 2.83 m  kav f lt/lb 108/166 harga 2.86 m cash 2.57 m  kav g lt/lb 136/171 harga 3.74 m cash 2.99 m\n"
     ]
    }
   ],
   "source": [
    "import re\n",
    "## Fungsi membaca jumlah lantai \n",
    "def JLantai(text):\n",
    "    angka1='o'\n",
    "    cari1 = re.search('lantai',text)\n",
    "    try:\n",
    "        S1 = cari1.span()\n",
    "        hasil1 = text[S1[1]-12:S1[1]]\n",
    "        H = re.findall(r\"[^\\n]+\",hasil1)\n",
    "        for i in H:\n",
    "            if 'lantai' in i:\n",
    "                hasil1 = i\n",
    "                break\n",
    "        x = re.search(r'\\d\\.\\d|\\d\\,\\d',hasil1)\n",
    "        if x != None:\n",
    "            angka1 = x.group()\n",
    "        else:\n",
    "            H = re.findall(r\"[^.,]+\",hasil1)\n",
    "            for i in H:\n",
    "                if 'lantai' in i:\n",
    "                    hasil1 = i\n",
    "                    break\n",
    "            try:\n",
    "                angka1 = (re.search(r'\\d',hasil1)).group()\n",
    "            except:\n",
    "                S1 = cari1.span()\n",
    "                hasil1 = text[S1[1]-6:S1[1]+7]\n",
    "                H = re.findall(r\"[^.,\\n]+\",hasil1)\n",
    "                for i in H:\n",
    "                    if 'lantai' in i:\n",
    "                        hasil1 = i\n",
    "                        break\n",
    "                try:\n",
    "                    cari = re.search(\"lantai\",hasil1)\n",
    "                    S = cari.span()\n",
    "                    if ':' in hasil1[S[1]:S[1]+3]:\n",
    "                        angka1 = (re.search(r'\\d',hasil1)).group()\n",
    "                except:\n",
    "                    angka1 = 'ga ada angka?' \n",
    "    except:\n",
    "        hasil1 = 'ga nemu'\n",
    "    if angka1[0].isdigit() == False:    \n",
    "        angka2='o'\n",
    "        cari2 = re.search(\"tingkat\",text)\n",
    "        try:\n",
    "            S2 = cari2.span()\n",
    "            hasil2 = text[S2[1]-13:S2[1]]\n",
    "            H = re.findall(r\"[^\\n]+\",hasil2)\n",
    "            for i in H:\n",
    "                if 'tingkat' in i:\n",
    "                    hasil2 = i\n",
    "                    break\n",
    "            x = re.search(r'\\d\\.\\d|\\d\\,\\d',hasil2)\n",
    "            if x != None:\n",
    "                angka2 = x.group()\n",
    "            else:\n",
    "                H = re.findall(r\"[^.,]+\",hasil2)\n",
    "                for i in H:\n",
    "                    if 'tingkat' in i:\n",
    "                        hasil2 = i\n",
    "                        break\n",
    "                try:\n",
    "                    angka2 = (re.search(r'\\d',hasil2)).group()\n",
    "                except:\n",
    "                    S2 = cari2.span()\n",
    "                    hasil2 = text[S2[1]-7:S2[1]+7]\n",
    "                    H = re.findall(r\"[^.,\\n]+\",hasil2)\n",
    "                    for i in H:\n",
    "                        if 'tingkat' in i:\n",
    "                            hasil2 = i\n",
    "                            break\n",
    "                    try:\n",
    "                        cari = re.search(\"tingkat\",hasil2)\n",
    "                        S = cari.span()\n",
    "                        if ':' in hasil2[S[1]:S[1]+3]:\n",
    "                            angka2 = (re.search(r'\\d',hasil2)).group()\n",
    "                    except:\n",
    "                        angka2 = 'ga ada angka?' \n",
    "        except:\n",
    "            hasil2 = 'ga nemu'\n",
    "        if angka2[0].isdigit() == False:   \n",
    "            angka3='o'\n",
    "            cari3 = re.search(\"floors\",text)\n",
    "            try:\n",
    "                S3 = cari3.span()\n",
    "                hasil3 = text[S3[1]-12:S3[1]]\n",
    "                H = re.findall(r\"[^\\n]+\",hasil3)\n",
    "                for i in H:\n",
    "                    if 'floors' in i:\n",
    "                        hasil3 = i\n",
    "                        break\n",
    "                x = re.search(r'\\d\\.\\d|\\d\\,\\d',hasil3)\n",
    "                if x != None:\n",
    "                    angka3 = x.group()\n",
    "                else:\n",
    "                    H = re.findall(r\"[^.,]+\",hasil3)\n",
    "                    for i in H:\n",
    "                        if 'floors' in i:\n",
    "                            hasil3 = i\n",
    "                            break\n",
    "                    try:\n",
    "                        angka3 = (re.search(r'\\d',hasil3)).group()\n",
    "                    except:\n",
    "                        S3 = cari3.span()\n",
    "                        hasil3 = text[S3[1]-6:S3[1]+7]\n",
    "                        H = re.findall(r\"[^.,\\n]+\",hasil3)\n",
    "                        for i in H:\n",
    "                            if 'floors' in i:\n",
    "                                hasil3 = i\n",
    "                                break\n",
    "                        try:\n",
    "                            cari = re.search(\"floors\",hasil3)\n",
    "                            S = cari.span()\n",
    "                            if ':' in hasil3[S[1]:S[1]+3]:\n",
    "                                angka3 = (re.search(r'\\d',hasil3)).group()\n",
    "                        except:\n",
    "                            angka3 = 'ga ada angka?' \n",
    "            except:\n",
    "                hasil3 = 'ga nemu'\n",
    "            if angka3[0].isdigit() == False: \n",
    "                return np.nan\n",
    "            else:\n",
    "                return angka3\n",
    "        else:\n",
    "            return angka2\n",
    "    else:\n",
    "        return angka1\n",
    "\n",
    "###########\n",
    "\n",
    "## Fungsi Convert JLantai\n",
    "def konv(text):\n",
    "    try:\n",
    "        x = text.replace(',','.')\n",
    "        return float(x)\n",
    "    except:\n",
    "        return text\n",
    "# konv(np.nan)\n",
    "# konv('1,5')\n",
    "\n",
    "### Testing Fungsi\n",
    "text = df[df['floors_total'] == 3].iloc[2]['deskripsi']\n",
    "print(konv(JLantai(text)))\n",
    "print(text)"
   ]
  },
  {
   "cell_type": "markdown",
   "metadata": {},
   "source": [
    "#### Membuat kolom `floors_total_new`\n",
    "- Kolom ini memiliki nilai yang sama dengan `floors_total` untuk data dengan jumlah lantai $<3$\n",
    "- Data dengan jumlah lantai $\\geq 3$ akan dicari lewat deskripsi. \n",
    "- Bila nilai jumlah lantai tidak ditemukan di deskripsi, nilai jumlah lantai data ini akan diisi dengan nilai `nan` dulu."
   ]
  },
  {
   "cell_type": "code",
   "execution_count": 73,
   "metadata": {},
   "outputs": [
    {
     "data": {
      "text/plain": [
       "2.0     11752\n",
       "1.0      4824\n",
       "3.0      2878\n",
       "4.0       600\n",
       "5.0       118\n",
       "8.0        17\n",
       "6.0        12\n",
       "7.0        11\n",
       "9.0        10\n",
       "11.0        8\n",
       "21.0        6\n",
       "30.0        6\n",
       "16.0        2\n",
       "25.0        2\n",
       "39.0        2\n",
       "48.0        1\n",
       "12.0        1\n",
       "46.0        1\n",
       "15.0        1\n",
       "36.0        1\n",
       "22.0        1\n",
       "28.0        1\n",
       "10.0        1\n",
       "40.0        1\n",
       "23.0        1\n",
       "38.0        1\n",
       "26.0        1\n",
       "19.0        1\n",
       "Name: floors_total, dtype: int64"
      ]
     },
     "execution_count": 73,
     "metadata": {},
     "output_type": "execute_result"
    }
   ],
   "source": [
    "df['floors_total'].value_counts()"
   ]
  },
  {
   "cell_type": "code",
   "execution_count": 74,
   "metadata": {},
   "outputs": [],
   "source": [
    "df['floors_total_new'] = df['floors_total']"
   ]
  },
  {
   "cell_type": "code",
   "execution_count": 75,
   "metadata": {},
   "outputs": [
    {
     "data": {
      "text/html": [
       "<div>\n",
       "<style scoped>\n",
       "    .dataframe tbody tr th:only-of-type {\n",
       "        vertical-align: middle;\n",
       "    }\n",
       "\n",
       "    .dataframe tbody tr th {\n",
       "        vertical-align: top;\n",
       "    }\n",
       "\n",
       "    .dataframe thead th {\n",
       "        text-align: right;\n",
       "    }\n",
       "</style>\n",
       "<table border=\"1\" class=\"dataframe\">\n",
       "  <thead>\n",
       "    <tr style=\"text-align: right;\">\n",
       "      <th></th>\n",
       "      <th>index</th>\n",
       "      <th>kamar_mandi</th>\n",
       "      <th>kamar</th>\n",
       "      <th>lb</th>\n",
       "      <th>lt</th>\n",
       "      <th>tipe_property</th>\n",
       "      <th>price</th>\n",
       "      <th>sertifikat</th>\n",
       "      <th>deskripsi</th>\n",
       "      <th>lokasi</th>\n",
       "      <th>ada_garasi</th>\n",
       "      <th>pool</th>\n",
       "      <th>taman</th>\n",
       "      <th>electricity</th>\n",
       "      <th>floors_total</th>\n",
       "      <th>gym</th>\n",
       "      <th>floors_total_new</th>\n",
       "    </tr>\n",
       "  </thead>\n",
       "  <tbody>\n",
       "    <tr>\n",
       "      <th>5279</th>\n",
       "      <td>5386</td>\n",
       "      <td>4</td>\n",
       "      <td>5</td>\n",
       "      <td>154.0</td>\n",
       "      <td>194.0</td>\n",
       "      <td>Rumah</td>\n",
       "      <td>3.400000e+09</td>\n",
       "      <td>False</td>\n",
       "      <td>dijual  rumah di daerah jembatan dua raya, pej...</td>\n",
       "      <td>Penjaringan</td>\n",
       "      <td>True</td>\n",
       "      <td>False</td>\n",
       "      <td>False</td>\n",
       "      <td>11000.0</td>\n",
       "      <td>3.0</td>\n",
       "      <td>False</td>\n",
       "      <td>3.0</td>\n",
       "    </tr>\n",
       "  </tbody>\n",
       "</table>\n",
       "</div>"
      ],
      "text/plain": [
       "      index  kamar_mandi  kamar  ...  floors_total    gym floors_total_new\n",
       "5279   5386            4      5  ...           3.0  False              3.0\n",
       "\n",
       "[1 rows x 17 columns]"
      ]
     },
     "execution_count": 75,
     "metadata": {},
     "output_type": "execute_result"
    }
   ],
   "source": [
    "df.sample(1)"
   ]
  },
  {
   "cell_type": "code",
   "execution_count": 76,
   "metadata": {},
   "outputs": [
    {
     "name": "stderr",
     "output_type": "stream",
     "text": [
      "/Users/rhzphlv/opt/anaconda3/lib/python3.8/site-packages/pandas/core/indexing.py:670: SettingWithCopyWarning: \n",
      "A value is trying to be set on a copy of a slice from a DataFrame\n",
      "\n",
      "See the caveats in the documentation: https://pandas.pydata.org/pandas-docs/stable/user_guide/indexing.html#returning-a-view-versus-a-copy\n",
      "  iloc._setitem_with_indexer(indexer, value)\n"
     ]
    },
    {
     "data": {
      "text/plain": [
       "2.0    12227\n",
       "1.0     4964\n",
       "3.0      785\n",
       "4.0      145\n",
       "2.5      124\n",
       "3.5       89\n",
       "5.0       37\n",
       "0.0       31\n",
       "1.5       29\n",
       "8.0       16\n",
       "4.5       14\n",
       "6.0        8\n",
       "7.0        8\n",
       "9.0        5\n",
       "1.2        3\n",
       "3.1        3\n",
       "1.3        3\n",
       "1.1        2\n",
       "8.3        1\n",
       "4.4        1\n",
       "6.5        1\n",
       "2.2        1\n",
       "5.5        1\n",
       "3.2        1\n",
       "Name: floors_total_new, dtype: int64"
      ]
     },
     "execution_count": 76,
     "metadata": {},
     "output_type": "execute_result"
    }
   ],
   "source": [
    "for i in range(len(df)):\n",
    "    if df['floors_total_new'].iloc[i]>=3:\n",
    "        text = df['deskripsi'].iloc[i]\n",
    "        y = konv(JLantai(text))\n",
    "        df['floors_total_new'].iloc[i] = y\n",
    "df['floors_total_new'].value_counts()"
   ]
  },
  {
   "cell_type": "code",
   "execution_count": 77,
   "metadata": {},
   "outputs": [
    {
     "name": "stdout",
     "output_type": "stream",
     "text": [
      "dijual cepat luxury housejalan bangka raya (di dalam private compound)sangat dekat ke tendean , mampang , kuningan ,kebayoran ,senopati .luas tanah 602mluas bangunan 7462 tingkat + basement5 kamar tidur + 5 kamar mandi 1 kamar powder (kamar kecil untuk tamu)2 kamar pembantu + 1 kamar mandi pembantu 1 ruang kerja (bisa buat mushollah atau ruang doa)1 pantrygarasi muat 6 mobil + 4 motorcarport 6 mobilada kolam renang dan halam belakang taman luas dan besarlistrik 33.000 wattmarmer import , solid wood floor ,grohe-kohler sanitary .harga jual : 22.5 m (nego)informasi dan survey lokasi mohon hubungi :westri0858 80888 225 (wa)0811 8088 225\n"
     ]
    }
   ],
   "source": [
    "print(df[df['floors_total_new']==7]['deskripsi'].iloc[2])"
   ]
  },
  {
   "cell_type": "code",
   "execution_count": 78,
   "metadata": {},
   "outputs": [
    {
     "name": "stdout",
     "output_type": "stream",
     "text": [
      "rumah jual di jln. warung jati luas tanah 153m2 luas bangunan 150m2 2 lantai kamar tidur 5 kamar mandi 2 harga 2,4m\n"
     ]
    },
    {
     "data": {
      "text/plain": [
       "index                                                             689\n",
       "kamar_mandi                                                         3\n",
       "kamar                                                               6\n",
       "lb                                                                150\n",
       "lt                                                                153\n",
       "tipe_property                                                   Rumah\n",
       "price                                                         2.4e+09\n",
       "sertifikat                                                      False\n",
       "deskripsi           rumah jual di jln. warung jati luas tanah 153m...\n",
       "lokasi                                                   Pasar Minggu\n",
       "ada_garasi                                                       True\n",
       "pool                                                            False\n",
       "taman                                                           False\n",
       "electricity                                                      5500\n",
       "floors_total                                                        3\n",
       "gym                                                             False\n",
       "floors_total_new                                                    0\n",
       "Name: 672, dtype: object"
      ]
     },
     "execution_count": 78,
     "metadata": {},
     "output_type": "execute_result"
    }
   ],
   "source": [
    "print(df[df['floors_total_new']==0].iloc[0]['deskripsi'])\n",
    "df[df['floors_total_new']==0].loc[672]"
   ]
  },
  {
   "cell_type": "code",
   "execution_count": 79,
   "metadata": {},
   "outputs": [],
   "source": [
    "df.loc[df['floors_total_new'] == 0, 'floors_total_new'] = df['floors_total']"
   ]
  },
  {
   "cell_type": "code",
   "execution_count": 80,
   "metadata": {},
   "outputs": [
    {
     "data": {
      "text/plain": [
       "index                                                             689\n",
       "kamar_mandi                                                         3\n",
       "kamar                                                               6\n",
       "lb                                                                150\n",
       "lt                                                                153\n",
       "tipe_property                                                   Rumah\n",
       "price                                                         2.4e+09\n",
       "sertifikat                                                      False\n",
       "deskripsi           rumah jual di jln. warung jati luas tanah 153m...\n",
       "lokasi                                                   Pasar Minggu\n",
       "ada_garasi                                                       True\n",
       "pool                                                            False\n",
       "taman                                                           False\n",
       "electricity                                                      5500\n",
       "floors_total                                                        3\n",
       "gym                                                             False\n",
       "floors_total_new                                                    3\n",
       "Name: 672, dtype: object"
      ]
     },
     "execution_count": 80,
     "metadata": {},
     "output_type": "execute_result"
    }
   ],
   "source": [
    "df.loc[672]"
   ]
  },
  {
   "cell_type": "code",
   "execution_count": 81,
   "metadata": {},
   "outputs": [
    {
     "data": {
      "text/plain": [
       "3.0     1377\n",
       "4.0      275\n",
       "5.0       58\n",
       "8.0       13\n",
       "6.0        8\n",
       "7.0        5\n",
       "9.0        5\n",
       "30.0       4\n",
       "21.0       4\n",
       "11.0       2\n",
       "12.0       1\n",
       "19.0       1\n",
       "23.0       1\n",
       "38.0       1\n",
       "25.0       1\n",
       "10.0       1\n",
       "16.0       1\n",
       "39.0       1\n",
       "22.0       1\n",
       "40.0       1\n",
       "46.0       1\n",
       "Name: floors_total, dtype: int64"
      ]
     },
     "execution_count": 81,
     "metadata": {},
     "output_type": "execute_result"
    }
   ],
   "source": [
    "df[df['floors_total_new'].isna()==True]['floors_total'].value_counts()"
   ]
  },
  {
   "cell_type": "code",
   "execution_count": 82,
   "metadata": {},
   "outputs": [],
   "source": [
    "df['floors_total_new'] = df['floors_total_new'].fillna(-1)"
   ]
  },
  {
   "cell_type": "code",
   "execution_count": 83,
   "metadata": {},
   "outputs": [],
   "source": [
    "df.loc[df['floors_total_new'] == -1, \"floors_total_new\"] = df['floors_total']"
   ]
  },
  {
   "cell_type": "code",
   "execution_count": 84,
   "metadata": {},
   "outputs": [
    {
     "data": {
      "text/plain": [
       "Series([], Name: floors_total, dtype: int64)"
      ]
     },
     "execution_count": 84,
     "metadata": {},
     "output_type": "execute_result"
    }
   ],
   "source": [
    "df[df['floors_total_new'].isna()==True]['floors_total'].value_counts()"
   ]
  },
  {
   "cell_type": "code",
   "execution_count": 85,
   "metadata": {},
   "outputs": [],
   "source": [
    "df = df[df['floors_total_new'] <= 5]"
   ]
  },
  {
   "cell_type": "code",
   "execution_count": 86,
   "metadata": {},
   "outputs": [
    {
     "data": {
      "text/plain": [
       "2.0    12227\n",
       "1.0     4964\n",
       "3.0     2189\n",
       "4.0      423\n",
       "2.5      124\n",
       "5.0       96\n",
       "3.5       89\n",
       "1.5       29\n",
       "4.5       14\n",
       "1.3        3\n",
       "3.1        3\n",
       "1.2        3\n",
       "1.1        2\n",
       "3.2        1\n",
       "2.2        1\n",
       "4.4        1\n",
       "Name: floors_total_new, dtype: int64"
      ]
     },
     "execution_count": 86,
     "metadata": {},
     "output_type": "execute_result"
    }
   ],
   "source": [
    "df['floors_total_new'].value_counts()"
   ]
  },
  {
   "cell_type": "code",
   "execution_count": 87,
   "metadata": {},
   "outputs": [
    {
     "data": {
      "text/plain": [
       "2.0     11752\n",
       "1.0      4824\n",
       "3.0      2849\n",
       "4.0       594\n",
       "5.0       116\n",
       "11.0        6\n",
       "9.0         5\n",
       "7.0         5\n",
       "6.0         3\n",
       "8.0         3\n",
       "30.0        2\n",
       "21.0        2\n",
       "39.0        1\n",
       "36.0        1\n",
       "15.0        1\n",
       "25.0        1\n",
       "48.0        1\n",
       "16.0        1\n",
       "28.0        1\n",
       "26.0        1\n",
       "Name: floors_total, dtype: int64"
      ]
     },
     "execution_count": 87,
     "metadata": {},
     "output_type": "execute_result"
    }
   ],
   "source": [
    "df['floors_total'].value_counts()"
   ]
  },
  {
   "cell_type": "code",
   "execution_count": 88,
   "metadata": {},
   "outputs": [
    {
     "data": {
      "text/plain": [
       "2.0    12352\n",
       "1.0     5001\n",
       "3.0     2282\n",
       "4.0      438\n",
       "5.0       96\n",
       "Name: floors_total_new, dtype: int64"
      ]
     },
     "execution_count": 88,
     "metadata": {},
     "output_type": "execute_result"
    }
   ],
   "source": [
    "df['floors_total_new'] = df['floors_total_new'].apply(lambda x : int(x))\n",
    "df['floors_total_new'] = df['floors_total_new'].astype(float)\n",
    "df['floors_total_new'].value_counts()"
   ]
  },
  {
   "cell_type": "code",
   "execution_count": 89,
   "metadata": {},
   "outputs": [
    {
     "data": {
      "text/html": [
       "<div>\n",
       "<style scoped>\n",
       "    .dataframe tbody tr th:only-of-type {\n",
       "        vertical-align: middle;\n",
       "    }\n",
       "\n",
       "    .dataframe tbody tr th {\n",
       "        vertical-align: top;\n",
       "    }\n",
       "\n",
       "    .dataframe thead th {\n",
       "        text-align: right;\n",
       "    }\n",
       "</style>\n",
       "<table border=\"1\" class=\"dataframe\">\n",
       "  <thead>\n",
       "    <tr style=\"text-align: right;\">\n",
       "      <th></th>\n",
       "      <th>index</th>\n",
       "      <th>kamar_mandi</th>\n",
       "      <th>kamar</th>\n",
       "      <th>lb</th>\n",
       "      <th>lt</th>\n",
       "      <th>tipe_property</th>\n",
       "      <th>price</th>\n",
       "      <th>sertifikat</th>\n",
       "      <th>deskripsi</th>\n",
       "      <th>lokasi</th>\n",
       "      <th>ada_garasi</th>\n",
       "      <th>pool</th>\n",
       "      <th>taman</th>\n",
       "      <th>electricity</th>\n",
       "      <th>floors_total</th>\n",
       "      <th>gym</th>\n",
       "      <th>floors_total_new</th>\n",
       "    </tr>\n",
       "  </thead>\n",
       "  <tbody>\n",
       "    <tr>\n",
       "      <th>12</th>\n",
       "      <td>13</td>\n",
       "      <td>5</td>\n",
       "      <td>5</td>\n",
       "      <td>500.0</td>\n",
       "      <td>1038.0</td>\n",
       "      <td>Rumah</td>\n",
       "      <td>1.750000e+10</td>\n",
       "      <td>True</td>\n",
       "      <td>shm 2 lantai ruang kerja ruang musik dapur ber...</td>\n",
       "      <td>Cilandak</td>\n",
       "      <td>True</td>\n",
       "      <td>True</td>\n",
       "      <td>True</td>\n",
       "      <td>NaN</td>\n",
       "      <td>8.0</td>\n",
       "      <td>False</td>\n",
       "      <td>2.0</td>\n",
       "    </tr>\n",
       "    <tr>\n",
       "      <th>14</th>\n",
       "      <td>15</td>\n",
       "      <td>4</td>\n",
       "      <td>3</td>\n",
       "      <td>275.0</td>\n",
       "      <td>320.0</td>\n",
       "      <td>Rumah</td>\n",
       "      <td>7.700000e+09</td>\n",
       "      <td>True</td>\n",
       "      <td>dijual rumah 2 lantai villa fatmawati town hou...</td>\n",
       "      <td>Cilandak</td>\n",
       "      <td>True</td>\n",
       "      <td>True</td>\n",
       "      <td>False</td>\n",
       "      <td>NaN</td>\n",
       "      <td>8.0</td>\n",
       "      <td>False</td>\n",
       "      <td>2.0</td>\n",
       "    </tr>\n",
       "    <tr>\n",
       "      <th>60</th>\n",
       "      <td>63</td>\n",
       "      <td>5</td>\n",
       "      <td>6</td>\n",
       "      <td>126.0</td>\n",
       "      <td>104.0</td>\n",
       "      <td>Rumah</td>\n",
       "      <td>2.737800e+09</td>\n",
       "      <td>True</td>\n",
       "      <td>satu lagi kami hadirkan the colony residence k...</td>\n",
       "      <td>Cilandak</td>\n",
       "      <td>True</td>\n",
       "      <td>False</td>\n",
       "      <td>False</td>\n",
       "      <td>NaN</td>\n",
       "      <td>3.0</td>\n",
       "      <td>False</td>\n",
       "      <td>2.0</td>\n",
       "    </tr>\n",
       "    <tr>\n",
       "      <th>62</th>\n",
       "      <td>65</td>\n",
       "      <td>5</td>\n",
       "      <td>7</td>\n",
       "      <td>185.0</td>\n",
       "      <td>100.0</td>\n",
       "      <td>Rumah</td>\n",
       "      <td>3.500000e+09</td>\n",
       "      <td>True</td>\n",
       "      <td>dijual murah rumah siap huni di tebet utara - ...</td>\n",
       "      <td>Tebet</td>\n",
       "      <td>True</td>\n",
       "      <td>False</td>\n",
       "      <td>False</td>\n",
       "      <td>NaN</td>\n",
       "      <td>3.0</td>\n",
       "      <td>False</td>\n",
       "      <td>2.0</td>\n",
       "    </tr>\n",
       "    <tr>\n",
       "      <th>71</th>\n",
       "      <td>74</td>\n",
       "      <td>5</td>\n",
       "      <td>5</td>\n",
       "      <td>140.0</td>\n",
       "      <td>158.0</td>\n",
       "      <td>Rumah</td>\n",
       "      <td>3.950000e+09</td>\n",
       "      <td>True</td>\n",
       "      <td>rumah modern minimalis dalam cluster area bint...</td>\n",
       "      <td>Pesanggrahan</td>\n",
       "      <td>True</td>\n",
       "      <td>False</td>\n",
       "      <td>True</td>\n",
       "      <td>NaN</td>\n",
       "      <td>4.0</td>\n",
       "      <td>False</td>\n",
       "      <td>2.0</td>\n",
       "    </tr>\n",
       "  </tbody>\n",
       "</table>\n",
       "</div>"
      ],
      "text/plain": [
       "    index  kamar_mandi  kamar  ...  floors_total    gym floors_total_new\n",
       "12     13            5      5  ...           8.0  False              2.0\n",
       "14     15            4      3  ...           8.0  False              2.0\n",
       "60     63            5      6  ...           3.0  False              2.0\n",
       "62     65            5      7  ...           3.0  False              2.0\n",
       "71     74            5      5  ...           4.0  False              2.0\n",
       "\n",
       "[5 rows x 17 columns]"
      ]
     },
     "execution_count": 89,
     "metadata": {},
     "output_type": "execute_result"
    }
   ],
   "source": [
    "# df.info()\n",
    "df[df['floors_total'] != df['floors_total_new']].head()"
   ]
  },
  {
   "cell_type": "code",
   "execution_count": 90,
   "metadata": {},
   "outputs": [
    {
     "data": {
      "text/plain": [
       "'shm 2 lantai ruang kerja ruang musik dapur bersih luas dapur kotor sangat luas ruang keluarga sangat besar 2 ruang tamu listrik 10.000 taman luas ada space buat bikin pool rumah hook lokasi tenang dekat ke toll desari'"
      ]
     },
     "execution_count": 90,
     "metadata": {},
     "output_type": "execute_result"
    }
   ],
   "source": [
    "df[df['floors_total'] != df['floors_total_new']].iloc[0]['deskripsi']"
   ]
  },
  {
   "cell_type": "code",
   "execution_count": 91,
   "metadata": {},
   "outputs": [],
   "source": [
    "df['floors_total_new'] = df['floors_total_new'].astype(int)"
   ]
  },
  {
   "cell_type": "markdown",
   "metadata": {},
   "source": [
    "#### CLeaning kolom `listrik`\n",
    "- Drop null values\n",
    "- Drop data with electricity values $-1$ and $0$\n",
    "- Data akan dibatasi untuk rumah dengan daya minimal 1000\n",
    "- Banyak data yang nilai di kolom `electricity` tidak sesuai dengan nilai di deskripsi. Solusinya?"
   ]
  },
  {
   "cell_type": "code",
   "execution_count": 92,
   "metadata": {},
   "outputs": [
    {
     "name": "stdout",
     "output_type": "stream",
     "text": [
      "<class 'pandas.core.frame.DataFrame'>\n",
      "Int64Index: 20169 entries, 0 to 24660\n",
      "Data columns (total 17 columns):\n",
      " #   Column            Non-Null Count  Dtype  \n",
      "---  ------            --------------  -----  \n",
      " 0   index             20169 non-null  int64  \n",
      " 1   kamar_mandi       20169 non-null  int64  \n",
      " 2   kamar             20169 non-null  int64  \n",
      " 3   lb                20169 non-null  float64\n",
      " 4   lt                20169 non-null  float64\n",
      " 5   tipe_property     20169 non-null  object \n",
      " 6   price             20169 non-null  float64\n",
      " 7   sertifikat        20169 non-null  bool   \n",
      " 8   deskripsi         20169 non-null  object \n",
      " 9   lokasi            20169 non-null  object \n",
      " 10  ada_garasi        20169 non-null  bool   \n",
      " 11  pool              20169 non-null  bool   \n",
      " 12  taman             20169 non-null  bool   \n",
      " 13  electricity       19531 non-null  float64\n",
      " 14  floors_total      20169 non-null  float64\n",
      " 15  gym               20169 non-null  bool   \n",
      " 16  floors_total_new  20169 non-null  int64  \n",
      "dtypes: bool(5), float64(5), int64(4), object(3)\n",
      "memory usage: 2.1+ MB\n"
     ]
    }
   ],
   "source": [
    "df.info()"
   ]
  },
  {
   "cell_type": "code",
   "execution_count": 93,
   "metadata": {},
   "outputs": [
    {
     "data": {
      "text/plain": [
       "count    1.953100e+04\n",
       "mean     7.456170e+03\n",
       "std      3.149973e+05\n",
       "min     -1.000000e+00\n",
       "25%      1.300000e+03\n",
       "50%      2.200000e+03\n",
       "75%      4.400000e+03\n",
       "max      4.400350e+07\n",
       "Name: electricity, dtype: float64"
      ]
     },
     "execution_count": 93,
     "metadata": {},
     "output_type": "execute_result"
    }
   ],
   "source": [
    "df['electricity'].describe()"
   ]
  },
  {
   "cell_type": "code",
   "execution_count": 94,
   "metadata": {},
   "outputs": [
    {
     "data": {
      "text/plain": [
       "2200.0        6437\n",
       "0.0           2861\n",
       "3500.0        1796\n",
       "1300.0        1724\n",
       "4400.0        1326\n",
       "              ... \n",
       "55004.0          1\n",
       "88004.0          1\n",
       "22002.0          1\n",
       "44005.0          1\n",
       "44003500.0       1\n",
       "Name: electricity, Length: 152, dtype: int64"
      ]
     },
     "execution_count": 94,
     "metadata": {},
     "output_type": "execute_result"
    }
   ],
   "source": [
    "df['electricity'].value_counts()"
   ]
  },
  {
   "cell_type": "code",
   "execution_count": 95,
   "metadata": {},
   "outputs": [],
   "source": [
    "df.dropna(subset=['electricity'], inplace=True)"
   ]
  },
  {
   "cell_type": "code",
   "execution_count": 96,
   "metadata": {},
   "outputs": [
    {
     "name": "stdout",
     "output_type": "stream",
     "text": [
      "<class 'pandas.core.frame.DataFrame'>\n",
      "Int64Index: 19531 entries, 341 to 24660\n",
      "Data columns (total 17 columns):\n",
      " #   Column            Non-Null Count  Dtype  \n",
      "---  ------            --------------  -----  \n",
      " 0   index             19531 non-null  int64  \n",
      " 1   kamar_mandi       19531 non-null  int64  \n",
      " 2   kamar             19531 non-null  int64  \n",
      " 3   lb                19531 non-null  float64\n",
      " 4   lt                19531 non-null  float64\n",
      " 5   tipe_property     19531 non-null  object \n",
      " 6   price             19531 non-null  float64\n",
      " 7   sertifikat        19531 non-null  bool   \n",
      " 8   deskripsi         19531 non-null  object \n",
      " 9   lokasi            19531 non-null  object \n",
      " 10  ada_garasi        19531 non-null  bool   \n",
      " 11  pool              19531 non-null  bool   \n",
      " 12  taman             19531 non-null  bool   \n",
      " 13  electricity       19531 non-null  float64\n",
      " 14  floors_total      19531 non-null  float64\n",
      " 15  gym               19531 non-null  bool   \n",
      " 16  floors_total_new  19531 non-null  int64  \n",
      "dtypes: bool(5), float64(5), int64(4), object(3)\n",
      "memory usage: 2.0+ MB\n"
     ]
    }
   ],
   "source": [
    "df.info()"
   ]
  },
  {
   "cell_type": "code",
   "execution_count": 97,
   "metadata": {},
   "outputs": [
    {
     "data": {
      "text/plain": [
       " 0.0      2861\n",
       "-1.0       120\n",
       " 900.0      52\n",
       " 130.0      33\n",
       " 220.0       4\n",
       " 2.0         4\n",
       " 55.0        3\n",
       " 11.0        3\n",
       " 3.0         3\n",
       " 450.0       3\n",
       " 35.0        2\n",
       " 1.0         2\n",
       " 5.0         2\n",
       " 16.0        2\n",
       " 10.0        2\n",
       " 12.0        1\n",
       " 44.0        1\n",
       " 22.0        1\n",
       " 660.0       1\n",
       " 42.0        1\n",
       " 30.0        1\n",
       " 350.0       1\n",
       " 165.0       1\n",
       " 770.0       1\n",
       " 63.0        1\n",
       " 244.0       1\n",
       " 90.0        1\n",
       " 33.0        1\n",
       " 330.0       1\n",
       " 230.0       1\n",
       " 6.0         1\n",
       "Name: electricity, dtype: int64"
      ]
     },
     "execution_count": 97,
     "metadata": {},
     "output_type": "execute_result"
    }
   ],
   "source": [
    "df[df['electricity']<1000]['electricity'].value_counts()"
   ]
  },
  {
   "cell_type": "code",
   "execution_count": 98,
   "metadata": {},
   "outputs": [],
   "source": [
    "df = df[df['electricity']>=1000]"
   ]
  },
  {
   "cell_type": "code",
   "execution_count": 99,
   "metadata": {},
   "outputs": [
    {
     "name": "stdout",
     "output_type": "stream",
     "text": [
      "<class 'pandas.core.frame.DataFrame'>\n",
      "Int64Index: 16419 entries, 341 to 24660\n",
      "Data columns (total 17 columns):\n",
      " #   Column            Non-Null Count  Dtype  \n",
      "---  ------            --------------  -----  \n",
      " 0   index             16419 non-null  int64  \n",
      " 1   kamar_mandi       16419 non-null  int64  \n",
      " 2   kamar             16419 non-null  int64  \n",
      " 3   lb                16419 non-null  float64\n",
      " 4   lt                16419 non-null  float64\n",
      " 5   tipe_property     16419 non-null  object \n",
      " 6   price             16419 non-null  float64\n",
      " 7   sertifikat        16419 non-null  bool   \n",
      " 8   deskripsi         16419 non-null  object \n",
      " 9   lokasi            16419 non-null  object \n",
      " 10  ada_garasi        16419 non-null  bool   \n",
      " 11  pool              16419 non-null  bool   \n",
      " 12  taman             16419 non-null  bool   \n",
      " 13  electricity       16419 non-null  float64\n",
      " 14  floors_total      16419 non-null  float64\n",
      " 15  gym               16419 non-null  bool   \n",
      " 16  floors_total_new  16419 non-null  int64  \n",
      "dtypes: bool(5), float64(5), int64(4), object(3)\n",
      "memory usage: 1.7+ MB\n"
     ]
    }
   ],
   "source": [
    "df.info()"
   ]
  },
  {
   "cell_type": "code",
   "execution_count": 100,
   "metadata": {},
   "outputs": [
    {
     "name": "stdout",
     "output_type": "stream",
     "text": [
      "Jumlah data outliers pada kolom lb =  2182\n",
      "Jumlah data keseluruhan = 16419\n"
     ]
    }
   ],
   "source": [
    "# Handling Outliers Kolom electricity\n",
    "Q1 = df.describe()['electricity']['25%']\n",
    "Q3 = df.describe()['electricity']['75%']\n",
    "IQR = Q3 - Q1\n",
    "Upper_Fence = Q3 + (1.5 * IQR)\n",
    "Lower_Fence = Q1 - (1.5 * IQR)\n",
    "\n",
    "Out = df[(df['electricity'] < Lower_Fence) | (df['electricity'] > Upper_Fence)]\n",
    "print('Jumlah data outliers pada kolom lb = ', len(Out['electricity']))\n",
    "print('Jumlah data keseluruhan =', len(df))"
   ]
  },
  {
   "cell_type": "code",
   "execution_count": 101,
   "metadata": {},
   "outputs": [
    {
     "name": "stdout",
     "output_type": "stream",
     "text": [
      "Upper Fence : 10450.0\n"
     ]
    },
    {
     "data": {
      "text/plain": [
       "17049    44003500.0\n",
       "16697      440035.0\n",
       "15461      440022.0\n",
       "16315      350022.0\n",
       "16243      330001.0\n",
       "21578      220012.0\n",
       "13374      130022.0\n",
       "23006      130001.0\n",
       "21971      120001.0\n",
       "18963      110005.0\n",
       "20102       88004.0\n",
       "20251       85000.0\n",
       "21631       76000.0\n",
       "21544       76000.0\n",
       "13914       66005.0\n",
       "15550       66000.0\n",
       "16061       66000.0\n",
       "16279       66000.0\n",
       "15421       66000.0\n",
       "15240       66000.0\n",
       "21455       61000.0\n",
       "21469       61000.0\n",
       "22432       55504.0\n",
       "22448       55503.0\n",
       "21986       55005.0\n",
       "21904       55004.0\n",
       "15412       55003.0\n",
       "13656       55002.0\n",
       "20247       53000.0\n",
       "15989       53000.0\n",
       "22076       53000.0\n",
       "15813       53000.0\n",
       "15440       53000.0\n",
       "20257       44005.0\n",
       "22884       44000.0\n",
       "23544       41500.0\n",
       "23524       41500.0\n",
       "23529       41500.0\n",
       "23528       41500.0\n",
       "23527       41500.0\n",
       "23526       41500.0\n",
       "23525       41500.0\n",
       "23521       41500.0\n",
       "23523       41500.0\n",
       "23522       41500.0\n",
       "23531       41500.0\n",
       "23520       41500.0\n",
       "23519       41500.0\n",
       "23518       41500.0\n",
       "23530       41500.0\n",
       "Name: electricity, dtype: float64"
      ]
     },
     "execution_count": 101,
     "metadata": {},
     "output_type": "execute_result"
    }
   ],
   "source": [
    "print(f'Upper Fence : {Upper_Fence}')\n",
    "df[(df['electricity'] > Upper_Fence)]['electricity'].sort_values(ascending=False)[:50]"
   ]
  },
  {
   "cell_type": "code",
   "execution_count": 102,
   "metadata": {},
   "outputs": [
    {
     "data": {
      "text/plain": [
       "2182"
      ]
     },
     "execution_count": 102,
     "metadata": {},
     "output_type": "execute_result"
    }
   ],
   "source": [
    "df[(df['electricity'] > Upper_Fence)]['electricity'].count()"
   ]
  },
  {
   "cell_type": "code",
   "execution_count": 103,
   "metadata": {},
   "outputs": [
    {
     "data": {
      "text/plain": [
       "744"
      ]
     },
     "execution_count": 103,
     "metadata": {},
     "output_type": "execute_result"
    }
   ],
   "source": [
    "df[(df['electricity'] >= 40_000)]['electricity'].count()"
   ]
  },
  {
   "cell_type": "code",
   "execution_count": 104,
   "metadata": {},
   "outputs": [
    {
     "data": {
      "text/plain": [
       "'jual cepat rumah murah 2 lantai siap huni luas 149m type 3kt di grand malaka rorotan jakarta utara  rumah bagus bangunan baru harga miring lokasi startegis bebas banjir lingkungan aman dan nyaman  bangunan 2 lantai luas tanah : 149 m2 luas bangunan : 230 m2 kamar tidur : 3 kamar mandi : 5 hadap : timur listrik : 1300 watt carport : 2 mobil sertifikat : shm  harga jual : rp 1.65m  #jualrumah #rumahmurah #kpr #jual #rumah #tanah #kavling #pabrik #ruko #gudang #perkantoran #kantor #apartemen #properti #property #jabodetabek #remax #lolita  more info : lolita re/max premier jgc boulevard hp :  wa :   websites:  https://www.lamudi.co.id/remax-premier-1/'"
      ]
     },
     "execution_count": 104,
     "metadata": {},
     "output_type": "execute_result"
    }
   ],
   "source": [
    "df[(df['electricity'] == 40_000)].iloc[5]['deskripsi']"
   ]
  },
  {
   "cell_type": "code",
   "execution_count": 105,
   "metadata": {},
   "outputs": [
    {
     "data": {
      "text/plain": [
       "'bekas pakai, gang 1 motorcocok dijadikan kontrakan /kosan2 lantai, semi furnishedluas tanah 60 (9x7.5)luas bangunan 120air pamlistrik 2200 wattsertikat shmhadap barat\\nfeature :bebas banjir10 menit / 500m jalan kaki stasiun sentiong10 menit dari fk ui salemba10 menit dari lokasi perkantoran salemba / pramuka'"
      ]
     },
     "execution_count": 105,
     "metadata": {},
     "output_type": "execute_result"
    }
   ],
   "source": [
    "df[(df['electricity'] == 10_000)].iloc[0]['deskripsi']"
   ]
  },
  {
   "cell_type": "code",
   "execution_count": 106,
   "metadata": {},
   "outputs": [
    {
     "data": {
      "text/plain": [
       "'wts rumah area serdang, kemayoran, jakarta pusatlt : +- 148lb : +- 100surat-surat shmparkir mobil muat 2 di dalam dan 1 di luar gerbangjalan depan rumah +- 6 mtr (jalan 2 mobil)taman kecil di belakang3 kamar tidur2 kamar mandilistrik 2300 watt,pdam, jet pump, toren airlokasi sangat strategisdekat itc cempaka masdekat ji expo / prjbangunan full renovasi 2014dekat tol dalam kota dan tol jor\\nharga 3 m\\nhubungin :mei\\n\\xa0\\nfr'"
      ]
     },
     "execution_count": 106,
     "metadata": {},
     "output_type": "execute_result"
    }
   ],
   "source": [
    "df[(df['electricity'] == 10_000)].iloc[1]['deskripsi']"
   ]
  },
  {
   "cell_type": "code",
   "execution_count": 107,
   "metadata": {
    "jupyter": {
     "outputs_hidden": true
    }
   },
   "outputs": [
    {
     "name": "stdout",
     "output_type": "stream",
     "text": [
      "13500.0\n",
      "promo wish for home the elements apartment 2021 : 15% lebih ringan* | insentif huni 5%* | ready to move in* | foreigners are eligible to buy* | cara bayar (hard cash/kpa express, installment 12x) | semi furnished* (periode 6 maret - 30 juni 2021)\n",
      "*s&k berlaku\n",
      "the elements apartment tipe 3 br merupakan tipe apartemen eksklusif yang terletak di kawasan kuningan, jakarta selatan. tipe ini dilengkapi dengan 3 kamar tidur, 2 kamar mandi, 1 kamar tidur pembantu, 1 kamar mandi pembantu, ruang tamu, ruang makan, dapur dan balkon. tipe 3 br memiliki luas bangunan yang bervariasi antara nett area 119 m2 - 148 m2 didukung dengan kapasitas listrik 13.500 watt dan didalamnya terdapat dry kitchen, wardrobe, dan ac split. sementara itu, untuk kamar mandinya sendiri dilengkapi dengan fasilitas air panas dan full marmer. harga mulai dari rp. 5.200.000.000.\n",
      "the elements apartment kuningan sangat cocok untuk anda yang memiliki mobilitas tinggi dalam beraktivitas dan juga ingin memiliki hunian eksklusif yang terintegrasi langsung dengan epicentrum walk.\n",
      "keunggulan dari the elements apartment kuningan, jakarta\n",
      "lokasi sangat strategis terletak di kawasan premium kuningan, jakarta selatan.\n",
      "  berada dalam kawasan pusat bisnis cbd rasuna kuningan.\n",
      "  hunian eksklusif dengan fasilitas lengkap.\n",
      "  developer handal terpercaya sinar mas land\n",
      "  siap huni dan disewakan.\n",
      "  spacious layout design (desain layout yang luas)\n",
      "  semi furnished\n",
      "  investasi properti bernilai tinggi di kawasan jakarta selatan.\n",
      "fasilitas yang terdapat pada the elements apartment, yaitu :\n",
      "swimming pool (adult & children)\n",
      "  hydro bike in swimming pool\n",
      "  gym area\n",
      "  multi function exercise room\n",
      "  children playground\n",
      "  jacuzzi (whirl pool)\n",
      "  sauna\n",
      "  spa/massage\n",
      "  business centre / mini library\n",
      "  mailbox\n",
      "  mini market\n",
      "  function hall\n",
      "  receiving room\n",
      "  receptionist\n",
      "  parking \n",
      "  security\n",
      "====================================================================================================\n",
      "13500.0\n",
      "townhouse exclusive di selatan  bertempat di lokasi yang sangat strategis hanya hanya 5 - 15 menit menuju akses toll desari,  transmart cilandak, shelter busway ragunan, stasiun krl lenteng agung dan stasiun mrt fatmawati. dengan design menawan, lingkungan yang sejuk. kami hadirkan hunian berkualitas di area tod hanya untuk anda. selling point | fasilitas , row cluster 5 meter paving block 8 cm  guest parking area secutity 24 jam ( cctv ) sumur resapan ( buis beton ) green area dan controling drainase\n",
      "====================================================================================================\n",
      "13500.0\n",
      "lb140 kt4 km4 1.850.000.000 harag nego\n",
      "====================================================================================================\n",
      "13500.0\n",
      "rumah dalem cluster siap huni  3unit lagi  lt. : 116m lb. : 160m suratnya : shm kt. : 3+1 km: 4+1 watt : 2200 lebar dpn : 6,7m panjang ke blkng : 17m fasilitas apa saja tuk per_unitnya : carport 2 mobil, instalasi air panas, free kitchen set lebar jalan dpn : 5,5m harga jual : 2,7m\n",
      "====================================================================================================\n",
      "13500.0\n",
      "dijual murah rumah mewah di cluster grand mahakam residence 2 jagakarsa jakarta selatan  selling point :  - one gate system - security 24 jam - cctv - lokasi aman, tenang dan bebas banjir - akses jalan raya kahfi 2 - akses jalan 2 mobil - 5 menit ke stasiun lenteng agung  rumah 2 lantai ( unit pojokkan )  luas tanah 130 m2 luas bangunan 180 m2  kamar tidur 4+1 kamar mandi 4+1  carport 3 mobil  - taman depan & taman belakang - kolam ikan - listrik 2.200 watt - ruang makan dan ruang keluarga - ruang cuci jemur - air tanah sumur bor jet pump - shm, imb, pbb  harga 2,5 m nego cash & kpr  utk info hub : agus supriyanto tlp/wa || instagram @rumaindoaja\n",
      "====================================================================================================\n",
      "13500.0\n",
      "lt 555/527m2, lokasi : depan mcd, zona c1 > zona campuran bs utk usaha apa saja dan bs di bangun 3 lantai..\n",
      "====================================================================================================\n",
      "13500.0\n",
      "rumah baru full bata merahshm +imb lengkap dalem clusterbonus kitcent setharga negofull bata merah\n",
      "====================================================================================================\n",
      "13500.0\n",
      "terletak   di daerah tenang cilandak. lokasi hanya 5 menit ke tol simatupang, daerah   bisnis simatupang, daerah kuliner citos mall, cipete raya, cilandak sports   center, kolam renang. harga bagus dan nego.\n",
      "====================================================================================================\n",
      "13500.0\n",
      "lt 970/700m2, lokasi : dlm townhouse hnya ada 8 unit, deket ke kemang dan tb. simatupang\n",
      "====================================================================================================\n",
      "13500.0\n",
      "the loggia apartment tipe 1+1 bedroom merupakan tipe apartemen compact dan fungsional yang dilengkapi dengan 1+1 kamar tidur, 1 kamar mandi, ruang keluarga, ruang makan, dapur, dan balkon. tipe 1+1 bedroom memiliki luas bangunan yang bervariasi antara sga 65,4 m2 – 66,3 m2. harga untuk tipe ini mulai dari rp. 1.800.000.000. tersedia juga pilihan furnished unit dengan elemen desain daybed dan foldable table, serta white label unit dengan bare finish yang memberikan kebebasan mendesain sendiri ruang apartemen anda.\n",
      "keunggulan dari the loggia apartment\n",
      "joint venture pengembang terpercaya indonesia dan jepang.\n",
      "  konsep desain ruang compact dan efisien khas jepang, dengan 25% ekstra ruang penyimpanan.\n",
      "  kualitas desain karya arsitek inggris, lansekap amerika dan desain interior jepang.\n",
      "  fasilitas lengkap dengan standar resort.\n",
      "  lokasi strategis di kawasan pancoran, jakarta selatan.\n",
      "  5 menit menuju rs siloam asri, sampoerna academy.\n",
      "  15 menit menuju sudirman cbd, lingkar mega kuningan, tb simatupang, kemang village, kota kasablanka.\n",
      "fasilitas yang terdapat pada the loggia apartment, yaitu:\n",
      "gymnasium\n",
      "  business center\n",
      "  function room\n",
      "  movie room\n",
      "  club house\n",
      "  game room\n",
      "  reading room\n",
      "  swimming pool\n",
      "  kids pool\n",
      "  bbq area\n",
      "  outdoor playground\n",
      "  outdoor terrace\n",
      "  multi-function field\n",
      "  sun deck\n",
      "  sky garden\n",
      "  drop off area\n",
      "  bike corner\n",
      "di sekitar lokasi:\n",
      "sampoerna academy\n",
      "  tugu pancoran\n",
      "  rs brawijaya & rs siloam asri\n",
      "  stasiun duren kalibata\n",
      "  graha sucofindo\n",
      "  pasar tebet barat\n",
      "  green montessori school\n",
      "====================================================================================================\n",
      "13500.0\n",
      "sisa 5 unit ready !! rumah mewah jakarta type 118/132 paling terjangkau jl. raya lenteng agung , srengseng sawah , jagakarsa ,  jakarta selatan * harga : rp. 2.609.000.000 nego * legalitas : shm, imb dan pbb * spesifikasi : - l. tanah : 118 m2 - l. bangunan : 132 m2 - k. tidur : 4 - k. mandi : 3 - bangunan : 2 lantai - listrik : 2200 watt - sumber air : jetpump - carport : 2 mobil - hadap : timur - kondisi : baru - proyek : tahun 2020 * cash atau kpr siap dibantu sampai selesai. * lokasi strategis : - bebas banjir - dekat jalan angkot - dekat sarana pendidikan - dekat sarana kesehatan rs - dekat pasar tradisional - dekat stasiun kereta berminat dan ingin survey, hubungi : husni thamrin   terima kasih.\n",
      "====================================================================================================\n",
      "13500.0\n",
      "miliki segera!! harga perdana!! bonus : 3 unit ac, water heater, kitchen set, kompor tanam satu-satunya townhouse di cilandak jakarta selatan dengan harga paling murah dan berkualitas, buktikan sendiri!!! townhouse termurah dan exclusive dengan lokasi sangat strategis di cilandak, jakarta selatan. dengan konsep urban luxury modern. hanya 5 menit ke mrt, citos, toll jorr simatupang, rs fatmawati dan 10 menit ke mal pondok indah unit terbatas !! bebas banjir, cocok untuk hunian dan investasi terletak di pusat kota jakarta, lokasi sangat strategis dan akses yang sangat mudah seperti : - 5 menit ke stasiun mrt - 5 menit ke tol jorr tb simatupang - 5 menit ke fatmawati - 5 menit ke citos - 10 menit ke mal pondok indah spesifikasi : - luas tanah mulai : 90 m2 - 136 m2 - luas bangunan mulai : 150 m2 - 200 m2 - design high ceiling - bangunan : 3 lantai - kamar tidur : 3 + 1 - kamar mandi : 3 + 1 - ruang tamu, ruang keluarga, dapur, taman depan dan taman belakang - carport 2 mobil - one gate system - keamanan/security 24 jam harga sudah termasuk ppn, shm, imb, listrik 3300 watt, pompa air jet pump, 1 line telepon cara bayar sangat fleksibel : *bisa cash keras, cash bertahap dan kpr *promo bunga untuk kpr *promo free ac 3 unit, kitchen set, water heater, kompor tanam *promo diskon menarik unit terbatas !! ayoo.. pilih unit anda sebelum kehabisan !! hubungi marketing : usmar  (wa)\n",
      "====================================================================================================\n",
      "13500.0\n",
      "apartemen southgate prime tower\n",
      "japanese quality apartment\n",
      "*_when urban luxury meets green living_*\n",
      "a joint venture project by sinar mas land, itochu & keikyu\n",
      "why southgate prime tower??\n",
      "\n",
      "1. dikembangkan oleh developer terpercaya di indonesia: sinar mas land \n",
      "2. superblok konsep seluas 5,4 ha\n",
      "3. dikelilingi oleh area terbuka hijau seluas 60% dari total area , serta dilengkapi dengan 25 fasilitas premium\n",
      "4. lokasi strategis:\n",
      "5. spesifikasi mewah menggunakan\n",
      "6. akses langsung ke aeon mall jakarta selatan\n",
      "8. bangunan sudah berdiri\n",
      "9. sangat baik untuk investasi sewa\n",
      "\n",
      "hanya 3 menit ke akses tol\n",
      "5 menit ke tb simatupang\n",
      "10 menit ke lebak bulus\n",
      "15 menit ke pondok indah\n",
      "20 menit ke kuningan\n",
      "25 menit ke scbd\n",
      "\n",
      "\n",
      "pilihan unit:pilihan unit:\n",
      "studio (30m2)\n",
      "1 br + study room (68m2)\n",
      "2 br (95)\n",
      "2 br + maid (private lift) (122m2)\n",
      "3 br + maid (private lift) (161m2)\n",
      "\n",
      "pilih unit langsung\n",
      "unit terbatas\n",
      "====================================================================================================\n",
      "10500.0\n",
      "promo wish for home the elements apartment 2021 : 15% lebih ringan* | insentif huni 5%* | ready to move in* | foreigners are eligible to buy* | cara bayar (hard cash/kpa express, installment 12x) | semi furnished* (periode 6 maret - 30 juni 2021)\n",
      "*s&k berlaku\n",
      "the elements apartment tipe 2 br merupakan tipe apartemen dengan desain eksklusif dan elegan yang terletak di kawasan kuningan, jakarta selatan. tipe ini dilengkapi dengan 2 kamar tidur, 2 kamar mandi, 1 kamar tidur pembantu, 1 kamar mandi pembantu, ruang tamu, ruang makan, dapur, dan balkon. tipe 2 br memiliki luas bangunan yang bervariasi antara nett area 82 m2 - 107 m2 didukung dengan kapasitas listrik 10500 watt dan didalamnya terdapat dry kitchen, wardrobe, dan ac split duct. sementara itu, untuk kamar mandinya sendiri dilengkapi dengan fasilitas air panas dan full marmer. harga mulai dari rp. 4.000.000.000.\n",
      "the elements apartment kuningan sangat cocok untuk anda yang memiliki mobilitas tinggi dalam beraktivitas dan juga ingin memiliki hunian eksklusif yang terintegrasi langsung dengan epicentrum walk.\n",
      "keunggulan dari the elements apartment kuningan, jakarta\n",
      "lokasi sangat strategis terletak di kawasan premium kuningan, jakarta selatan.\n",
      "  berada dalam kawasan pusat bisnis cbd rasuna kuningan.\n",
      "  hunian eksklusif dengan fasilitas lengkap.\n",
      "  developer handal terpercaya sinar mas land\n",
      "  siap huni dan disewakan.\n",
      "  spacious layout design (desain layout yang luas)\n",
      "  semi furnished\n",
      "  investasi properti bernilai tinggi di kawasan jakarta selatan.\n",
      "fasilitas yang terdapat pada the elements apartment, yaitu :\n",
      "swimming pool (adult & children)\n",
      "  hydro bike in swimming pool\n",
      "  gym area\n",
      "  multi function exercise room\n",
      "  children playground\n",
      "  jacuzzi (whirl pool)\n",
      "  sauna\n",
      "  spa/massage\n",
      "  business centre / mini library\n",
      "  mailbox\n",
      "  mini market\n",
      "  function hall\n",
      "  receiving room\n",
      "  receptionist\n",
      "  parking \n",
      "  security\n",
      "====================================================================================================\n",
      "10500.0\n",
      "apartemen southgate prime tower japanese quality apartment  *_when urban luxury meets green living_*  a joint venture project by sinar mas land, itochu & keikyu  why southgate prime tower??  1. dikembangkan oleh developer terpercaya di indonesia: sinar mas land bekerjasama dengan itochu dan keikyu. 2. superblok konsep seluas 5,4 ha  3. dikelilingi oleh area terbuka hijau seluas 60% dari total area , serta dilengkapi dengan 25 fasilitas premium 4. lokasi strategis: 5. spesifikasi mewah menggunakan  6. akses langsung ke aeon mall jakarta selatan 7. eksklusif hanya 7 unit/ lantai, dengan private lift 8. bangunan sudah berdiri 9. sangat baik untuk investasi sewa  hanya 3 menit ke akses tol 5 menit ke tb simatupang 10 menit ke lebak bulus 15 menit ke pondok indah 20 menit ke kuningan 25 menit ke scbd  pilihan unit: 1 br + study room 2 br  2 br + maid (private lift) 3 br + maid (private lift)  pilih unit langsung  unit terbatas\n",
      "====================================================================================================\n",
      "10500.0\n",
      "petukangan utara adalah kelurahan di kecamatan pesanggrahan jakarta selatan, kelurahan ini berbatasan dengan kelurahan joglo di sebelah utara, kelurahan ulujami disebelah timur dan kelurahan petukangan selatan di sebalah selatan. rumah ini dibangun diatas lahan 428 meter persegi, dengan luas bangunan 356 meter persegi, 2 lantai, dengan konsep design rumah modern, terdiri dari 4 kamar tidur, dimana setiap kamar tidur dilengkapi kamar mandi di dalam, 1 ruang kerja, lantai marmer, 2 kamar pembantu, garasi 2 mobil, carport 2 mobil, listrik 11.000 w, sertifikat hak milik, orientasi utara lokasi strategis : dekat gerbang pintu toll : ø joglo 1 : toll lingkar luar (kembangan ulujami) ø joglo 2 : toll lingkar luar (jakarta barat) ø joglo 3 : toll lingkar luar (ulujami kembangan) ø ciledug 1 : toll (jakarta bintaro serpong bandara soeta tb. simatupang ø ciledug 2 : toll lingkar luar jakarta selatan dekat moda transportasi: ø trans jakarta (budi luhur blok m tv trans (gatot soebroto mt. haryono sudirman) ø stasiun kereta commuter line kebayoran lama dekat kawasan pusat perbelanjaan (mall) ø bellezza permata hijau (shoping arkade) ø plaza senayan asia afrika ø itc cipulir mas sentra boutique dekat perguruan tinggi: ø universitas budi luhur ø universitas tanri abeng\n",
      "====================================================================================================\n",
      "10500.0\n",
      "surat rumah: shm.  luas tanah: 147 meter2.  luas bangunan: 250 meter2, 2 lantai.  air: pam.  listrik: pln, 6600 va.  lokasi: jl. keuangan  cilandak,cilandak barat. fatmawati, jak sel, dibelakang gedung pasar mede dan total buah segar  lantai 1:  ruang tamu.  ruang makan.  ruang keluarga.  ruang dapur.   ruang tidur pembantu rt ruang garasi mobil.  ruang tidur ada kamar mandi dan wc tersendiri.  ruang wc tamu.   lantai 2:  ruang tunggu.  kamar tidur, 2 kamar.  ruang penyimpanan buku.  ruang wc dan kamar mandi.  ruang wc dan kamar mandi utk pembantu rt.  ruang teras jemuran (kecil)  ruang teras besar.   harga rp. 3,900,0000,000\n",
      "====================================================================================================\n",
      "10500.0\n",
      "dijual apartemen 3 kamar ready @ myhome ascott residences ciputra world 1 jakarta, kuningan, setiabudi, jakarta selatan  location : @ ascott residences (my home), ciputra world 1 jakarta,  jl. prof. dr. satrio no.kav 3 5, kuningan, karet kuningan, setiabudi, jakarta selatan, daerah khusus ibukota jakarta 12940  additional info: - mixed used development : hotel raffles jakarta, ascott residences, lotte shopping mall, dbs tower (ciputra world 1 jakarta); newton 1 & 2, the residences, apartment orchard, tokopedia tower (ciputra world 2 jakarta) - akan di-bangun ciputra world 3 jakarta - dekat mall kuningan city - dekat perkantoran & kantor-kantor embassy specification: 182 sqm | 3 beds | 3 baths | 1 maid | high floor sertificate strata title. harga rp. 8,500,000,000.-   please call: widia winoto\n",
      "====================================================================================================\n",
      "10500.0\n",
      "luas bangunan kurang lbh 200 + 250 m. satu lantai.. - luas tanah 400m kmr tdr 4 sm kmr pembantu. kmr utama ada kmr mandi di dlm bathtub, toilet wastafel marmer..  jati asli.   listrik 7700 ada air   panas...air tanah bagus..  garasi muat 5-6 mobil  - ornamen yg nempel di tembok gk di lepas.... kecuali lampu kristal, tv di lepas.   deket sekolah dekat mall dekat rmh sakit mayapada rs cinere rs fatmawatidekat ke citos air tanah bagus..  catatan  kaga terima cobrok sesama marketing\n",
      "====================================================================================================\n",
      "10500.0\n",
      "rdo 2343rjrumah mewah megah full furnish dengan kolam renang di kahfi 1 jagakarsa jakarta selatanlokasi bebas banjir dan akses jalan 2 mobil spesifikasi :lt/lb : 169/250kt/km : 4+2/3+1lantai : 2surat : shm imb pbbair : jetpamlistrik : 2200fasilitas rumah : carport, torren, pagar, kitchen set, tv, microwave, kompor, kulkas, mesin cucifurnitur ruang keluargafurnitur ruang tamufurnitur ruang keluargafurnitur kamarbasementakses : 2 mobilstatus : indent (bisa custom)tipe : non clusterunit tersedia : 2total unit keseluruhan : 2tahun pembangunan : 2020 sale point :5 menit ke gerbang tol brigif5 menit ke taman tabebuya10 menit ke ragunan10 menit ke tb simatupang15 menit ke stasiun lenteng agung10 menit ke rsud jagakarsa15 menit ke cilandak town square informasi dan konsultasitelepon dan whatsapp untuk fast responharap konfirmasi h-1 untuk jadwal survey ke lokasi hubungi kamiamanah propertyagent spesialis jakarta timur, jakarta selatan dan depok kenapa harus membeli rumah melalui amanah property ? legalitas rumah lengkap dan aman kpr kami bantu proses sampai akad memiliki legalitas resmi (cv) memiliki tim marketing profesional yang tersertifikasi menyediakan interior berkualitas dengan harga terjangkau menyediakan konstruksi bangunan rumah dengan harga terjangkau menyediakan taman, kanopi, pagar, teralis, dan kolam renang\n",
      "====================================================================================================\n",
      "10500.0\n",
      "dijual apartemen lavenue pancoran (semi furnish standar developer)  south tower kt 2+1 lb 104 lantai sedang  fasilitas: free parking 1 mobil kolam renang publik area jacuzzi fitnes center sauna\n",
      "====================================================================================================\n",
      "10500.0\n",
      "rumah di pinggir jl raya polatangan. lokasi strategis akses mudah rumah di pinggir jalan poltangan raya . lokasi strategis dan akses kendaraan mudah. daerah komersial. investasi bagus, manfaatkan kesempatan berharga ini untuk investasikan uang anda, bisa dijadikan alfamart/indomart , rumah toko (ruko) di daerah tersebut. akses jalan tol yang mudah dijangkau tersedia tol tb simatupang-tanjung barat. surat menyurat : surat sertifikat hak milik (shm) spesifikasi rumah : lt : 701 m2 lb :  500 m2 k.tidur : 5 ( 3 ac) k.mandi : 2 + 1 r.tamu r. keluarga dan r.makan dapur (pluss kitchen set) gudang/ruang belakang kamar pembantu : 2 carpot : 6 mobil full keramik listrik : 2200 watt air : sumur (pluss jetpump) harga : rp. 6,5 miliar (nego) siap untuk diinspeksi !!!\n",
      "====================================================================================================\n",
      "10500.0\n",
      "siapa cepat dia dapat!! unit terbatas!! rumah ready stok, merupakan phase terbaru dalam cluster mewah, strategis, termurah di jakarta selatan, hanya selangkah ke pintu tol jorr. di design exclusive dengan konsep modern elegant dengan kualitas material terbaik, sirkulasi udara dan pencahayaan dalam rumah sangat bagus. unit terbatas !! bebas banjir, terletak di jakarta selatan, lokasi sangat strategis, lingkungan aman, nyaman dan tenang. akses yang sangat mudah seperti : - 5 menit ke tol jorr - 10 menit ke mrt - 10 menit ke mal pondok indah dikelilingi berbagai pusat perbelanjaan, pusat perkantoran tb simatupang, cilandak dan pondok indah, sekolah, perbankan, pusat perdagangan, pusat kuliner, tempat ibadah, rumah sakit dll - luas tanah : 131 m2 - luas bangunan : 273 m2 - bangunan : 3 lantai - kamar tidur : 4 + 1 - kamar mandi : 3 + 1 - ruang tamu, ruang keluarga, dapur, taman depan dan belakang - carport 2 mobil - one gate system - keamanan/security 24 jam - fasilitas swiming pool cluster harga sudah termasuk shm, imb, listrik 4400 watt, pompa air jet pump, 1 line telepon, instalasi ac, instalasi air panas, jaringan tv kabel dan internet cara bayar sangat fleksibel : *bisa cash keras, cash bertahap dan kpr *promo harga perdana *promo free ac atau tv led unit terbatas !! jangan lewatkan harga perdana dan promo menarik ayoo.. pilih unit anda sebelum kehabisan !! ubungi marketing : usmar  (wa)\n",
      "====================================================================================================\n",
      "10500.0\n",
      "signature park grande apartemen premium di jakarta siap huni - dibangun diatas lahan 5,5 ha terluas di kawasan premium mt haryono - legalitas terjamin - developer pikko group - kontraktor pulau intan - fasilitas super lengkap - memiliki dua akses utama, jln mt haryono dan jln dewi sartika - lokasi sangat strategis berada di segitiga emas jakarta - terintegrasi dgn transportasi umum (walking distance)    5 mnt ke stasiun lrt    4 mnt ke koridor busway    10 mnt ke stasiun krl commuterline - 10 mnt ke bandara halim perdanakusuma - 1 mnt ke pintu tol dalam kota - 10 mnt ke cbd kuningan - 15 mnt ke cbd sudirman - 15 mnt ke scbd - senayan   promo april 2021 - free ac* - free water heater - free service charge* kpa bank promo tanpa dp (dp 0%) cicilan mulai 8 juta-an anda sudah bisa memiliki unit apartment siap huni bisa langsung ditempati atau disewakan. tersedia type unit premium *)harga mulai 600 juta-an - type studio uk. 26,54 sqm - type 1 bedroom uk. 35,24 sqm - type 2 bedroom uk. 49,29 sqm segera hubungi misbah marketing representatif signature park grande dijamin dapat harga & promo terbaik\n",
      "====================================================================================================\n",
      "10500.0\n",
      "ingin punya apartemen ciamik di jakarta selatan !!  pondok indah residences merupakan persembahan master piece dari developer pondok indah grup.  konsep superblock dan one stop living dari pondok indah residences didukung oleh fasilitas sbb :  * private lobby  * reservasi parking 2 lot per unit  * swimming pool standart olympic  * kiddie pool  * covered pool  * gym dan sauna    dikelilingi juga oleh pusat perbelanjaan, perkantoran dan sekolah international :   * mall pim 1 , 2 dan 3  * jis dan bakti mulya  *  pondok indah golf   * pondok indah financial tower    * limited unit for 3 bedroom corner ( best favorite unit )   apartemen dijual di pondok indah residences tower amala (free ajb/fully furnish)   / wa : ( indra )\n",
      "====================================================================================================\n",
      "21100.0\n",
      "promo verde two apartment juni 2020 : senior plan program (ready to move & discount available) | free service charge up to 1 year | free design consultation by lafioverde two apartment tipe 3 bedroom merupakan tipe apartemen yang dilengkapi dengan 3 kamar tidur, 3 kamar mandi, 1 kamar tidur pembantu, 1 kamar mandi pembantu, ruang tamu, ruang makan, dapur, foyer dan service area. tipe 3 bedroom memiliki luas bangunan sga 211 m2 – 230 m2 yang didukung dengan kapasitas listrik 21.100 watt. harga untuk tipe ini mulai dari rp. 10.410.000.000.5 alasan harus memiliki verde two apartmentlokasi strategis berada di cbd kuningan, jakarta selatan.high indoor air quality apartment in indonesia.hunian eksklusif dengan double private lift, unit terbatas (312 unit).dilengkapi dengan 25 fasilitas premium (indoor dan outdoor).potensi sewa dan investasi yang tinggi di kawasan perkantoran jakarta selatan.fasilitas yang tersedia dalam verde two apartment, yaitu :celebration paviliongentlemen’s parlourkids playroomgame loungeoutdoor terracehealth club & studio classtreatment room & saunarpm studiogrand porte cocheregrand lobbyjogging trackbbq pavilionsun deckchildren’s splash padmeeting room, theater roommeditation pavilionballroomlibrary\n",
      "====================================================================================================\n",
      "16500.0\n",
      "promo verde two apartment juni 2020 : senior plan program (ready to move & discount available) | free service charge up to 1 year | free design consultation by lafioverde two apartment tipe 2 bedroom merupakan tipe apartemen yang dilengkapi dengan 2 kamar tidur, 3 kamar mandi, 1 kamar tidur pembantu, 1 kamar mandi pembantu, ruang tamu, ruang makan, dapur dan service area. tipe 2 bedroom memiliki luas bangunan sga 171 m2 – 187 m2 yang didukung dengan kapasitas listrik 16.500 watt. harga untuk tipe ini mulai dari rp. 8.530.000.000.5 alasan harus memiliki verde two apartmentlokasi strategis berada di cbd kuningan, jakarta selatan.high indoor air quality apartment in indonesia.hunian eksklusif dengan double private lift, unit terbatas (312 unit).dilengkapi dengan 25 fasilitas premium (indoor dan outdoor).potensi sewa dan investasi yang tinggi di kawasan perkantoran jakarta selatan.fasilitas yang tersedia dalam verde two apartment, yaitu :celebration paviliongentlemen’s parlourkids playroomgame loungeoutdoor terracehealth club & studio classtreatment room & saunarpm studiogrand porte cocheregrand lobbyjogging trackbbq pavilionsun deckchildren’s splash padmeeting room, theater roommeditation pavilionballroomlibrary\n",
      "====================================================================================================\n",
      "16500.0\n",
      "promo wish for home southgate residence altuera tower 2021 : hanya bayar utj 15 juta langsung akad* | keringanan dp up to 15%* | insentif khusus 5%* | diskon up to 22%*| semi furnished* (periode 6 maret - 30 juni 2021)\n",
      "*s&k berlaku\n",
      "southgate altuera tower tipe studio merupakan tipe apartemen yang dilengkapi dengan 1 kamar tidur dan 1 kamar mandi. tipe ini memiliki luas bangunan 30 meter persegi yang dilengkapi dengan furniture yang modern dan nyaman, tipe studio sangat cocok bagi anda yang ingin memiliki hunian minimalis tetapi tetap mengusung konsep modern.\n",
      "keunggulan southgate residence\n",
      "lokasi strategis dari pusat komersial, bisnis, serta transportasi.\n",
      "  dibangun dengan konsep mixed used development.\n",
      "  memiliki fasilitas lengkap dan memadai.\n",
      "  dikembangkan oleh developer terpercaya serta berpengalaman, yaitu sinar mas land.\n",
      "  terdapat area terbuka hijau.\n",
      "  terintegrasi dengan commuter line, busway, dan gerbang tol.\n",
      "fasilitas yang terdapat dalam southgate altuera tower, yaitu :\n",
      "entrance porch\n",
      "  sauna lounge\n",
      "  outdoor/indoor gym\n",
      "  climbing wall\n",
      "  digital door viewer\n",
      "  barbeque patio\n",
      "  mini golf\n",
      "====================================================================================================\n",
      "16500.0\n",
      "- rumah sangat terawat - lokasi di jalan besar sangat mudah dijangkau transportasi umum, dekat sekali dengan stasiun tanjung barat  - area ini merupakan perbatasan jakarta selatan dan depok sehingga lokasi hunian sangat cocok untuk karyawan, mahasiswa dan keluarga  - akses mudah menuju perkantoran tb simatupang, sekolah dan pusat perbelanjaan di jakarta selatan - fasilitas: 6 unit ac, semi furnished, garasi 2 dan carport 2, kamar art dan kamar mandi terpisah, sertifikat shm\n",
      "====================================================================================================\n",
      "16500.0\n",
      "tanah kusir kebayoran lama jaksel  lt 131 sqm / lb 173 sqm kt : 2+1 km : 2+1 powder room : 1 carport : 1 garasi : 1 bangunan 3 lantai listrik 5500 watt shm semi furnished ada taman depan dan belakang 5 menit dari pintu tol tanah kusir 5 menit dari gandaria city mall 10 menit dari pondok indah mall 1 menit dari masjid raya nurul hidayah 1 menit dari rs. yadika bebas banjir  harga : 4,95 m (nego)\n",
      "====================================================================================================\n",
      "16500.0\n",
      "assalamualaikum wr wb... dijual rumah baru 3 lantai mewah dan menawan di menteng dalam tebet jakarta selatan  dengan spesifikasi luas tanah 130 luas bangunan 390 5 kamar tidur 6 kamar mandi 3 garasi mobil ruang tamu  ruang keluarga ruang makan  ruang entertaiment   kamar driver  kamar servant  kitchen ,pantry ,foyer  cctv 8 channel    listrik 3500 kwh  plapon drop sealling  roof deck garden view   legalitas shm imb pbb harga 5.9 milyar nego   minat hub bpk arso  bintara property  di :\n",
      "====================================================================================================\n",
      "16500.0\n",
      "hunian brand new siap huni ini berlokasi tidak jauh dari sekolah perancis dan pusat kuliner cipete raya. mengusung konsep minimalis namun tidak terlalu banyak ornamen yang disematkan secara berlebihan pada fasad membuat hunian ini memiliki charater mewah yang unik dan terasa down to earth. tidak tertutup kemungkinan pembeli rumah ini diberi keleluasaan untuk  mencurahkan kreativitasnya menghiasi fasad atas rumah ini.  mengapa harus memilih rumah ini : 1. lokasi 2. siap huni 3. akses mudah dicari 4. bebas dari banjir - terbukti 5. sirkulasi udara bagus - silahkan survey  6. harga ( termurah \"apple to apple\" dibanding dengan hunian memiliki lokasi serta luas sama )  spesifikasi atas hunian siap huni ini :  hunian : 3 lantai luas tanah : 200 m2 luas bangunan : 373 m2 kamar tidur : 4 + 2 kamar mandi : 4 + 1 garasi : 2 carport : 1 semi furnished hadap : matahari pagi  harga : 6.5 m  kunjungan :  andry -\n",
      "====================================================================================================\n",
      "16500.0\n",
      "rumah di depan taman mataram  tamannya salah satu yang paling indah di kebayoran baru.  lingkungannya sangat asri.  rumah tua, harga hanya hitung tanah saja luas tanah 647 m2 harga hanya 93 jt/ m2...pasaran di atas 110 jt/ m2 (paling murah di area ini) aset langka cocok untuk investasi, viewing by appointment.   marketing by era champion holly tjang (your personnel property consultant)\n",
      "====================================================================================================\n",
      "16500.0\n",
      "rumah kebagusan jakarta selatan dijual townhouse exclusive terdapat 7 unit rumah siap huni + 2 unit indent dengan design bangunan bernuansa classic yang terletak di daerah kebagusan jakarta selatan ___________________________________ spesifikasi : luas tanah mulai 161 meter - 232 meter luas bangunan mulai 221 meter - 290 meter kt 4+1 km 3+1 dapur kotor dan dapur bersih ruang tamu ruang keluarga dilantai dua ruang makan carport 2 mobil taman depan dan belakang listrik 4400 watt full furnished shm / imb / pbb ____________________________________ harga mulai 4,8 milyaran ____________________________________ selling point : 5 menit stasiun tj.barat / lenteng agung 5 menit aeon mall tj.barat 10 menit tol jorr tb.simatupang 10 menit halte busway ragunan 10 menit transmart cilandak, giant cilandak _____________________________________ info & survey : t o r o. _____________________________________ kami akan membantu anda mendapatkan rumah terbaik. kebahagiaan anda mendapatkan rumah idaman adalah kebahagiaan kami.\n",
      "====================================================================================================\n",
      "16500.0\n",
      "strategis, bebas banjir, daerah bergengsi, rumah lama, hitung tanah, asri, s pool, aman, murah, bu, jarang ada\n",
      "====================================================================================================\n",
      "16500.0\n",
      "[for sale]\n",
      "exclusive townhouse at kemang, jakarta selatan\n",
      " \n",
      "lt 101 - 142 m2\n",
      "lb 247 - 311 m2\n",
      "bedroom 3 + 2\n",
      "bathroom 3 + 1\n",
      "rooftop lounge\n",
      "dry kitchen & wet kitchen\n",
      "guest lobby\n",
      "carport 3\n",
      " \n",
      "elevated garden\n",
      "kids playground & bbq pit\n",
      "24 hours security\n",
      " \n",
      "price idr 4,8 m’an*\n",
      " \n",
      "cash / kpr - dp 25% (10x)\n",
      "*starting from\n",
      " \n",
      "2 km to kemang village\n",
      "3 km to scbd senopati & kuningan\n",
      "5 km to mrt senayan station\n",
      "====================================================================================================\n",
      "16500.0\n",
      "the loggia apartment tipe 2+1 bedroom merupakan tipe apartemen compact dan fungsional yang dilengkapi dengan 2+1 kamar tidur, 2 kamar mandi, ruang keluarga, ruang makan, dapur, dan balkon. tipe 2+1 bedroom memiliki luas bangunan sga 89,2 m2. harga untuk tipe ini mulai dari rp. 2.400.000.000. tersedia juga pilihan furnished unit dengan elemen desain daybed dan foldable table, serta white label unit dengan bare finish yang memberikan kebebasan mendesain sendiri ruang apartemen anda.\n",
      "keunggulan dari the loggia apartment\n",
      "joint venture pengembang terpercaya indonesia dan jepang.\n",
      "  konsep desain ruang compact dan efisien khas jepang, dengan 25% ekstra ruang penyimpanan.\n",
      "  kualitas desain karya arsitek inggris, lansekap amerika dan desain interior jepang.\n",
      "  fasilitas lengkap dengan standar resort.\n",
      "  lokasi strategis di kawasan pancoran, jakarta selatan.\n",
      "  5 menit menuju rs siloam asri, sampoerna academy.\n",
      "  15 menit menuju sudirman cbd, lingkar mega kuningan, tb simatupang, kemang village, kota kasablanka.\n",
      "fasilitas yang terdapat pada the loggia apartment, yaitu:\n",
      "gymnasium\n",
      "  business center\n",
      "  function room\n",
      "  movie room\n",
      "  club house\n",
      "  game room\n",
      "  reading room\n",
      "  swimming pool\n",
      "  kids pool\n",
      "  bbq area\n",
      "  outdoor playground\n",
      "  outdoor terrace\n",
      "  multi-function field\n",
      "  sun deck\n",
      "  sky garden\n",
      "  drop off area\n",
      "  bike corner\n",
      "di sekitar lokasi:\n",
      "sampoerna academy\n",
      "  tugu pancoran\n",
      "  rs brawijaya & rs siloam asri\n",
      "  stasiun duren kalibata\n",
      "  graha sucofindo\n",
      "  pasar tebet barat\n",
      "  green montessori school\n",
      "====================================================================================================\n",
      "16500.0\n",
      "rumah di jl. pertanian, lebak bulus, jakarta selatan ada taman didepan dan dibelakang rumah. luas tanah : 340 m2, luas bangunan : 275 m2 (2 1/2 lantai) bangunan tua spesifikasi : 1 kamar tamu, 1 ruang keluarga/ruang makan, 1 dapur, 1 gudang, 2 ac 1 line telp air jetpump kamar tidur : 3 kamar mandi : 3 kamar tidur pembantu : 3 kamar mandi pembantju : 1 garasi : 2 mobil carport : 2 mobil listrik 4.400watt, harga rp. 4.8m nego. hubungi : vera\n",
      "====================================================================================================\n",
      "16500.0\n",
      "the loggia apartment tipe 1 bedroom merupakan tipe apartemen compact dan fungsional yang dilengkapi dengan 1 kamar tidur, 1 kamar mandi, ruang keluarga, ruang makan, dapur, dan balkon. tipe 1 bedroom memiliki luas bangunan yang bervariasi antara sga 50,1 m2 – 50,3 m2. harga untuk tipe ini mulai dari rp. 1.400.000.000. tersedia juga pilihan furnished unit dengan elemen desain daybed dan foldable table, serta white label unit dengan bare finish yang memberikan kebebasan mendesain sendiri ruang apartemen anda.\n",
      "keunggulan dari the loggia apartment\n",
      "joint venture pengembang terpercaya indonesia dan jepang.\n",
      "  konsep desain ruang compact dan efisien khas jepang, dengan 25% ekstra ruang penyimpanan.\n",
      "  kualitas desain karya arsitek inggris, lansekap amerika dan desain interior jepang.\n",
      "  fasilitas lengkap dengan standar resort.\n",
      "  lokasi strategis di kawasan pancoran, jakarta selatan.\n",
      "  5 menit menuju rs siloam asri, sampoerna academy.\n",
      "  15 menit menuju sudirman cbd, lingkar mega kuningan, tb simatupang, kemang village, kota kasablanka.\n",
      "fasilitas yang terdapat pada the loggia apartment, yaitu:\n",
      "gymnasium\n",
      "  business center\n",
      "  function room\n",
      "  movie room\n",
      "  club house\n",
      "  game room\n",
      "  reading room\n",
      "  swimming pool\n",
      "  kids pool\n",
      "  bbq area\n",
      "  outdoor playground\n",
      "  outdoor terrace\n",
      "  multi-function field\n",
      "  sun deck\n",
      "  sky garden\n",
      "  drop off area\n",
      "  bike corner\n",
      "di sekitar lokasi:\n",
      "sampoerna academy\n",
      "  tugu pancoran\n",
      "  rs brawijaya & rs siloam asri\n",
      "  stasiun duren kalibata\n",
      "  graha sucofindo\n",
      "  pasar tebet barat\n",
      "  green montessori school\n",
      "====================================================================================================\n",
      "16500.0\n",
      "[ for sale ]hunian nyaman & asrijagakarsa - jakarta selatan\n",
      "townhouse mewah dan premium area jagakarsalt 124 m2lb 200 m2kt 3 + 1km 3 + 1carport 2 mobillistrik 2200 watt\n",
      "open : 2. 4 m - nego\n",
      "dekat pusat perbelanjaandekat pusat transportasidekat pusat pendidikandekat pasar tradisional\n",
      "legalitas : shm - imb & pbb clear\n",
      "cash / kpr * di bantu sampai tuntas *\n",
      "info hub : akmalcall or wa\n",
      "kami juga menyediakan hunian :clusternon clusterindent - custom\n",
      "kami akan melayani anda dengan senang hati , karena kepuasan anda keutamaan bagi kami_vine property\n",
      "====================================================================================================\n",
      "16500.0\n",
      "rumah baruharga negokolam renang di dalemsurat sertifikat hak milikbisa cash dan kprlokasinya asri bebas banjirharga negoo\n",
      "====================================================================================================\n",
      "16500.0\n",
      "town house design masa kini di lokasi strategis dan prestisius jakarta selatan dan paling diminati saat ini..  dekat dengan transportasi publik seperti lrt dan busway  yuk tanya tipe yg lebih luasnya dan detailnya..dan dapatkan penawara terbaiknya..  jerry - marketing agent ray white\n",
      "====================================================================================================\n",
      "16500.0\n",
      "rumah 2 lantai dengan halaman luas aman bebas banjir\n",
      "====================================================================================================\n",
      "16500.0\n",
      "dijual rumah mewah besar dalam komplek lebak bulus cilandak jakarta selatan.   lt. 820 m2 lb. 1000 m2 kt. 6 + 2 km. 6 +1 garasi 3 + carpot 3 halaman dan taman luas keamanan 24 jam bisa buat s. pool studio musik ruang fitnes dekat taman komplek.  harga 21m nego.  hub.\n",
      "====================================================================================================\n",
      "16500.0\n",
      "jual cepat ; rumah siap huni 2 lantai, kamar utama lantai 1. lokasi di dalam perumahan di cilandak, jaksel spec ; * luas tanah : 450 m² * bangunan : 400 m² * kamar tidur : 6 > 2 di lantai bawah > 4 di lantai atas ( masing² lantai ada kamar utama ) * kamar mandi : 5 * kamar art : 2 ( 1 di lantai bawah + 1 di lantai atas ) * garasi : 2 * carport : 2 * hadap selatan * bangunan renovasi total : 2010 fasilitas ; > 10 menit ke transmart cilandak kko > 10 menit ke ragunan zoo > 5 menit ke pintu tol andara > 15 menit ke rs siloam lebak bulus > 15 menit ke ais,jis,tis & is ( sekolah internasional ) harga : 6.3m ( nego )\n",
      "====================================================================================================\n",
      "16500.0\n",
      "jual lelang apartemen airlangga ritz carlton mega kuningan, jakarta selatanspecification :- airlangga apartment 27th floor- 440 sqm area- 66 kva electricity- private elevatordetails :- 4 main bedroom + 1 maid bedroom- 4 main bathroom + 1 guest bathroom + 1 maid bathroom- living room + balcony- dining area- full kitchen set- storage room- washing area- outside back alley areaharga rp. 18.400.000.000 sudah termasuk pajak bphtb, biaya notaris dan balik nama\n",
      "====================================================================================================\n",
      "16500.0\n",
      "rumah lama unik terawat, lokasi super di cipete .dekat antasari/ fatmawati. hadap barat.luas halamaman. sangat strategis di cepete / fatmawati/pondok indah\n",
      " \n",
      "specification: listing id: 167859 building size : 376m2 land size : 931m2 listing date: 30 apr 2018 harga jual rp 26m nego\n",
      "====================================================================================================\n",
      "16500.0\n",
      "perumahan kompleks lemigas   - rumah sangat luas, asri, sejuk dan banyak tanaman - lokasi sangat strategis - komplek sangat nyaman - keamanan 24 jam - kawasan perumahan bebas banjir  perumahan kompleks lemigas jl. panjang cipulir, kebayoran lama, jakarta selatan, dki jakarta 12230  luas tanah 540m² luas bangunan 340 m² 1 ruang tamu 1 ruang tengah 4 kamar tidur 2 kamar tidur pembantu. 3 kamar mandi utama 2 kamar mandi kecil. 1 ruang office 1 ruang perpustakaan 1 ruang rapat 2 gudang 2 dapur garasi untuk 4 mobil  sertifikat : shm  price : rp. 8.8 m (nego)  langsung tanpa perantara  #rumah #rumahasri #rumahcipulir #rumahkompleklemigas #rumahkebayoranlama #rumahjakartaselatan #dijualrumah #dijualrumahasri #dijualrumahcipulir #dijualrumahkompleklemigas #dijualrumahkebayoranlama #dijualrumahjakartaselatan\n",
      "====================================================================================================\n",
      "16500.0\n",
      "rumah dijual di mampang prapatan, jakarta selatan dengan suasana lingkungan yang tidak ramai, lokasi strategis, jalan lebar 2 mobil, tidak banjir, cocok untuk soho (small office home office) dengan fasilitas sarana yang sudah lengkap disekitarnya. akses mudah ke gatot subroto, kuningan, tendean, kemang dan kebayoran. harga rp. 9 m negosiabel. harga sewa rp. 250 juta/tahun min. 2 tahun\n",
      "====================================================================================================\n",
      "16500.0\n",
      "jual cepat rumah tinggal dibawah harga pasaran.  lokasi strategis di mampang prapatan jakarta sekatan,bebas banjir, cocok untuk kos-kosan, berada di segitiga emas bisnis  dekat universitas paramadina dan trans tv rumah tingal 2 lantai  akses : - dengan lebar jalan 6 meter - 10 menit ke gatot subroto - 10 menit ke mampang prapatan - 15 menit ke mega kuningan - 5 menit jl. raya pancoran  kamar tidur. : 10 kamar mandi. : 4 luas tanah. : 360 m luas bangunan. : 350 m daya listrik : 17000 watt sertifikat hak milik ( shm) garasi. 2 mobil\n",
      "====================================================================================================\n",
      "16500.0\n",
      "rumah 2 lantai dalam cluster di ciganjur,, jagakarsa. keunggulan : * security 24 jam dan semi furnish * 15 menit ke universitas indonesia * 20 menit ke cbd soedirman * 30 menit ke bandara halim lingkungan sangat sejuk dan nyaman serta bebas banjir.\n",
      "====================================================================================================\n",
      "16500.0\n",
      "exclusive listing - pondok indah. lingkungan hunian aman, nyaman, asri dan keamanan 24 jam. luas tanah : 336m2luas bangunan : 425m2kamar tidur : 5+2kamar mandi : 5+1garasi 2 mobil, carport 1 mobillistrik : 6.600watthadap utarasplit level, taman depan & belakangshm harga : rp15m\n",
      "====================================================================================================\n",
      "16500.0\n",
      "dijual tanah dan bangunan di cilandak, akses dekat dengan stasiun mrt fatmawati. lokasi strategis, dekat dengan akses ke transportasi umum.  sertifikat 1 luas tanah : 610m2 (sertifikat 478, ajb 132) luas bangunan : 327m2 kamar tidur : 9 kamar mandi : 10 r.tamu, r.keluarga, r.makan, dapur, carport 4 mobil shgb harga : rp12m (nego)  sertifikat 2 luas tanah : 1.220m2 luas bangunan : 440m2 kamar tidur : 4+2 kamar mandi : 4+1 r.tamu, r.keluarga, r.makan, dapur, r.kerja, garasi 2 mobil, carport 6-8 mobil shgb harga : rp24,4m (nego)  notes : boleh beli sebagian ya.\n",
      "====================================================================================================\n",
      "16500.0\n",
      "rumah mewah 3lantai posisi hoek  gudang 2, ruang tamu nya besar, ruang keluarga, dapur 2 shm  dijual cepat\n",
      "====================================================================================================\n",
      "16500.0\n",
      "the loggia apartment tipe 3 bedroom merupakan tipe apartemen compact dan fungsional yang dilengkapi dengan 3+1 kamar tidur, 2+1 kamar mandi, ruang keluarga, ruang makan, dapur, dan balkon. tipe 3 bedroom memiliki luas bangunan yang bervariasi antara sga 115 m2 – 117 m2. harga untuk tipe ini mulai dari rp. 3.500.000.000. tersedia juga pilihan furnished unit dengan elemen desain daybed dan foldable table, serta white label unit dengan bare finish yang memberikan kebebasan mendesain sendiri ruang apartemen anda.\n",
      "keunggulan dari the loggia apartment\n",
      "joint venture pengembang terpercaya indonesia dan jepang.\n",
      "  konsep desain ruang compact dan efisien khas jepang, dengan 25% ekstra ruang penyimpanan.\n",
      "  kualitas desain karya arsitek inggris, lansekap amerika dan desain interior jepang.\n",
      "  fasilitas lengkap dengan standar resort.\n",
      "  lokasi strategis di kawasan pancoran, jakarta selatan.\n",
      "  5 menit menuju rs siloam asri, sampoerna academy.\n",
      "  15 menit menuju sudirman cbd, lingkar mega kuningan, tb simatupang, kemang village, kota kasablanka.\n",
      "fasilitas yang terdapat pada the loggia apartment, yaitu:\n",
      "gymnasium\n",
      "  business center\n",
      "  function room\n",
      "  movie room\n",
      "  club house\n",
      "  game room\n",
      "  reading room\n",
      "  swimming pool\n",
      "  kids pool\n",
      "  bbq area\n",
      "  outdoor playground\n",
      "  outdoor terrace\n",
      "  multi-function field\n",
      "  sun deck\n",
      "  sky garden\n",
      "  drop off area\n",
      "  bike corner\n",
      "di sekitar lokasi:\n",
      "sampoerna academy\n",
      "  tugu pancoran\n",
      "  rs brawijaya & rs siloam asri\n",
      "  stasiun duren kalibata\n",
      "  graha sucofindo\n",
      "  pasar tebet barat\n",
      "  green montessori school\n",
      "====================================================================================================\n",
      "16500.0\n",
      "di jual rumah tua jln mampang prapatan kelurahan tegal parang ke camatan mampang jakarta selatan  luas tanah 1295m2  luas bangunan 700m2 ada listrik ada air  srt2  shm dan hgb harga 17jt/m²  lokasi strategis  dekat buncit raya dekat ke gatsu dan mt haryono  juga dekat jl tendean #sf-dey\n",
      "====================================================================================================\n",
      "16500.0\n",
      "promo wish for home southgate residence elegance tower 2021 : hanya bayar utj 15 juta langsung akad* | keringanan dp up to 15%* | insentif huni 5%* | insentif khusus 4%* | semi furnished* (periode 6 maret - 30 juni 2021)\n",
      "*s&k berlaku\n",
      "southgate elegance tower tipe 1br + study merupakan tipe apartemen yang dilengkapi dengan 1 kamar tidur, 1 kamar mandi, ruang tamu, ruang belajar/study, dan dapur. tipe 1br + study memiliki luas bangunan 72 meter persegi yang dilengkapi dengan furniture yang modern dan nyaman.\n",
      "keunggulan southgate residence\n",
      "lokasi strategis dari pusat komersial, bisnis, serta transportasi.\n",
      "  dibangun dengan konsep mixed used development.\n",
      "  memiliki fasilitas lengkap dan memadai.\n",
      "  dikembangkan oleh developer terpercaya serta berpengalaman, yaitu sinar mas land.\n",
      "  terdapat area terbuka hijau.\n",
      "  terintegrasi dengan commuter line, busway, dan gerbang tol.\n",
      "fasilitas yang terdapat dalam southgate elegance tower, yaitu :\n",
      "sky lounge\n",
      "  sky yoga\n",
      "  sky bar\n",
      "  sky pool\n",
      "  sky garden\n",
      "  sky relaxing corner\n",
      "  private dining room\n",
      "  co-working space\n",
      "  meeting room\n",
      "====================================================================================================\n",
      "16500.0\n",
      "dijual tanah luas 1513 bentuk ngantong langka dan membawa hoki. cocok untuk perumahan town house, sudah ada dibangun 1 rumah dengan luas 240 m2, rumah minimalis siap huni. lokasi strategis hanya 5 menit jalan kaki menuju pondok indah mall i, 5 menit ke st. mrt h.nawi dan bebas banjir.   spesifikasi : luas tanah : 1513 m2 luas bangunan : 240 m2 kamar tidur : 4 + 2 kamar mandi : 4 + 1 shm imb bangunan 2019 harga : 38 m (nego)  ray white kemang premier marketing executive ikhsan lubis jl. ampera raya no.5c, kemang jakarta selatan 12520 raywhite.co.id\n",
      "====================================================================================================\n",
      "16500.0\n",
      "jagakarsa town house mewah 3 lantai di premium area di area premium (komplek elite)  jl. durian jagakarsa jakarta selatan ============================= town house premium bangunan 3 lantai _ _ _ _ _ _ _ _ _ _ _ _ _ _ _ _ _ _ _ _  area dalam komplek  lingkungan sejuk asri dan bebas banjir di lengkapi keamanan 24 jam dan dikelilingi komplek elite.   lokasi premium area dekat ke cilandak tb simatupang pintu tol.   5 menit ke tol tb simatupang 5 menit ke tol andara 10 menit ke lebak bulus 10 menit ke mrt stasiun 15 menit ke stasiun comuterline  ------------------------------------- spesifikasi unit :  brand new house bangunan 3 lantai  bangunan 3 lantai kamar tidur : 4 + 1 kamar mandi : 4 + 1 car port : 2 mobil  listrik: 3500 watt servis area taman ------------------------------------------  luas tanah : 127 m² luas bangunan : 270 m²  ~ harga : 3,5 m (nego) ~  pembayaran :  cash   kpr  legalitas clear : shm  imb  harga belum termasuk :  biaya bphtb  biaya kpr bank  --------------------------------------------- *nego sampai ratusan juta rupiah   segera survey dan booking sebelum kehabisan unit\n",
      "====================================================================================================\n",
      "16500.0\n",
      "rumah dijual di patra kuningan jakarta selatan rumah dijual di segitiga emas jakarta dijual cepat rumah dikawasan patra, hitung tanah saja. bangunan adalah bangunan lama maka dari itu yang dihitung hanya tanah saja.  harga 58 milyar (nego) spesifikasi umum properti sertifikat : sertifikat hak milik (shm) luas tanah : 1.046 m2 (bentuk tanah kotak/persegi) luas bangunan : 427 m2 kamar tidur : 4 + 2 kamar mandi : 4 + 2 parkir : 4 mobil (garasi & carport) dapur : 2 (dapur bersih dan dapur kotor) listrik : 23.000 watt kolam renang (lama tidak digunakan & tidak dibersihkan) kondisi jual : unfurnished (tanpa perabotan) taman pos jaga security di depan rumah selling point keunggulan dari kawasan ini: - berada dikawasan segitiga emas jakarta selatan (kawasan premium di jakarta). - lokasi yang strategis untuk menuju ke berbagai tempat yang di pusat kota jakarta. - harga terbaik di kelasnya dan negotiable (njop sudah tinggi di komplek patra kuningan) - investasi yang menguntungkan, karena harga tanah yang selalu naik dari waktu ke waktu.  jika anda berminat hubungi kami prihantoro  visit website : www.therumahproperty.com agen properti di jakarta.\n",
      "====================================================================================================\n",
      "16500.0\n",
      "rumah baru full bata merah harga nego surat sertifikat hak milik +imb  bisa cash dan kpr  lt133 lb180 kt4+1 km5 tiap kamar tidur ada kamar mandi _______________________________ kamar utama di lantai bawah ada  lantai atas kamar utama ada  pokoknya super nyaman tua muda lokasi asri nyaman aman bebas banjir link iklan\n",
      "====================================================================================================\n",
      "16500.0\n",
      "apartemen point square dengan desain baru yang mewah dan fresh, tersambung dengan stasiun mrt (on progress) berada di kawasan sentra businis jakarta selatan jl. kartini & tb simatupang serta berada di kawasan tumbuh kembang dari sentra business di jakarta selatan dengan akses yang tersambung dengan stasiun mrt lebak bulus.   memiliki fasilitas 3 br dan 2 bthr fully furnished listrik 3.300 kwh air pam access card security 24 jam redesain & new furniture hanya beberapa menit dari pusat kota dan pusat bisnis (tb simatupang cbd) dan  fasilitas penting lainnya (rs. pdk indah, rs siloam, pdk indah, dll) serta akses yang mudah untuk ke berbagai tujuan (tol ke bandara, depok, bogor, dll) berada di kawasan tod (transit oriented development)\n",
      "====================================================================================================\n",
      "16500.0\n",
      "kawasan jalan wijaya merupakan kawasan emas, strategis, premium dan prestisius oleh karena posisinya berada di jantung ibu kota jakarta. masuk dalam wilayah kelurahan melawai, kecamatan kebayoran baru jakarta selatan. dengan kemudahan akses dan infrastruktur yang bagus membuat investasi properti diwilayah ini terus naik dan berkembang pesat dari waktu ke waktu. lokasi strategis premium prestisius : dekat dengan kawasan pusat bisnis scbd sudirman dekat dengan kawasan pusat busnis kuningan rasuna said mega kuningan epicentrum dekat dengan kawasan pusat bisnis gatot subroto dekat dengan kawasan pusat bisnis mt. haryono dekat dengan kawasan pusat bisnis senayan s.parman lokasi dekat dengan pusat kawasan perbelanjaan elit/mall : pasific place senayan city grand indonesia pondok indah mall kemang village garndaria city citos lokasi dekat rumah sakit : rs. pertamina rs. jakarta rs. pondok indah rs. brawijaya\n",
      "====================================================================================================\n",
      "16500.0\n",
      "rumah di kawasan elite jl. kenanga 2, kemang ampera raya, jaksel  - luas 987m .luas fisik 1200m - sangat cocok untuk kantor dan usaha lainnya - dilengkapi swiming pool dan gazebo - halaman depan yang sangat luas bisa parkir 10 mobil dan dilengkapi pos       security - akses depan 50m menuju jl. ampera raya dan selangkah menuju tol jorr   kemang.pasar minggu - surat shm+imb.\n",
      "====================================================================================================\n",
      "16500.0\n",
      "satu lagi kami hadirkan the colony kawasan hunian nyaman yang menyajikan lay out maksimal,pencahayaan dan sirkulasi udara yang sehat menjadikan pertimbangan tinggi dimana anda akan menempatkan keluarga bahagia anda.tak diragukan lagi wilayah karang tengah terletak dikawasan sangat strategis antara fatmawati dan lebak bulus, sehingga memiliki nilai investasi yang sangat bagus.spesifikasi;luas tanah : 104 - 143luas bangunan : 118 - 126kamar tidur : 3+1kamar mandi: 3+1jumlah lantai : 2, 3carpot : 2listrik : 2200 wattsumber air : air tanah + pompa listrik + torensambungan tlp : 1 linesurat shm dan imbspeksifikasi bangunan :pondasi : batu kali dan beton bertulang-struktur : beton bertulangdinding : bata plester acipintu : kamper overkunci : solidatap : rangka atap baja ringanlantai utama : granite tilekamar mandi : keramik (roman)plafond : rangka besi hollow gypsumfasilitas :keamanan + cctv 24 jam ( one gate system )row jalan lebar\n",
      "====================================================================================================\n",
      "16500.0\n",
      "the loggia apartment tipe 2 bedroom merupakan tipe apartemen compact dan fungsional yang dilengkapi dengan 2 kamar tidur, 2 kamar mandi, ruang keluarga, ruang makan, dapur, dan balkon. tipe 2 bedroom memiliki luas bangunan sga 75,5 m2. harga untuk tipe ini mulai dari rp. 2.100.000.000. tersedia juga pilihan furnished unit dengan elemen desain daybed dan foldable table, serta white label unit dengan bare finish yang memberikan kebebasan mendesain sendiri ruang apartemen anda.\n",
      "keunggulan dari the loggia apartment\n",
      "joint venture pengembang terpercaya indonesia dan jepang.\n",
      "  konsep desain ruang compact dan efisien khas jepang, dengan 25% ekstra ruang penyimpanan.\n",
      "  kualitas desain karya arsitek inggris, lansekap amerika dan desain interior jepang.\n",
      "  fasilitas lengkap dengan standar resort.\n",
      "  lokasi strategis di kawasan pancoran, jakarta selatan.\n",
      "  5 menit menuju rs siloam asri, sampoerna academy.\n",
      "  15 menit menuju sudirman cbd, lingkar mega kuningan, tb simatupang, kemang village, kota kasablanka.\n",
      "fasilitas yang terdapat pada the loggia apartment, yaitu:\n",
      "gymnasium\n",
      "  business center\n",
      "  function room\n",
      "  movie room\n",
      "  club house\n",
      "  game room\n",
      "  reading room\n",
      "  swimming pool\n",
      "  kids pool\n",
      "  bbq area\n",
      "  outdoor playground\n",
      "  outdoor terrace\n",
      "  multi-function field\n",
      "  sun deck\n",
      "  sky garden\n",
      "  drop off area\n",
      "  bike corner\n",
      "di sekitar lokasi:\n",
      "sampoerna academy\n",
      "  tugu pancoran\n",
      "  rs brawijaya & rs siloam asri\n",
      "  stasiun duren kalibata\n",
      "  graha sucofindo\n",
      "  pasar tebet barat\n",
      "  green montessori school\n",
      "====================================================================================================\n",
      "16500.0\n",
      "apartemen kiintamani hunian nyaman ditengah kota bernuansa resort dan bergaya bali.apartemen kintamani berlokasi di jalan prapanca raya no. 1 kebayoran baru jakarta selatan yang sudah dikenal lama sebagai kawasan elit di kebayoran baru jakarta selatan, lokasi premium dan dekat dengan pusat kawasan bisnis scbd sudirman - gatot soebroto - kuningan rasuna said juga dekat dengan kawasan perbelanjaan elit (pasific place - senayan city - kemang village - citos). mempunyai kualitas bangunan yang baik dan manajemen yang memuaskan. fasilitas : - basement 1 + 2 untuk parkir kendaraan (reserved park lot) - akses finger print dan kartu untuk lift dan pintu entrance - kolam renang yang besar dan berseni barbecue area - kolam renang untuk anak berikut permainan untuk anak - jacuzzy - ruang serba guna (3 unit) - jogging track - lapangan tenis ( 2 lapangan) - taman bernuansa bali dan resort cukup besar - mini market - fitness center - sauna - children playground - atm - security 24 jam - parkir tamu luas\n",
      "====================================================================================================\n",
      "16500.0\n",
      "permata hijau suites apartment disukai expat dan diaspora, siap huni\n",
      "apartemen permata hijau suites\n",
      "lansung hand over  !!!!\n",
      "berada di areal seluas 9.000m2, terdiri dari 36 lantai + 3 basement, dengan nuansa yang greeny elegance di tengah kesibukan kota dan dilengkapi berbagai fasilitas untuk kenyamanan penghuni apartement disertai keamanan dan cctv 24 jam.kenapa harus investasi di permata hijau suites ?\n",
      "developer terpercaya : pulau intan , terry palmer group , ateja\n",
      "term on payment : flexibe\n",
      "disukai expatriate dan sudah terbentuk komunitas diaspora di phs\n",
      "lokasi : 5 menit ke senayan city , 10 menit ke sudirman , daerah berkembang dan bebas banjir tentunya\n",
      "fasilitas kelas dunia\n",
      "spesifikasi mewah : marmer di seluruh ruangan kec bathroom homogeneus tile\n",
      "skema promo bulan ini :\n",
      "- dp 15% (3x) sisa 85% kpa / lunas\n",
      "- cicilan 12x\n",
      "- cicilan ringan hanya 25 juta / bulan\n",
      "permata hijau suites terdiri atas 2 tower : ebony dan ivory.tipe 1br\n",
      "1br tipe a, b, c : nett area: 35.01 m2\n",
      "semi gross: 40.86 m2tipe 2br\n",
      "2br tipe a&b: nett area: 51.66 m2\n",
      "semi gross: 60.29 m2\n",
      "2br tipe c: nett area: 59.46 m2\n",
      "semi gross: 69.39 m2tipe 3br\n",
      "3br tipe a: nett area: 78.56 m2\n",
      "semi gross: 91.69 m2\n",
      "booking langsung pilih unit !\n",
      "call eddy\n",
      "====================================================================================================\n",
      "16500.0\n",
      "rumahlama  terarwat siap huni ,luas tanah sekitar 600 m  ccocok untuk rumah pensiun yg ditengah kota dekat  ke mrt  rasa desa dekat r fatmawatii dekat, tol simatupang ,pondok indah citoa mall, one belle park mall\n",
      "====================================================================================================\n",
      "16500.0\n",
      "turun harga dijual cepat .... rumah baru kawasan favorite di lebak bulus. jual ( full furnish ) include interior.karena mau pindah luar kota.  spesifikasi :   - sertifikat : shm - luas tanah : 351 m2 - luas bangunan : 260m2 - 2 lantai + teras luas di lantai atas - 1 kamar tidur utama + kamar mandi dalam - 1 kamar tidur + kamar mandi dalam - 4 kamar tidur + konekting kamar mandi - 2 kamar tidur prt - toilet tamu - kitchen set - area service terpisah - carport : 5 - 6 mobil - lapangan basket - taman  - teras lantai atas luas cocok buat bbq. - bangunan tahun 2019 - dekat mrt fatmawati & lebak bulus - dekat akses tol - dekat mayapada hospital,siloam dan rs fatmawati  harga jual : rp. 9.5 m menjadi rp 8.7 m nego  info - survei : harmin nasution ray white kemang premier  #rumahlebakbulus#lebakbulusrumah#rumahlebakbulusdijual#dijualrumahlebakbulus#rumahcilandakdijual#dijualrumahcilandak#dijualrumahpondokindah#rumahpondokindahdijual\n",
      "====================================================================================================\n",
      "16500.0\n",
      "dijual luxury apartemen bumimas semi furnished cilandak cilandak  jakarta selatan  luas tanah : 71m2 kamar tidur : 1 kamar mandi : 1 carport : 1 listrik : 6600 watt air : pam  fasilitas : - swimming poll - garden - 2 ac - 1 line telepon  harga : rp.1.700.000.000,-\n",
      "====================================================================================================\n",
      "16500.0\n",
      "luas tanah 126 luas bangunan 180 kamar tidur 4 kamar mandi 4 carport mobil 2 kamar utama atas bawah  bata merah harga nego\n",
      "====================================================================================================\n",
      "16500.0\n",
      "lt: 162 m2, lb: 200 m2 4 kamar tidur + 2 4 kamar mandi + 1 2 lantai kitchen set (dapur bersih) ruang tamu, ruang keluarga taman depan  carport 2 mobil listrik 5500 wat shm dekat itc fatmawati,  dekat stasiun mrt jl h nawi akses jl. antasari, jl. fatmawati, jl prapanca raya, jl. kemang\n",
      "====================================================================================================\n",
      "16500.0\n",
      "1 park homes, best homes @ gandaria, jakarta selatan berada di lokasi strategis dengan kemudahan akses untuk ke berbagai pusat aktivitas (bisnis, perbelanjaan, olah raga, dll) beberapa menit dari sudirman/gatot subroto, juga ke pondok indah/tb. simatupang, dengan suasana yang hijau khas jakarta selatan.  lt.    : 200m2 lb.   : 362m2 unit  : 8b view : selatan price : rp 16.500.000.000,- (exclude ppn) booking fee : rp 100 juta/unit   konsep design 1 park homes by thomas elliot dengan spesifikasi premium :  baldwin or equal villeroy & boch lift provided generator set provided air conditioning split duck terdiri dari : 3 lantai + atic garage : 2, carport : 2 maidroom & bathroom terrace & foyer   living room formal dining pantry set  wet kitchen pool 3 bedroom & bathroom  water system : pam & deep well listrik        : 23.000 va  term of payment : - booking fee : rp 100juta/unit   - hard cash - kpa - installment (30x)\n",
      "====================================================================================================\n",
      "16500.0\n",
      "facilities : connect with mall kota kasablanka, pool, sauna, gym, whirpool, children playground, receptionist at lobby, cctv at all tower, library, direct access to kota kasablanka shopping mall, which you can find anything you need, such as banks/atm, local and foreign restaurants/food court/cafe, department stores, supermarket, entertainment facilities, etc.  additional info:  1. casa grande memiliki lokasi yang strategis, bertempat di kawasan pusat bisnis seperti (kuningan dan sudirman).  2. berada di area komersil dan kawasan hunian premium, memiliki konsep superblock (apartemen, mall dan office tower),  3. memiliki akses indoor langsung ke mall kota kasablanka.  4. lokasinya yang sangat strategis memudahkan anda menuju pusat perkantoran seperti cbd kuningan, jalan rasuna said, jalan gatot subroto, jalan menteng serta dekat dengan akses tol gatot subroto dan pancoran.\n",
      "====================================================================================================\n",
      "16500.0\n",
      "dijual ruang usaha (bengkel) tanah luas 5,315m2 di ciputat raya, kebayoran lama, jakarta selatan location: jl. ciputat raya, kebayoran lama, jakarta selatan strategic location: - jalan boulevard - depan pom bensin - 6 menit pintu jalan tol jorr - 5 menit ke pondok indah - 5 menit cilandak - 10 menit ke gandaria specification: luas tanah: 5,315 m2 luas bangunan: 1,424 m2 sertifikat hak guna bangunan additional info: - ada bangunan bengkel - ada bangunan showroom 4 lantai - ada ruangan kantor - ada lahan parkir - ada lahan kosong harga jual rp. 105,441,000,000 - nego sekali please call: era widia realty widia winoto m.  m.  website: www.myapartemenku.com www.ruangkantorku.com ig: @myapartemenku ig: @ruangkantorku ig: @widia_winoto\n",
      "====================================================================================================\n",
      "16500.0\n",
      "- lt 226, bangunan 226 - dekat kemana mana : - plaza semanggi 5km, pim, 6 km, kemang village 1,9 km - lokasi strategis - cocok untuk perkantoran, bengkel atau resto\n",
      "====================================================================================================\n",
      "16500.0\n",
      "dijual best price apartmen ciputra world 2 at satrio kuningan 3br uk 155m2 furnished jakarta selatan dijual apartemen ciputra world 2 uk155m2 siap huni fully furnished apartment name: ciputra world 2location: kuningan, jakarta selatansize: 155 m2bedroom: 3bathroom: 2condition: fully furnishedfacility: mini market, laundry, swimming pool, jogging track, tennis & basketball court, whirlpool, sauna, fitness center.additional info: located in kuningan area with easy access to sudirman central business district and within few minutes to shopping mall, embassy, close to mrt, international schoolfullfurnishedjual4.5m\n",
      "====================================================================================================\n",
      "16500.0\n",
      "lt 250/200m2, kt 4, km 4, carpots 2, (hitung tanah doang), shm, lokasi : jl. kelud, di area pusat bisnis rasuna said, belakang kantor kpk\n",
      "====================================================================================================\n",
      "16500.0\n",
      "lt 755/400m2, shm, lokasi : jl.kebun besar i, gandaria selatan - cilandak, deket ke lottemart fatmawati, ke citos dan mrt cipete raya..\n",
      "====================================================================================================\n",
      "16500.0\n",
      "dijual cepat rumah 2 lantai di daerah menteng dalam tebet jakarta selatan - luas tanah 500 m2 - 1 kamar utama dengan kamar mandi di lantai 1 - 1 kamar tidur di lantai 1  - 4 kamar tidur di lantai 2 - 1 kamar mandi di lantai 1 - 1 kamar mandi di lantai 2 harga jual rp 11m   for more info please contact: tammy -\n",
      "====================================================================================================\n",
      "16500.0\n",
      "kav. polri jagakarsa - rumah mewah, bangunan cantik, area tenang dan nyaman.  area sekitar: cilandak kko, pondok labu, rs fatmawati, citos, tol dan cbd simatupang.  lokasi di area perumahan, area nyaman, aman dan tenang.  jalan depan rumah lebar.  lokasi hunian, bebas banjir.  rumah bangunan sangat terawat, siap huni.  luasan kamar utama dan kamar anak besar.  parkir banyak, bisa sampai 10 mobil.  kondisi semi furnished (kitchen set, kabinet dan ac)  halaman depan dan belakang luas.  area dapur bersih dan kotor luas.  fasilitas rumah:  24-hour security lingkungan  private post security  cctv  single access / one gate system.  halaman belakang dan depan.  internet and cable ready.  private swimming pool  spesifikasi unit: lt 1,100 | lb 900 kt: 7 | km: 5 kp: 3 | kmp 2 lantai: 2 listrik: 22,000 garasi: 2 | carport: 8 hadap: utara shm price: rp 17m (nego)  cara bayar:  cash  kpr  please contact our agent for inquries: sandy\n",
      "====================================================================================================\n",
      "16500.0\n",
      "rmh pondok indah dijual\r\n",
      "lt 241 m2\r\n",
      "lb 333 m2\r\n",
      "3 lantai,\r\n",
      "3 kt,\r\n",
      "4 km,\r\n",
      "1 pool,\r\n",
      "1 ruang musik,\r\n",
      "1 study room,\r\n",
      "1 dapur kotor,\r\n",
      "1 dapur kering,\r\n",
      "rp 14.5m\n",
      "====================================================================================================\n",
      "16500.0\n",
      "jual cepat - bu :  rumah 1,5 lantai dalam komplek besar strategis di pondok labu cilandak jakarta selatan   lokasi sangat strategis pinggir jalan raya dekat jalan tol baru desari tidak jauh ke jalur mrt  bebas banjir dataran tinggi  daerah elite (banyak rumah milik artis dan kontrakan2 mewah tuk bule2)  cocok untuk rumah kos mahasiswa/i , karyawan  rumah tinggal, maupun untuk kantor, bisnis, dan gudang  strategis : dekat dengan rs fatmawati (5 mnt),  kebun binatang ragunan (10 mnt),  citos-cilandak town square (10 mnt) stasiun mrt fatmawati terminal lebak bulus (15 mnt),   lt : 125m2 lb : 150 m2 bangunan 1,5 lantai bangunan kokoh bata merah  ruang tengah sangat luas cocok untuk mengadakan acara, tempat penyimpanan kantor, dsb  kt : 3 (2 bawah 1 atas) kt pelayan 1 km : 2 (atas dan bawah)  ada balkon atas dan ada carport  perumahan besar fasilitas lengkap masjid, lapangan bola, sekolah, taman, security akses jalan lebar leluasa lingkungan nyaman  harga 2,9 m (nego)  hubungi kami - buat janji survey lokasi - kami melayani sepenuh hati - cocok lokasi dan kondisi rumah - nego harga langsung dengan pemilik - proses kami bantu   more info call or wa : romi jpro    j-propertindo * membantu mencarikan menjualkan properti anda lebih cepat *  #percayakan pembelian dan penjualan property anda pada kami  rumah investasi lebih pasti, harga selalu naik setiap saat\n",
      "====================================================================================================\n",
      "16500.0\n",
      "fdl 2477rj rumah siap huni strategis dekat toll cipedak jagakarsa jakarta selatan lokasi bebas banjir dan akses jalan mobil spesifikasi : lt/lb : 56/110 kt/km : 3/2 lantai : 2 air : jetpump listrik : 2200 watt tipe : cluster status : ready akses : 1 mobil surat : shm, imb hadap rumah : barat fasilitas rumah : carport, torrent, instalasi ac. fasilitas cluster : one gate system row cluster : 5m bisa custom : tidak unit tersedia : 1 total unit keseluruhan : 14 tahun pembangunan : 2021 cara bayar  kpr, cicil dp brpa kali : dp30% cicil 1x  cash keras : dp30% pelunasan 14hari  cash bertahap max brpa kali : dp30% pelunasan 3bulan  pks bank : bsi, bri  utj : 10jt sale point : 9 menit ke hospital ali sibroh 9 menit ke rs andhika 11 menit ke toll brigif 2 menit ke fortuna swalayan 14 menit ke sekolah avicenna 6 menit ke istn 15 menit ke stasiun lenteng agung informasi dan konsultasi telepon dan whatsapp untuk fast respon harap konfirmasi h-1 untuk jadwal survey ke lokasi hubungi kami amanah property agent spesialis jakarta timur, jakarta selatan dan depok kenapa harus membeli rumah melalui amanah property ?  legalitas rumah lengkap dan aman  kpr kami bantu proses sampai akad  memiliki legalitas resmi (cv)  memiliki tim marketing profesional yang tersertifikasi\n",
      "====================================================================================================\n",
      "16500.0\n",
      "rumah baru dalam komplek posisi hook open 2.3 m nego lokasi sangat strategislingkungan aman bebas banjir pasti nyaarea tenang dan nyaman  area sekitar lokasi rumah :transmart cilandakkebun b. ragunancinere mallexit tol andara - brigif - desaristasiun / krluniversitas dan sekolah rumah sakitangkutan umum  fasilitas rumah :sistem satu pintusecurity 24 jamteras depanruang jemurparkir tamu luastaman depan  spesifikasi rumah :lt : 120 m2 lb : 200 m2 kt : 5 (4+1), km : 4listrik : 2200 wattcarport : 1 mobilgarasi : 1 mobil - sertifikat : shm, imb, pbb- (pecah per kavling)  cara pembayaran :- cash- kpr kami bantu sampai akad transaksi\n",
      "====================================================================================================\n",
      "16500.0\n",
      "dijual cepat jarang ada khusus pembeli langsung mohon konfirmasi survey h-1 rumah model lama namun bangunan msh oke, dikelilingi pohon nambah sejuk asri lingkungan nyaman, kawasan fave jakarta selatan lokasi sangat strategis dekat ke jalan raya sekitar 100mtr, dekat kawasan niaga, bisnis, kuliner, perbankan, perbankan, sekolah dll cocok untuk investasi atau huni minat?hub segera\n",
      "====================================================================================================\n",
      "16500.0\n",
      "rumah posisi hook 2 lantai 4 kamar tidur di tanjung barat jaksel 3952. lokasi strategis di selatan jakarta. lokasi terjangkau ke berbagai fasilitas bisnis, komersil, pusat belanja, pendidikan, pemerintahan, kesehatan dan transportasi.  spek dan harga : lt: 376 m2, lb: 187 m2, km: 3+1, km: 3, lantai: 2, listrik: 2200, air: jetpum, surat: shm, idr: 11,5 m (nego)  hubungi : rakhmat siregar (wa/telp) : ; . agen properti profesional dan terpercaya,century21 prima arcade2 bintaro. kami siap bantu pasarkan properti anda.\n",
      "====================================================================================================\n",
      "16500.0\n",
      "for sale rumah siap huni rumah di melawai kebayoran baru rp. 11 m jadi 9,8 m  *turun harga jual cepet*   for sale rumah siap huni rumah di melawai kebayoran baru lokasi sangat strategis luas tanah 260 m2 luas bangunan 300 m2 kamar tidur 4 + 2 kamar mandi 4 garasi 1 carpot 2 akses 2 mobil bebas banjir deket panglima polim deket mrt blok m deket ahmad dahlan 11 m nego *turun jadi 9.8 m nego sampe deal*  more info pls call / wa ricky  ( whatsapp available )\n",
      "====================================================================================================\n",
      "16500.0\n",
      "rumah siap huni 2lt luas 12x16 192m setiabudi timur jakarta selatan  rumah siap huni di setiabudi jakarta selatan bangunan 2lantai luas tanah : 192m (12x16) luas bangunan : 108m kamar tidur : 5 kamar mandi : 4 listrik : 5500 watt air : pam sertifikat : shm (sertifikat hak milik)  harga jual : 5.9m (nego)  more info: devi hp & wa :   direct wa :   call center :  re/max premier #chrstn\n",
      "====================================================================================================\n",
      "16500.0\n",
      "dijual rumah dalam town house berlokasi diarea jati padang dekat simatupang jakarta selatan lt 300 meter lb 400 meter kt 3+2 km 4+1 bangunan 3 lantai ruang tamu ruang keluarga private pool gudang ruang gym mushola carport & garasi 3 mobil listrik 13.000 watt hadap utara shm,imb,pbb harga 9,5 m\n",
      "====================================================================================================\n",
      "16500.0\n",
      "deskripsi & faslitas : lt: 214 m2,  lb: 214 m2,  kt: 13,  km: 13+2,  air: jetpum,  surat: shm,  idr: 3,5 m (nego) tertarik untuk informasi lebih lengkap tentang property tersebut ? dapat hubungi saya: roni  (whatsapp/call) *jika ada property lain(rumah, tanah, apartemen, ruko dll) yang ingin sekali disesuaikan dengan kebutuhan anda jangan sungkan untuk menghubungi saya. *untuk proses pembelian, baik cash maupun kpr saya akan bantu dengan senang hati. *tambahan, saya juga menyediakan property (tanah/kavling, kios, ruko, apartemen, rumah ) seperti di cikini raya, river park, menteng residence dan sekitaran bintaro\n",
      "====================================================================================================\n",
      "16500.0\n",
      "rumah dalam town house di cilandak lebak bulus ,semi furnished,dapur bersih dn dapur kotor,s pool,shgb,bangunan th 2013,. lingkungan tenang dan nyaman lokasi strategis , dkt ke rs fatmawati, pusat bisnis dan perkantoran tb simatupang, one belpark mal ,ciandak town square, terminal dan halte mrt,akses tol jorr arah bandara soetabonus : kitchen set,tlp pakai pabx,ac 10 unit\n",
      "====================================================================================================\n",
      "16500.0\n",
      "di jual rumah pondok indah  - luas tanah 244m -luas bangunan 200m - surat shm hak milik-lantai 3 -kamar tidur 4 unit + 1 gudang - kamar mandi 4 unit - swimming pool - dapur kotor 2 unit - air pam+ air sumur -listri 16rb/w -ac sentral. inijosh-garasi2 carport    2 mobil harga 12m nego walking distance to pim  luas 200 bangunan 550 kamar 5 kamar mandi 4 dapur kotor+ bersih kamar pembantu 1 garasi 1 carport 2 listrik 7700 shm   harga 12 m nego dikit\n",
      "====================================================================================================\n",
      "16500.0\n",
      "rumah terawat  bangunan kokoh  desain menarik dengan tanah yg luas  spesifikasi sbb :  luas tanah   920 m2 luas bangunan  600 m2 kamar tidur    4+2 kamar mandi   5+2  (kamar pembantu   2 kamar mandi pembantu   2) ruang jemur gudang bersih dapur bersih  dapur kotor kolama renang garasi 2 mobil carpot 16 mobil halaman cukup luas  ac 7 pcs wardrobe setiap kamar tidur dan juga kamar pembantu  dokumen surat  shm imb pbb  harga : rp : 10.200 milyard nego sepuluh milyard dua ratus juta rupiah   akses lokasi  dekat bintaro toll jorr bintaro bsd serpong 7 menit  toll jorr bintaro veteran  bandara soetta 10 menit  info detail hub: aisah wa ;   kode : vlanes/sekt2bintaro10,2m-vii-021  pasar bintaro sektor 2 jl. perkutut no.20, rengas, kec. ciputat tim., kota tangerang selatan, banten 15412 https://maps.app.goo.gl/ru5azpvrdf8sphwg7\n",
      "====================================================================================================\n",
      "16500.0\n",
      "dijual cepat bu sertifikasi shm - sertifikat hak milik  alamat lokasi: jl. kecapi iv no.61c, kecamatan jagakarsa, kota jakarta selatan   dijual cepat butuh uang!! surat-surat lengkap shm tanpa masalah lt 119m2 lb 100m2 4 kamar tidur 1 ruang tamu 1 ruang makan 1 dapur 1 kamar mandi 1 tempat cuci jemur 1 garasi  rumah terawat bebas banjir di tengah kota 5 menit ke ragunan 10 menit ke toll jorr tb simatupang 20 menit ke kuningan 30 menit ke senayan 40 menit ke bandara soetta!! parkir motor luasss parkir mobil kecil bisa garasi panjang kiri kanan rumah harga 2.4 m kami jual 1,2 m (bu) nego sampai jadi!!!\n",
      "====================================================================================================\n",
      "16500.0\n",
      "rumah vila di ciladak area , rumah sangat tenang dan nyaman rumah asri dengan halaman dan taman yg luas di bagian depan,samping dan belakang rumah rumah memiliki kolam renang yg cantik dan berukuran besar terdapat bar di area kolam renang ,area santai untk kumpul2 keluarga dan barbeque area rumah sangat terawat interior mewah dan classic garasi 2 mobil dan carport 15 mobil lokasi dekat dengan transmart cilandak kko , kebun binatangakses tol jorr tb simatupang\n",
      "====================================================================================================\n",
      "16500.0\n",
      "rumah mewah dalam townhouse di mampang prapatan dekat gatot subroto dan kuningan rasuna said jakarta selatan.kondisi seken terawat dan bagus, lokasi dijamin sangat strategis sekali karena dekat ke segitiga emas dan sudah pasti dekat kemana2..liblngkungan nyaman sekali dengan akses mudah sekali dijangkau serta bebas banjir.lt 205m & lb.300m2 lantai4 kt & 4 km2 kmr pembantu & 1 kmr mandi pembantusurat shmhrg 5,6 milyar nego\n",
      "====================================================================================================\n",
      "16500.0\n",
      "rumah brand new 3lt siap huni 8x19 type 5+1kt di tebet jakarta selatan  rumah brand new siap huni dengan private poll ditebet  bangunan 3lantai  luas tanah : 154m  dimensi : 8x19  luas bangunan : 300m kamar tidur : 5+1 kamar mandi : 3+1  carport : 2 garasi : 1 listrik : 3500watt  ac : 5unit  air : pam  kondisi semi furnished  sertifikat : shm (sertifikat hak milik)  harga jual : 4.97m (nego sampai deal)   more info:  rini no hp & wa :   call center :  re/max premier  #lol\n",
      "====================================================================================================\n",
      "16500.0\n",
      "dijual rumah minimalis modern (jarang ada) lokasi strategis hanya 5 menit ke fatmawati mrt n busway ragunan.  lingkungan rumah pejabat ex menteri n orang besar.  cocok untuk jadi  1. rumah tinggal, 2. kantor 3. penginapan residence bnb  selling point: - jalan 2 mobil - lokasi strategis di pusat cilandak jakarta selatan. - hanya 5 menit dengan pintu toll cilandak nandara - lokasi tenang dan hijau. - dekat masjid alajabar, hanya 100 m dr rumah. - dikelilingi mall * 5 menit ke onebel mall * 5 menit ke cilandak mall * 10 menit ke pejaten mall * 10 menit ke chitos mall * 10 menit ke cinere mall * 15 menit ke pondok indah sekolah - 1 menit ke aljabar islam school - 1 menit smu 66 - 1 menit sdn 13 rumah sakit - 5 menit rs marinir - 5 menit rs mayapada - 5 menit rs pasar minggu - 5 menit rs ajiwaras - 5 menit ibu n anak kemang  fasilitas: - 2 ceiling fan esklusif. - 4 ac ( 3 x 0.5 pk n 1 pk inverter) - 1 filter air - pagar rumah - korden n teralis jendela - beranda lantai 2, - rangka atap baja ringan. - genteng keramik\n",
      "====================================================================================================\n"
     ]
    }
   ],
   "source": [
    "x = df[df['electricity']>10_000]\n",
    "for i in range(100):\n",
    "    print(x.iloc[i]['electricity'])\n",
    "    print(x.iloc[i]['deskripsi'])\n",
    "    print(100*'=')"
   ]
  },
  {
   "cell_type": "code",
   "execution_count": 108,
   "metadata": {},
   "outputs": [
    {
     "name": "stdout",
     "output_type": "stream",
     "text": [
      "1300.0\n",
      "promo nowvember (now or never) lrt city tebet - the premiere mth november 2020 : bebas dp* | bebas biaya akad* | booking fee 5 juta*\n",
      "*s&k berlaku\n",
      "lrt city tebet - the premiere mth tipe premiere superior merupakan tipe apartemen yang dilengkapi dengan 1 kamar tidur, 1 kamar mandi, dapur, dan balkon. tipe premiere superior memiliki luas bangunan sga 24,12 m2 yang didukung dengan kapasitas listrik 1300 watt. harga untuk tipe ini mulai dari rp. 809.200.000.\n",
      "keunggulan dari lrt city tebet - the premiere mth\n",
      "lokasi strategis berada di kawasan tebet, jakarta selatan.\n",
      "  terintegrasi langsung dengan sistem transportasi massal lrt, brt, dan krl.\n",
      "  didukung dengan fasilitas lengkap seperti bicycle park, kolam renang.\n",
      "  250 meter dari pintu masuk dalam kota.\n",
      "  8 menit ke bandara halim perdana kusuma.\n",
      "fasilitas yang terdapat pada lrt city tebet - the premiere mth, antara lain :\n",
      "gym\n",
      "  bank\n",
      "  playground\n",
      "  bicycle park\n",
      "  f&b\n",
      "  retail\n",
      "  kindergarten\n",
      "  plaza & garden\n",
      "  coworking space\n",
      "  podium\n",
      "  swimming pod\n",
      "  24 hours cctv\n",
      "  pedestrian area\n",
      "====================================================================================================\n",
      "1300.0\n",
      "rp 4.500.000.000,- nego banyak jual cepat turun harga, rumah mewah bebas banjir, di tebet utara mewah bebas banjir, di tebet utara  tebet, jakarta selatan, jakarta d.k.i.   luas bangunan  250 m²  luas tanah  202 m²  2 lantai  hadap utara, adem sepanjang hari  kamar tidur  5  kamar mandi  5    terdiri dari:        3 kamar tidur (+ kamar mandi di dalam semua)        1 kamar mandi ruang tamu        2 kamar art + 1 kamar mandi art  fasilitas  pintu gerbang pagar rumah cukup lebar untuk manuver memutar balik arah mobil.  daya listrik 5500 watt  carport  garasi  garden  telephone  sertifikasi shm - sertifikat hak milik - imb - pbb dokumen legalitas lengkap  lokasi strategis: tebet utara, kel. tebet timur, kec. tebet, jakarta selatan  hanya 90 meter dari jl. raya tebet  1 menit ke jalan raya kh abdullah syafei/ jl. kasablanka,   5 menit jalan kaki ke stasiun tebet,   10 menit ke mall kota kasablanka & cbd kuningan  di sepanjang jl. raya tebet, tersedia berbagai macam restaurant & cafe berkelas nasional & internasional (starbuck, hokben, dsb.) .  akses & lingkungan  jalan 1 mobil hanya 40 meter keluar ke jalan 2 mobil & hanya 90 meter dari jl. raya tebet  lokasi rumah di ujung gang buntu: dapat tambahan tempat parkir 2 mobil di depan rumah (bisa untuk mobil tamu atau milik penghuni rumah ini)  bebas banjir  lingkungan perumahan ekslusif, elit, bergengsi, nyaman dan aman dengan security kompleks,   turun harga dari 5,5 m jadi hanya 4.5 m, masih bisa nego banyak, lagi! di bawah harga pasaran di area ini  note:   beberapa titik talang, plafond & rangka atap, perlu perbaikan karena bocor. perkiraan biaya perbaikan kurang dari 100 juta. harga bisa dinego banyak untuk kompensasi perbaikan  cash only  minat serius, silakan langsung telepon atau whatsapp  di nomor hp:  kapan saja, akan kami layani dengan senang hati.   mohon maaf, sebaiknya di-survey dulu rumahnya, sebelum menawar rumah ini  takutnya, setelah melihat langsung rumahnya, mungkin saja kecewa dengan penawaran ini atau bisa juga sebaliknya, mungkin saja anda merasa jodoh dengan rumah itu setelah masuk, sehingga anda bisa mencapai kesepakatan harga dengan pemilik.  jadi, tidak perlu sungkan² untuk survey, dengan senang hati akan kami antarkan    mohon maaf, kami tidak bisa memberitahukan alamat lengkap atau nama jalannya, karena kami terikat perjanjian dengan pemilik. kalau berminat, silakan di-survey saja dulu , nanti kami jemput di titik temu yang kita sepakati, kemudian dari situ kami antar ke lokasi rumahnya. kalau cocok, silakan nego langsung dengan pemilik. kalau nggak cocok pun, tidak ada masalah bagi kami, karena itu sudah pekerjaan kami & sudah konsekuensi dari penjual. jadi, tidak perlu sungkan² untuk survey. dengan senang hati akan kami antarkan.   mohon mengajukan jadwal perjanjian survey minimal 4 jam sebelumnya, lebih baik lagi minimal sehari sebelumnya.\n",
      "====================================================================================================\n",
      "1300.0\n",
      "for sale ;\n",
      " \n",
      "rumah baru daerah cipete,jeruk purut akses mudah dijangkau ;\n",
      " \n",
      "> dekat ke kemang\n",
      "> tb simatupang\n",
      "> ampera\n",
      "> antasari\n",
      "• bebas bajir\n",
      "• jalan 2 mobil\n",
      " \n",
      "spek ;\n",
      " \n",
      "luas tanah : 151 m²\n",
      "bangunan : 245 m²\n",
      "kamar tidur : 3 + 1\n",
      "kamar mandi : 2 + 1 ( + 1 toilet di lantai bawah )\n",
      "carport : 3 mobil\n",
      " \n",
      "harga :5,95 m ( nego )\n",
      " \n",
      "noted : untuk luas masih ada beberapa pilihan dalam townhouse ini.\n",
      "silahkan hub no.kontak yg ada di iklan.\n",
      " \n",
      "trm ksh.\n",
      "====================================================================================================\n",
      "1300.0\n",
      "dijual rumah megah siap huni dalam komplek perumahan elite buncit indah dengan semi furnish, lokasi bagus, lingkungan nyaman dan pasti bebas banjir pejaten barat, jakarta selatan.  pejaten barat, jakarta selatan luas tanah : 800 m2 luas bangunan : 1000 m2 tingkat : 3 lantai  kamar tidur : 7 + 4 kamar mandi : 7 + 2 ruang tamu, ruang keluarga : 2 gudang : 2 dapur : bersih + kotor lantai : marmer, granite ac : central garasi, carport : 6 + 3 hadap : selatan  dekat ke pejaten village mall, perkantoran tb simatupang, toko, sekolah dll. harga rp 23 milyar (nego)  ray white kemang premier sanny   bernhard\n",
      "====================================================================================================\n",
      "1300.0\n",
      "promo wish for home southgate residence elegance tower 2021 : hanya bayar utj 15 juta langsung akad* | keringanan dp up to 15%* | insentif huni 5%* | insentif khusus 4%* | semi furnished* (periode 6 maret - 30 juni 2021)\n",
      "*s&k berlaku\n",
      "southgate elegance tower tipe 2br merupakan tipe apartemen yang dilengkapi dengan 2 kamar tidur, 2 kamar mandi, ruang tamu, ruang makan, dan dapur. tipe ini memiliki luas bangunan 103 meter persegi yang dilengkapi dengan furniture yang modern dan nyaman.\n",
      "keunggulan southgate residence\n",
      "lokasi strategis dari pusat komersial, bisnis, serta transportasi.\n",
      "  dibangun dengan konsep mixed used development.\n",
      "  memiliki fasilitas lengkap dan memadai.\n",
      "  dikembangkan oleh developer terpercaya serta berpengalaman, yaitu sinar mas land.\n",
      "  terdapat area terbuka hijau.\n",
      "  terintegrasi dengan commuter line, busway, dan gerbang tol.\n",
      "fasilitas yang terdapat dalam southgate elegance tower, yaitu :\n",
      "sky lounge\n",
      "  sky yoga\n",
      "  sky bar\n",
      "  sky pool\n",
      "  sky garden\n",
      "  sky relaxing corner\n",
      "  private dining room\n",
      "  co-working space\n",
      "  meeting room\n",
      "====================================================================================================\n",
      "1300.0\n",
      "super flash sale   rumah di area complex townhouse  rumah terawat rapih dan bersih  lingkungan nyaman dan asri  lokasi :  ciganjur - jagakarsa  jakarta selatan   keterangan produk : luas tanah 144 m² luas bangunan 154 m² kamar tidur 3+1 kamar mandi 2+1 hadap selatan carport 2 mobil listrik 4400 watt air dari sumur bor kedalaman 15 meter (air sudah jernih tidak harus pakai filter lagi)  . . .  fasilitas public townhouse : one gate system cctv lampu jalan dlm kompleks jalan paving  fasilitas public luar : dekat dengan sekolah-sekolah negeri favorit dekat dengan lingkungan perguruan tinggi dekat dengan tk,sd,smp, smu dekat rumah sakit umum dan bersalin dekat pusat pembelanjaan mall cilandak,citos,carrefour,mall pondok indah, dll  akses :   angkutan umum 24 jam  -+10 menit dari toll tb.simatupang  -+10 menit citos  -+10 menit rumah sakit fatmawati  -+15 menit pondok indah mall  produk ini diopen dengan harga hanya 2,9milyard saja...  note : semi-furnished (negotiable)   segera survei sebelum terjual unit nya   info produk hubungi :  .  .   supported by, bmg realty (professional property agent )\n",
      "====================================================================================================\n",
      "1300.0\n",
      "dijual murah rumah tua di pondok indah jakarta selatan  sertifikat shm luas tanah 1424 m2 (25 x 58 m) luas bangunan 441 m2 bangunan lama/tua harga : 42 m (nego)  hubungi: antonius   terima titip jual, beli, sewa, bangun, renovasi\n",
      "====================================================================================================\n",
      "1300.0\n",
      "lt 180 lb 240 kamar 4+1 kamar mandi 3+1 lantai 6060 granito merk valentino closer toto kitchen set penangkal petir genteng cisangkan baja ringan pompa air pompa pendorong taman depan dan belakang luas carport 3 mobil canopy instalasi air panas instalasi ac exhause harga negoo\n",
      "====================================================================================================\n",
      "1300.0\n",
      "strategis, bebas banjir, layak pakai, tenang, aman, dekat pim, murah, bu, jarang ada\n",
      "====================================================================================================\n",
      "1300.0\n",
      "- rumah hook mewah dalam cluster one gate system - rooftop (taman, air mancur dan bale2/gasebo) - lokasi cipinang selangkah ke jl protokol - dekat tebet, mall basura - lt 188 (real 205) - lb 300an - 5 + 1 kamar tidur - 3 + 2 kamar mandi - 2 mobil carport - 3 mobil parkir samping rumah - ruang gym - rooftop/taman & bale2  harga : 7m full furnished __ selling point  fasilitas , tidak pernah banjir rooftop - taman dan gasebo/bale2 town house one gate system dekat tebet, kelapa gading, rawamangun lokasi pinggir jalan akses mobil 2 jalur lega shm, imb listrik 3500watt sumber air sumur dan pam lantai dua full parquet kayu kualitas diatas granite tile 6 ac, 3 water heater lingkungan bersih rapi keamanan 24 jam satpam dan cctv 15 menit ke jl sudirman - thamrin\n",
      "====================================================================================================\n",
      "1300.0\n",
      "dijual rumah asri siap huni jalan cempaka iii bintaro pesanggrahan jakarta selatan\n",
      "luas tanah 815 m2 luas bangunan 386 m25 kamar tidur, setiap kamar ada kamar mandi1 kamar pembantu1 kamar mandi tamu1 kamar mandi pembantugarasi 2 mobil car port 4 mobillistrik 6.500 wattdapur kotor dan bersihteras samping bisa berkebuntempat jemur bajulokasi sangat private, tenang, nyaman dan asri.\n",
      "rp. 7 m nego\n",
      "hub. eddy br gading\n",
      "====================================================================================================\n",
      "1300.0\n",
      "jual termurah siapa cepat apartemen pancoran riverside 2br furnish  luas: 33 m2 tower: 1 lantai: 10 furnish terawat 2 bedroom 1 bathroom harga: 325 juta (include biaya balik nama) unit: 21pr2braj62o  additional info: -promo bulan ramadhan,harga termurah banget tinggal 1 unit,siapa cepat saja. -sangat langka banget dengan harga segini sudah include biaya balik nama legal. -kondisi unit sesuai foto,masih terawat banget tinggal bawa koper,lantai sedang.  tersedia juga unit dan lokasi lainnya: cutt.ly/pancoranriverside kami juga menerima titip jual beli sewa property milik anda dan pembayaran dengan credit card. info lebih lanjut & jadwal survey kontak kami di /.terima kasih\n",
      "====================================================================================================\n",
      "1300.0\n",
      "satu lagi kami hadirkan the colony kawasan hunian nyaman yang menyajikan lay out maksimal, pencahayaan dan sirkulasi udara yang sehat menjadikan pertimbangan tinggi dimana anda akan menempatkan keluarga bahagia anda. tak diragukan lagi wilayah karang tengah terletak dikawasan sangat strategis antara fatmawati dan lebak bulus, sehingga memiliki nilai investasi yang sangat bagus. terdapat 3 type: luas tanah : 104 - 143luas bangunan : 118 - 300kamar tidur : 3+1kamar mandi: 3+1jumlah lantai : 2 dan 3carpot : 2listrik : 2200 wattsumber air : air tanah + pompa listrik + torensambungan tlp : 1 linesurat shm dan imb speksifikasi bangunan : pondasi : batu kali dan beton bertulang-struktur : beton bertulangdinding : bata plester acipintu : kamper overkunci : solidatap : rangka atap baja ringanlantai utama : granite tilekamar mandi : keramik (roman)plafond : rangka besi hollow gypsum fasilitas : keamanan + cctv 24 jam ( one gate system )row jalan lebar\n",
      "====================================================================================================\n",
      "1300.0\n",
      "langka!! jarang ada!! di jual cepat (bu) termurah, dibawah harga pasaran!!  siapa cepat dia dapat!! 1 unit rumah lama, sangat langka, di pusat jakarta selatan, bagus sekali dan cocok untuk kos-kosan, maupun tempat tinggal, lingkungan sekitar tenang, aman dan nyaman. akses jalan bisa 2 mobil. bebas banjir !! keamanan 24 jam spesifikasi : luas tanah : 186 m2 luas bangunan : 150 m2 bangunan : 2 lantai kamar tidur : 4 kamar mandi : 2 garasi 2 mobil shgb bisa ke shm lokasi sangat strategis di jakarta selatan dengan berbagai keunggulan: - 8 menit ke sudirman - 8 menit ke senayan dan scbd - 10 menit ke gatot subroto harga : 4 m nego sampai deal hubungi :  usmar (wa)\n",
      "====================================================================================================\n",
      "1300.0\n",
      "promo wish for home southgate residence altuera tower 2021 : hanya bayar utj 15 juta langsung akad* | keringanan dp up to 15%* | insentif khusus 5%* | diskon up to 22%*| semi furnished* (periode 6 maret - 30 juni 2021)\n",
      "*s&k berlaku\n",
      "southgate altuera tower tipe 2br loft merupakan tipe apartemen yang dilengkapi dengan 2 kamar tidur, 1 kamar mandi, ruang tamu/keluarga, dan dapur. tipe 2br loft memiliki luas bangunan 84 meter persegi yang dilengkapi dengan furniture yang modern dan nyaman.\n",
      "keunggulan southgate residence\n",
      "lokasi strategis dari pusat komersial, bisnis, serta transportasi.\n",
      "  dibangun dengan konsep mixed used development.\n",
      "  memiliki fasilitas lengkap dan memadai.\n",
      "  dikembangkan oleh developer terpercaya serta berpengalaman, yaitu sinar mas land.\n",
      "  terdapat area terbuka hijau.\n",
      "  terintegrasi dengan commuter line, busway, dan gerbang tol.\n",
      "fasilitas yang terdapat dalam southgate altuera tower, yaitu :\n",
      "entrance porch\n",
      "  sauna lounge\n",
      "  outdoor/indoor gym\n",
      "  climbing wall\n",
      "  digital door viewer\n",
      "  barbeque patio\n",
      "  mini golf\n",
      "====================================================================================================\n",
      "1300.0\n",
      "lebak bulus  - free kitchen set - free ac 3 unit  spesifikasi :  bangunan tahun : 2021 shm,imb&pbb (pecah per kavling) lb : 160m2 lt  : 114m2  2 lantai kt  : 3+1 km : 5 dinding full bata merah lantai : full granit dapur :  granit kamar mandi : keramik lokal (roman) kusen pintu : alumunium pintu : kayu kamper oven plafon : gypsum atap : baja ringan & genteng keramik sanitasi : toto toren  perabotan : unfurnished listrik : daya 3500watt prabayar garasi : carpot 2 mobil bangunan menghadap : barat sumber air : jetpump  akses jalan :  mobil  bebas banjir : ya  lokasi dalam cluster  one gate system & security 24 jam  harga *2,8m (nego)*  pembayaran > kpr > cash\n",
      "====================================================================================================\n",
      "1300.0\n",
      "promo wish for home southgate residence altuera tower 2021 : hanya bayar utj 15 juta langsung akad* | keringanan dp up to 15%* | insentif khusus 5%* | diskon up to 22%*| semi furnished* (periode 6 maret - 30 juni 2021)\n",
      "*s&k berlaku\n",
      "southgate altuera tower tipe studio loft merupakan tipe apartemen yang dilengkapi dengan 1 kamar tidur dan 1 kamar mandi. tipe studio loft memiliki luas bangunan 44 meter persegi yang dilengkapi dengan furniture yang modern dan nyaman.\n",
      "keunggulan southgate residence\n",
      "lokasi strategis dari pusat komersial, bisnis, serta transportasi.\n",
      "  dibangun dengan konsep mixed used development.\n",
      "  memiliki fasilitas lengkap dan memadai.\n",
      "  dikembangkan oleh developer terpercaya serta berpengalaman, yaitu sinar mas land.\n",
      "  terdapat area terbuka hijau.\n",
      "  terintegrasi dengan commuter line, busway, dan gerbang tol.\n",
      "fasilitas yang terdapat dalam southgate altuera tower, yaitu :\n",
      "entrance porch\n",
      "  sauna lounge\n",
      "  outdoor/indoor gym\n",
      "  climbing wall\n",
      "  digital door viewer\n",
      "  barbeque patio\n",
      "  mini golf\n",
      "====================================================================================================\n",
      "1300.0\n",
      "dijual rumah di area ragunan, jakarta selatan rumah desain spesial yang dirancang khusus oleh pemiliknya furniture sebagian akan ditinggal lokasi terletak diantara jalan cilandak kko dan jalan rm harsono strategis dekat ke pintu toll jorr dan jalan tb simatupang fasilitas sarana sekitar sudah lengkap lt / lb : 1.400 / 1.000 10 kt, 8 km, r. keluarga, dapur bersih & kotor, garasi 1 mbl, carport 4 mbl, 2 lantai kamar besar2, kt pembantu, kolam renang, lapangan badminton surat : shm harga : rp. 16.500.000.000,- (nego)\n",
      "====================================================================================================\n",
      "1300.0\n",
      "promo nowvember (now or never) lrt city tebet - the premiere mth november 2020 : bebas dp* | bebas biaya akad* | booking fee 5 juta*\n",
      "*s&k berlaku\n",
      "lrt city tebet - the premiere mth tipe premiere deluxe merupakan tipe apartemen yang dilengkapi dengan 1 kamar tidur, 1 kamar mandi, ruang tamu, dapur, dan balkon. tipe premiere deluxe memiliki luas bangunan sga 36,18 m2 yang didukung dengan kapasitas listrik 1300 watt. harga untuk tipe ini mulai dari rp. 1.213.000.000.\n",
      "keunggulan dari lrt city tebet - the premiere mth\n",
      "lokasi strategis berada di kawasan tebet, jakarta selatan.\n",
      "  terintegrasi langsung dengan sistem transportasi massal lrt, brt, dan krl.\n",
      "  didukung dengan fasilitas lengkap seperti bicycle park, kolam renang.\n",
      "  250 meter dari pintu masuk dalam kota.\n",
      "  8 menit ke bandara halim perdana kusuma.\n",
      "fasilitas yang terdapat pada lrt city tebet - the premiere mth, antara lain :\n",
      "gym\n",
      "  bank\n",
      "  playground\n",
      "  bicycle park\n",
      "  f&b\n",
      "  retail\n",
      "  kindergarten\n",
      "  plaza & garden\n",
      "  coworking space\n",
      "  podium\n",
      "  swimming pod\n",
      "  24 hours cctv\n",
      "  pedestrian area\n",
      "====================================================================================================\n",
      "1300.0\n",
      "jual cepat ; rumah siap huni. lokasi di dalam perumahan di cilandak, jaksel spec ; * rumah 1 lantai * luas tanah : 550 m² * bangunan : 300 m² * kamar tidur : 4 * kamar mandi : 3 * garasi : 2 * carport : 2 * kamar art : 1 + kamar mandi * gudang * service area * ada taman depan & belakang fasilitas sekitar ; > 10 menit ke transmart cilandak kko > 10 menit ke ragunan zoo > 5 menit ke pintu tol andara > 15 menit ke rs siloam lebak bulus > 15 menit ke ais,jis,tis & is ( sekolah internasional ) harga : 8.5m ( nego )\n",
      "====================================================================================================\n"
     ]
    }
   ],
   "source": [
    "x = df[df['electricity']<10_000]\n",
    "for i in range(20):\n",
    "    print(x.iloc[i]['electricity'])\n",
    "    print(x.iloc[i]['deskripsi'])\n",
    "    print(100*'=')"
   ]
  },
  {
   "cell_type": "markdown",
   "metadata": {},
   "source": [
    "### _Useful codes_\n",
    "df[df['lb'].isna()==True]\n",
    "df.dropna(subset=['lb'], inplace=True)\n",
    "df.loc[df['Tipe Properti'] == \"Apartemen\", \"Jumlah Lantai\"] = \"1\"\n",
    "df.drop(df[(df['lt']>22) & (df['tipe_property'] != 'Apartemen')].index, inplace=True)\n",
    "df['Jumlah Lantai_Desc'] = df['Jumlah Lantai_Desc'].fillna(-1)\n",
    "\n"
   ]
  },
  {
   "cell_type": "code",
   "execution_count": 120,
   "metadata": {},
   "outputs": [
    {
     "data": {
      "image/png": "[encoded data removed]",
      "text/plain": [
       "<Figure size 1490.4x595.44 with 1 Axes>"
      ]
     },
     "metadata": {},
     "output_type": "display_data"
    }
   ],
   "source": [
    "df[df['tipe_property']=='Rumah']['lokasi'].value_counts().plot.bar()\n",
    "plt.show()"
   ]
  },
  {
   "cell_type": "code",
   "execution_count": null,
   "metadata": {},
   "outputs": [],
   "source": []
  }
 ],
 "metadata": {
  "kernelspec": {
   "display_name": "Python 3",
   "language": "python",
   "name": "python3"
  },
  "language_info": {
   "codemirror_mode": {
    "name": "ipython",
    "version": 3
   },
   "file_extension": ".py",
   "mimetype": "text/x-python",
   "name": "python",
   "nbconvert_exporter": "python",
   "pygments_lexer": "ipython3",
   "version": "3.8.5"
  }
 },
 "nbformat": 4,
 "nbformat_minor": 4
}
