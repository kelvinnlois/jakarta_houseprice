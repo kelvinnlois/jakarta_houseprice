{
 "cells": [
  {
   "cell_type": "markdown",
   "metadata": {},
   "source": [
    "# Statsmodels dan lasso regression buat ngecek regresi"
   ]
  },
  {
   "cell_type": "code",
   "execution_count": 1,
   "metadata": {},
   "outputs": [],
   "source": [
    "import numpy as np\n",
    "import pandas as pd\n",
    "import matplotlib.pyplot as plt\n",
    "import seaborn as sns\n",
    "import warnings\n",
    "\n",
    "%matplotlib inline\n",
    "warnings.filterwarnings(\"ignore\")\n",
    "pd.set_option('display.max_columns',False)\n",
    "sns.set(rc={'figure.figsize':(20.7,8.27)})\n",
    "sns.set_style(\"whitegrid\")\n",
    "sns.color_palette(\"dark\")\n",
    "plt.style.use(\"fivethirtyeight\")"
   ]
  },
  {
   "cell_type": "markdown",
   "metadata": {},
   "source": [
    "Sementara pake ver3 ye soalnya filenya belom dirapihin"
   ]
  },
  {
   "cell_type": "markdown",
   "metadata": {},
   "source": [
    "Original data"
   ]
  },
  {
   "cell_type": "code",
   "execution_count": 2,
   "metadata": {},
   "outputs": [
    {
     "name": "stdout",
     "output_type": "stream",
     "text": [
      "<class 'pandas.core.frame.DataFrame'>\n",
      "Int64Index: 12765 entries, 0 to 13495\n",
      "Data columns (total 13 columns):\n",
      " #   Column         Non-Null Count  Dtype  \n",
      "---  ------         --------------  -----  \n",
      " 0   kamar_mandi    12765 non-null  int64  \n",
      " 1   kamar_tidur    12765 non-null  int64  \n",
      " 2   luas_bangunan  12765 non-null  float64\n",
      " 3   luas_tanah     12765 non-null  float64\n",
      " 4   harga          12765 non-null  float64\n",
      " 5   deskripsi      12765 non-null  object \n",
      " 6   kecamatan      12765 non-null  object \n",
      " 7   garasi         12765 non-null  bool   \n",
      " 8   kolam_renang   12765 non-null  bool   \n",
      " 9   taman          12765 non-null  bool   \n",
      " 10  gym            12765 non-null  bool   \n",
      " 11  listrik        12765 non-null  float64\n",
      " 12  jumlah_lantai  12765 non-null  int64  \n",
      "dtypes: bool(4), float64(4), int64(3), object(2)\n",
      "memory usage: 1.0+ MB\n"
     ]
    }
   ],
   "source": [
    "df = pd.read_csv('data_clean.csv')\n",
    "df = df[df['tipe']=='Rumah']\n",
    "df = df.drop(['Unnamed: 0','tipe'], axis = 1)\n",
    "df = df.drop_duplicates()\n",
    "df.info()"
   ]
  },
  {
   "cell_type": "markdown",
   "metadata": {},
   "source": [
    "Margin Of Error (jumlah rumah ~ jumlah rumah tangga, sumber: bps)"
   ]
  },
  {
   "cell_type": "code",
   "execution_count": 3,
   "metadata": {},
   "outputs": [],
   "source": [
    "from math import sqrt"
   ]
  },
  {
   "cell_type": "code",
   "execution_count": 4,
   "metadata": {},
   "outputs": [
    {
     "data": {
      "text/plain": [
       "0.8829674769368011"
      ]
     },
     "execution_count": 4,
     "metadata": {},
     "output_type": "execute_result"
    }
   ],
   "source": [
    "N = 2659205 #population size\n",
    "n = len(df) #sample size\n",
    "error = sqrt((N-n)/(N*n))\n",
    "error*100"
   ]
  },
  {
   "cell_type": "code",
   "execution_count": 5,
   "metadata": {},
   "outputs": [],
   "source": [
    "num = [i for i in df.columns if df[i].dtypes in ['int64', 'float']]\n",
    "cat = [i for i in df.columns if df[i].dtypes in ['O', 'bool']]"
   ]
  },
  {
   "cell_type": "code",
   "execution_count": 6,
   "metadata": {},
   "outputs": [],
   "source": [
    "df[cat] = df[cat].astype('O')"
   ]
  },
  {
   "cell_type": "markdown",
   "metadata": {},
   "source": [
    "Encoding samain, gausah pake decision tree encoder"
   ]
  },
  {
   "cell_type": "code",
   "execution_count": 7,
   "metadata": {},
   "outputs": [],
   "source": [
    "from feature_engine.encoding import OrdinalEncoder as OE"
   ]
  },
  {
   "cell_type": "markdown",
   "metadata": {},
   "source": [
    "x = independent variables"
   ]
  },
  {
   "cell_type": "code",
   "execution_count": 8,
   "metadata": {},
   "outputs": [],
   "source": [
    "oe = OE(variables = [i for i in cat])\n",
    "oe.fit(df,df['harga'])\n",
    "x = oe.transform(df)"
   ]
  },
  {
   "cell_type": "code",
   "execution_count": 9,
   "metadata": {},
   "outputs": [],
   "source": [
    "from sklearn.preprocessing import StandardScaler as ss"
   ]
  },
  {
   "cell_type": "code",
   "execution_count": 10,
   "metadata": {},
   "outputs": [
    {
     "data": {
      "text/plain": [
       "StandardScaler()"
      ]
     },
     "execution_count": 10,
     "metadata": {},
     "output_type": "execute_result"
    }
   ],
   "source": [
    "x_scale = ss()\n",
    "x_scale.fit(x.drop('harga',axis = 1))\n",
    "y_scale = ss()\n",
    "y_scale.fit(x[['harga']])"
   ]
  },
  {
   "cell_type": "markdown",
   "metadata": {},
   "source": [
    "Statsmodels buat ngecek awal aja, cara seleksi feature salah satunya bisa pake statsmodels"
   ]
  },
  {
   "cell_type": "code",
   "execution_count": 11,
   "metadata": {},
   "outputs": [],
   "source": [
    "import statsmodels.api as sm"
   ]
  },
  {
   "cell_type": "code",
   "execution_count": 12,
   "metadata": {},
   "outputs": [],
   "source": [
    "x = x_scale.transform(x.drop(['harga'],axis = 1))\n",
    "x = pd.DataFrame(x)\n",
    "x.columns = df.drop('harga', axis = 1).columns\n",
    "\n",
    "y = y_scale.transform(df[['harga']])\n",
    "y = pd.DataFrame(y)\n",
    "y.columns = ['harga']\n",
    "initial_data = pd.concat([x,y],axis = 1)\n",
    "x = sm.add_constant(x)"
   ]
  },
  {
   "cell_type": "code",
   "execution_count": 13,
   "metadata": {},
   "outputs": [
    {
     "data": {
      "text/html": [
       "<table class=\"simpletable\">\n",
       "<caption>OLS Regression Results</caption>\n",
       "<tr>\n",
       "  <th>Dep. Variable:</th>          <td>harga</td>      <th>  R-squared:         </th> <td>   0.567</td> \n",
       "</tr>\n",
       "<tr>\n",
       "  <th>Model:</th>                   <td>OLS</td>       <th>  Adj. R-squared:    </th> <td>   0.567</td> \n",
       "</tr>\n",
       "<tr>\n",
       "  <th>Method:</th>             <td>Least Squares</td>  <th>  F-statistic:       </th> <td>   1392.</td> \n",
       "</tr>\n",
       "<tr>\n",
       "  <th>Date:</th>             <td>Tue, 25 May 2021</td> <th>  Prob (F-statistic):</th>  <td>  0.00</td>  \n",
       "</tr>\n",
       "<tr>\n",
       "  <th>Time:</th>                 <td>13:57:50</td>     <th>  Log-Likelihood:    </th> <td> -12768.</td> \n",
       "</tr>\n",
       "<tr>\n",
       "  <th>No. Observations:</th>      <td> 12765</td>      <th>  AIC:               </th> <td>2.556e+04</td>\n",
       "</tr>\n",
       "<tr>\n",
       "  <th>Df Residuals:</th>          <td> 12752</td>      <th>  BIC:               </th> <td>2.566e+04</td>\n",
       "</tr>\n",
       "<tr>\n",
       "  <th>Df Model:</th>              <td>    12</td>      <th>                     </th>     <td> </td>    \n",
       "</tr>\n",
       "<tr>\n",
       "  <th>Covariance Type:</th>      <td>nonrobust</td>    <th>                     </th>     <td> </td>    \n",
       "</tr>\n",
       "</table>\n",
       "<table class=\"simpletable\">\n",
       "<tr>\n",
       "        <td></td>           <th>coef</th>     <th>std err</th>      <th>t</th>      <th>P>|t|</th>  <th>[0.025</th>    <th>0.975]</th>  \n",
       "</tr>\n",
       "<tr>\n",
       "  <th>const</th>         <td>-7.581e-17</td> <td>    0.006</td> <td> -1.3e-14</td> <td> 1.000</td> <td>   -0.011</td> <td>    0.011</td>\n",
       "</tr>\n",
       "<tr>\n",
       "  <th>kamar_mandi</th>   <td>   -0.0123</td> <td>    0.009</td> <td>   -1.325</td> <td> 0.185</td> <td>   -0.031</td> <td>    0.006</td>\n",
       "</tr>\n",
       "<tr>\n",
       "  <th>kamar_tidur</th>   <td>   -0.0242</td> <td>    0.008</td> <td>   -2.869</td> <td> 0.004</td> <td>   -0.041</td> <td>   -0.008</td>\n",
       "</tr>\n",
       "<tr>\n",
       "  <th>luas_bangunan</th> <td>    0.4263</td> <td>    0.010</td> <td>   43.253</td> <td> 0.000</td> <td>    0.407</td> <td>    0.446</td>\n",
       "</tr>\n",
       "<tr>\n",
       "  <th>luas_tanah</th>    <td>    0.2777</td> <td>    0.009</td> <td>   31.114</td> <td> 0.000</td> <td>    0.260</td> <td>    0.295</td>\n",
       "</tr>\n",
       "<tr>\n",
       "  <th>deskripsi</th>     <td>    0.0346</td> <td>    0.010</td> <td>    3.597</td> <td> 0.000</td> <td>    0.016</td> <td>    0.054</td>\n",
       "</tr>\n",
       "<tr>\n",
       "  <th>kecamatan</th>     <td>    0.1598</td> <td>    0.007</td> <td>   21.757</td> <td> 0.000</td> <td>    0.145</td> <td>    0.174</td>\n",
       "</tr>\n",
       "<tr>\n",
       "  <th>garasi</th>        <td>   -0.0074</td> <td>    0.006</td> <td>   -1.226</td> <td> 0.220</td> <td>   -0.019</td> <td>    0.004</td>\n",
       "</tr>\n",
       "<tr>\n",
       "  <th>kolam_renang</th>  <td>    0.0209</td> <td>    0.006</td> <td>    3.272</td> <td> 0.001</td> <td>    0.008</td> <td>    0.033</td>\n",
       "</tr>\n",
       "<tr>\n",
       "  <th>taman</th>         <td>    0.0027</td> <td>    0.006</td> <td>    0.460</td> <td> 0.645</td> <td>   -0.009</td> <td>    0.014</td>\n",
       "</tr>\n",
       "<tr>\n",
       "  <th>gym</th>           <td>    0.0181</td> <td>    0.006</td> <td>    3.053</td> <td> 0.002</td> <td>    0.006</td> <td>    0.030</td>\n",
       "</tr>\n",
       "<tr>\n",
       "  <th>listrik</th>       <td>    0.0368</td> <td>    0.006</td> <td>    6.058</td> <td> 0.000</td> <td>    0.025</td> <td>    0.049</td>\n",
       "</tr>\n",
       "<tr>\n",
       "  <th>jumlah_lantai</th> <td>   -0.0378</td> <td>    0.006</td> <td>   -6.061</td> <td> 0.000</td> <td>   -0.050</td> <td>   -0.026</td>\n",
       "</tr>\n",
       "</table>\n",
       "<table class=\"simpletable\">\n",
       "<tr>\n",
       "  <th>Omnibus:</th>       <td>14601.254</td> <th>  Durbin-Watson:     </th>   <td>   1.740</td>  \n",
       "</tr>\n",
       "<tr>\n",
       "  <th>Prob(Omnibus):</th>  <td> 0.000</td>   <th>  Jarque-Bera (JB):  </th> <td>10697949.038</td>\n",
       "</tr>\n",
       "<tr>\n",
       "  <th>Skew:</th>           <td> 5.213</td>   <th>  Prob(JB):          </th>   <td>    0.00</td>  \n",
       "</tr>\n",
       "<tr>\n",
       "  <th>Kurtosis:</th>       <td>144.439</td>  <th>  Cond. No.          </th>   <td>    4.04</td>  \n",
       "</tr>\n",
       "</table><br/><br/>Warnings:<br/>[1] Standard Errors assume that the covariance matrix of the errors is correctly specified."
      ],
      "text/plain": [
       "<class 'statsmodels.iolib.summary.Summary'>\n",
       "\"\"\"\n",
       "                            OLS Regression Results                            \n",
       "==============================================================================\n",
       "Dep. Variable:                  harga   R-squared:                       0.567\n",
       "Model:                            OLS   Adj. R-squared:                  0.567\n",
       "Method:                 Least Squares   F-statistic:                     1392.\n",
       "Date:                Tue, 25 May 2021   Prob (F-statistic):               0.00\n",
       "Time:                        13:57:50   Log-Likelihood:                -12768.\n",
       "No. Observations:               12765   AIC:                         2.556e+04\n",
       "Df Residuals:                   12752   BIC:                         2.566e+04\n",
       "Df Model:                          12                                         \n",
       "Covariance Type:            nonrobust                                         \n",
       "=================================================================================\n",
       "                    coef    std err          t      P>|t|      [0.025      0.975]\n",
       "---------------------------------------------------------------------------------\n",
       "const         -7.581e-17      0.006   -1.3e-14      1.000      -0.011       0.011\n",
       "kamar_mandi      -0.0123      0.009     -1.325      0.185      -0.031       0.006\n",
       "kamar_tidur      -0.0242      0.008     -2.869      0.004      -0.041      -0.008\n",
       "luas_bangunan     0.4263      0.010     43.253      0.000       0.407       0.446\n",
       "luas_tanah        0.2777      0.009     31.114      0.000       0.260       0.295\n",
       "deskripsi         0.0346      0.010      3.597      0.000       0.016       0.054\n",
       "kecamatan         0.1598      0.007     21.757      0.000       0.145       0.174\n",
       "garasi           -0.0074      0.006     -1.226      0.220      -0.019       0.004\n",
       "kolam_renang      0.0209      0.006      3.272      0.001       0.008       0.033\n",
       "taman             0.0027      0.006      0.460      0.645      -0.009       0.014\n",
       "gym               0.0181      0.006      3.053      0.002       0.006       0.030\n",
       "listrik           0.0368      0.006      6.058      0.000       0.025       0.049\n",
       "jumlah_lantai    -0.0378      0.006     -6.061      0.000      -0.050      -0.026\n",
       "==============================================================================\n",
       "Omnibus:                    14601.254   Durbin-Watson:                   1.740\n",
       "Prob(Omnibus):                  0.000   Jarque-Bera (JB):         10697949.038\n",
       "Skew:                           5.213   Prob(JB):                         0.00\n",
       "Kurtosis:                     144.439   Cond. No.                         4.04\n",
       "==============================================================================\n",
       "\n",
       "Warnings:\n",
       "[1] Standard Errors assume that the covariance matrix of the errors is correctly specified.\n",
       "\"\"\""
      ]
     },
     "execution_count": 13,
     "metadata": {},
     "output_type": "execute_result"
    }
   ],
   "source": [
    "model = sm.OLS(y, x).fit()\n",
    "model.summary()"
   ]
  },
  {
   "cell_type": "code",
   "execution_count": 14,
   "metadata": {},
   "outputs": [
    {
     "data": {
      "text/html": [
       "<div>\n",
       "<style scoped>\n",
       "    .dataframe tbody tr th:only-of-type {\n",
       "        vertical-align: middle;\n",
       "    }\n",
       "\n",
       "    .dataframe tbody tr th {\n",
       "        vertical-align: top;\n",
       "    }\n",
       "\n",
       "    .dataframe thead th {\n",
       "        text-align: right;\n",
       "    }\n",
       "</style>\n",
       "<table border=\"1\" class=\"dataframe\">\n",
       "  <thead>\n",
       "    <tr style=\"text-align: right;\">\n",
       "      <th></th>\n",
       "      <th>index</th>\n",
       "      <th>0</th>\n",
       "    </tr>\n",
       "  </thead>\n",
       "  <tbody>\n",
       "    <tr>\n",
       "      <th>3</th>\n",
       "      <td>luas_bangunan</td>\n",
       "      <td>4.263251e-01</td>\n",
       "    </tr>\n",
       "    <tr>\n",
       "      <th>4</th>\n",
       "      <td>luas_tanah</td>\n",
       "      <td>2.777307e-01</td>\n",
       "    </tr>\n",
       "    <tr>\n",
       "      <th>6</th>\n",
       "      <td>kecamatan</td>\n",
       "      <td>1.598397e-01</td>\n",
       "    </tr>\n",
       "    <tr>\n",
       "      <th>11</th>\n",
       "      <td>listrik</td>\n",
       "      <td>3.679886e-02</td>\n",
       "    </tr>\n",
       "    <tr>\n",
       "      <th>5</th>\n",
       "      <td>deskripsi</td>\n",
       "      <td>3.464602e-02</td>\n",
       "    </tr>\n",
       "    <tr>\n",
       "      <th>8</th>\n",
       "      <td>kolam_renang</td>\n",
       "      <td>2.086660e-02</td>\n",
       "    </tr>\n",
       "    <tr>\n",
       "      <th>10</th>\n",
       "      <td>gym</td>\n",
       "      <td>1.811446e-02</td>\n",
       "    </tr>\n",
       "    <tr>\n",
       "      <th>9</th>\n",
       "      <td>taman</td>\n",
       "      <td>2.727342e-03</td>\n",
       "    </tr>\n",
       "    <tr>\n",
       "      <th>0</th>\n",
       "      <td>const</td>\n",
       "      <td>-7.580772e-17</td>\n",
       "    </tr>\n",
       "    <tr>\n",
       "      <th>7</th>\n",
       "      <td>garasi</td>\n",
       "      <td>-7.441699e-03</td>\n",
       "    </tr>\n",
       "    <tr>\n",
       "      <th>1</th>\n",
       "      <td>kamar_mandi</td>\n",
       "      <td>-1.231254e-02</td>\n",
       "    </tr>\n",
       "    <tr>\n",
       "      <th>2</th>\n",
       "      <td>kamar_tidur</td>\n",
       "      <td>-2.419815e-02</td>\n",
       "    </tr>\n",
       "    <tr>\n",
       "      <th>12</th>\n",
       "      <td>jumlah_lantai</td>\n",
       "      <td>-3.781207e-02</td>\n",
       "    </tr>\n",
       "  </tbody>\n",
       "</table>\n",
       "</div>"
      ],
      "text/plain": [
       "            index             0\n",
       "3   luas_bangunan  4.263251e-01\n",
       "4      luas_tanah  2.777307e-01\n",
       "6       kecamatan  1.598397e-01\n",
       "11        listrik  3.679886e-02\n",
       "5       deskripsi  3.464602e-02\n",
       "8    kolam_renang  2.086660e-02\n",
       "10            gym  1.811446e-02\n",
       "9           taman  2.727342e-03\n",
       "0           const -7.580772e-17\n",
       "7          garasi -7.441699e-03\n",
       "1     kamar_mandi -1.231254e-02\n",
       "2     kamar_tidur -2.419815e-02\n",
       "12  jumlah_lantai -3.781207e-02"
      ]
     },
     "execution_count": 14,
     "metadata": {},
     "output_type": "execute_result"
    }
   ],
   "source": [
    "pd.DataFrame(model.params).reset_index().sort_values(by = 0, ascending = False)"
   ]
  },
  {
   "cell_type": "code",
   "execution_count": 15,
   "metadata": {},
   "outputs": [],
   "source": [
    "from sklearn.metrics import mean_squared_error as mse"
   ]
  },
  {
   "cell_type": "markdown",
   "metadata": {},
   "source": [
    "RMSE value"
   ]
  },
  {
   "cell_type": "code",
   "execution_count": 16,
   "metadata": {},
   "outputs": [
    {
     "data": {
      "text/plain": [
       "0.6579208854800124"
      ]
     },
     "execution_count": 16,
     "metadata": {},
     "output_type": "execute_result"
    }
   ],
   "source": [
    "y_pred = model.predict(x)\n",
    "sqrt(mse(y_pred, y))"
   ]
  },
  {
   "cell_type": "code",
   "execution_count": 17,
   "metadata": {},
   "outputs": [],
   "source": [
    "from scipy import stats"
   ]
  },
  {
   "cell_type": "markdown",
   "metadata": {},
   "source": [
    "Cari pval>0.05(not statistically signifigance)"
   ]
  },
  {
   "cell_type": "code",
   "execution_count": 18,
   "metadata": {
    "jupyter": {
     "outputs_hidden": true
    }
   },
   "outputs": [
    {
     "name": "stdout",
     "output_type": "stream",
     "text": [
      "=============================================  kecamatan  =============================================\n",
      "Mampang Prapatan - Tanah Abang\n",
      "Cilandak - Tebet\n",
      "Cilandak - Pasar Minggu\n",
      "Cilandak - Pancoran\n",
      "Cilandak - Gambir\n",
      "Kebayoran Baru - Kebayoran Lama\n",
      "Kebayoran Baru - Setiabudi\n",
      "Jagakarsa - Koja\n",
      "Jagakarsa - Cakung\n",
      "Jagakarsa - Kramat Jati\n",
      "Jagakarsa - Makasar\n",
      "Jagakarsa - Matraman\n",
      "Jagakarsa - Johar Baru\n",
      "Jagakarsa - Kalideres\n",
      "Tebet - Pasar Minggu\n",
      "Tebet - Jatinegara\n",
      "Tebet - Gambir\n",
      "Tebet - Senen\n",
      "Tebet - Palmerah\n",
      "Pasar Minggu - Pancoran\n",
      "Pasar Minggu - Jatinegara\n",
      "Pasar Minggu - Gambir\n",
      "Pasar Minggu - Palmerah\n",
      "Kebayoran Lama - Setiabudi\n",
      "Pesanggrahan - Tanjung Priok\n",
      "Pesanggrahan - Kelapa Gading\n",
      "Pesanggrahan - Pademangan\n",
      "Pesanggrahan - Pulo Gadung\n",
      "Pesanggrahan - Matraman\n",
      "Pesanggrahan - Jatinegara\n",
      "Pesanggrahan - Kemayoran\n",
      "Pesanggrahan - Cempaka Putih\n",
      "Pesanggrahan - Sawah Besar\n",
      "Pesanggrahan - Johar Baru\n",
      "Pesanggrahan - Senen\n",
      "Pesanggrahan - Palmerah\n",
      "Pesanggrahan - Kembangan\n",
      "Pesanggrahan - Kebon Jeruk\n",
      "Pesanggrahan - Tambora\n",
      "Pesanggrahan - Taman Sari\n",
      "Pancoran - Penjaringan\n",
      "Pancoran - Gambir\n",
      "Tanjung Priok - Pademangan\n",
      "Tanjung Priok - Pulo Gadung\n",
      "Tanjung Priok - Jatinegara\n",
      "Tanjung Priok - Kemayoran\n",
      "Tanjung Priok - Sawah Besar\n",
      "Tanjung Priok - Johar Baru\n",
      "Tanjung Priok - Senen\n",
      "Tanjung Priok - Kebon Jeruk\n",
      "Tanjung Priok - Tambora\n",
      "Tanjung Priok - Taman Sari\n",
      "Cilincing - Pasar Rebo\n",
      "Cilincing - Cipayung\n",
      "Cilincing - Ciracas\n",
      "Kelapa Gading - Pademangan\n",
      "Kelapa Gading - Pulo Gadung\n",
      "Kelapa Gading - Jatinegara\n",
      "Kelapa Gading - Kemayoran\n",
      "Kelapa Gading - Cempaka Putih\n",
      "Kelapa Gading - Sawah Besar\n",
      "Kelapa Gading - Senen\n",
      "Kelapa Gading - Palmerah\n",
      "Kelapa Gading - Kembangan\n",
      "Kelapa Gading - Kebon Jeruk\n",
      "Kelapa Gading - Tambora\n",
      "Kelapa Gading - Taman Sari\n",
      "Penjaringan - Gambir\n",
      "Pademangan - Pulo Gadung\n",
      "Pademangan - Jatinegara\n",
      "Pademangan - Kemayoran\n",
      "Pademangan - Cempaka Putih\n",
      "Pademangan - Sawah Besar\n",
      "Pademangan - Johar Baru\n",
      "Pademangan - Senen\n",
      "Pademangan - Palmerah\n",
      "Pademangan - Kembangan\n",
      "Pademangan - Kebon Jeruk\n",
      "Pademangan - Tambora\n",
      "Pademangan - Taman Sari\n",
      "Koja - Cakung\n",
      "Koja - Kramat Jati\n",
      "Koja - Duren Sawit\n",
      "Koja - Makasar\n",
      "Koja - Matraman\n",
      "Koja - Sawah Besar\n",
      "Koja - Johar Baru\n",
      "Koja - Cengkareng\n",
      "Koja - Grogol Petamburan\n",
      "Koja - Tambora\n",
      "Koja - Taman Sari\n",
      "Cakung - Kramat Jati\n",
      "Cakung - Makasar\n",
      "Cakung - Kalideres\n",
      "Pasar Rebo - Cipayung\n",
      "Pasar Rebo - Ciracas\n",
      "Cipayung - Ciracas\n",
      "Cipayung - Kalideres\n",
      "Kramat Jati - Duren Sawit\n",
      "Kramat Jati - Makasar\n",
      "Kramat Jati - Matraman\n",
      "Kramat Jati - Johar Baru\n",
      "Kramat Jati - Kalideres\n",
      "Kramat Jati - Cengkareng\n",
      "Duren Sawit - Makasar\n",
      "Duren Sawit - Matraman\n",
      "Duren Sawit - Johar Baru\n",
      "Duren Sawit - Cengkareng\n",
      "Pulo Gadung - Jatinegara\n",
      "Pulo Gadung - Kemayoran\n",
      "Pulo Gadung - Cempaka Putih\n",
      "Pulo Gadung - Sawah Besar\n",
      "Pulo Gadung - Senen\n",
      "Pulo Gadung - Kembangan\n",
      "Pulo Gadung - Kebon Jeruk\n",
      "Pulo Gadung - Tambora\n",
      "Pulo Gadung - Taman Sari\n",
      "Makasar - Matraman\n",
      "Makasar - Sawah Besar\n",
      "Makasar - Johar Baru\n",
      "Makasar - Cengkareng\n",
      "Makasar - Grogol Petamburan\n",
      "Makasar - Tambora\n",
      "Makasar - Taman Sari\n",
      "Matraman - Sawah Besar\n",
      "Matraman - Johar Baru\n",
      "Matraman - Senen\n",
      "Matraman - Cengkareng\n",
      "Matraman - Grogol Petamburan\n",
      "Matraman - Tambora\n",
      "Matraman - Taman Sari\n",
      "Jatinegara - Kemayoran\n",
      "Jatinegara - Cempaka Putih\n",
      "Jatinegara - Sawah Besar\n",
      "Jatinegara - Johar Baru\n",
      "Jatinegara - Senen\n",
      "Jatinegara - Palmerah\n",
      "Jatinegara - Kembangan\n",
      "Jatinegara - Kebon Jeruk\n",
      "Jatinegara - Tambora\n",
      "Jatinegara - Taman Sari\n",
      "Kemayoran - Sawah Besar\n",
      "Kemayoran - Johar Baru\n",
      "Kemayoran - Senen\n",
      "Kemayoran - Kebon Jeruk\n",
      "Kemayoran - Tambora\n",
      "Kemayoran - Taman Sari\n",
      "Cempaka Putih - Senen\n",
      "Cempaka Putih - Palmerah\n",
      "Cempaka Putih - Kembangan\n",
      "Cempaka Putih - Kebon Jeruk\n",
      "Sawah Besar - Johar Baru\n",
      "Sawah Besar - Senen\n",
      "Sawah Besar - Palmerah\n",
      "Sawah Besar - Cengkareng\n",
      "Sawah Besar - Grogol Petamburan\n",
      "Sawah Besar - Kebon Jeruk\n",
      "Sawah Besar - Tambora\n",
      "Sawah Besar - Taman Sari\n",
      "Tanah Abang - Gambir\n",
      "Johar Baru - Senen\n",
      "Johar Baru - Cengkareng\n",
      "Johar Baru - Grogol Petamburan\n",
      "Johar Baru - Tambora\n",
      "Johar Baru - Taman Sari\n",
      "Gambir - Palmerah\n",
      "Senen - Palmerah\n",
      "Senen - Kembangan\n",
      "Senen - Kebon Jeruk\n",
      "Senen - Tambora\n",
      "Senen - Taman Sari\n",
      "Palmerah - Kembangan\n",
      "Palmerah - Kebon Jeruk\n",
      "Kembangan - Kebon Jeruk\n",
      "Cengkareng - Grogol Petamburan\n",
      "Cengkareng - Taman Sari\n",
      "Grogol Petamburan - Tambora\n",
      "Grogol Petamburan - Taman Sari\n",
      "Kebon Jeruk - Tambora\n",
      "Kebon Jeruk - Taman Sari\n",
      "Tambora - Taman Sari\n",
      "kecamatan: 21.022067363530777\n",
      "====================================================================================================\n",
      "=============================================  garasi  =============================================\n",
      "garasi: 0.0\n",
      "====================================================================================================\n",
      "=============================================  kolam_renang  =============================================\n",
      "kolam_renang: 0.0\n",
      "====================================================================================================\n",
      "=============================================  taman  =============================================\n",
      "taman: 0.0\n",
      "====================================================================================================\n",
      "=============================================  gym  =============================================\n",
      "gym: 0.0\n",
      "====================================================================================================\n",
      "=============================================  kamar_mandi  =============================================\n",
      "5 - 12\n",
      "5 - 16\n",
      "5 - 19\n",
      "4 - 12\n",
      "4 - 16\n",
      "4 - 19\n",
      "3 - 19\n",
      "6 - 12\n",
      "6 - 16\n",
      "6 - 19\n",
      "6 - 15\n",
      "8 - 7\n",
      "8 - 9\n",
      "8 - 14\n",
      "8 - 11\n",
      "8 - 10\n",
      "8 - 12\n",
      "8 - 13\n",
      "8 - 16\n",
      "8 - 19\n",
      "8 - 15\n",
      "2 - 19\n",
      "7 - 14\n",
      "7 - 11\n",
      "7 - 10\n",
      "7 - 12\n",
      "7 - 13\n",
      "7 - 16\n",
      "7 - 19\n",
      "7 - 15\n",
      "9 - 14\n",
      "9 - 11\n",
      "9 - 10\n",
      "9 - 12\n",
      "9 - 13\n",
      "9 - 16\n",
      "9 - 19\n",
      "9 - 15\n",
      "14 - 11\n",
      "14 - 10\n",
      "14 - 12\n",
      "14 - 13\n",
      "14 - 16\n",
      "14 - 19\n",
      "14 - 15\n",
      "11 - 10\n",
      "11 - 12\n",
      "11 - 13\n",
      "11 - 16\n",
      "11 - 19\n",
      "11 - 15\n",
      "10 - 12\n",
      "10 - 13\n",
      "10 - 16\n",
      "10 - 19\n",
      "10 - 15\n",
      "12 - 13\n",
      "12 - 16\n",
      "12 - 19\n",
      "12 - 15\n",
      "13 - 16\n",
      "13 - 19\n",
      "13 - 15\n",
      "16 - 19\n",
      "16 - 15\n",
      "19 - 15\n",
      "19 - 1\n",
      "kamar_mandi: 31.9047619047619\n",
      "====================================================================================================\n",
      "=============================================  kamar_tidur  =============================================\n",
      "6 - 18\n",
      "6 - 13\n",
      "6 - 19\n",
      "6 - 17\n",
      "6 - 25\n",
      "6 - 43\n",
      "6 - 33\n",
      "4 - 18\n",
      "4 - 19\n",
      "4 - 17\n",
      "4 - 1\n",
      "4 - 25\n",
      "4 - 33\n",
      "5 - 18\n",
      "5 - 19\n",
      "5 - 17\n",
      "5 - 25\n",
      "5 - 43\n",
      "5 - 33\n",
      "8 - 11\n",
      "8 - 9\n",
      "8 - 15\n",
      "8 - 18\n",
      "8 - 13\n",
      "8 - 12\n",
      "8 - 19\n",
      "8 - 17\n",
      "8 - 16\n",
      "8 - 25\n",
      "8 - 43\n",
      "8 - 33\n",
      "2 - 18\n",
      "2 - 17\n",
      "2 - 1\n",
      "2 - 33\n",
      "7 - 18\n",
      "7 - 13\n",
      "7 - 19\n",
      "7 - 17\n",
      "7 - 25\n",
      "7 - 43\n",
      "7 - 33\n",
      "11 - 10\n",
      "11 - 9\n",
      "11 - 15\n",
      "11 - 18\n",
      "11 - 13\n",
      "11 - 12\n",
      "11 - 19\n",
      "11 - 17\n",
      "11 - 16\n",
      "11 - 25\n",
      "11 - 43\n",
      "11 - 33\n",
      "10 - 9\n",
      "10 - 15\n",
      "10 - 18\n",
      "10 - 13\n",
      "10 - 12\n",
      "10 - 19\n",
      "10 - 17\n",
      "10 - 16\n",
      "10 - 25\n",
      "10 - 43\n",
      "10 - 33\n",
      "9 - 15\n",
      "9 - 18\n",
      "9 - 13\n",
      "9 - 12\n",
      "9 - 19\n",
      "9 - 17\n",
      "9 - 16\n",
      "9 - 25\n",
      "9 - 43\n",
      "9 - 33\n",
      "15 - 18\n",
      "15 - 13\n",
      "15 - 12\n",
      "15 - 19\n",
      "15 - 17\n",
      "15 - 14\n",
      "15 - 16\n",
      "15 - 25\n",
      "15 - 43\n",
      "15 - 33\n",
      "3 - 18\n",
      "3 - 17\n",
      "3 - 1\n",
      "3 - 33\n",
      "18 - 13\n",
      "18 - 12\n",
      "18 - 19\n",
      "18 - 17\n",
      "18 - 16\n",
      "18 - 1\n",
      "18 - 33\n",
      "13 - 12\n",
      "13 - 19\n",
      "13 - 17\n",
      "13 - 16\n",
      "13 - 25\n",
      "13 - 43\n",
      "13 - 33\n",
      "12 - 19\n",
      "12 - 17\n",
      "12 - 16\n",
      "12 - 25\n",
      "12 - 43\n",
      "12 - 33\n",
      "19 - 17\n",
      "19 - 25\n",
      "19 - 33\n",
      "17 - 16\n",
      "17 - 1\n",
      "17 - 25\n",
      "17 - 33\n",
      "14 - 16\n",
      "16 - 25\n",
      "16 - 43\n",
      "16 - 33\n",
      "1 - 33\n",
      "25 - 33\n",
      "kamar_tidur: 40.666666666666664\n",
      "====================================================================================================\n",
      "=============================================  jumlah_lantai  =============================================\n",
      "2 - 1\n",
      "3 - 5\n",
      "4 - 5\n",
      "jumlah_lantai: 30.0\n",
      "====================================================================================================\n"
     ]
    }
   ],
   "source": [
    "for k in cat+num:\n",
    "    if df[k].nunique() <100:\n",
    "        print(\"=\"*45,f' {k} ',\"=\"*45)\n",
    "        var = [i for i in df[k].unique()]\n",
    "        pair = {}\n",
    "        udah = []\n",
    "        for i in var:\n",
    "            for j in var:\n",
    "                if (j not in udah) & (i != j):\n",
    "                    ttest = stats.ttest_ind(a = df[df[k] == i]['harga'],\n",
    "                                            b = df[df[k] == j]['harga'])\n",
    "                    p_value = ttest.pvalue\n",
    "                    pair[f'{i} - {j}'] = p_value\n",
    "            udah.append(i)\n",
    "        count = 0\n",
    "        for i,j in pair.items():\n",
    "            if j >= 0.05:\n",
    "                print(i)\n",
    "                count += 1\n",
    "        print(f'{k}: {count/len(pair)*100}')\n",
    "        print(\"=\"*100,end = '\\n')"
   ]
  },
  {
   "cell_type": "markdown",
   "metadata": {},
   "source": [
    "EDA original data"
   ]
  },
  {
   "cell_type": "code",
   "execution_count": 19,
   "metadata": {},
   "outputs": [
    {
     "name": "stdout",
     "output_type": "stream",
     "text": [
      "kamar_mandi\n"
     ]
    },
    {
     "data": {
      "image/png": "[encoded data removed]",
      "text/plain": [
       "<Figure size 1490.4x595.44 with 1 Axes>"
      ]
     },
     "metadata": {},
     "output_type": "display_data"
    },
    {
     "name": "stdout",
     "output_type": "stream",
     "text": [
      "kamar_tidur\n"
     ]
    },
    {
     "data": {
      "image/png": "[encoded data removed]",
      "text/plain": [
       "<Figure size 1490.4x595.44 with 1 Axes>"
      ]
     },
     "metadata": {},
     "output_type": "display_data"
    },
    {
     "name": "stdout",
     "output_type": "stream",
     "text": [
      "luas_bangunan\n"
     ]
    },
    {
     "data": {
      "image/png": "[encoded data removed]",
      "text/plain": [
       "<Figure size 1490.4x595.44 with 1 Axes>"
      ]
     },
     "metadata": {},
     "output_type": "display_data"
    },
    {
     "name": "stdout",
     "output_type": "stream",
     "text": [
      "luas_tanah\n"
     ]
    },
    {
     "data": {
      "image/png": "[encoded data removed]",
      "text/plain": [
       "<Figure size 1490.4x595.44 with 1 Axes>"
      ]
     },
     "metadata": {},
     "output_type": "display_data"
    },
    {
     "name": "stdout",
     "output_type": "stream",
     "text": [
      "harga\n"
     ]
    },
    {
     "data": {
      "image/png": "[encoded data removed]",
      "text/plain": [
       "<Figure size 1490.4x595.44 with 1 Axes>"
      ]
     },
     "metadata": {},
     "output_type": "display_data"
    },
    {
     "name": "stdout",
     "output_type": "stream",
     "text": [
      "listrik\n"
     ]
    },
    {
     "data": {
      "image/png": "[encoded data removed]",
      "text/plain": [
       "<Figure size 1490.4x595.44 with 1 Axes>"
      ]
     },
     "metadata": {},
     "output_type": "display_data"
    },
    {
     "name": "stdout",
     "output_type": "stream",
     "text": [
      "jumlah_lantai\n"
     ]
    },
    {
     "data": {
      "image/png": "[encoded data removed]",
      "text/plain": [
       "<Figure size 1490.4x595.44 with 1 Axes>"
      ]
     },
     "metadata": {},
     "output_type": "display_data"
    }
   ],
   "source": [
    "for i in num:\n",
    "    print(i)\n",
    "    df[i].plot.hist(bins = 100)\n",
    "    plt.show()"
   ]
  },
  {
   "cell_type": "code",
   "execution_count": 20,
   "metadata": {},
   "outputs": [
    {
     "name": "stdout",
     "output_type": "stream",
     "text": [
      "kamar_mandi\n"
     ]
    },
    {
     "data": {
      "image/png": "[encoded data removed]",
      "text/plain": [
       "<Figure size 1490.4x595.44 with 1 Axes>"
      ]
     },
     "metadata": {},
     "output_type": "display_data"
    },
    {
     "name": "stdout",
     "output_type": "stream",
     "text": [
      "kamar_tidur\n"
     ]
    },
    {
     "data": {
      "image/png": "[encoded data removed]",
      "text/plain": [
       "<Figure size 1490.4x595.44 with 1 Axes>"
      ]
     },
     "metadata": {},
     "output_type": "display_data"
    },
    {
     "name": "stdout",
     "output_type": "stream",
     "text": [
      "luas_bangunan\n"
     ]
    },
    {
     "data": {
      "image/png": "[encoded data removed]",
      "text/plain": [
       "<Figure size 1490.4x595.44 with 1 Axes>"
      ]
     },
     "metadata": {},
     "output_type": "display_data"
    },
    {
     "name": "stdout",
     "output_type": "stream",
     "text": [
      "luas_tanah\n"
     ]
    },
    {
     "data": {
      "image/png": "[encoded data removed]",
      "text/plain": [
       "<Figure size 1490.4x595.44 with 1 Axes>"
      ]
     },
     "metadata": {},
     "output_type": "display_data"
    },
    {
     "name": "stdout",
     "output_type": "stream",
     "text": [
      "harga\n"
     ]
    },
    {
     "data": {
      "image/png": "[encoded data removed]",
      "text/plain": [
       "<Figure size 1490.4x595.44 with 1 Axes>"
      ]
     },
     "metadata": {},
     "output_type": "display_data"
    },
    {
     "name": "stdout",
     "output_type": "stream",
     "text": [
      "listrik\n"
     ]
    },
    {
     "data": {
      "image/png": "[encoded data removed]",
      "text/plain": [
       "<Figure size 1490.4x595.44 with 1 Axes>"
      ]
     },
     "metadata": {},
     "output_type": "display_data"
    },
    {
     "name": "stdout",
     "output_type": "stream",
     "text": [
      "jumlah_lantai\n"
     ]
    },
    {
     "data": {
      "image/png": "[encoded data removed]",
      "text/plain": [
       "<Figure size 1490.4x595.44 with 1 Axes>"
      ]
     },
     "metadata": {},
     "output_type": "display_data"
    }
   ],
   "source": [
    "for i in num:\n",
    "    print(i)\n",
    "    df[i].plot.box()\n",
    "    plt.show()"
   ]
  },
  {
   "cell_type": "code",
   "execution_count": null,
   "metadata": {
    "jupyter": {
     "outputs_hidden": true
    },
    "scrolled": true
   },
   "outputs": [
    {
     "name": "stdout",
     "output_type": "stream",
     "text": [
      "deskripsi\n"
     ]
    }
   ],
   "source": [
    "for i in cat:\n",
    "    print(i)\n",
    "    df[i].value_counts().sort_values().plot.bar()\n",
    "    plt.show()"
   ]
  },
  {
   "cell_type": "markdown",
   "metadata": {},
   "source": [
    "Masukin target (harga)"
   ]
  },
  {
   "cell_type": "code",
   "execution_count": null,
   "metadata": {
    "jupyter": {
     "outputs_hidden": true
    }
   },
   "outputs": [],
   "source": [
    "for i in num+cat:\n",
    "    if i != 'harga':\n",
    "        print(i)\n",
    "        plt.scatter(df[i],df['harga'])\n",
    "        plt.show()"
   ]
  },
  {
   "cell_type": "code",
   "execution_count": null,
   "metadata": {},
   "outputs": [],
   "source": [
    "for i in cat:\n",
    "    print(i)\n",
    "    df.groupby(i)['harga'].mean().sort_values().plot.bar()\n",
    "    plt.show()\n",
    "    df.groupby(i)['harga'].median().sort_values().plot.bar()\n",
    "    plt.show()"
   ]
  },
  {
   "cell_type": "code",
   "execution_count": null,
   "metadata": {},
   "outputs": [],
   "source": [
    "sns.heatmap(initial_data.corr(method = 'spearman'),annot=True)\n",
    "plt.show()"
   ]
  },
  {
   "cell_type": "markdown",
   "metadata": {},
   "source": [
    "Trimming outliers and feature selection"
   ]
  },
  {
   "cell_type": "code",
   "execution_count": null,
   "metadata": {},
   "outputs": [],
   "source": [
    "from feature_engine.outliers import OutlierTrimmer as OT"
   ]
  },
  {
   "cell_type": "code",
   "execution_count": null,
   "metadata": {},
   "outputs": [],
   "source": [
    "df_copy = df.copy()\n",
    "df_copy = df_copy.drop(['garasi','jumlah_lantai','gym','taman'], axis = 1)"
   ]
  },
  {
   "cell_type": "code",
   "execution_count": null,
   "metadata": {},
   "outputs": [],
   "source": [
    "trimmer = OT(\n",
    "    capping_method = 'iqr', \n",
    "    tail = 'right', \n",
    "    fold = 3, \n",
    "    variables = ['harga'])\n",
    "df_copy = trimmer.fit_transform(df_copy)"
   ]
  },
  {
   "cell_type": "code",
   "execution_count": null,
   "metadata": {},
   "outputs": [],
   "source": [
    "df_copy.info()"
   ]
  },
  {
   "cell_type": "code",
   "execution_count": null,
   "metadata": {},
   "outputs": [],
   "source": [
    "N = 2659205 #population size\n",
    "n = len(df_copy) #sample size\n",
    "error = sqrt((N-n)/(N*n))\n",
    "error*100"
   ]
  },
  {
   "cell_type": "code",
   "execution_count": null,
   "metadata": {},
   "outputs": [],
   "source": [
    "oe_trim = OE(variables = [i for i in cat if i not in ['garasi','jumlah_lantai','gym','taman']])\n",
    "oe_trim.fit(df_copy,df_copy['harga'])\n",
    "x = oe_trim.transform(df_copy)"
   ]
  },
  {
   "cell_type": "code",
   "execution_count": null,
   "metadata": {},
   "outputs": [],
   "source": [
    "x_scale = ss()\n",
    "x_scale.fit(x.drop('harga',axis = 1))\n",
    "y_scale = ss()\n",
    "y_scale.fit(x[['harga']])"
   ]
  },
  {
   "cell_type": "code",
   "execution_count": null,
   "metadata": {},
   "outputs": [],
   "source": [
    "x = x_scale.transform(x.drop(['harga'],axis = 1))\n",
    "x = pd.DataFrame(x)\n",
    "x.columns = df_copy.drop('harga', axis = 1).columns\n",
    "\n",
    "y = y_scale.transform(df_copy[['harga']])\n",
    "y = pd.DataFrame(y)\n",
    "y.columns = ['harga']\n",
    "initial_data = pd.concat([x,y],axis = 1)\n",
    "x = sm.add_constant(x)"
   ]
  },
  {
   "cell_type": "code",
   "execution_count": null,
   "metadata": {},
   "outputs": [],
   "source": [
    "model = sm.OLS(y, x).fit()\n",
    "model.summary()"
   ]
  },
  {
   "cell_type": "code",
   "execution_count": null,
   "metadata": {},
   "outputs": [],
   "source": [
    "pd.DataFrame(model.params).reset_index().sort_values(by = 0, ascending = False)"
   ]
  },
  {
   "cell_type": "code",
   "execution_count": null,
   "metadata": {},
   "outputs": [],
   "source": [
    "y_pred = model.predict(x)\n",
    "sqrt(mse(y_pred, y))"
   ]
  },
  {
   "cell_type": "code",
   "execution_count": null,
   "metadata": {},
   "outputs": [],
   "source": [
    "for k in cat+num:\n",
    "    try:\n",
    "        if df_copy[k].nunique() <100:\n",
    "            print(\"=\"*45,f' {k} ',\"=\"*45)\n",
    "            var = [i for i in df[k].unique()]\n",
    "            pair = {}\n",
    "            udah = []\n",
    "            for i in var:\n",
    "                for j in var:\n",
    "                    if (j not in udah) & (i != j):\n",
    "                        ttest = stats.ttest_ind(a = df[df[k] == i]['harga'],\n",
    "                                                b = df[df[k] == j]['harga'])\n",
    "                        p_value = ttest.pvalue\n",
    "                        pair[f'{i} - {j}'] = p_value\n",
    "                udah.append(i)\n",
    "            count = 0\n",
    "            for i,j in pair.items():\n",
    "                if j >= 0.05:\n",
    "                    print(i)\n",
    "                    count += 1\n",
    "            print(f'{k}: {count/len(pair)*100}')\n",
    "            print(\"=\"*100,end = '\\n')\n",
    "    except:\n",
    "        pass"
   ]
  },
  {
   "cell_type": "code",
   "execution_count": null,
   "metadata": {},
   "outputs": [],
   "source": [
    "for i in num:\n",
    "    try:\n",
    "        print(i)\n",
    "        df_copy[i].plot.hist(bins = 100)\n",
    "        plt.show()\n",
    "    except:\n",
    "        pass"
   ]
  },
  {
   "cell_type": "code",
   "execution_count": null,
   "metadata": {},
   "outputs": [],
   "source": [
    "for i in num:\n",
    "    try:\n",
    "        print(i)\n",
    "        df_copy[i].plot.box()\n",
    "        plt.show()\n",
    "    except:\n",
    "        pass"
   ]
  },
  {
   "cell_type": "code",
   "execution_count": null,
   "metadata": {},
   "outputs": [],
   "source": [
    "for i in cat:\n",
    "    try:\n",
    "        print(i)\n",
    "        df_copy[i].value_counts().sort_values().plot.bar()\n",
    "        plt.show()\n",
    "    except:\n",
    "        print('udah di drop',end = '\\n\\n')"
   ]
  },
  {
   "cell_type": "code",
   "execution_count": null,
   "metadata": {},
   "outputs": [],
   "source": [
    "for i in num+cat:\n",
    "    try:\n",
    "        if i != 'harga':\n",
    "            print(i)\n",
    "            plt.scatter(df_copy[i],df_copy['harga'])\n",
    "            plt.show()\n",
    "    except:\n",
    "        print('udah di drop',end='\\n\\n')"
   ]
  },
  {
   "cell_type": "code",
   "execution_count": null,
   "metadata": {},
   "outputs": [],
   "source": [
    "for i in cat:\n",
    "    try:\n",
    "        print(i)\n",
    "        df_copy.groupby(i)['harga'].mean().sort_values().plot.bar()\n",
    "        plt.show()\n",
    "        df_copy.groupby(i)['harga'].median().sort_values().plot.bar()\n",
    "        plt.show()\n",
    "    except:\n",
    "        print('udah di drop', end = '\\n\\n')"
   ]
  },
  {
   "cell_type": "code",
   "execution_count": null,
   "metadata": {},
   "outputs": [],
   "source": [
    "sns.heatmap(pd.concat([x,y],axis = 1).drop('const', axis = 1).corr(method = 'spearman'),annot=True)\n",
    "plt.show()"
   ]
  },
  {
   "cell_type": "markdown",
   "metadata": {},
   "source": [
    "Lasso Regression"
   ]
  },
  {
   "cell_type": "code",
   "execution_count": null,
   "metadata": {},
   "outputs": [],
   "source": [
    "df_experiment = df.copy()\n",
    "df_experiment = df_experiment.drop(\n",
    "    ['garasi','jumlah_lantai','gym','taman'],  axis = 1\n",
    ")"
   ]
  },
  {
   "cell_type": "code",
   "execution_count": null,
   "metadata": {},
   "outputs": [],
   "source": [
    "df_experiment.info()"
   ]
  },
  {
   "cell_type": "code",
   "execution_count": null,
   "metadata": {},
   "outputs": [],
   "source": [
    "cat = [i for i in df_experiment.columns if df_experiment[i].dtypes =='O']"
   ]
  },
  {
   "cell_type": "code",
   "execution_count": null,
   "metadata": {},
   "outputs": [],
   "source": [
    "from sklearn.model_selection import train_test_split as tts"
   ]
  },
  {
   "cell_type": "code",
   "execution_count": null,
   "metadata": {},
   "outputs": [],
   "source": [
    "x_train, x_test, y_train, y_test = tts(\n",
    "    df_experiment.drop('harga',axis = 1),\n",
    "    df_experiment['harga'],\n",
    "    test_size = 0.3,\n",
    "    random_state = 0\n",
    ")"
   ]
  },
  {
   "cell_type": "code",
   "execution_count": null,
   "metadata": {},
   "outputs": [],
   "source": [
    "x_train = pd.DataFrame(x_train)\n",
    "x_train.columns = df_experiment.drop('harga',axis = 1).columns\n",
    "x_test = pd.DataFrame(x_test)\n",
    "x_test.columns = x_train.columns"
   ]
  },
  {
   "cell_type": "code",
   "execution_count": null,
   "metadata": {},
   "outputs": [],
   "source": [
    "oe = OE(variables = [i for i in cat])\n",
    "oe.fit(x_train,y_train)"
   ]
  },
  {
   "cell_type": "code",
   "execution_count": null,
   "metadata": {},
   "outputs": [],
   "source": [
    "x_train = oe.transform(x_train)\n",
    "x_test = oe.transform(x_test)"
   ]
  },
  {
   "cell_type": "code",
   "execution_count": null,
   "metadata": {},
   "outputs": [],
   "source": [
    "x_scale = ss()\n",
    "x_scale.fit(x_train)"
   ]
  },
  {
   "cell_type": "code",
   "execution_count": null,
   "metadata": {},
   "outputs": [],
   "source": [
    "x_train = x_scale.transform(x_train)\n",
    "x_test = x_scale.transform(x_test)"
   ]
  },
  {
   "cell_type": "code",
   "execution_count": null,
   "metadata": {},
   "outputs": [],
   "source": [
    "from sklearn.preprocessing import PolynomialFeatures"
   ]
  },
  {
   "cell_type": "code",
   "execution_count": null,
   "metadata": {},
   "outputs": [],
   "source": [
    "poly_converter = PolynomialFeatures(degree=2, include_bias=False, interaction_only=False)\n",
    "x_train = poly_converter.fit_transform(x_train)\n",
    "x_test = poly_converter.fit_transform(x_test)"
   ]
  },
  {
   "cell_type": "code",
   "execution_count": null,
   "metadata": {},
   "outputs": [],
   "source": [
    "from sklearn.linear_model import Lasso"
   ]
  },
  {
   "cell_type": "code",
   "execution_count": null,
   "metadata": {},
   "outputs": [],
   "source": [
    "reg = Lasso(alpha=1000, tol = 1e-1).fit(x_train,y_train)"
   ]
  },
  {
   "cell_type": "code",
   "execution_count": null,
   "metadata": {},
   "outputs": [],
   "source": [
    "train_predict = reg.predict(x_train)\n",
    "test_predict = reg.predict(x_test)"
   ]
  },
  {
   "cell_type": "code",
   "execution_count": null,
   "metadata": {},
   "outputs": [],
   "source": [
    "from sklearn.metrics import mean_squared_error, r2_score\n",
    "from math import sqrt"
   ]
  },
  {
   "cell_type": "code",
   "execution_count": null,
   "metadata": {},
   "outputs": [],
   "source": [
    "print('train mse: {}'.format(mean_squared_error(y_train, train_predict)))\n",
    "print('train rmse: {}'.format(sqrt(mean_squared_error(y_train, train_predict))))\n",
    "print('train r2: {}'.format(r2_score(y_train, train_predict)))\n",
    "print()\n",
    "print('test mse: {}'.format(mean_squared_error(y_test, test_predict)))\n",
    "print('test rmse: {}'.format(sqrt(mean_squared_error(y_test, test_predict))))\n",
    "print('test r2: {}'.format(r2_score(y_test, test_predict)))"
   ]
  },
  {
   "cell_type": "code",
   "execution_count": null,
   "metadata": {},
   "outputs": [],
   "source": [
    "x = np.concatenate((x_train,x_test))\n",
    "y = np.concatenate((y_train,y_test))"
   ]
  },
  {
   "cell_type": "code",
   "execution_count": null,
   "metadata": {},
   "outputs": [],
   "source": [
    "from sklearn.model_selection import cross_val_score"
   ]
  },
  {
   "cell_type": "code",
   "execution_count": null,
   "metadata": {},
   "outputs": [],
   "source": [
    "scores = cross_val_score(reg, x, y, cv=5, scoring = 'r2')\n",
    "scores.mean()"
   ]
  },
  {
   "cell_type": "markdown",
   "metadata": {},
   "source": [
    "## Simpulan\n",
    "\n",
    "- Data yang di peroleh tidak cukup bagus. hal tersebut dibuktikan dari nilai R2 dari regresi lienar menggunakan base model sebesar 0.565, yang artinya model tersebut tidak terlalu kuat(moderate:0.5-0.7) tetapi model tersebut masih dapat diterima (Falk and Miller (1992)). Terdapat kenaikan nilai r2 sebesar 0.1 jika dataset tersebut di trimming dan dilakukan feature selection. Pemilihan feature tersebut berdasarkan hasil dari summary statsmodels, yang mana feature yang dipilih adalah feature yang memiliki p-val < 0.05.  \n",
    "\n",
    "- Median dan mean harga rumah tertinggi berdasarkan kecamatan adalah daerah Menteng. Dalam dataset tesebut, sebanyak 300 rumah di Menteng merupakan outliers(> 3 x iqr) sehingga ketika dataset tersebut di trimming, mean harga rumah tertinggi berdasarkan kecamatan bukan lagi menteng. \n",
    "\n",
    "- Berdasarkan a/b testing menggunakan independent t test, sebanyak +- 20% pasangan kecamatan tidak memiliki perbedaan harga. Terdapat perbedaan harga rumah yang cukup signifikan (p value t test < 0.5) pada rumah yang memiliki fasilitas seperti gym, kolam renang dan taman. Harga rumah yang memiliki fasilitas tersebut memiliki median dan mean yang lebih tinggi.\n",
    "\n",
    "- semua feature yang digunakan dalam dataset ini memiliki korelasi positif terhadap harga. tetapi, dalam regresi linier menggunakan OLS terdapat koefisien negatif. hal tersebut terjadi karena pengaruh feature tersebut terhadap harga lebih kecil dibanding feature lain. Selain itu p-value dari feature tersebut lebih besar dari 0.05, yang artinya feature tersebut tidak terlalu penting dalam regresi.\n",
    "\n",
    "- Jika model yang digunakan adalah model polynomial, terdapat kenaikan nilai r2 yang cukup signifikan terhadap dataset original, yaitu sebesar 0.2. Untuk menghindari terjadinya overfitting, maka digunakan lasso regression dengan nilai alpha yang cukup besar untuk menghilangkan feature-feature yang tidak terlalu berpengaruh. Regresi tersebut dapat dikatakan cukup bagus karena nilai r2 pada train set sebesar 0.74 dan nilai r2 pada test set sebesar 0.70. Perbedaan r2 tersebut tidak terlalu signifikan sehingga dapat dikatakan model tersebut tidak overfitting. Selain itu, karena nilai r2nya lebih dari 0.7, dapat dikatakan model tersebut memiliki strong effect.\n",
    "\n",
    "- Dengan menggunakan slovin's formula, sample size = len df dan population size didapat dari situs bps, diperoleh margin of error sebesar +-0.9% (sebelum dan sesudah trimming)\n",
    "\n",
    "- feature yang paling berpengaruh adalah ...\n",
    "\n",
    "######  *nb:*  \n",
    "\n",
    "*diperlukan studi lebih lanjut untuk menentukan nilai batas p-value dan feature apa saja yang boleh di buang*\n",
    "\n",
    "*data yang digunakan terbatas pada tahun 2020-2021*"
   ]
  },
  {
   "cell_type": "code",
   "execution_count": null,
   "metadata": {},
   "outputs": [],
   "source": []
  }
 ],
 "metadata": {
  "kernelspec": {
   "display_name": "ML",
   "language": "python",
   "name": "ml"
  },
  "language_info": {
   "codemirror_mode": {
    "name": "ipython",
    "version": 3
   },
   "file_extension": ".py",
   "mimetype": "text/x-python",
   "name": "python",
   "nbconvert_exporter": "python",
   "pygments_lexer": "ipython3",
   "version": "3.8.1"
  }
 },
 "nbformat": 4,
 "nbformat_minor": 4
}
