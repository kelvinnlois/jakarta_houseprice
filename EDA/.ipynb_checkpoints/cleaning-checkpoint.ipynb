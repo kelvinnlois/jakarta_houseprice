{
 "cells": [
  {
   "cell_type": "code",
   "execution_count": 2,
   "metadata": {},
   "outputs": [],
   "source": [
    "import numpy as np\n",
    "import pandas as pd\n",
    "import matplotlib.pyplot as plt\n",
    "%matplotlib inline\n",
    "import seaborn as sns\n",
    "pd.set_option('display.max_columns',False)\n",
    "sns.set(rc={'figure.figsize':(20.7,8.27)})\n",
    "sns.set_style(\"whitegrid\")\n",
    "sns.color_palette(\"dark\")\n",
    "plt.style.use(\"fivethirtyeight\")"
   ]
  },
  {
   "cell_type": "code",
   "execution_count": 8,
   "metadata": {},
   "outputs": [],
   "source": [
    "df = pd.read_csv('~/Desktop/jakarta_houseprice/data/data.csv')\n",
    "df = df.drop(['Unnamed: 0','Unnamed: 0.1'], axis = 1)\n",
    "df = df.drop_duplicates(subset = ['deskripsi'])"
   ]
  },
  {
   "cell_type": "code",
   "execution_count": 9,
   "metadata": {},
   "outputs": [
    {
     "name": "stdout",
     "output_type": "stream",
     "text": [
      "<class 'pandas.core.frame.DataFrame'>\n",
      "Int64Index: 25525 entries, 0 to 26372\n",
      "Data columns (total 15 columns):\n",
      " #   Column         Non-Null Count  Dtype  \n",
      "---  ------         --------------  -----  \n",
      " 0   kamar_mandi    25525 non-null  object \n",
      " 1   kamar          25525 non-null  object \n",
      " 2   lb             24790 non-null  float64\n",
      " 3   lt             21072 non-null  float64\n",
      " 4   tipe_property  25525 non-null  object \n",
      " 5   price          25512 non-null  float64\n",
      " 6   sertifikat     25525 non-null  int64  \n",
      " 7   deskripsi      25524 non-null  object \n",
      " 8   lokasi         25156 non-null  object \n",
      " 9   ada_garasi     25525 non-null  float64\n",
      " 10  pool           25525 non-null  int64  \n",
      " 11  taman          25525 non-null  int64  \n",
      " 12  electricity    24715 non-null  float64\n",
      " 13  floors_total   25341 non-null  float64\n",
      " 14  gym            25525 non-null  int64  \n",
      "dtypes: float64(6), int64(4), object(5)\n",
      "memory usage: 3.1+ MB\n"
     ]
    }
   ],
   "source": [
    "df.info()"
   ]
  },
  {
   "cell_type": "markdown",
   "metadata": {},
   "source": [
    "Benerin tipe data"
   ]
  },
  {
   "cell_type": "code",
   "execution_count": 4,
   "metadata": {},
   "outputs": [],
   "source": [
    "df = df.dropna(subset = ['price','lokasi'])"
   ]
  },
  {
   "cell_type": "code",
   "execution_count": 5,
   "metadata": {},
   "outputs": [],
   "source": [
    "df[['pool','taman','gym','sertifikat']] = df[['pool','taman','gym','sertifikat']].astype('bool')"
   ]
  },
  {
   "cell_type": "code",
   "execution_count": 6,
   "metadata": {},
   "outputs": [],
   "source": [
    "df['ada_garasi'] = df['ada_garasi'].apply(lambda x: True if x > 0 else False)"
   ]
  },
  {
   "cell_type": "code",
   "execution_count": 7,
   "metadata": {},
   "outputs": [],
   "source": [
    "df = df[df['kamar']!='>10']"
   ]
  },
  {
   "cell_type": "code",
   "execution_count": 8,
   "metadata": {},
   "outputs": [],
   "source": [
    "df['kamar'] = df['kamar'].astype('float')"
   ]
  },
  {
   "cell_type": "code",
   "execution_count": 9,
   "metadata": {},
   "outputs": [],
   "source": [
    "df['kamar'] = df['kamar'].astype('int')"
   ]
  },
  {
   "cell_type": "code",
   "execution_count": 10,
   "metadata": {},
   "outputs": [],
   "source": [
    "df = df[df['kamar_mandi'] != '>10']"
   ]
  },
  {
   "cell_type": "code",
   "execution_count": 11,
   "metadata": {},
   "outputs": [],
   "source": [
    "df['kamar_mandi'] = df['kamar_mandi'].astype('float')"
   ]
  },
  {
   "cell_type": "code",
   "execution_count": 12,
   "metadata": {},
   "outputs": [],
   "source": [
    "df['kamar_mandi'] = df['kamar_mandi'].astype('int')"
   ]
  },
  {
   "cell_type": "code",
   "execution_count": 13,
   "metadata": {},
   "outputs": [
    {
     "name": "stdout",
     "output_type": "stream",
     "text": [
      "<class 'pandas.core.frame.DataFrame'>\n",
      "Int64Index: 25097 entries, 0 to 26372\n",
      "Data columns (total 15 columns):\n",
      " #   Column         Non-Null Count  Dtype  \n",
      "---  ------         --------------  -----  \n",
      " 0   kamar_mandi    25097 non-null  int32  \n",
      " 1   kamar          25097 non-null  int32  \n",
      " 2   lb             24389 non-null  float64\n",
      " 3   lt             20811 non-null  float64\n",
      " 4   tipe_property  25097 non-null  object \n",
      " 5   price          25097 non-null  float64\n",
      " 6   sertifikat     25097 non-null  bool   \n",
      " 7   deskripsi      25097 non-null  object \n",
      " 8   lokasi         25097 non-null  object \n",
      " 9   ada_garasi     25097 non-null  bool   \n",
      " 10  pool           25097 non-null  bool   \n",
      " 11  taman          25097 non-null  bool   \n",
      " 12  electricity    24303 non-null  float64\n",
      " 13  floors_total   24918 non-null  float64\n",
      " 14  gym            25097 non-null  bool   \n",
      "dtypes: bool(5), float64(5), int32(2), object(3)\n",
      "memory usage: 2.0+ MB\n"
     ]
    }
   ],
   "source": [
    "df.info()"
   ]
  },
  {
   "cell_type": "markdown",
   "metadata": {},
   "source": [
    "# Nilai masuk akal\n",
    "lantai max 60 (cek wiki)\n",
    "\n",
    "kamar max 100(kos2an masih masuk akal)\n",
    "\n",
    "kamar mandi 50(idem)\n"
   ]
  },
  {
   "cell_type": "code",
   "execution_count": 14,
   "metadata": {},
   "outputs": [
    {
     "data": {
      "text/plain": [
       "37"
      ]
     },
     "execution_count": 14,
     "metadata": {},
     "output_type": "execute_result"
    }
   ],
   "source": [
    "len(df[df['electricity']>50000])"
   ]
  },
  {
   "cell_type": "code",
   "execution_count": 15,
   "metadata": {},
   "outputs": [
    {
     "name": "stdout",
     "output_type": "stream",
     "text": [
      "<class 'pandas.core.frame.DataFrame'>\n",
      "Int64Index: 24899 entries, 1 to 26372\n",
      "Data columns (total 15 columns):\n",
      " #   Column         Non-Null Count  Dtype  \n",
      "---  ------         --------------  -----  \n",
      " 0   kamar_mandi    24899 non-null  int32  \n",
      " 1   kamar          24899 non-null  int32  \n",
      " 2   lb             24194 non-null  float64\n",
      " 3   lt             20621 non-null  float64\n",
      " 4   tipe_property  24899 non-null  object \n",
      " 5   price          24899 non-null  float64\n",
      " 6   sertifikat     24899 non-null  bool   \n",
      " 7   deskripsi      24899 non-null  object \n",
      " 8   lokasi         24899 non-null  object \n",
      " 9   ada_garasi     24899 non-null  bool   \n",
      " 10  pool           24899 non-null  bool   \n",
      " 11  taman          24899 non-null  bool   \n",
      " 12  electricity    24117 non-null  float64\n",
      " 13  floors_total   24899 non-null  float64\n",
      " 14  gym            24899 non-null  bool   \n",
      "dtypes: bool(5), float64(5), int32(2), object(3)\n",
      "memory usage: 2.0+ MB\n"
     ]
    }
   ],
   "source": [
    "df = df[df['floors_total']<60]\n",
    "df.info()"
   ]
  },
  {
   "cell_type": "code",
   "execution_count": 16,
   "metadata": {},
   "outputs": [
    {
     "name": "stdout",
     "output_type": "stream",
     "text": [
      "<class 'pandas.core.frame.DataFrame'>\n",
      "Int64Index: 24667 entries, 1 to 26372\n",
      "Data columns (total 15 columns):\n",
      " #   Column         Non-Null Count  Dtype  \n",
      "---  ------         --------------  -----  \n",
      " 0   kamar_mandi    24667 non-null  int32  \n",
      " 1   kamar          24667 non-null  int32  \n",
      " 2   lb             23970 non-null  float64\n",
      " 3   lt             20396 non-null  float64\n",
      " 4   tipe_property  24667 non-null  object \n",
      " 5   price          24667 non-null  float64\n",
      " 6   sertifikat     24667 non-null  bool   \n",
      " 7   deskripsi      24667 non-null  object \n",
      " 8   lokasi         24667 non-null  object \n",
      " 9   ada_garasi     24667 non-null  bool   \n",
      " 10  pool           24667 non-null  bool   \n",
      " 11  taman          24667 non-null  bool   \n",
      " 12  electricity    23892 non-null  float64\n",
      " 13  floors_total   24667 non-null  float64\n",
      " 14  gym            24667 non-null  bool   \n",
      "dtypes: bool(5), float64(5), int32(2), object(3)\n",
      "memory usage: 2.0+ MB\n"
     ]
    }
   ],
   "source": [
    "df = df[df['kamar_mandi']<30]\n",
    "df.info()"
   ]
  },
  {
   "cell_type": "code",
   "execution_count": 17,
   "metadata": {},
   "outputs": [
    {
     "name": "stdout",
     "output_type": "stream",
     "text": [
      "<class 'pandas.core.frame.DataFrame'>\n",
      "RangeIndex: 24661 entries, 0 to 24660\n",
      "Data columns (total 16 columns):\n",
      " #   Column         Non-Null Count  Dtype  \n",
      "---  ------         --------------  -----  \n",
      " 0   index          24661 non-null  int64  \n",
      " 1   kamar_mandi    24661 non-null  int32  \n",
      " 2   kamar          24661 non-null  int32  \n",
      " 3   lb             23965 non-null  float64\n",
      " 4   lt             20391 non-null  float64\n",
      " 5   tipe_property  24661 non-null  object \n",
      " 6   price          24661 non-null  float64\n",
      " 7   sertifikat     24661 non-null  bool   \n",
      " 8   deskripsi      24661 non-null  object \n",
      " 9   lokasi         24661 non-null  object \n",
      " 10  ada_garasi     24661 non-null  bool   \n",
      " 11  pool           24661 non-null  bool   \n",
      " 12  taman          24661 non-null  bool   \n",
      " 13  electricity    23886 non-null  float64\n",
      " 14  floors_total   24661 non-null  float64\n",
      " 15  gym            24661 non-null  bool   \n",
      "dtypes: bool(5), float64(5), int32(2), int64(1), object(3)\n",
      "memory usage: 2.0+ MB\n"
     ]
    }
   ],
   "source": [
    "df = df[df['kamar']<60]\n",
    "df = df.reset_index()\n",
    "df.info()"
   ]
  },
  {
   "cell_type": "code",
   "execution_count": 18,
   "metadata": {},
   "outputs": [
    {
     "data": {
      "text/plain": [
       "0.6338280824232521"
      ]
     },
     "execution_count": 18,
     "metadata": {},
     "output_type": "execute_result"
    }
   ],
   "source": [
    "# check margin of error *catatan = data masih mengandung outliers\n",
    "# jumlah rumah tangga di jakarta = 2659205(bps) -> kurang lebih jumlah rumah/apartemen sama\n",
    "# ga include keluarga yg ngekost sama anak gatau diri yg udah nikah masih nebeng ortu\n",
    "# yekali sekeluarga ngemper\n",
    "from math import sqrt\n",
    "sqrt((2659205-len(df))/(2659205*len(df)))*100"
   ]
  },
  {
   "cell_type": "markdown",
   "metadata": {},
   "source": [
    "Cek distribusi"
   ]
  },
  {
   "cell_type": "code",
   "execution_count": 19,
   "metadata": {},
   "outputs": [],
   "source": [
    "num = [i for i in df.columns if (df[i].dtypes in ['int','float']) & (i != 'index')]\n",
    "cat = [i for i in df.columns if (df[i].dtypes == 'O') | (df[i].dtypes == 'bool')]"
   ]
  },
  {
   "cell_type": "code",
   "execution_count": 20,
   "metadata": {},
   "outputs": [
    {
     "name": "stdout",
     "output_type": "stream",
     "text": [
      "kamar_mandi\n"
     ]
    },
    {
     "data": {
      "image/png": "[encoded data removed]",
      "text/plain": [
       "<Figure size 1490.4x595.44 with 1 Axes>"
      ]
     },
     "metadata": {},
     "output_type": "display_data"
    },
    {
     "name": "stdout",
     "output_type": "stream",
     "text": [
      "kamar\n"
     ]
    },
    {
     "data": {
      "image/png": "[encoded data removed]",
      "text/plain": [
       "<Figure size 1490.4x595.44 with 1 Axes>"
      ]
     },
     "metadata": {},
     "output_type": "display_data"
    },
    {
     "name": "stdout",
     "output_type": "stream",
     "text": [
      "lb\n"
     ]
    },
    {
     "data": {
      "image/png": "[encoded data removed]",
      "text/plain": [
       "<Figure size 1490.4x595.44 with 1 Axes>"
      ]
     },
     "metadata": {},
     "output_type": "display_data"
    },
    {
     "name": "stdout",
     "output_type": "stream",
     "text": [
      "lt\n"
     ]
    },
    {
     "data": {
      "image/png": "[encoded data removed]",
      "text/plain": [
       "<Figure size 1490.4x595.44 with 1 Axes>"
      ]
     },
     "metadata": {},
     "output_type": "display_data"
    },
    {
     "name": "stdout",
     "output_type": "stream",
     "text": [
      "price\n"
     ]
    },
    {
     "data": {
      "image/png": "[encoded data removed]",
      "text/plain": [
       "<Figure size 1490.4x595.44 with 1 Axes>"
      ]
     },
     "metadata": {},
     "output_type": "display_data"
    },
    {
     "name": "stdout",
     "output_type": "stream",
     "text": [
      "electricity\n"
     ]
    },
    {
     "data": {
      "image/png": "[encoded data removed]",
      "text/plain": [
       "<Figure size 1490.4x595.44 with 1 Axes>"
      ]
     },
     "metadata": {},
     "output_type": "display_data"
    },
    {
     "name": "stdout",
     "output_type": "stream",
     "text": [
      "floors_total\n"
     ]
    },
    {
     "data": {
      "image/png": "[encoded data removed]",
      "text/plain": [
       "<Figure size 1490.4x595.44 with 1 Axes>"
      ]
     },
     "metadata": {},
     "output_type": "display_data"
    }
   ],
   "source": [
    "for i in num:\n",
    "    print(i)\n",
    "    df[i].plot.hist()\n",
    "    plt.show()"
   ]
  },
  {
   "cell_type": "code",
   "execution_count": 21,
   "metadata": {},
   "outputs": [
    {
     "name": "stdout",
     "output_type": "stream",
     "text": [
      "tipe_property\n"
     ]
    },
    {
     "data": {
      "image/png": "[encoded data removed]",
      "text/plain": [
       "<Figure size 1490.4x595.44 with 1 Axes>"
      ]
     },
     "metadata": {},
     "output_type": "display_data"
    },
    {
     "name": "stdout",
     "output_type": "stream",
     "text": [
      "sertifikat\n"
     ]
    },
    {
     "data": {
      "image/png": "[encoded data removed]",
      "text/plain": [
       "<Figure size 1490.4x595.44 with 1 Axes>"
      ]
     },
     "metadata": {},
     "output_type": "display_data"
    },
    {
     "name": "stdout",
     "output_type": "stream",
     "text": [
      "lokasi\n"
     ]
    },
    {
     "data": {
      "image/png": "[encoded data removed]",
      "text/plain": [
       "<Figure size 1490.4x595.44 with 1 Axes>"
      ]
     },
     "metadata": {},
     "output_type": "display_data"
    },
    {
     "name": "stdout",
     "output_type": "stream",
     "text": [
      "ada_garasi\n"
     ]
    },
    {
     "data": {
      "image/png": "[encoded data removed]",
      "text/plain": [
       "<Figure size 1490.4x595.44 with 1 Axes>"
      ]
     },
     "metadata": {},
     "output_type": "display_data"
    },
    {
     "name": "stdout",
     "output_type": "stream",
     "text": [
      "pool\n"
     ]
    },
    {
     "data": {
      "image/png": "[encoded data removed]",
      "text/plain": [
       "<Figure size 1490.4x595.44 with 1 Axes>"
      ]
     },
     "metadata": {},
     "output_type": "display_data"
    },
    {
     "name": "stdout",
     "output_type": "stream",
     "text": [
      "taman\n"
     ]
    },
    {
     "data": {
      "image/png": "[encoded data removed]",
      "text/plain": [
       "<Figure size 1490.4x595.44 with 1 Axes>"
      ]
     },
     "metadata": {},
     "output_type": "display_data"
    },
    {
     "name": "stdout",
     "output_type": "stream",
     "text": [
      "gym\n"
     ]
    },
    {
     "data": {
      "image/png": "[encoded data removed]",
      "text/plain": [
       "<Figure size 1490.4x595.44 with 1 Axes>"
      ]
     },
     "metadata": {},
     "output_type": "display_data"
    }
   ],
   "source": [
    "for i in cat:\n",
    "    if df[i].nunique()<100:\n",
    "\n",
    "        print(i)\n",
    "        df[i].value_counts().plot.bar()\n",
    "        plt.show()"
   ]
  },
  {
   "cell_type": "code",
   "execution_count": 22,
   "metadata": {},
   "outputs": [
    {
     "data": {
      "text/html": [
       "<div>\n",
       "<style scoped>\n",
       "    .dataframe tbody tr th:only-of-type {\n",
       "        vertical-align: middle;\n",
       "    }\n",
       "\n",
       "    .dataframe tbody tr th {\n",
       "        vertical-align: top;\n",
       "    }\n",
       "\n",
       "    .dataframe thead th {\n",
       "        text-align: right;\n",
       "    }\n",
       "</style>\n",
       "<table border=\"1\" class=\"dataframe\">\n",
       "  <thead>\n",
       "    <tr style=\"text-align: right;\">\n",
       "      <th></th>\n",
       "      <th>kamar_mandi</th>\n",
       "      <th>kamar</th>\n",
       "      <th>lb</th>\n",
       "      <th>lt</th>\n",
       "      <th>price</th>\n",
       "      <th>electricity</th>\n",
       "      <th>floors_total</th>\n",
       "    </tr>\n",
       "  </thead>\n",
       "  <tbody>\n",
       "    <tr>\n",
       "      <th>count</th>\n",
       "      <td>24661.000000</td>\n",
       "      <td>24661.000000</td>\n",
       "      <td>23965.000000</td>\n",
       "      <td>20391.000000</td>\n",
       "      <td>2.466100e+04</td>\n",
       "      <td>2.388600e+04</td>\n",
       "      <td>24661.000000</td>\n",
       "    </tr>\n",
       "    <tr>\n",
       "      <th>mean</th>\n",
       "      <td>3.805645</td>\n",
       "      <td>4.783018</td>\n",
       "      <td>300.113624</td>\n",
       "      <td>360.786033</td>\n",
       "      <td>8.887048e+09</td>\n",
       "      <td>7.304371e+03</td>\n",
       "      <td>2.098293</td>\n",
       "    </tr>\n",
       "    <tr>\n",
       "      <th>std</th>\n",
       "      <td>2.365399</td>\n",
       "      <td>2.952104</td>\n",
       "      <td>758.736985</td>\n",
       "      <td>2561.824543</td>\n",
       "      <td>2.856656e+10</td>\n",
       "      <td>2.848695e+05</td>\n",
       "      <td>1.961095</td>\n",
       "    </tr>\n",
       "    <tr>\n",
       "      <th>min</th>\n",
       "      <td>1.000000</td>\n",
       "      <td>1.000000</td>\n",
       "      <td>0.000000</td>\n",
       "      <td>1.000000</td>\n",
       "      <td>5.650000e+05</td>\n",
       "      <td>-1.000000e+00</td>\n",
       "      <td>-1.000000</td>\n",
       "    </tr>\n",
       "    <tr>\n",
       "      <th>25%</th>\n",
       "      <td>3.000000</td>\n",
       "      <td>3.000000</td>\n",
       "      <td>100.000000</td>\n",
       "      <td>90.000000</td>\n",
       "      <td>1.600000e+09</td>\n",
       "      <td>2.000000e+03</td>\n",
       "      <td>2.000000</td>\n",
       "    </tr>\n",
       "    <tr>\n",
       "      <th>50%</th>\n",
       "      <td>3.000000</td>\n",
       "      <td>4.000000</td>\n",
       "      <td>180.000000</td>\n",
       "      <td>150.000000</td>\n",
       "      <td>3.000000e+09</td>\n",
       "      <td>2.200000e+03</td>\n",
       "      <td>2.000000</td>\n",
       "    </tr>\n",
       "    <tr>\n",
       "      <th>75%</th>\n",
       "      <td>5.000000</td>\n",
       "      <td>5.000000</td>\n",
       "      <td>320.000000</td>\n",
       "      <td>283.000000</td>\n",
       "      <td>6.800000e+09</td>\n",
       "      <td>4.400000e+03</td>\n",
       "      <td>2.000000</td>\n",
       "    </tr>\n",
       "    <tr>\n",
       "      <th>max</th>\n",
       "      <td>29.000000</td>\n",
       "      <td>54.000000</td>\n",
       "      <td>38668.000000</td>\n",
       "      <td>182860.000000</td>\n",
       "      <td>1.830000e+12</td>\n",
       "      <td>4.400350e+07</td>\n",
       "      <td>59.000000</td>\n",
       "    </tr>\n",
       "  </tbody>\n",
       "</table>\n",
       "</div>"
      ],
      "text/plain": [
       "        kamar_mandi         kamar            lb             lt         price   electricity  floors_total\n",
       "count  24661.000000  24661.000000  23965.000000   20391.000000  2.466100e+04  2.388600e+04  24661.000000\n",
       "mean       3.805645      4.783018    300.113624     360.786033  8.887048e+09  7.304371e+03      2.098293\n",
       "std        2.365399      2.952104    758.736985    2561.824543  2.856656e+10  2.848695e+05      1.961095\n",
       "min        1.000000      1.000000      0.000000       1.000000  5.650000e+05 -1.000000e+00     -1.000000\n",
       "25%        3.000000      3.000000    100.000000      90.000000  1.600000e+09  2.000000e+03      2.000000\n",
       "50%        3.000000      4.000000    180.000000     150.000000  3.000000e+09  2.200000e+03      2.000000\n",
       "75%        5.000000      5.000000    320.000000     283.000000  6.800000e+09  4.400000e+03      2.000000\n",
       "max       29.000000     54.000000  38668.000000  182860.000000  1.830000e+12  4.400350e+07     59.000000"
      ]
     },
     "execution_count": 22,
     "metadata": {},
     "output_type": "execute_result"
    }
   ],
   "source": [
    "df[num].describe()"
   ]
  },
  {
   "cell_type": "markdown",
   "metadata": {},
   "source": [
    "Check median price distribution"
   ]
  },
  {
   "cell_type": "code",
   "execution_count": 23,
   "metadata": {},
   "outputs": [
    {
     "data": {
      "image/png": "[encoded data removed]",
      "text/plain": [
       "<Figure size 1490.4x595.44 with 1 Axes>"
      ]
     },
     "metadata": {},
     "output_type": "display_data"
    }
   ],
   "source": [
    "df.groupby('lokasi')['price'].median().sort_values().plot.bar()\n",
    "plt.show()"
   ]
  },
  {
   "cell_type": "code",
   "execution_count": 24,
   "metadata": {},
   "outputs": [
    {
     "data": {
      "text/html": [
       "<div>\n",
       "<style scoped>\n",
       "    .dataframe tbody tr th:only-of-type {\n",
       "        vertical-align: middle;\n",
       "    }\n",
       "\n",
       "    .dataframe tbody tr th {\n",
       "        vertical-align: top;\n",
       "    }\n",
       "\n",
       "    .dataframe thead th {\n",
       "        text-align: right;\n",
       "    }\n",
       "</style>\n",
       "<table border=\"1\" class=\"dataframe\">\n",
       "  <thead>\n",
       "    <tr style=\"text-align: right;\">\n",
       "      <th></th>\n",
       "      <th>lokasi</th>\n",
       "      <th>price</th>\n",
       "    </tr>\n",
       "  </thead>\n",
       "  <tbody>\n",
       "    <tr>\n",
       "      <th>0</th>\n",
       "      <td>Kebayoran Lama</td>\n",
       "      <td>1.000000e+11</td>\n",
       "    </tr>\n",
       "    <tr>\n",
       "      <th>1</th>\n",
       "      <td>Pasar Minggu</td>\n",
       "      <td>3.250000e+10</td>\n",
       "    </tr>\n",
       "    <tr>\n",
       "      <th>2</th>\n",
       "      <td>Pancoran</td>\n",
       "      <td>4.718000e+10</td>\n",
       "    </tr>\n",
       "    <tr>\n",
       "      <th>3</th>\n",
       "      <td>Pasar Minggu</td>\n",
       "      <td>2.115000e+10</td>\n",
       "    </tr>\n",
       "    <tr>\n",
       "      <th>4</th>\n",
       "      <td>Mampang Prapatan</td>\n",
       "      <td>4.900000e+09</td>\n",
       "    </tr>\n",
       "    <tr>\n",
       "      <th>...</th>\n",
       "      <td>...</td>\n",
       "      <td>...</td>\n",
       "    </tr>\n",
       "    <tr>\n",
       "      <th>24656</th>\n",
       "      <td>Koja</td>\n",
       "      <td>8.800000e+09</td>\n",
       "    </tr>\n",
       "    <tr>\n",
       "      <th>24657</th>\n",
       "      <td>Koja</td>\n",
       "      <td>2.950000e+09</td>\n",
       "    </tr>\n",
       "    <tr>\n",
       "      <th>24658</th>\n",
       "      <td>Koja</td>\n",
       "      <td>1.750000e+09</td>\n",
       "    </tr>\n",
       "    <tr>\n",
       "      <th>24659</th>\n",
       "      <td>Koja</td>\n",
       "      <td>7.700000e+09</td>\n",
       "    </tr>\n",
       "    <tr>\n",
       "      <th>24660</th>\n",
       "      <td>Koja</td>\n",
       "      <td>2.100000e+09</td>\n",
       "    </tr>\n",
       "  </tbody>\n",
       "</table>\n",
       "<p>24661 rows × 2 columns</p>\n",
       "</div>"
      ],
      "text/plain": [
       "                 lokasi         price\n",
       "0        Kebayoran Lama  1.000000e+11\n",
       "1          Pasar Minggu  3.250000e+10\n",
       "2              Pancoran  4.718000e+10\n",
       "3          Pasar Minggu  2.115000e+10\n",
       "4      Mampang Prapatan  4.900000e+09\n",
       "...                 ...           ...\n",
       "24656              Koja  8.800000e+09\n",
       "24657              Koja  2.950000e+09\n",
       "24658              Koja  1.750000e+09\n",
       "24659              Koja  7.700000e+09\n",
       "24660              Koja  2.100000e+09\n",
       "\n",
       "[24661 rows x 2 columns]"
      ]
     },
     "execution_count": 24,
     "metadata": {},
     "output_type": "execute_result"
    }
   ],
   "source": [
    "df[['lokasi','price']]"
   ]
  },
  {
   "cell_type": "markdown",
   "metadata": {},
   "source": [
    "### Cleaning"
   ]
  },
  {
   "cell_type": "code",
   "execution_count": 25,
   "metadata": {},
   "outputs": [
    {
     "name": "stdout",
     "output_type": "stream",
     "text": [
      "<class 'pandas.core.frame.DataFrame'>\n",
      "RangeIndex: 24661 entries, 0 to 24660\n",
      "Data columns (total 16 columns):\n",
      " #   Column         Non-Null Count  Dtype  \n",
      "---  ------         --------------  -----  \n",
      " 0   index          24661 non-null  int64  \n",
      " 1   kamar_mandi    24661 non-null  int32  \n",
      " 2   kamar          24661 non-null  int32  \n",
      " 3   lb             23965 non-null  float64\n",
      " 4   lt             20391 non-null  float64\n",
      " 5   tipe_property  24661 non-null  object \n",
      " 6   price          24661 non-null  float64\n",
      " 7   sertifikat     24661 non-null  bool   \n",
      " 8   deskripsi      24661 non-null  object \n",
      " 9   lokasi         24661 non-null  object \n",
      " 10  ada_garasi     24661 non-null  bool   \n",
      " 11  pool           24661 non-null  bool   \n",
      " 12  taman          24661 non-null  bool   \n",
      " 13  electricity    23886 non-null  float64\n",
      " 14  floors_total   24661 non-null  float64\n",
      " 15  gym            24661 non-null  bool   \n",
      "dtypes: bool(5), float64(5), int32(2), int64(1), object(3)\n",
      "memory usage: 2.0+ MB\n"
     ]
    }
   ],
   "source": [
    "df.info()"
   ]
  },
  {
   "cell_type": "code",
   "execution_count": 26,
   "metadata": {},
   "outputs": [
    {
     "data": {
      "text/html": [
       "<div>\n",
       "<style scoped>\n",
       "    .dataframe tbody tr th:only-of-type {\n",
       "        vertical-align: middle;\n",
       "    }\n",
       "\n",
       "    .dataframe tbody tr th {\n",
       "        vertical-align: top;\n",
       "    }\n",
       "\n",
       "    .dataframe thead th {\n",
       "        text-align: right;\n",
       "    }\n",
       "</style>\n",
       "<table border=\"1\" class=\"dataframe\">\n",
       "  <thead>\n",
       "    <tr style=\"text-align: right;\">\n",
       "      <th></th>\n",
       "      <th>kamar_mandi</th>\n",
       "      <th>kamar</th>\n",
       "      <th>lb</th>\n",
       "      <th>lt</th>\n",
       "      <th>price</th>\n",
       "      <th>electricity</th>\n",
       "      <th>floors_total</th>\n",
       "    </tr>\n",
       "  </thead>\n",
       "  <tbody>\n",
       "    <tr>\n",
       "      <th>count</th>\n",
       "      <td>24661.000000</td>\n",
       "      <td>24661.000000</td>\n",
       "      <td>23965.000000</td>\n",
       "      <td>20391.000000</td>\n",
       "      <td>2.466100e+04</td>\n",
       "      <td>2.388600e+04</td>\n",
       "      <td>24661.000000</td>\n",
       "    </tr>\n",
       "    <tr>\n",
       "      <th>mean</th>\n",
       "      <td>3.805645</td>\n",
       "      <td>4.783018</td>\n",
       "      <td>300.113624</td>\n",
       "      <td>360.786033</td>\n",
       "      <td>8.887048e+09</td>\n",
       "      <td>7.304371e+03</td>\n",
       "      <td>2.098293</td>\n",
       "    </tr>\n",
       "    <tr>\n",
       "      <th>std</th>\n",
       "      <td>2.365399</td>\n",
       "      <td>2.952104</td>\n",
       "      <td>758.736985</td>\n",
       "      <td>2561.824543</td>\n",
       "      <td>2.856656e+10</td>\n",
       "      <td>2.848695e+05</td>\n",
       "      <td>1.961095</td>\n",
       "    </tr>\n",
       "    <tr>\n",
       "      <th>min</th>\n",
       "      <td>1.000000</td>\n",
       "      <td>1.000000</td>\n",
       "      <td>0.000000</td>\n",
       "      <td>1.000000</td>\n",
       "      <td>5.650000e+05</td>\n",
       "      <td>-1.000000e+00</td>\n",
       "      <td>-1.000000</td>\n",
       "    </tr>\n",
       "    <tr>\n",
       "      <th>25%</th>\n",
       "      <td>3.000000</td>\n",
       "      <td>3.000000</td>\n",
       "      <td>100.000000</td>\n",
       "      <td>90.000000</td>\n",
       "      <td>1.600000e+09</td>\n",
       "      <td>2.000000e+03</td>\n",
       "      <td>2.000000</td>\n",
       "    </tr>\n",
       "    <tr>\n",
       "      <th>50%</th>\n",
       "      <td>3.000000</td>\n",
       "      <td>4.000000</td>\n",
       "      <td>180.000000</td>\n",
       "      <td>150.000000</td>\n",
       "      <td>3.000000e+09</td>\n",
       "      <td>2.200000e+03</td>\n",
       "      <td>2.000000</td>\n",
       "    </tr>\n",
       "    <tr>\n",
       "      <th>75%</th>\n",
       "      <td>5.000000</td>\n",
       "      <td>5.000000</td>\n",
       "      <td>320.000000</td>\n",
       "      <td>283.000000</td>\n",
       "      <td>6.800000e+09</td>\n",
       "      <td>4.400000e+03</td>\n",
       "      <td>2.000000</td>\n",
       "    </tr>\n",
       "    <tr>\n",
       "      <th>max</th>\n",
       "      <td>29.000000</td>\n",
       "      <td>54.000000</td>\n",
       "      <td>38668.000000</td>\n",
       "      <td>182860.000000</td>\n",
       "      <td>1.830000e+12</td>\n",
       "      <td>4.400350e+07</td>\n",
       "      <td>59.000000</td>\n",
       "    </tr>\n",
       "  </tbody>\n",
       "</table>\n",
       "</div>"
      ],
      "text/plain": [
       "        kamar_mandi         kamar            lb             lt         price   electricity  floors_total\n",
       "count  24661.000000  24661.000000  23965.000000   20391.000000  2.466100e+04  2.388600e+04  24661.000000\n",
       "mean       3.805645      4.783018    300.113624     360.786033  8.887048e+09  7.304371e+03      2.098293\n",
       "std        2.365399      2.952104    758.736985    2561.824543  2.856656e+10  2.848695e+05      1.961095\n",
       "min        1.000000      1.000000      0.000000       1.000000  5.650000e+05 -1.000000e+00     -1.000000\n",
       "25%        3.000000      3.000000    100.000000      90.000000  1.600000e+09  2.000000e+03      2.000000\n",
       "50%        3.000000      4.000000    180.000000     150.000000  3.000000e+09  2.200000e+03      2.000000\n",
       "75%        5.000000      5.000000    320.000000     283.000000  6.800000e+09  4.400000e+03      2.000000\n",
       "max       29.000000     54.000000  38668.000000  182860.000000  1.830000e+12  4.400350e+07     59.000000"
      ]
     },
     "execution_count": 26,
     "metadata": {},
     "output_type": "execute_result"
    }
   ],
   "source": [
    "df[num].describe()"
   ]
  },
  {
   "cell_type": "code",
   "execution_count": 27,
   "metadata": {},
   "outputs": [
    {
     "data": {
      "text/html": [
       "<div>\n",
       "<style scoped>\n",
       "    .dataframe tbody tr th:only-of-type {\n",
       "        vertical-align: middle;\n",
       "    }\n",
       "\n",
       "    .dataframe tbody tr th {\n",
       "        vertical-align: top;\n",
       "    }\n",
       "\n",
       "    .dataframe thead th {\n",
       "        text-align: right;\n",
       "    }\n",
       "</style>\n",
       "<table border=\"1\" class=\"dataframe\">\n",
       "  <thead>\n",
       "    <tr style=\"text-align: right;\">\n",
       "      <th></th>\n",
       "      <th>tipe_property</th>\n",
       "      <th>sertifikat</th>\n",
       "      <th>deskripsi</th>\n",
       "      <th>lokasi</th>\n",
       "      <th>ada_garasi</th>\n",
       "      <th>pool</th>\n",
       "      <th>taman</th>\n",
       "      <th>gym</th>\n",
       "    </tr>\n",
       "  </thead>\n",
       "  <tbody>\n",
       "    <tr>\n",
       "      <th>count</th>\n",
       "      <td>24661</td>\n",
       "      <td>24661</td>\n",
       "      <td>24661</td>\n",
       "      <td>24661</td>\n",
       "      <td>24661</td>\n",
       "      <td>24661</td>\n",
       "      <td>24661</td>\n",
       "      <td>24661</td>\n",
       "    </tr>\n",
       "    <tr>\n",
       "      <th>unique</th>\n",
       "      <td>4</td>\n",
       "      <td>2</td>\n",
       "      <td>24661</td>\n",
       "      <td>42</td>\n",
       "      <td>2</td>\n",
       "      <td>2</td>\n",
       "      <td>2</td>\n",
       "      <td>2</td>\n",
       "    </tr>\n",
       "    <tr>\n",
       "      <th>top</th>\n",
       "      <td>Rumah</td>\n",
       "      <td>True</td>\n",
       "      <td>Rumah Jl. Serdang Baru Kemayoran, Jakarta Pusa...</td>\n",
       "      <td>Penjaringan</td>\n",
       "      <td>True</td>\n",
       "      <td>False</td>\n",
       "      <td>False</td>\n",
       "      <td>False</td>\n",
       "    </tr>\n",
       "    <tr>\n",
       "      <th>freq</th>\n",
       "      <td>17874</td>\n",
       "      <td>17163</td>\n",
       "      <td>1</td>\n",
       "      <td>1542</td>\n",
       "      <td>21199</td>\n",
       "      <td>21220</td>\n",
       "      <td>19763</td>\n",
       "      <td>24090</td>\n",
       "    </tr>\n",
       "  </tbody>\n",
       "</table>\n",
       "</div>"
      ],
      "text/plain": [
       "       tipe_property sertifikat                                          deskripsi  ...   pool  taman    gym\n",
       "count          24661      24661                                              24661  ...  24661  24661  24661\n",
       "unique             4          2                                              24661  ...      2      2      2\n",
       "top            Rumah       True  Rumah Jl. Serdang Baru Kemayoran, Jakarta Pusa...  ...  False  False  False\n",
       "freq           17874      17163                                                  1  ...  21220  19763  24090\n",
       "\n",
       "[4 rows x 8 columns]"
      ]
     },
     "execution_count": 27,
     "metadata": {},
     "output_type": "execute_result"
    }
   ],
   "source": [
    "df.describe(exclude=[np.number])  "
   ]
  },
  {
   "cell_type": "code",
   "execution_count": 28,
   "metadata": {},
   "outputs": [
    {
     "data": {
      "text/html": [
       "<div>\n",
       "<style scoped>\n",
       "    .dataframe tbody tr th:only-of-type {\n",
       "        vertical-align: middle;\n",
       "    }\n",
       "\n",
       "    .dataframe tbody tr th {\n",
       "        vertical-align: top;\n",
       "    }\n",
       "\n",
       "    .dataframe thead th {\n",
       "        text-align: right;\n",
       "    }\n",
       "</style>\n",
       "<table border=\"1\" class=\"dataframe\">\n",
       "  <thead>\n",
       "    <tr style=\"text-align: right;\">\n",
       "      <th></th>\n",
       "      <th>Features</th>\n",
       "      <th>DataType</th>\n",
       "      <th>Null</th>\n",
       "      <th>NullPercentage</th>\n",
       "      <th>Unique</th>\n",
       "      <th>Unique Sample</th>\n",
       "    </tr>\n",
       "  </thead>\n",
       "  <tbody>\n",
       "    <tr>\n",
       "      <th>0</th>\n",
       "      <td>index</td>\n",
       "      <td>int64</td>\n",
       "      <td>0</td>\n",
       "      <td>0.00</td>\n",
       "      <td>24661</td>\n",
       "      <td>[21152, 13979]</td>\n",
       "    </tr>\n",
       "    <tr>\n",
       "      <th>1</th>\n",
       "      <td>kamar_mandi</td>\n",
       "      <td>int32</td>\n",
       "      <td>0</td>\n",
       "      <td>0.00</td>\n",
       "      <td>29</td>\n",
       "      <td>[25, 7]</td>\n",
       "    </tr>\n",
       "    <tr>\n",
       "      <th>2</th>\n",
       "      <td>kamar</td>\n",
       "      <td>int32</td>\n",
       "      <td>0</td>\n",
       "      <td>0.00</td>\n",
       "      <td>43</td>\n",
       "      <td>[34, 23]</td>\n",
       "    </tr>\n",
       "    <tr>\n",
       "      <th>3</th>\n",
       "      <td>lb</td>\n",
       "      <td>float64</td>\n",
       "      <td>696</td>\n",
       "      <td>2.82</td>\n",
       "      <td>934</td>\n",
       "      <td>[667.0, 265.0]</td>\n",
       "    </tr>\n",
       "    <tr>\n",
       "      <th>4</th>\n",
       "      <td>lt</td>\n",
       "      <td>float64</td>\n",
       "      <td>4270</td>\n",
       "      <td>17.31</td>\n",
       "      <td>1223</td>\n",
       "      <td>[511.0, 1044.0]</td>\n",
       "    </tr>\n",
       "    <tr>\n",
       "      <th>5</th>\n",
       "      <td>tipe_property</td>\n",
       "      <td>object</td>\n",
       "      <td>0</td>\n",
       "      <td>0.00</td>\n",
       "      <td>4</td>\n",
       "      <td>[Apartemen, Rumah]</td>\n",
       "    </tr>\n",
       "    <tr>\n",
       "      <th>6</th>\n",
       "      <td>price</td>\n",
       "      <td>float64</td>\n",
       "      <td>0</td>\n",
       "      <td>0.00</td>\n",
       "      <td>1966</td>\n",
       "      <td>[5909000000.0, 868000000.0]</td>\n",
       "    </tr>\n",
       "    <tr>\n",
       "      <th>7</th>\n",
       "      <td>sertifikat</td>\n",
       "      <td>bool</td>\n",
       "      <td>0</td>\n",
       "      <td>0.00</td>\n",
       "      <td>2</td>\n",
       "      <td>[True, False]</td>\n",
       "    </tr>\n",
       "    <tr>\n",
       "      <th>8</th>\n",
       "      <td>deskripsi</td>\n",
       "      <td>object</td>\n",
       "      <td>0</td>\n",
       "      <td>0.00</td>\n",
       "      <td>24661</td>\n",
       "      <td>[dijual cepat ruko city garden, cengkareng, ja...</td>\n",
       "    </tr>\n",
       "    <tr>\n",
       "      <th>9</th>\n",
       "      <td>lokasi</td>\n",
       "      <td>object</td>\n",
       "      <td>0</td>\n",
       "      <td>0.00</td>\n",
       "      <td>42</td>\n",
       "      <td>[Jagakarsa, Taman Sari]</td>\n",
       "    </tr>\n",
       "    <tr>\n",
       "      <th>10</th>\n",
       "      <td>ada_garasi</td>\n",
       "      <td>bool</td>\n",
       "      <td>0</td>\n",
       "      <td>0.00</td>\n",
       "      <td>2</td>\n",
       "      <td>[True, False]</td>\n",
       "    </tr>\n",
       "    <tr>\n",
       "      <th>11</th>\n",
       "      <td>pool</td>\n",
       "      <td>bool</td>\n",
       "      <td>0</td>\n",
       "      <td>0.00</td>\n",
       "      <td>2</td>\n",
       "      <td>[True, False]</td>\n",
       "    </tr>\n",
       "    <tr>\n",
       "      <th>12</th>\n",
       "      <td>taman</td>\n",
       "      <td>bool</td>\n",
       "      <td>0</td>\n",
       "      <td>0.00</td>\n",
       "      <td>2</td>\n",
       "      <td>[False, True]</td>\n",
       "    </tr>\n",
       "    <tr>\n",
       "      <th>13</th>\n",
       "      <td>electricity</td>\n",
       "      <td>float64</td>\n",
       "      <td>775</td>\n",
       "      <td>3.14</td>\n",
       "      <td>159</td>\n",
       "      <td>[6600.0, 16100.0]</td>\n",
       "    </tr>\n",
       "    <tr>\n",
       "      <th>14</th>\n",
       "      <td>floors_total</td>\n",
       "      <td>float64</td>\n",
       "      <td>0</td>\n",
       "      <td>0.00</td>\n",
       "      <td>35</td>\n",
       "      <td>[-1.0, 8.0]</td>\n",
       "    </tr>\n",
       "    <tr>\n",
       "      <th>15</th>\n",
       "      <td>gym</td>\n",
       "      <td>bool</td>\n",
       "      <td>0</td>\n",
       "      <td>0.00</td>\n",
       "      <td>2</td>\n",
       "      <td>[False, True]</td>\n",
       "    </tr>\n",
       "  </tbody>\n",
       "</table>\n",
       "</div>"
      ],
      "text/plain": [
       "         Features DataType  Null  NullPercentage  Unique                                      Unique Sample\n",
       "0           index    int64     0            0.00   24661                                     [21152, 13979]\n",
       "1     kamar_mandi    int32     0            0.00      29                                            [25, 7]\n",
       "2           kamar    int32     0            0.00      43                                           [34, 23]\n",
       "3              lb  float64   696            2.82     934                                     [667.0, 265.0]\n",
       "4              lt  float64  4270           17.31    1223                                    [511.0, 1044.0]\n",
       "5   tipe_property   object     0            0.00       4                                 [Apartemen, Rumah]\n",
       "6           price  float64     0            0.00    1966                        [5909000000.0, 868000000.0]\n",
       "7      sertifikat     bool     0            0.00       2                                      [True, False]\n",
       "8       deskripsi   object     0            0.00   24661  [dijual cepat ruko city garden, cengkareng, ja...\n",
       "9          lokasi   object     0            0.00      42                            [Jagakarsa, Taman Sari]\n",
       "10     ada_garasi     bool     0            0.00       2                                      [True, False]\n",
       "11           pool     bool     0            0.00       2                                      [True, False]\n",
       "12          taman     bool     0            0.00       2                                      [False, True]\n",
       "13    electricity  float64   775            3.14     159                                  [6600.0, 16100.0]\n",
       "14   floors_total  float64     0            0.00      35                                        [-1.0, 8.0]\n",
       "15            gym     bool     0            0.00       2                                      [False, True]"
      ]
     },
     "execution_count": 28,
     "metadata": {},
     "output_type": "execute_result"
    }
   ],
   "source": [
    "bsDesc = []\n",
    "\n",
    "for i in df.columns:\n",
    "    bsDesc.append([\n",
    "        i,\n",
    "        df[i].dtypes,\n",
    "        df[i].isna().sum(),\n",
    "        round((((df[i].isna().sum() )/ len(df)) * 100),2),\n",
    "        df[i].nunique(),\n",
    "        df[i].drop_duplicates().sample(2).values\n",
    "    ])\n",
    "\n",
    "pd.DataFrame(data = bsDesc,\n",
    "            columns = [\n",
    "                'Features',\n",
    "                'DataType',\n",
    "                'Null',\n",
    "                'NullPercentage',\n",
    "                'Unique',\n",
    "                'Unique Sample'\n",
    "            ])"
   ]
  },
  {
   "cell_type": "code",
   "execution_count": 29,
   "metadata": {},
   "outputs": [
    {
     "name": "stdout",
     "output_type": "stream",
     "text": [
      "Jumlah Outliers kolom kamar_mandi = 614\n",
      "Jumlah Outliers kolom kamar = 1218\n",
      "Jumlah Outliers kolom lb = 1834\n",
      "Jumlah Outliers kolom lt = 2020\n",
      "Jumlah Outliers kolom price = 3076\n",
      "Jumlah Outliers kolom electricity = 3120\n",
      "Jumlah Outliers kolom floors_total = 11103\n"
     ]
    }
   ],
   "source": [
    "# Pengecekan Outliers\n",
    "for kolom in num:\n",
    "    Q1 = df.describe()[kolom]['25%']\n",
    "    Q3 = df.describe()[kolom]['75%']\n",
    "    IQR = Q3 - Q1\n",
    "    Upper_Fence = Q3 + (1.5 * IQR)\n",
    "    Lower_Fence = Q1 - (1.5 * IQR)\n",
    "\n",
    "    OutLiers = df[(df[kolom] < Lower_Fence) | (df[kolom] > Upper_Fence)]\n",
    "    print(f\"Jumlah Outliers kolom {kolom} = {len(OutLiers)}\")\n",
    "    "
   ]
  },
  {
   "cell_type": "markdown",
   "metadata": {},
   "source": [
    "#### Cleaning Kolom `lb`\n",
    "- Drop NaN value (NaN values kebanyakan memiliki tipe properti 'lainnya' - jual tanah)\n",
    "- Batas nilai `lb` dibatasi $20<lb<10000$"
   ]
  },
  {
   "cell_type": "code",
   "execution_count": 30,
   "metadata": {},
   "outputs": [
    {
     "data": {
      "text/plain": [
       "lainnya      396\n",
       "Rumah        254\n",
       "Ruko          28\n",
       "Apartemen     18\n",
       "Name: tipe_property, dtype: int64"
      ]
     },
     "execution_count": 30,
     "metadata": {},
     "output_type": "execute_result"
    }
   ],
   "source": [
    "df[df['lb'].isna()==True]['tipe_property'].value_counts()"
   ]
  },
  {
   "cell_type": "code",
   "execution_count": 31,
   "metadata": {},
   "outputs": [],
   "source": [
    "df.dropna(subset=['lb'], inplace=True)"
   ]
  },
  {
   "cell_type": "code",
   "execution_count": 32,
   "metadata": {},
   "outputs": [],
   "source": [
    "df = df[(df['lb']<10000) & (df['lb']>20)]"
   ]
  },
  {
   "cell_type": "code",
   "execution_count": 33,
   "metadata": {},
   "outputs": [
    {
     "name": "stdout",
     "output_type": "stream",
     "text": [
      "Jumlah data outliers pada kolom lb =  1815\n",
      "Jumlah data keseluruhan = 23816\n"
     ]
    }
   ],
   "source": [
    "# Handling Outliers Kolom lb\n",
    "Q1 = df.describe()['lb']['25%']\n",
    "Q3 = df.describe()['lb']['75%']\n",
    "IQR = Q3 - Q1\n",
    "Upper_Fence = Q3 + (1.5 * IQR)\n",
    "Lower_Fence = Q1 - (1.5 * IQR)\n",
    "\n",
    "Out = df[(df['lb'] < Lower_Fence) | (df['lb'] > Upper_Fence)]\n",
    "print('Jumlah data outliers pada kolom lb = ', len(Out['lb']))\n",
    "print('Jumlah data keseluruhan =', len(df))\n",
    "# df[(df['lb'] > Upper_Fence)]"
   ]
  },
  {
   "cell_type": "markdown",
   "metadata": {},
   "source": [
    "#### Cleaning kolom `lt` "
   ]
  },
  {
   "cell_type": "code",
   "execution_count": 34,
   "metadata": {},
   "outputs": [],
   "source": [
    "df.loc[df['tipe_property'] == \"Apartemen\", \"lt\"] = 0"
   ]
  },
  {
   "cell_type": "code",
   "execution_count": 35,
   "metadata": {},
   "outputs": [
    {
     "data": {
      "text/plain": [
       "lainnya    1215\n",
       "Ruko        728\n",
       "Rumah       385\n",
       "Name: tipe_property, dtype: int64"
      ]
     },
     "execution_count": 35,
     "metadata": {},
     "output_type": "execute_result"
    }
   ],
   "source": [
    "df[df['lt'].isna()==True]['tipe_property'].value_counts()"
   ]
  },
  {
   "cell_type": "code",
   "execution_count": 36,
   "metadata": {},
   "outputs": [],
   "source": [
    "df.dropna(subset=['lt'], inplace=True)"
   ]
  },
  {
   "cell_type": "code",
   "execution_count": 37,
   "metadata": {},
   "outputs": [
    {
     "data": {
      "text/plain": [
       "count    19589.000000\n",
       "mean       244.523202\n",
       "std        379.667884\n",
       "min          1.000000\n",
       "25%         90.000000\n",
       "50%        145.000000\n",
       "75%        270.000000\n",
       "max      29375.000000\n",
       "Name: lt, dtype: float64"
      ]
     },
     "execution_count": 37,
     "metadata": {},
     "output_type": "execute_result"
    }
   ],
   "source": [
    "df[~(df['tipe_property']=='Apartemen')].describe()['lt']"
   ]
  },
  {
   "cell_type": "code",
   "execution_count": 38,
   "metadata": {},
   "outputs": [
    {
     "data": {
      "text/plain": [
       "24452     1.0\n",
       "12335     1.0\n",
       "9062      1.0\n",
       "17261     1.0\n",
       "252       1.0\n",
       "         ... \n",
       "13673    21.0\n",
       "14352    21.0\n",
       "23233    21.0\n",
       "23257    21.0\n",
       "23207    21.0\n",
       "Name: lt, Length: 120, dtype: float64"
      ]
     },
     "execution_count": 38,
     "metadata": {},
     "output_type": "execute_result"
    }
   ],
   "source": [
    "df[~(df['tipe_property']=='Apartemen')]['lt'].sort_values()[:120]"
   ]
  },
  {
   "cell_type": "code",
   "execution_count": 39,
   "metadata": {},
   "outputs": [
    {
     "data": {
      "text/plain": [
       "17184    29375.0\n",
       "21501    11000.0\n",
       "1822      7000.0\n",
       "14547     6575.0\n",
       "24335     6427.0\n",
       "17294     6201.0\n",
       "23571     6075.0\n",
       "22888     6000.0\n",
       "13823     5356.0\n",
       "2352      5250.0\n",
       "Name: lt, dtype: float64"
      ]
     },
     "execution_count": 39,
     "metadata": {},
     "output_type": "execute_result"
    }
   ],
   "source": [
    "df[~(df['tipe_property']=='Apartemen')]['lt'].sort_values(ascending=False)[:10]"
   ]
  },
  {
   "cell_type": "code",
   "execution_count": 40,
   "metadata": {},
   "outputs": [
    {
     "data": {
      "text/html": [
       "<div>\n",
       "<style scoped>\n",
       "    .dataframe tbody tr th:only-of-type {\n",
       "        vertical-align: middle;\n",
       "    }\n",
       "\n",
       "    .dataframe tbody tr th {\n",
       "        vertical-align: top;\n",
       "    }\n",
       "\n",
       "    .dataframe thead th {\n",
       "        text-align: right;\n",
       "    }\n",
       "</style>\n",
       "<table border=\"1\" class=\"dataframe\">\n",
       "  <thead>\n",
       "    <tr style=\"text-align: right;\">\n",
       "      <th></th>\n",
       "      <th>index</th>\n",
       "      <th>kamar_mandi</th>\n",
       "      <th>kamar</th>\n",
       "      <th>lb</th>\n",
       "      <th>lt</th>\n",
       "      <th>tipe_property</th>\n",
       "      <th>price</th>\n",
       "      <th>sertifikat</th>\n",
       "      <th>deskripsi</th>\n",
       "      <th>lokasi</th>\n",
       "      <th>ada_garasi</th>\n",
       "      <th>pool</th>\n",
       "      <th>taman</th>\n",
       "      <th>electricity</th>\n",
       "      <th>floors_total</th>\n",
       "      <th>gym</th>\n",
       "    </tr>\n",
       "  </thead>\n",
       "  <tbody>\n",
       "    <tr>\n",
       "      <th>5726</th>\n",
       "      <td>5855</td>\n",
       "      <td>2</td>\n",
       "      <td>5</td>\n",
       "      <td>55.0</td>\n",
       "      <td>90.0</td>\n",
       "      <td>Rumah</td>\n",
       "      <td>1.500000e+09</td>\n",
       "      <td>False</td>\n",
       "      <td>dijual rumah cluster yarra jakarta garden city...</td>\n",
       "      <td>Cakung</td>\n",
       "      <td>True</td>\n",
       "      <td>False</td>\n",
       "      <td>True</td>\n",
       "      <td>2200.0</td>\n",
       "      <td>2.0</td>\n",
       "      <td>False</td>\n",
       "    </tr>\n",
       "    <tr>\n",
       "      <th>23598</th>\n",
       "      <td>25253</td>\n",
       "      <td>5</td>\n",
       "      <td>6</td>\n",
       "      <td>300.0</td>\n",
       "      <td>140.0</td>\n",
       "      <td>Rumah</td>\n",
       "      <td>2.950000e+09</td>\n",
       "      <td>False</td>\n",
       "      <td>dijual rumah di pademangan timur, pademangan, ...</td>\n",
       "      <td>Pademangan</td>\n",
       "      <td>True</td>\n",
       "      <td>False</td>\n",
       "      <td>False</td>\n",
       "      <td>41500.0</td>\n",
       "      <td>3.0</td>\n",
       "      <td>False</td>\n",
       "    </tr>\n",
       "  </tbody>\n",
       "</table>\n",
       "</div>"
      ],
      "text/plain": [
       "       index  kamar_mandi  kamar     lb     lt  ...   pool  taman  electricity floors_total    gym\n",
       "5726    5855            2      5   55.0   90.0  ...  False   True       2200.0          2.0  False\n",
       "23598  25253            5      6  300.0  140.0  ...  False  False      41500.0          3.0  False\n",
       "\n",
       "[2 rows x 16 columns]"
      ]
     },
     "execution_count": 40,
     "metadata": {},
     "output_type": "execute_result"
    }
   ],
   "source": [
    "df.sample(2)"
   ]
  },
  {
   "cell_type": "code",
   "execution_count": 41,
   "metadata": {},
   "outputs": [],
   "source": [
    "df.drop(df[(df['lt']<22) & (df['tipe_property'] != 'Apartemen')].index, inplace=True)"
   ]
  },
  {
   "cell_type": "code",
   "execution_count": 42,
   "metadata": {},
   "outputs": [],
   "source": [
    "df.drop(df[df['lt'] > 10000].index, inplace=True)"
   ]
  },
  {
   "cell_type": "code",
   "execution_count": 43,
   "metadata": {},
   "outputs": [
    {
     "name": "stdout",
     "output_type": "stream",
     "text": [
      "<class 'pandas.core.frame.DataFrame'>\n",
      "Int64Index: 21319 entries, 0 to 24660\n",
      "Data columns (total 16 columns):\n",
      " #   Column         Non-Null Count  Dtype  \n",
      "---  ------         --------------  -----  \n",
      " 0   index          21319 non-null  int64  \n",
      " 1   kamar_mandi    21319 non-null  int32  \n",
      " 2   kamar          21319 non-null  int32  \n",
      " 3   lb             21319 non-null  float64\n",
      " 4   lt             21319 non-null  float64\n",
      " 5   tipe_property  21319 non-null  object \n",
      " 6   price          21319 non-null  float64\n",
      " 7   sertifikat     21319 non-null  bool   \n",
      " 8   deskripsi      21319 non-null  object \n",
      " 9   lokasi         21319 non-null  object \n",
      " 10  ada_garasi     21319 non-null  bool   \n",
      " 11  pool           21319 non-null  bool   \n",
      " 12  taman          21319 non-null  bool   \n",
      " 13  electricity    20672 non-null  float64\n",
      " 14  floors_total   21319 non-null  float64\n",
      " 15  gym            21319 non-null  bool   \n",
      "dtypes: bool(5), float64(5), int32(2), int64(1), object(3)\n",
      "memory usage: 1.9+ MB\n"
     ]
    }
   ],
   "source": [
    "df.info()"
   ]
  },
  {
   "cell_type": "markdown",
   "metadata": {},
   "source": [
    "#### Cleaning kolom `tipe_property`"
   ]
  },
  {
   "cell_type": "code",
   "execution_count": 44,
   "metadata": {},
   "outputs": [
    {
     "data": {
      "text/plain": [
       "Rumah        17021\n",
       "lainnya       2355\n",
       "Apartemen     1899\n",
       "Ruko            44\n",
       "Name: tipe_property, dtype: int64"
      ]
     },
     "execution_count": 44,
     "metadata": {},
     "output_type": "execute_result"
    }
   ],
   "source": [
    "df['tipe_property'].value_counts()"
   ]
  },
  {
   "cell_type": "code",
   "execution_count": 45,
   "metadata": {},
   "outputs": [
    {
     "data": {
      "text/plain": [
       "Rumah        17021\n",
       "lainnya       2355\n",
       "Apartemen     1899\n",
       "Name: tipe_property, dtype: int64"
      ]
     },
     "execution_count": 45,
     "metadata": {},
     "output_type": "execute_result"
    }
   ],
   "source": [
    "df = df[df['tipe_property'] != 'Ruko']\n",
    "df['tipe_property'].value_counts()"
   ]
  },
  {
   "cell_type": "code",
   "execution_count": 46,
   "metadata": {},
   "outputs": [
    {
     "data": {
      "text/plain": [
       "'[ for sale ]hunian nyaman & asrijagakarsa - jakarta selatan\\ncluster idaman design classic ready stock 1 unit lagilt 116 m2lb 180 m2kt 4 + 1km 3 + 1carport 1 mobillistrik 2200 watt\\nopen : 1.8 m - nego\\ndekat pusat perbelanjaandekat pusat transportasidekat pusat pendidikandekat pasar tradisional\\nlegalitas : shm - imb & pbb clear\\ncash / kpr * di bantu sampai tuntas *\\ninfo hub : akmalcall or wa\\nkami juga menyediakan hunian :clusternon clusterindent - custom\\nkami akan melayani anda dengan senang hati , karena kepuasan anda keutamaan bagi kami_vine property'"
      ]
     },
     "execution_count": 46,
     "metadata": {},
     "output_type": "execute_result"
    }
   ],
   "source": [
    "x = df[df['tipe_property'] == 'lainnya'].head(10)\n",
    "x['deskripsi'].iloc[4]"
   ]
  },
  {
   "cell_type": "markdown",
   "metadata": {},
   "source": [
    "__untuk sementara pertahankan data dengan tipe properti $=$ lainnya__"
   ]
  },
  {
   "cell_type": "code",
   "execution_count": 47,
   "metadata": {},
   "outputs": [
    {
     "name": "stdout",
     "output_type": "stream",
     "text": [
      "<class 'pandas.core.frame.DataFrame'>\n",
      "Int64Index: 21275 entries, 0 to 24660\n",
      "Data columns (total 16 columns):\n",
      " #   Column         Non-Null Count  Dtype  \n",
      "---  ------         --------------  -----  \n",
      " 0   index          21275 non-null  int64  \n",
      " 1   kamar_mandi    21275 non-null  int32  \n",
      " 2   kamar          21275 non-null  int32  \n",
      " 3   lb             21275 non-null  float64\n",
      " 4   lt             21275 non-null  float64\n",
      " 5   tipe_property  21275 non-null  object \n",
      " 6   price          21275 non-null  float64\n",
      " 7   sertifikat     21275 non-null  bool   \n",
      " 8   deskripsi      21275 non-null  object \n",
      " 9   lokasi         21275 non-null  object \n",
      " 10  ada_garasi     21275 non-null  bool   \n",
      " 11  pool           21275 non-null  bool   \n",
      " 12  taman          21275 non-null  bool   \n",
      " 13  electricity    20630 non-null  float64\n",
      " 14  floors_total   21275 non-null  float64\n",
      " 15  gym            21275 non-null  bool   \n",
      "dtypes: bool(5), float64(5), int32(2), int64(1), object(3)\n",
      "memory usage: 1.9+ MB\n"
     ]
    }
   ],
   "source": [
    "df.info()"
   ]
  },
  {
   "cell_type": "markdown",
   "metadata": {},
   "source": [
    "#### Cleaning kolom `price`\n",
    "- drop data dengan harga dibawah 50 jt\n",
    "- pertahankan data dengan harga rumah di atas upper fence"
   ]
  },
  {
   "cell_type": "code",
   "execution_count": 48,
   "metadata": {},
   "outputs": [
    {
     "data": {
      "text/plain": [
       "count    2.127500e+04\n",
       "mean     7.195779e+09\n",
       "std      1.452871e+10\n",
       "min      5.650000e+05\n",
       "25%      1.550000e+09\n",
       "50%      2.990000e+09\n",
       "75%      6.500000e+09\n",
       "max      3.750000e+11\n",
       "Name: price, dtype: float64"
      ]
     },
     "execution_count": 48,
     "metadata": {},
     "output_type": "execute_result"
    }
   ],
   "source": [
    "df['price'].describe()"
   ]
  },
  {
   "cell_type": "code",
   "execution_count": 49,
   "metadata": {},
   "outputs": [
    {
     "data": {
      "text/plain": [
       "24123      0.565\n",
       "17519      3.000\n",
       "17186      4.500\n",
       "22075     10.000\n",
       "22377     12.000\n",
       "15468     16.000\n",
       "22535     16.000\n",
       "21884     16.000\n",
       "22815     24.000\n",
       "18763     33.000\n",
       "23480     35.000\n",
       "19095     35.500\n",
       "18930     40.000\n",
       "18929     40.000\n",
       "16322     40.000\n",
       "14224     45.000\n",
       "21368     52.500\n",
       "19093     55.000\n",
       "16035     55.000\n",
       "15103     63.000\n",
       "19348     65.000\n",
       "14951     85.000\n",
       "13676     85.000\n",
       "20821     88.000\n",
       "20824     95.000\n",
       "17670     95.000\n",
       "14759     99.000\n",
       "13562    100.000\n",
       "14820    100.000\n",
       "14557    100.000\n",
       "Name: price, dtype: float64"
      ]
     },
     "execution_count": 49,
     "metadata": {},
     "output_type": "execute_result"
    }
   ],
   "source": [
    "df.sort_values(by=['price'], ascending=True).head(30)['price']/1_000_000"
   ]
  },
  {
   "cell_type": "code",
   "execution_count": 50,
   "metadata": {},
   "outputs": [
    {
     "name": "stdout",
     "output_type": "stream",
     "text": [
      "Jumlah data outliers pada kolom lb =  2510\n",
      "Jumlah data keseluruhan = 21275\n"
     ]
    }
   ],
   "source": [
    "## Drop rumah dengan harga pencilan?\n",
    "# Handling Outliers Kolom price\n",
    "Q1 = df.describe()['price']['25%']\n",
    "Q3 = df.describe()['price']['75%']\n",
    "IQR = Q3 - Q1\n",
    "Upper_Fence = Q3 + (1.5 * IQR)\n",
    "Lower_Fence = Q1 - (1.5 * IQR)\n",
    "\n",
    "Out = df[(df['price'] < Lower_Fence) | (df['price'] > Upper_Fence)]\n",
    "print('Jumlah data outliers pada kolom lb = ', len(Out['lb']))\n",
    "print('Jumlah data keseluruhan =', len(df))\n",
    "# df[(df['price'] > Upper_Fence)]\n",
    "# df[(df['price'] > Lower_Fence)]"
   ]
  },
  {
   "cell_type": "code",
   "execution_count": 51,
   "metadata": {},
   "outputs": [
    {
     "data": {
      "text/html": [
       "<div>\n",
       "<style scoped>\n",
       "    .dataframe tbody tr th:only-of-type {\n",
       "        vertical-align: middle;\n",
       "    }\n",
       "\n",
       "    .dataframe tbody tr th {\n",
       "        vertical-align: top;\n",
       "    }\n",
       "\n",
       "    .dataframe thead th {\n",
       "        text-align: right;\n",
       "    }\n",
       "</style>\n",
       "<table border=\"1\" class=\"dataframe\">\n",
       "  <thead>\n",
       "    <tr style=\"text-align: right;\">\n",
       "      <th></th>\n",
       "      <th>index</th>\n",
       "      <th>kamar_mandi</th>\n",
       "      <th>kamar</th>\n",
       "      <th>lb</th>\n",
       "      <th>lt</th>\n",
       "      <th>tipe_property</th>\n",
       "      <th>price</th>\n",
       "      <th>sertifikat</th>\n",
       "      <th>deskripsi</th>\n",
       "      <th>lokasi</th>\n",
       "      <th>ada_garasi</th>\n",
       "      <th>pool</th>\n",
       "      <th>taman</th>\n",
       "      <th>electricity</th>\n",
       "      <th>floors_total</th>\n",
       "      <th>gym</th>\n",
       "    </tr>\n",
       "  </thead>\n",
       "  <tbody>\n",
       "  </tbody>\n",
       "</table>\n",
       "</div>"
      ],
      "text/plain": [
       "Empty DataFrame\n",
       "Columns: [index, kamar_mandi, kamar, lb, lt, tipe_property, price, sertifikat, deskripsi, lokasi, ada_garasi, pool, taman, electricity, floors_total, gym]\n",
       "Index: []"
      ]
     },
     "execution_count": 51,
     "metadata": {},
     "output_type": "execute_result"
    }
   ],
   "source": [
    "df[(df['price'] < Lower_Fence)]"
   ]
  },
  {
   "cell_type": "code",
   "execution_count": 52,
   "metadata": {},
   "outputs": [
    {
     "data": {
      "text/html": [
       "<div>\n",
       "<style scoped>\n",
       "    .dataframe tbody tr th:only-of-type {\n",
       "        vertical-align: middle;\n",
       "    }\n",
       "\n",
       "    .dataframe tbody tr th {\n",
       "        vertical-align: top;\n",
       "    }\n",
       "\n",
       "    .dataframe thead th {\n",
       "        text-align: right;\n",
       "    }\n",
       "</style>\n",
       "<table border=\"1\" class=\"dataframe\">\n",
       "  <thead>\n",
       "    <tr style=\"text-align: right;\">\n",
       "      <th></th>\n",
       "      <th>index</th>\n",
       "      <th>kamar_mandi</th>\n",
       "      <th>kamar</th>\n",
       "      <th>lb</th>\n",
       "      <th>lt</th>\n",
       "      <th>tipe_property</th>\n",
       "      <th>price</th>\n",
       "      <th>sertifikat</th>\n",
       "      <th>deskripsi</th>\n",
       "      <th>lokasi</th>\n",
       "      <th>ada_garasi</th>\n",
       "      <th>pool</th>\n",
       "      <th>taman</th>\n",
       "      <th>electricity</th>\n",
       "      <th>floors_total</th>\n",
       "      <th>gym</th>\n",
       "    </tr>\n",
       "  </thead>\n",
       "  <tbody>\n",
       "    <tr>\n",
       "      <th>317</th>\n",
       "      <td>324</td>\n",
       "      <td>7</td>\n",
       "      <td>8</td>\n",
       "      <td>2700.0</td>\n",
       "      <td>4260.0</td>\n",
       "      <td>Rumah</td>\n",
       "      <td>3.750000e+11</td>\n",
       "      <td>True</td>\n",
       "      <td>rumah super mewah view golf luxurious european...</td>\n",
       "      <td>Kebayoran Lama</td>\n",
       "      <td>True</td>\n",
       "      <td>True</td>\n",
       "      <td>False</td>\n",
       "      <td>NaN</td>\n",
       "      <td>2.0</td>\n",
       "      <td>False</td>\n",
       "    </tr>\n",
       "    <tr>\n",
       "      <th>21544</th>\n",
       "      <td>23034</td>\n",
       "      <td>7</td>\n",
       "      <td>6</td>\n",
       "      <td>4260.0</td>\n",
       "      <td>2700.0</td>\n",
       "      <td>Rumah</td>\n",
       "      <td>3.750000e+11</td>\n",
       "      <td>True</td>\n",
       "      <td>RUMAH MEWAH DI BUKIT GOLF PONDOK INDAH HARGA M...</td>\n",
       "      <td>Kebayoran Lama</td>\n",
       "      <td>True</td>\n",
       "      <td>True</td>\n",
       "      <td>True</td>\n",
       "      <td>76000.0</td>\n",
       "      <td>3.0</td>\n",
       "      <td>False</td>\n",
       "    </tr>\n",
       "    <tr>\n",
       "      <th>21631</th>\n",
       "      <td>23121</td>\n",
       "      <td>7</td>\n",
       "      <td>6</td>\n",
       "      <td>2700.0</td>\n",
       "      <td>4260.0</td>\n",
       "      <td>Rumah</td>\n",
       "      <td>3.750000e+11</td>\n",
       "      <td>True</td>\n",
       "      <td>RUMAH BUKIT GOLF PONDOK INDAH ~ LT/LB 4.260/2....</td>\n",
       "      <td>Kebayoran Lama</td>\n",
       "      <td>True</td>\n",
       "      <td>True</td>\n",
       "      <td>True</td>\n",
       "      <td>76000.0</td>\n",
       "      <td>2.0</td>\n",
       "      <td>False</td>\n",
       "    </tr>\n",
       "    <tr>\n",
       "      <th>22888</th>\n",
       "      <td>24416</td>\n",
       "      <td>5</td>\n",
       "      <td>7</td>\n",
       "      <td>700.0</td>\n",
       "      <td>6000.0</td>\n",
       "      <td>Rumah</td>\n",
       "      <td>3.500000e+11</td>\n",
       "      <td>True</td>\n",
       "      <td>rumah hitung tanah saja patra Kuningan Jakarta...</td>\n",
       "      <td>Setiabudi</td>\n",
       "      <td>True</td>\n",
       "      <td>False</td>\n",
       "      <td>False</td>\n",
       "      <td>0.0</td>\n",
       "      <td>2.0</td>\n",
       "      <td>False</td>\n",
       "    </tr>\n",
       "    <tr>\n",
       "      <th>21517</th>\n",
       "      <td>23007</td>\n",
       "      <td>4</td>\n",
       "      <td>4</td>\n",
       "      <td>1300.0</td>\n",
       "      <td>1580.0</td>\n",
       "      <td>Rumah</td>\n",
       "      <td>3.000000e+11</td>\n",
       "      <td>True</td>\n",
       "      <td>BUKIT GOLF RUMAH MEWAH:Bukit Golf pondok Indah...</td>\n",
       "      <td>Kebayoran Lama</td>\n",
       "      <td>True</td>\n",
       "      <td>True</td>\n",
       "      <td>False</td>\n",
       "      <td>0.0</td>\n",
       "      <td>2.0</td>\n",
       "      <td>False</td>\n",
       "    </tr>\n",
       "  </tbody>\n",
       "</table>\n",
       "</div>"
      ],
      "text/plain": [
       "       index  kamar_mandi  kamar      lb      lt  ...   pool  taman  electricity floors_total    gym\n",
       "317      324            7      8  2700.0  4260.0  ...   True  False          NaN          2.0  False\n",
       "21544  23034            7      6  4260.0  2700.0  ...   True   True      76000.0          3.0  False\n",
       "21631  23121            7      6  2700.0  4260.0  ...   True   True      76000.0          2.0  False\n",
       "22888  24416            5      7   700.0  6000.0  ...  False  False          0.0          2.0  False\n",
       "21517  23007            4      4  1300.0  1580.0  ...   True  False          0.0          2.0  False\n",
       "\n",
       "[5 rows x 16 columns]"
      ]
     },
     "execution_count": 52,
     "metadata": {},
     "output_type": "execute_result"
    }
   ],
   "source": [
    "df[(df['price'] > Upper_Fence)].sort_values(by=['price'], ascending=False).head()"
   ]
  },
  {
   "cell_type": "code",
   "execution_count": 53,
   "metadata": {},
   "outputs": [],
   "source": [
    "df = df[(df['price'] > 50_000_000)]"
   ]
  },
  {
   "cell_type": "code",
   "execution_count": 54,
   "metadata": {},
   "outputs": [
    {
     "data": {
      "text/plain": [
       "count    2.125900e+04\n",
       "mean     7.201177e+09\n",
       "std      1.453284e+10\n",
       "min      5.250000e+07\n",
       "25%      1.550000e+09\n",
       "50%      2.998000e+09\n",
       "75%      6.500000e+09\n",
       "max      3.750000e+11\n",
       "Name: price, dtype: float64"
      ]
     },
     "execution_count": 54,
     "metadata": {},
     "output_type": "execute_result"
    }
   ],
   "source": [
    "df['price'].describe()"
   ]
  },
  {
   "cell_type": "code",
   "execution_count": 55,
   "metadata": {},
   "outputs": [
    {
     "name": "stdout",
     "output_type": "stream",
     "text": [
      "<class 'pandas.core.frame.DataFrame'>\n",
      "Int64Index: 21259 entries, 0 to 24660\n",
      "Data columns (total 16 columns):\n",
      " #   Column         Non-Null Count  Dtype  \n",
      "---  ------         --------------  -----  \n",
      " 0   index          21259 non-null  int64  \n",
      " 1   kamar_mandi    21259 non-null  int32  \n",
      " 2   kamar          21259 non-null  int32  \n",
      " 3   lb             21259 non-null  float64\n",
      " 4   lt             21259 non-null  float64\n",
      " 5   tipe_property  21259 non-null  object \n",
      " 6   price          21259 non-null  float64\n",
      " 7   sertifikat     21259 non-null  bool   \n",
      " 8   deskripsi      21259 non-null  object \n",
      " 9   lokasi         21259 non-null  object \n",
      " 10  ada_garasi     21259 non-null  bool   \n",
      " 11  pool           21259 non-null  bool   \n",
      " 12  taman          21259 non-null  bool   \n",
      " 13  electricity    20614 non-null  float64\n",
      " 14  floors_total   21259 non-null  float64\n",
      " 15  gym            21259 non-null  bool   \n",
      "dtypes: bool(5), float64(5), int32(2), int64(1), object(3)\n",
      "memory usage: 1.9+ MB\n"
     ]
    }
   ],
   "source": [
    "df.info()"
   ]
  },
  {
   "cell_type": "markdown",
   "metadata": {},
   "source": [
    "#### Cleaning kolom sertifikat\n",
    "- No missing value\n",
    "- Nothing dropped"
   ]
  },
  {
   "cell_type": "code",
   "execution_count": 56,
   "metadata": {},
   "outputs": [
    {
     "data": {
      "text/plain": [
       "True     15602\n",
       "False     5657\n",
       "Name: sertifikat, dtype: int64"
      ]
     },
     "execution_count": 56,
     "metadata": {},
     "output_type": "execute_result"
    }
   ],
   "source": [
    "df['sertifikat'].value_counts()"
   ]
  },
  {
   "cell_type": "code",
   "execution_count": 57,
   "metadata": {},
   "outputs": [
    {
     "data": {
      "text/html": [
       "<div>\n",
       "<style scoped>\n",
       "    .dataframe tbody tr th:only-of-type {\n",
       "        vertical-align: middle;\n",
       "    }\n",
       "\n",
       "    .dataframe tbody tr th {\n",
       "        vertical-align: top;\n",
       "    }\n",
       "\n",
       "    .dataframe thead th {\n",
       "        text-align: right;\n",
       "    }\n",
       "</style>\n",
       "<table border=\"1\" class=\"dataframe\">\n",
       "  <thead>\n",
       "    <tr style=\"text-align: right;\">\n",
       "      <th>sertifikat</th>\n",
       "      <th>False</th>\n",
       "      <th>True</th>\n",
       "      <th>All</th>\n",
       "    </tr>\n",
       "    <tr>\n",
       "      <th>tipe_property</th>\n",
       "      <th></th>\n",
       "      <th></th>\n",
       "      <th></th>\n",
       "    </tr>\n",
       "  </thead>\n",
       "  <tbody>\n",
       "    <tr>\n",
       "      <th>Apartemen</th>\n",
       "      <td>812</td>\n",
       "      <td>1082</td>\n",
       "      <td>1894</td>\n",
       "    </tr>\n",
       "    <tr>\n",
       "      <th>Rumah</th>\n",
       "      <td>3617</td>\n",
       "      <td>13393</td>\n",
       "      <td>17010</td>\n",
       "    </tr>\n",
       "    <tr>\n",
       "      <th>lainnya</th>\n",
       "      <td>1228</td>\n",
       "      <td>1127</td>\n",
       "      <td>2355</td>\n",
       "    </tr>\n",
       "    <tr>\n",
       "      <th>All</th>\n",
       "      <td>5657</td>\n",
       "      <td>15602</td>\n",
       "      <td>21259</td>\n",
       "    </tr>\n",
       "  </tbody>\n",
       "</table>\n",
       "</div>"
      ],
      "text/plain": [
       "sertifikat     False   True    All\n",
       "tipe_property                     \n",
       "Apartemen        812   1082   1894\n",
       "Rumah           3617  13393  17010\n",
       "lainnya         1228   1127   2355\n",
       "All             5657  15602  21259"
      ]
     },
     "execution_count": 57,
     "metadata": {},
     "output_type": "execute_result"
    }
   ],
   "source": [
    "pd.crosstab(index=df['tipe_property'], columns=df['sertifikat'], margins=True )"
   ]
  },
  {
   "cell_type": "markdown",
   "metadata": {},
   "source": [
    "#### Cleaning kolom `lokasi`"
   ]
  },
  {
   "cell_type": "code",
   "execution_count": 58,
   "metadata": {},
   "outputs": [
    {
     "data": {
      "text/plain": [
       "42"
      ]
     },
     "execution_count": 58,
     "metadata": {},
     "output_type": "execute_result"
    }
   ],
   "source": [
    "df['lokasi'].nunique()"
   ]
  },
  {
   "cell_type": "markdown",
   "metadata": {},
   "source": [
    "#### Cleaning kolom `ada_garasi`, `pool`, `taman`, `gym`\n",
    "- No missing value"
   ]
  },
  {
   "cell_type": "markdown",
   "metadata": {},
   "source": [
    "#### Cleaning kolom `floors_total`\n",
    "- drop data with values $0$ and $-1$\n",
    "- normalisasi `floors_total` untuk data dengan tipe properti apartemen $= 1$\n",
    "- Nilai kolom dengan jlh lantai $\\geq 5$ masih banyak yang tidak sesuai deskripsi $\\rightarrow$ dibaca lagi dari deskripsi?"
   ]
  },
  {
   "cell_type": "code",
   "execution_count": 59,
   "metadata": {},
   "outputs": [
    {
     "data": {
      "text/plain": [
       "1.0     1253\n",
       "2.0      359\n",
       "3.0      173\n",
       "4.0       64\n",
       "5.0       22\n",
       "11.0       4\n",
       "8.0        3\n",
       "9.0        2\n",
       "21.0       2\n",
       "48.0       2\n",
       "7.0        1\n",
       "0.0        1\n",
       "39.0       1\n",
       "59.0       1\n",
       "35.0       1\n",
       "30.0       1\n",
       "36.0       1\n",
       "6.0        1\n",
       "16.0       1\n",
       "29.0       1\n",
       "Name: floors_total, dtype: int64"
      ]
     },
     "execution_count": 59,
     "metadata": {},
     "output_type": "execute_result"
    }
   ],
   "source": [
    "df[df['tipe_property'] == 'Apartemen']['floors_total'].value_counts()"
   ]
  },
  {
   "cell_type": "code",
   "execution_count": 60,
   "metadata": {},
   "outputs": [
    {
     "data": {
      "text/plain": [
       "1.0    1894\n",
       "Name: floors_total, dtype: int64"
      ]
     },
     "execution_count": 60,
     "metadata": {},
     "output_type": "execute_result"
    }
   ],
   "source": [
    "# df[(df['tipe_property'] == 'Apartemen') & (df['floors_total']==3)].iloc[0]['deskripsi']\n",
    "df.loc[df['tipe_property'] == \"Apartemen\", \"floors_total\"] = 1\n",
    "df[df['tipe_property'] == 'Apartemen']['floors_total'].value_counts()"
   ]
  },
  {
   "cell_type": "code",
   "execution_count": 61,
   "metadata": {},
   "outputs": [
    {
     "data": {
      "text/plain": [
       "count    21259.000000\n",
       "mean         1.893504\n",
       "std          1.435457\n",
       "min         -1.000000\n",
       "25%          1.000000\n",
       "50%          2.000000\n",
       "75%          2.000000\n",
       "max         48.000000\n",
       "Name: floors_total, dtype: float64"
      ]
     },
     "execution_count": 61,
     "metadata": {},
     "output_type": "execute_result"
    }
   ],
   "source": [
    "df['floors_total'].describe()"
   ]
  },
  {
   "cell_type": "code",
   "execution_count": 62,
   "metadata": {},
   "outputs": [
    {
     "data": {
      "text/plain": [
       " 2.0     11752\n",
       " 1.0      4824\n",
       " 3.0      2878\n",
       "-1.0       990\n",
       " 4.0       600\n",
       " 5.0       118\n",
       " 8.0        17\n",
       " 6.0        12\n",
       " 7.0        11\n",
       " 9.0        10\n",
       " 11.0        8\n",
       " 0.0         8\n",
       " 21.0        6\n",
       " 30.0        6\n",
       " 39.0        2\n",
       " 16.0        2\n",
       " 25.0        2\n",
       " 12.0        1\n",
       " 48.0        1\n",
       " 46.0        1\n",
       " 15.0        1\n",
       " 22.0        1\n",
       " 19.0        1\n",
       " 28.0        1\n",
       " 10.0        1\n",
       " 40.0        1\n",
       " 23.0        1\n",
       " 38.0        1\n",
       " 26.0        1\n",
       " 36.0        1\n",
       "Name: floors_total, dtype: int64"
      ]
     },
     "execution_count": 62,
     "metadata": {},
     "output_type": "execute_result"
    }
   ],
   "source": [
    "df['floors_total'].value_counts()"
   ]
  },
  {
   "cell_type": "code",
   "execution_count": 63,
   "metadata": {},
   "outputs": [
    {
     "data": {
      "text/plain": [
       "count    20261.000000\n",
       "mean         2.035635\n",
       "std          1.315791\n",
       "min          1.000000\n",
       "25%          2.000000\n",
       "50%          2.000000\n",
       "75%          2.000000\n",
       "max         48.000000\n",
       "Name: floors_total, dtype: float64"
      ]
     },
     "execution_count": 63,
     "metadata": {},
     "output_type": "execute_result"
    }
   ],
   "source": [
    "df = df[df['floors_total'] > 0]\n",
    "df['floors_total'].describe()"
   ]
  },
  {
   "cell_type": "markdown",
   "metadata": {},
   "source": [
    "##### _Periksa data dengan nilai `floors_total` tinggi_"
   ]
  },
  {
   "cell_type": "code",
   "execution_count": 64,
   "metadata": {},
   "outputs": [
    {
     "data": {
      "text/plain": [
       "8.0     17\n",
       "6.0     12\n",
       "7.0     11\n",
       "9.0     10\n",
       "11.0     8\n",
       "30.0     6\n",
       "21.0     6\n",
       "39.0     2\n",
       "25.0     2\n",
       "16.0     2\n",
       "15.0     1\n",
       "12.0     1\n",
       "19.0     1\n",
       "23.0     1\n",
       "38.0     1\n",
       "28.0     1\n",
       "40.0     1\n",
       "10.0     1\n",
       "26.0     1\n",
       "36.0     1\n",
       "48.0     1\n",
       "22.0     1\n",
       "46.0     1\n",
       "Name: floors_total, dtype: int64"
      ]
     },
     "execution_count": 64,
     "metadata": {},
     "output_type": "execute_result"
    }
   ],
   "source": [
    "L  = df[df['floors_total']>5]\n",
    "L['floors_total'].value_counts()"
   ]
  },
  {
   "cell_type": "code",
   "execution_count": 65,
   "metadata": {},
   "outputs": [
    {
     "data": {
      "text/plain": [
       "Rumah      74\n",
       "lainnya    15\n",
       "Name: tipe_property, dtype: int64"
      ]
     },
     "execution_count": 65,
     "metadata": {},
     "output_type": "execute_result"
    }
   ],
   "source": [
    "L['tipe_property'].value_counts()"
   ]
  },
  {
   "cell_type": "code",
   "execution_count": 66,
   "metadata": {},
   "outputs": [
    {
     "data": {
      "text/plain": [
       "'kondisi bagus, 2 lantai, luas tanah 26m2, sertifikat shm - sertifikat hak milik, hadap selatan, 2kt, 2km, listrik 2200 watt. mohon sebutkan ga14020-br saat menghubungi kami.\\nstatus : dijual\\nharga dan ketersediaan properti ini bisa berubah sewaktu-waktu tanpa pemberitahuan terlebih dahulu. harap hubungi kami untuk mendapat harga dan informasi ketersediaan terkini.\\nhubungi segera'"
      ]
     },
     "execution_count": 66,
     "metadata": {},
     "output_type": "execute_result"
    }
   ],
   "source": [
    "L[L['floors_total'] == 48].iloc[0]['deskripsi']"
   ]
  },
  {
   "cell_type": "code",
   "execution_count": 67,
   "metadata": {},
   "outputs": [
    {
     "data": {
      "text/plain": [
       "'jual\\xa0rumah mewah baru\\xa0model semi klasik\\xa0kawasan elite siap huni cempaka putih jakarta pusat  harga 6.9 m nego  spesifikasi :  1. lt/lb : 225/ 370 2. kamar tidur / kamar mandi : 4+1/ 4+1 3. carport : 2 garasi 1 5. listrik\\xa0: 3500 watt 7. air\\xa0: jetpump 8. shm + imb 9. model semi klasik  selling point :  1. dekat rs. islam jakarta 2. dekat sekolah smp , sma negeri dan swasta 3. dekat universitas yarsi 4. dekat ke jalan utama / jalan protokol\\xa0 5. posisi hoek  meeting point kfc cempaka putih  (olv)'"
      ]
     },
     "execution_count": 67,
     "metadata": {},
     "output_type": "execute_result"
    }
   ],
   "source": [
    "L[L['floors_total'] == 46].iloc[0]['deskripsi']"
   ]
  },
  {
   "cell_type": "code",
   "execution_count": 68,
   "metadata": {},
   "outputs": [
    {
     "data": {
      "text/plain": [
       "'cempaka putih tengah kompleks mewah\\n(cocok untuk mess pemda karena sudah ada beberapa)\\n\\nlt/lb 382/282, 2 lantai, shm.\\n\\nkt 5+2\\n\\nkm 3+1\\n\\nlebar 15m panjang 26m\\n\\ngarasi 2+2 mobil\\n\\nac 7 units\\n\\nkondisi standard atap full baja ringan\\n\\nlebar jalan 7m (2.5 mobil), jalanan portal tidak lalu lalang mobil.\\n\\nrumah masih ditempati\\n\\n2km to lotte mall\\n2km to transmart carrefour\\n1km to kawasan bisnis'"
      ]
     },
     "execution_count": 68,
     "metadata": {},
     "output_type": "execute_result"
    }
   ],
   "source": [
    "L[L['floors_total'] == 21].iloc[3]['deskripsi']"
   ]
  },
  {
   "cell_type": "code",
   "execution_count": 69,
   "metadata": {},
   "outputs": [
    {
     "data": {
      "text/plain": [
       "'dijual rumah 2 lantai villa fatmawati town house, \\xa0sangat strategis, dekat mall, sekolah, rs, bank, perkantoran, sangat strategis, nyaman, tenang, siap huni, cocok untuk tempat hunian yang sehat, hadap timur. mudah mencari angkutan umum. dekat dengan stasiun mrt fatmawati.  spesifikasi : 2 lantai luas tanah : 320 m2 luas bangunan : 275 m2 kamar tidur : 3 kamar mandi : 4 kmr tdr pembantu : 1 kmr mandi pembantu : 1 gudang : 1  fasilitas : *swimming pool *garasi : 2 mobil *carport : 2 mobil *ada halaman depan \\xa0 *listrik 10.600 watt *jet-pump  sertifikat : hak milik  harga jual rp 7,7 m (nego)   lokasi :  fatmawati town house jl rs fatmawati no 15 pondok labu - cilandak jakarta selatan 12450   yang berminat, hubungi : \"bless property\" ibu dhany ,'"
      ]
     },
     "execution_count": 69,
     "metadata": {},
     "output_type": "execute_result"
    }
   ],
   "source": [
    "L[L['floors_total'] == 8].iloc[2]['deskripsi']"
   ]
  },
  {
   "cell_type": "code",
   "execution_count": 70,
   "metadata": {},
   "outputs": [
    {
     "name": "stdout",
     "output_type": "stream",
     "text": [
      "for sales luxury house pondok indah jakarta selatan.  264m/603m 4 + 3 bedrooms 6 + 1 bathrooms lift for 5 floors basement entertainment center wide swimming pool rooftop area imported marble flooring premium finish and sanitair designed by ateiler riri top architect indonesia price 18.5m nego\n",
      "====================================================================================================\n",
      "for sale brand new classic house prestigious location-pondok indah south jakarta the environment is highly desired  with a very large front road property specifications : land : 348 m2 build:1200 m2 5 storey  bedroom 5+2 bathroom 5+2 car park 10 lift  swiming pool fish pond maid pavilion banker mini golf upper dark  full marble import  sauna room water heater electricity 34.000 price idr 33,000,000,000\n",
      "====================================================================================================\n",
      "for sale. minimalist home /cozy living *beautiful interiors* semi furnished townhouse at lebak bulus cilandak - jakarta selatan - very close to mayapada hospital - carrefour lebak bulus - tol jorr fatmawati - mrt station lebak bulus - trans jakarta station - calm & convinient environment - free from flood - 24 h security - one gate system cozy living room cool and beautiful interiors.\n",
      "====================================================================================================\n",
      "dijual rumah 3 lantai dalam townhouse baru siap huni di ampera, jakarta selatan   rumah : ready stock security 24 jam  bebas banjir  spesifikasi : - luas tanah : 151 m2 - luas bangunan : 245 m2 - bangunan 3 lantai - legalitas : shm + imb - kamar tidur : 3 + 1  - kamar mandi : 3 + 1  - listrik : 5500 w - a i r : jetpump - garasi/carport : 3 mobil - dapur basah + dapur kering - taman depan & belakang - optional pool space - service area @ roof lantai 3 - harga : 5,9 m (nego) - cash / kpr bank  (rh)\n",
      "====================================================================================================\n",
      "praja / arteri pondok indah - rumah cantik dan mewah, dekat gancit, private lift.  lokasi strategis: di antara 2 area premium, pondok indah dan kebayoran baru.  area sekitar: gandaria city, pondok indah mal, area senayan, dll.  akses sangat mudah dan cepat, jalan depan rumah lebar untuk 2 mobil.  bebas banjir.  bangunan cukup baru dan sangat terawat, jadi tahun 2015, design cantik dan mewah.  kondisi siap huni.  ceilling tinggi.  kondisi semi furnished  pembelian dengan cash atau kpr (bisa dengan semua bank). .  spesifikasi rumah: lt: 200 m2 lb 600 m2 kt: 3 km: 3 kp: 2 kmp: 1 lantai: 3 garasi: 1 carport: 1 listrik: 26,000 hadap: barat shm price: rp 10 m (nego)  fasilitas rumah:  security lingkungan 24 jam  private lift (merek eurolift)  internet and cable ready.  musholla.  ruang serbaguna.  private family area.  please contact our agent for inquries: fandy\n",
      "====================================================================================================\n",
      "dijual rumah mewah luas strategis di lebak bulus, jakarta selatan  spesifikasi : - luas tanah : 3.300 m2 - luas bangunan : 1.800 m2 (2 lantai) - legalitas : shm + imb + pbb - kamar tidur utama : 1 - kamar tidur : 7 + 3 - kamar mandi : 7 + 3 - garasi : 10 mobil - listrik : 29.000 w - generator : 45 kva - a i r : pam + jetpump - swimming pool - tennis court (granite) - home theater - security - harga : 55 m (nego)  selling point : - bisa dijadikan hunian pribadi atau cluster - lokasi dekat jln fatmawati raya - pinggir jalan besar - 5 menit tol jorr simatupang - 5 menit cilandak town square - 10 menit pondok indah area - 15 menit kemang area  (rht)\n",
      "====================================================================================================\n",
      "di jual rumah di kelapa gading jakarta utara dekat mall kelapa gading lt:140 3 lantai kt:6 km:3 shm air pam ada tempat jemuran listrik 3500 w jalan 2 mobil garasi bisa 3 mobil harga 3 m nego hubungin joness m2  hub : evan arta\n",
      "====================================================================================================\n",
      "dijual garden house 8x17m2 3+1kt 2+1km semi furnished rapi turun harga 6m*jadi *5,6m  more info  dani lai remax  360 pik\n",
      "====================================================================================================\n",
      "rumah siap huni, tipe classic, semi furnish, badan, lokasi bagus, komplek perumahan pantai indah kapuk pik, bebas banjir, aman, harga nego  luas tanah : 600 luas bangunan : 900 kamar tidur : 5 kamar mandi :5\n",
      "====================================================================================================\n",
      "dijual / disewakan  rumah mewah di pasir putih, ancol timur, jakarta utara  luas tanah 780 m² luas bangunan 600 m² dimensi 32×25 hadap barat kamar mandi 5 kamar tidur 5 tingkat 2 lantai air pdam sertifikat hgb diatas hpl listrik 4400 watt  harga jual rp 15 m (nego)  harga sewa  rp 150 jt /thn  note: - lokasi strategis di pinggir pantai - dekat halte busway - dekat pintu toll  - fasilitas garasi 2 mobil  - semi furnish  telp / whatsapp: denis s -  brighton kelapa gading\n",
      "====================================================================================================\n"
     ]
    }
   ],
   "source": [
    "x = df[df['floors_total'] == 5]\n",
    "for i in range(10):\n",
    "    print(x.iloc[i]['deskripsi'])\n",
    "    print(100*'=')"
   ]
  },
  {
   "cell_type": "code",
   "execution_count": 71,
   "metadata": {},
   "outputs": [
    {
     "name": "stdout",
     "output_type": "stream",
     "text": [
      "harga perdana !! siapa cepat dia dapat!! unit terbatas!! hunian terbaru, termurah dalam cluster, lokasi strategis di jakarta selatan, hanya selangkah ke pondok indah, pintu tol jorr dan senayan di design exclusive dengan konsep modern elegant dengan kualitas material terbaik, sirkulasi udara dan pencahayaan dalam rumah sangat bagus. unit terbatas !! bebas banjir, terletak di jakarta selatan, lokasi sangat strategis, lingkungan aman, nyaman dan tenang. akses yang sangat mudah seperti : - 10 menit ke senayan - 10 menit ke sudirman, scbd - 10 menit ke mal pondok indah - 10 menit ke tol jorr spesifikasi: - luas tanah : 111 m2 - luas bangunan : 182 m2 - bangunan : 3 lantai - kamar tidur : 3 + 1 - kamar mandi : 3 + 1 - ruang tamu, ruang keluarga, dapur, taman depan dan belakang - carport 2 mobil - one gate system - keamanan/security 24 jam harga sudah termasuk shm, imb, listrik 3300 watt, pompa air jet pump, 1 line telepon cara bayar sangat fleksibel : *bisa cash keras, cash bertahap dan kpr *promo harga perdana *promo free ac atau tv led unit terbatas !! jangan lewatkan harga perdana dan promo menarik ayoo.. pilih unit anda sebelum kehabisan !! hubungi marketing : usmar (wa)\n",
      "====================================================================================================\n",
      "rumah mewah dan megah, siap huni, lingkungan eksklusif, di pondok indah yang terletak di jalan duta niaga pondok indah, jakarta selatan. bagi anda yang mendambakan hunian yang tenang, nyaman dan mewah di lokasi yang tepat, dekat pusat kawasan bisnis tb. simatupang dan dekat kawasan pusat perbelanjaan elit. daerah yang telah lama dikenal sebagai kawasan elit dan berkelas didukung oleh infrastruktur yang berkualitas. terletak di lokasi yang sangat strategis dikelilingi oleh office tower, pim 2 mall, taman air, rumah sakit pondok indah, sekolah internasional, pondok indah golf, menjadikan rumah ini tempat tinggal yang menyenangkan. bangunan ini dirancang dalam gaya modern, memiliki dua lantai, langit-langit tinggi, 8 tempat parkir, menghadap ke selatan, terdiri dari 4 kamar tidur, 4 kamar mandi, 2 kamar pembantu, kolam renang, taman, semi furnish\n",
      "====================================================================================================\n",
      "exclusive townhouse at cilandak    7 unit hunian modern american classic berkonsep bangunan split level /mezzanine    open 2.57 m negotiable  bangunan 3 lantai semi basement untuk 2 mobil   luas tanah 108 m2  luas bangunan 166 m2 kamar tidur 3 +1  kamar mandi 4   legalitas : shm imb pbb     selling poin  - dekat pusat perbelanjaan trans mart cilandak  - 2 menit ke toll tb simatupang  - dekat rumah sakit   - dekat selter bus way  - dekat tempat rekreasi  - 3 menit ke ampera   - akses 2 mobil  - angkutan umum 24 jam  - bebas banjir    *ket.   kav a lt/lb 140/166 harga 3.47 m  cash 2.95 m  kav b lt/lb 191/171 harga 5 m  cash 4.1 m  kav c lt/lb 110/166 harga 2.99 m cash 2.69 m  kav d lt/lb 119/171 harga 3.4 m cash 2.99 m  kav e lt/lb 111/166 harga 3.2 m cash 2.83 m  kav f lt/lb 108/166 harga 2.86 m cash 2.57 m  kav g lt/lb 136/171 harga 3.74 m cash 2.99 m\n",
      "====================================================================================================\n",
      "spesifikasi - luas tanah 245 m² - luas bangunan 450 m² - bangunan 3 lantai - bangunan sangat baru - kamar tidur 5 -kamar tidur pembantu 2 - kamar mandi 6 - dapur kering dan basah - garasi 2 mobil - carport 2 mobil - swimming pool - good architecture design pencahayan rumah ini cukup baik - lingkungan tenang, aman dan nyaman - akses jalan 2 mobil selling point :  - dekat akses tol tebet - area komersial tebet barat - pasar tebet barat, - gelael, tis square, - stasiun cawang & - stasiun lrt ciliwung.  - legalitas shm + imb  turun harga dari  rp. 9.5 m  menjadi 8.6 - turun 700 jt(nego by owner) hubungi kami\n",
      "====================================================================================================\n",
      "miliki segera!!satu-satunya townhouse termurah dan strategis dekat kuningan, gatot subroto, jakarta selatan dengan harga paling murah dan berkualitas, buktikan sendiri!!hanya 5 menit ke rasuna said, gatot subrotohanya 10 menit ke semanggi, sudirman, thamrinready stok.. ada kolam renang.. unit terbatas.. bebas banjir!!terletak di pusat kota jakarta, lokasi sangat strategis dan akses yang sangat mudah menuju :- 5 menit ke rasuna said kuningan & gatot subroto- 5 menit ke pintu tol- 5 menit ke kemang- 10 menit ke scbd sudirman & thamrin- 15 menit ke senayan- 30 menit ke bandara soetaspesifikasi :- luas tanah : 158 m2 & 184 m2- luas bangunan : 337 m2- design high ceiling- bangunan : 3 lantai- kamar tidur : 4 + 2- kamar mandi : 4 + 1- kolam renang- ruang tamu, ruang keluarga, dapur, taman depan dan taman belakang- carport 2 mobil- garasi 2 mobil- one gate system- keamanan/security 24 jamharga sudah termasuk ppn, ajb, shm, imb, listrik 4400 watt, pompa air jet pump, 1 line teleponcara bayar sangat fleksibel :*bisa cash keras, cash bertahap dan kpr*promo free ac dan tv led*promo diskon menarikunit terbatas !!ayoo.. pilih unitnya sebelum kehabisan !!hubungi marketing :usmar\n",
      "====================================================================================================\n",
      "jp1315 for sale : rumah cantik brand new dalam cluster asri, nyaman, bebas banjir, akses jalan lebar di jagakarsa jaksel.  selling point : - dekat ke cilandak marinir - dekat ke busway ragunan - dekat ke gate tol andara - dekat ke stasiun lenteng agung - dekat ke sekolah\" negeri dan swasta favorite - dekat ke kampus ui, pancasila - dekat ke wisata ragunan.  spesifikasi : lt : 66 m2 lb : 100 m2 kmr tidur  3 kmr mandi 3 carport shm, imb harga : rp 1,3 m (nego) call : nanik\n",
      "====================================================================================================\n",
      "satu lagi kami hadirkan the colony residence kawasan hunian nyaman yang menyajikan layout maksimal dan siap huni, pencahayaan dan sirkulasi udara yang sehat menjadikan pertimbangan tinggi dimana anda akan menempatkan keluarga bahagia anda.tak diragukan lagi lokasi yang sangat strategis dipinggir jalan raya dan mudah diakses wilayah karang tengah terletak dikawasan antara fatmawati dan lebak bulus, sehingga memiliki nilai investasi yang sangat bagus.jadikan the colony residence menjadi rumah idaman dan kado terindah untuk keluarga andaluas tanah: 104-143luas bangunan: 118-126kamar tidur: 3+1kamar mandi: 3+1jumlah lantai: 2carpot: 2listrik: 2200 wattsumber air: air tanah+pompa listrik+toren (1000ltr)surat shm dan imbpoints of interest5 menit menuju: pondok indah5 menit menuju: rs. fatmawati5 menit menuju: tol jorr5 menit menuju: citossegera hubungi team marketing kami;\n",
      "====================================================================================================\n",
      "cari rumah di jakarta selatan saya siap membantu bpk/ibu mencarikan rumah sesuai keinginan bpk/ibu khususnya daerah jagakarsa dan sekitarnya ** jasa kami gratis untuk anda ** * transparan langsung nego sama owner / pemilik langsung * legalitas clear dan aman ( shm, imb, pbb ). * pembayaran bisa cash / kpr ( kpr kami bantu sampai akad )  selling point : one gate system -   5 menit dari pintu tol desari - 15 menit tol tb simatupang - 15 menit cilandak transmart - 15 menit kb ragunan dan busway - 20 menit citos/ampera/fatmawati - 20 menit penvill ( pejaten village ) - 15 menit cinere mall - 15 menit stasiun l.agung/ui  survey lokasi bisa kapan saja dan atur janji terlebih dahulu / langsung via wa ( fast respon ) development and property agent : vine property  more info hubungi : fahad zabadi\n",
      "====================================================================================================\n",
      "dijual murah rumah siap huni di tebet utara - tebet jakarta selatan  selling point : - akses jalan 2 mobil - 5 menit ke stasiun tebet - lokasi aman, tenang dan bebas banjir  bangunan 2,5 lantai  luas tanah 100 m2 luas bangunan 185 m2  kamar tidur 5 kamar mandi 4  garasi 1 mobil carpot 1 mobil  - bangunan thn 2018 - gudang, service area - semi furnish : free kitchen set - listrik 3.500 watt - shm, imb, pbb  harga rp.3,5 m nego cash & kpr  utk info hub : agus supriyanto tlp/wa instagram @rumaindoaja\n",
      "====================================================================================================\n",
      "nego dengan owner - kolam renang 5mnt ke mrt, dp0 s/d24x bunga flat 0%  *pasti* *untung*, gratis free biaya kpr, pajak dll -kolam renang, mini gym & musholla - rumah modern dan strategis  - harga bersaing di lebak bulus cirendeu *bisa dp0%, langsung akad*. lokasi strategis dekat dengan stasiun mrt dan tol lebak bulus. selisih kpr bisa di cicil 3th - hunian tipe ... dengan model exclusive, *klaim* hari ini untuk mendapatkan promo free biaya kpr, pajak dll\n",
      "====================================================================================================\n"
     ]
    }
   ],
   "source": [
    "x = df[df['floors_total'] == 3]\n",
    "for i in range(10):\n",
    "    print(x.iloc[i]['deskripsi'])\n",
    "    print(100*'=')"
   ]
  },
  {
   "cell_type": "code",
   "execution_count": 72,
   "metadata": {},
   "outputs": [
    {
     "name": "stdout",
     "output_type": "stream",
     "text": [
      "3.0\n",
      "exclusive townhouse at cilandak    7 unit hunian modern american classic berkonsep bangunan split level /mezzanine    open 2.57 m negotiable  bangunan 3 lantai semi basement untuk 2 mobil   luas tanah 108 m2  luas bangunan 166 m2 kamar tidur 3 +1  kamar mandi 4   legalitas : shm imb pbb     selling poin  - dekat pusat perbelanjaan trans mart cilandak  - 2 menit ke toll tb simatupang  - dekat rumah sakit   - dekat selter bus way  - dekat tempat rekreasi  - 3 menit ke ampera   - akses 2 mobil  - angkutan umum 24 jam  - bebas banjir    *ket.   kav a lt/lb 140/166 harga 3.47 m  cash 2.95 m  kav b lt/lb 191/171 harga 5 m  cash 4.1 m  kav c lt/lb 110/166 harga 2.99 m cash 2.69 m  kav d lt/lb 119/171 harga 3.4 m cash 2.99 m  kav e lt/lb 111/166 harga 3.2 m cash 2.83 m  kav f lt/lb 108/166 harga 2.86 m cash 2.57 m  kav g lt/lb 136/171 harga 3.74 m cash 2.99 m\n"
     ]
    }
   ],
   "source": [
    "import re\n",
    "## Fungsi membaca jumlah lantai \n",
    "def JLantai(text):\n",
    "    angka1='o'\n",
    "    cari1 = re.search('lantai',text)\n",
    "    try:\n",
    "        S1 = cari1.span()\n",
    "        hasil1 = text[S1[1]-12:S1[1]]\n",
    "        H = re.findall(r\"[^\\n]+\",hasil1)\n",
    "        for i in H:\n",
    "            if 'lantai' in i:\n",
    "                hasil1 = i\n",
    "                break\n",
    "        x = re.search(r'\\d\\.\\d|\\d\\,\\d',hasil1)\n",
    "        if x != None:\n",
    "            angka1 = x.group()\n",
    "        else:\n",
    "            H = re.findall(r\"[^.,]+\",hasil1)\n",
    "            for i in H:\n",
    "                if 'lantai' in i:\n",
    "                    hasil1 = i\n",
    "                    break\n",
    "            try:\n",
    "                angka1 = (re.search(r'\\d',hasil1)).group()\n",
    "            except:\n",
    "                S1 = cari1.span()\n",
    "                hasil1 = text[S1[1]-6:S1[1]+7]\n",
    "                H = re.findall(r\"[^.,\\n]+\",hasil1)\n",
    "                for i in H:\n",
    "                    if 'lantai' in i:\n",
    "                        hasil1 = i\n",
    "                        break\n",
    "                try:\n",
    "                    cari = re.search(\"lantai\",hasil1)\n",
    "                    S = cari.span()\n",
    "                    if ':' in hasil1[S[1]:S[1]+3]:\n",
    "                        angka1 = (re.search(r'\\d',hasil1)).group()\n",
    "                except:\n",
    "                    angka1 = 'ga ada angka?' \n",
    "    except:\n",
    "        hasil1 = 'ga nemu'\n",
    "    if angka1[0].isdigit() == False:    \n",
    "        angka2='o'\n",
    "        cari2 = re.search(\"tingkat\",text)\n",
    "        try:\n",
    "            S2 = cari2.span()\n",
    "            hasil2 = text[S2[1]-13:S2[1]]\n",
    "            H = re.findall(r\"[^\\n]+\",hasil2)\n",
    "            for i in H:\n",
    "                if 'tingkat' in i:\n",
    "                    hasil2 = i\n",
    "                    break\n",
    "            x = re.search(r'\\d\\.\\d|\\d\\,\\d',hasil2)\n",
    "            if x != None:\n",
    "                angka2 = x.group()\n",
    "            else:\n",
    "                H = re.findall(r\"[^.,]+\",hasil2)\n",
    "                for i in H:\n",
    "                    if 'tingkat' in i:\n",
    "                        hasil2 = i\n",
    "                        break\n",
    "                try:\n",
    "                    angka2 = (re.search(r'\\d',hasil2)).group()\n",
    "                except:\n",
    "                    S2 = cari2.span()\n",
    "                    hasil2 = text[S2[1]-7:S2[1]+7]\n",
    "                    H = re.findall(r\"[^.,\\n]+\",hasil2)\n",
    "                    for i in H:\n",
    "                        if 'tingkat' in i:\n",
    "                            hasil2 = i\n",
    "                            break\n",
    "                    try:\n",
    "                        cari = re.search(\"tingkat\",hasil2)\n",
    "                        S = cari.span()\n",
    "                        if ':' in hasil2[S[1]:S[1]+3]:\n",
    "                            angka2 = (re.search(r'\\d',hasil2)).group()\n",
    "                    except:\n",
    "                        angka2 = 'ga ada angka?' \n",
    "        except:\n",
    "            hasil2 = 'ga nemu'\n",
    "        if angka2[0].isdigit() == False:   \n",
    "            angka3='o'\n",
    "            cari3 = re.search(\"floors\",text)\n",
    "            try:\n",
    "                S3 = cari3.span()\n",
    "                hasil3 = text[S3[1]-12:S3[1]]\n",
    "                H = re.findall(r\"[^\\n]+\",hasil3)\n",
    "                for i in H:\n",
    "                    if 'floors' in i:\n",
    "                        hasil3 = i\n",
    "                        break\n",
    "                x = re.search(r'\\d\\.\\d|\\d\\,\\d',hasil3)\n",
    "                if x != None:\n",
    "                    angka3 = x.group()\n",
    "                else:\n",
    "                    H = re.findall(r\"[^.,]+\",hasil3)\n",
    "                    for i in H:\n",
    "                        if 'floors' in i:\n",
    "                            hasil3 = i\n",
    "                            break\n",
    "                    try:\n",
    "                        angka3 = (re.search(r'\\d',hasil3)).group()\n",
    "                    except:\n",
    "                        S3 = cari3.span()\n",
    "                        hasil3 = text[S3[1]-6:S3[1]+7]\n",
    "                        H = re.findall(r\"[^.,\\n]+\",hasil3)\n",
    "                        for i in H:\n",
    "                            if 'floors' in i:\n",
    "                                hasil3 = i\n",
    "                                break\n",
    "                        try:\n",
    "                            cari = re.search(\"floors\",hasil3)\n",
    "                            S = cari.span()\n",
    "                            if ':' in hasil3[S[1]:S[1]+3]:\n",
    "                                angka3 = (re.search(r'\\d',hasil3)).group()\n",
    "                        except:\n",
    "                            angka3 = 'ga ada angka?' \n",
    "            except:\n",
    "                hasil3 = 'ga nemu'\n",
    "            if angka3[0].isdigit() == False: \n",
    "                return np.nan\n",
    "            else:\n",
    "                return angka3\n",
    "        else:\n",
    "            return angka2\n",
    "    else:\n",
    "        return angka1\n",
    "\n",
    "###########\n",
    "\n",
    "## Fungsi Convert JLantai\n",
    "def konv(text):\n",
    "    try:\n",
    "        x = text.replace(',','.')\n",
    "        return float(x)\n",
    "    except:\n",
    "        return text\n",
    "# konv(np.nan)\n",
    "# konv('1,5')\n",
    "\n",
    "### Testing Fungsi\n",
    "text = df[df['floors_total'] == 3].iloc[2]['deskripsi']\n",
    "print(konv(JLantai(text)))\n",
    "print(text)"
   ]
  },
  {
   "cell_type": "markdown",
   "metadata": {},
   "source": [
    "#### Membuat kolom `floors_total_new`\n",
    "- Kolom ini memiliki nilai yang sama dengan `floors_total` untuk data dengan jumlah lantai $<3$\n",
    "- Data dengan jumlah lantai $\\geq 3$ akan dicari lewat deskripsi. \n",
    "- Bila nilai jumlah lantai tidak ditemukan di deskripsi, nilai jumlah lantai data ini akan diisi dengan nilai `nan` dulu."
   ]
  },
  {
   "cell_type": "code",
   "execution_count": 73,
   "metadata": {},
   "outputs": [
    {
     "data": {
      "text/plain": [
       "2.0     11752\n",
       "1.0      4824\n",
       "3.0      2878\n",
       "4.0       600\n",
       "5.0       118\n",
       "8.0        17\n",
       "6.0        12\n",
       "7.0        11\n",
       "9.0        10\n",
       "11.0        8\n",
       "21.0        6\n",
       "30.0        6\n",
       "16.0        2\n",
       "25.0        2\n",
       "39.0        2\n",
       "48.0        1\n",
       "12.0        1\n",
       "46.0        1\n",
       "15.0        1\n",
       "36.0        1\n",
       "22.0        1\n",
       "28.0        1\n",
       "10.0        1\n",
       "40.0        1\n",
       "23.0        1\n",
       "38.0        1\n",
       "26.0        1\n",
       "19.0        1\n",
       "Name: floors_total, dtype: int64"
      ]
     },
     "execution_count": 73,
     "metadata": {},
     "output_type": "execute_result"
    }
   ],
   "source": [
    "df['floors_total'].value_counts()"
   ]
  },
  {
   "cell_type": "code",
   "execution_count": 74,
   "metadata": {},
   "outputs": [],
   "source": [
    "df['floors_total_new'] = df['floors_total']"
   ]
  },
  {
   "cell_type": "code",
   "execution_count": 75,
   "metadata": {},
   "outputs": [
    {
     "data": {
      "text/html": [
       "<div>\n",
       "<style scoped>\n",
       "    .dataframe tbody tr th:only-of-type {\n",
       "        vertical-align: middle;\n",
       "    }\n",
       "\n",
       "    .dataframe tbody tr th {\n",
       "        vertical-align: top;\n",
       "    }\n",
       "\n",
       "    .dataframe thead th {\n",
       "        text-align: right;\n",
       "    }\n",
       "</style>\n",
       "<table border=\"1\" class=\"dataframe\">\n",
       "  <thead>\n",
       "    <tr style=\"text-align: right;\">\n",
       "      <th></th>\n",
       "      <th>index</th>\n",
       "      <th>kamar_mandi</th>\n",
       "      <th>kamar</th>\n",
       "      <th>lb</th>\n",
       "      <th>lt</th>\n",
       "      <th>tipe_property</th>\n",
       "      <th>price</th>\n",
       "      <th>sertifikat</th>\n",
       "      <th>deskripsi</th>\n",
       "      <th>lokasi</th>\n",
       "      <th>ada_garasi</th>\n",
       "      <th>pool</th>\n",
       "      <th>taman</th>\n",
       "      <th>electricity</th>\n",
       "      <th>floors_total</th>\n",
       "      <th>gym</th>\n",
       "      <th>floors_total_new</th>\n",
       "    </tr>\n",
       "  </thead>\n",
       "  <tbody>\n",
       "    <tr>\n",
       "      <th>15873</th>\n",
       "      <td>16719</td>\n",
       "      <td>2</td>\n",
       "      <td>1</td>\n",
       "      <td>88.0</td>\n",
       "      <td>50.0</td>\n",
       "      <td>Rumah</td>\n",
       "      <td>850000000.0</td>\n",
       "      <td>True</td>\n",
       "      <td>Rumah di Karang Anyar:Dijual rumah di Karang A...</td>\n",
       "      <td>Sawah Besar</td>\n",
       "      <td>False</td>\n",
       "      <td>False</td>\n",
       "      <td>False</td>\n",
       "      <td>2200.0</td>\n",
       "      <td>2.0</td>\n",
       "      <td>False</td>\n",
       "      <td>2.0</td>\n",
       "    </tr>\n",
       "  </tbody>\n",
       "</table>\n",
       "</div>"
      ],
      "text/plain": [
       "       index  kamar_mandi  kamar    lb    lt  ...  taman  electricity  floors_total    gym floors_total_new\n",
       "15873  16719            2      1  88.0  50.0  ...  False       2200.0           2.0  False              2.0\n",
       "\n",
       "[1 rows x 17 columns]"
      ]
     },
     "execution_count": 75,
     "metadata": {},
     "output_type": "execute_result"
    }
   ],
   "source": [
    "df.sample(1)"
   ]
  },
  {
   "cell_type": "code",
   "execution_count": 76,
   "metadata": {},
   "outputs": [
    {
     "name": "stderr",
     "output_type": "stream",
     "text": [
      "C:\\Users\\dosal\\anaconda3\\lib\\site-packages\\pandas\\core\\indexing.py:670: SettingWithCopyWarning: \n",
      "A value is trying to be set on a copy of a slice from a DataFrame\n",
      "\n",
      "See the caveats in the documentation: https://pandas.pydata.org/pandas-docs/stable/user_guide/indexing.html#returning-a-view-versus-a-copy\n",
      "  iloc._setitem_with_indexer(indexer, value)\n"
     ]
    },
    {
     "data": {
      "text/plain": [
       "2.0    12227\n",
       "1.0     4964\n",
       "3.0      785\n",
       "4.0      145\n",
       "2.5      124\n",
       "3.5       89\n",
       "5.0       37\n",
       "0.0       31\n",
       "1.5       29\n",
       "8.0       16\n",
       "4.5       14\n",
       "6.0        8\n",
       "7.0        8\n",
       "9.0        5\n",
       "1.2        3\n",
       "3.1        3\n",
       "1.3        3\n",
       "1.1        2\n",
       "8.3        1\n",
       "4.4        1\n",
       "6.5        1\n",
       "2.2        1\n",
       "5.5        1\n",
       "3.2        1\n",
       "Name: floors_total_new, dtype: int64"
      ]
     },
     "execution_count": 76,
     "metadata": {},
     "output_type": "execute_result"
    }
   ],
   "source": [
    "for i in range(len(df)):\n",
    "    if df['floors_total_new'].iloc[i]>=3:\n",
    "        text = df['deskripsi'].iloc[i]\n",
    "        y = konv(JLantai(text))\n",
    "        df['floors_total_new'].iloc[i] = y\n",
    "df['floors_total_new'].value_counts()"
   ]
  },
  {
   "cell_type": "code",
   "execution_count": 77,
   "metadata": {},
   "outputs": [
    {
     "name": "stdout",
     "output_type": "stream",
     "text": [
      "dijual cepat luxury housejalan bangka raya (di dalam private compound)sangat dekat ke tendean , mampang , kuningan ,kebayoran ,senopati .luas tanah 602mluas bangunan 7462 tingkat + basement5 kamar tidur + 5 kamar mandi 1 kamar powder (kamar kecil untuk tamu)2 kamar pembantu + 1 kamar mandi pembantu 1 ruang kerja (bisa buat mushollah atau ruang doa)1 pantrygarasi muat 6 mobil + 4 motorcarport 6 mobilada kolam renang dan halam belakang taman luas dan besarlistrik 33.000 wattmarmer import , solid wood floor ,grohe-kohler sanitary .harga jual : 22.5 m (nego)informasi dan survey lokasi mohon hubungi :westri0858 80888 225 (wa)0811 8088 225\n"
     ]
    }
   ],
   "source": [
    "print(df[df['floors_total_new']==7]['deskripsi'].iloc[2])"
   ]
  },
  {
   "cell_type": "code",
   "execution_count": 78,
   "metadata": {},
   "outputs": [
    {
     "name": "stdout",
     "output_type": "stream",
     "text": [
      "rumah jual di jln. warung jati luas tanah 153m2 luas bangunan 150m2 2 lantai kamar tidur 5 kamar mandi 2 harga 2,4m\n"
     ]
    },
    {
     "data": {
      "text/plain": [
       "index                                                             689\n",
       "kamar_mandi                                                         3\n",
       "kamar                                                               6\n",
       "lb                                                                150\n",
       "lt                                                                153\n",
       "tipe_property                                                   Rumah\n",
       "price                                                         2.4e+09\n",
       "sertifikat                                                      False\n",
       "deskripsi           rumah jual di jln. warung jati luas tanah 153m...\n",
       "lokasi                                                   Pasar Minggu\n",
       "ada_garasi                                                       True\n",
       "pool                                                            False\n",
       "taman                                                           False\n",
       "electricity                                                      5500\n",
       "floors_total                                                        3\n",
       "gym                                                             False\n",
       "floors_total_new                                                    0\n",
       "Name: 672, dtype: object"
      ]
     },
     "execution_count": 78,
     "metadata": {},
     "output_type": "execute_result"
    }
   ],
   "source": [
    "print(df[df['floors_total_new']==0].iloc[0]['deskripsi'])\n",
    "df[df['floors_total_new']==0].loc[672]"
   ]
  },
  {
   "cell_type": "code",
   "execution_count": 79,
   "metadata": {},
   "outputs": [],
   "source": [
    "df.loc[df['floors_total_new'] == 0, 'floors_total_new'] = df['floors_total']"
   ]
  },
  {
   "cell_type": "code",
   "execution_count": 80,
   "metadata": {},
   "outputs": [
    {
     "data": {
      "text/plain": [
       "index                                                             689\n",
       "kamar_mandi                                                         3\n",
       "kamar                                                               6\n",
       "lb                                                                150\n",
       "lt                                                                153\n",
       "tipe_property                                                   Rumah\n",
       "price                                                         2.4e+09\n",
       "sertifikat                                                      False\n",
       "deskripsi           rumah jual di jln. warung jati luas tanah 153m...\n",
       "lokasi                                                   Pasar Minggu\n",
       "ada_garasi                                                       True\n",
       "pool                                                            False\n",
       "taman                                                           False\n",
       "electricity                                                      5500\n",
       "floors_total                                                        3\n",
       "gym                                                             False\n",
       "floors_total_new                                                    3\n",
       "Name: 672, dtype: object"
      ]
     },
     "execution_count": 80,
     "metadata": {},
     "output_type": "execute_result"
    }
   ],
   "source": [
    "df.loc[672]"
   ]
  },
  {
   "cell_type": "code",
   "execution_count": 81,
   "metadata": {},
   "outputs": [
    {
     "data": {
      "text/plain": [
       "3.0     1377\n",
       "4.0      275\n",
       "5.0       58\n",
       "8.0       13\n",
       "6.0        8\n",
       "7.0        5\n",
       "9.0        5\n",
       "30.0       4\n",
       "21.0       4\n",
       "11.0       2\n",
       "12.0       1\n",
       "19.0       1\n",
       "23.0       1\n",
       "38.0       1\n",
       "25.0       1\n",
       "10.0       1\n",
       "16.0       1\n",
       "39.0       1\n",
       "22.0       1\n",
       "40.0       1\n",
       "46.0       1\n",
       "Name: floors_total, dtype: int64"
      ]
     },
     "execution_count": 81,
     "metadata": {},
     "output_type": "execute_result"
    }
   ],
   "source": [
    "df[df['floors_total_new'].isna()==True]['floors_total'].value_counts()"
   ]
  },
  {
   "cell_type": "code",
   "execution_count": 82,
   "metadata": {},
   "outputs": [],
   "source": [
    "df['floors_total_new'] = df['floors_total_new'].fillna(-1)"
   ]
  },
  {
   "cell_type": "code",
   "execution_count": 83,
   "metadata": {},
   "outputs": [],
   "source": [
    "df.loc[df['floors_total_new'] == -1, \"floors_total_new\"] = df['floors_total']"
   ]
  },
  {
   "cell_type": "code",
   "execution_count": 84,
   "metadata": {},
   "outputs": [
    {
     "data": {
      "text/plain": [
       "Series([], Name: floors_total, dtype: int64)"
      ]
     },
     "execution_count": 84,
     "metadata": {},
     "output_type": "execute_result"
    }
   ],
   "source": [
    "df[df['floors_total_new'].isna()==True]['floors_total'].value_counts()"
   ]
  },
  {
   "cell_type": "code",
   "execution_count": 85,
   "metadata": {},
   "outputs": [],
   "source": [
    "df = df[df['floors_total_new'] <= 5]"
   ]
  },
  {
   "cell_type": "code",
   "execution_count": 86,
   "metadata": {},
   "outputs": [
    {
     "data": {
      "text/plain": [
       "2.0    12227\n",
       "1.0     4964\n",
       "3.0     2189\n",
       "4.0      423\n",
       "2.5      124\n",
       "5.0       96\n",
       "3.5       89\n",
       "1.5       29\n",
       "4.5       14\n",
       "1.3        3\n",
       "3.1        3\n",
       "1.2        3\n",
       "1.1        2\n",
       "3.2        1\n",
       "2.2        1\n",
       "4.4        1\n",
       "Name: floors_total_new, dtype: int64"
      ]
     },
     "execution_count": 86,
     "metadata": {},
     "output_type": "execute_result"
    }
   ],
   "source": [
    "df['floors_total_new'].value_counts()"
   ]
  },
  {
   "cell_type": "code",
   "execution_count": 87,
   "metadata": {},
   "outputs": [
    {
     "data": {
      "text/plain": [
       "2.0     11752\n",
       "1.0      4824\n",
       "3.0      2849\n",
       "4.0       594\n",
       "5.0       116\n",
       "11.0        6\n",
       "9.0         5\n",
       "7.0         5\n",
       "6.0         3\n",
       "8.0         3\n",
       "30.0        2\n",
       "21.0        2\n",
       "39.0        1\n",
       "36.0        1\n",
       "15.0        1\n",
       "25.0        1\n",
       "48.0        1\n",
       "16.0        1\n",
       "28.0        1\n",
       "26.0        1\n",
       "Name: floors_total, dtype: int64"
      ]
     },
     "execution_count": 87,
     "metadata": {},
     "output_type": "execute_result"
    }
   ],
   "source": [
    "df['floors_total'].value_counts()"
   ]
  },
  {
   "cell_type": "code",
   "execution_count": 88,
   "metadata": {},
   "outputs": [
    {
     "data": {
      "text/plain": [
       "2.0    12352\n",
       "1.0     5001\n",
       "3.0     2282\n",
       "4.0      438\n",
       "5.0       96\n",
       "Name: floors_total_new, dtype: int64"
      ]
     },
     "execution_count": 88,
     "metadata": {},
     "output_type": "execute_result"
    }
   ],
   "source": [
    "df['floors_total_new'] = df['floors_total_new'].apply(lambda x : int(x))\n",
    "df['floors_total_new'] = df['floors_total_new'].astype(float)\n",
    "df['floors_total_new'].value_counts()"
   ]
  },
  {
   "cell_type": "code",
   "execution_count": 89,
   "metadata": {},
   "outputs": [
    {
     "data": {
      "text/html": [
       "<div>\n",
       "<style scoped>\n",
       "    .dataframe tbody tr th:only-of-type {\n",
       "        vertical-align: middle;\n",
       "    }\n",
       "\n",
       "    .dataframe tbody tr th {\n",
       "        vertical-align: top;\n",
       "    }\n",
       "\n",
       "    .dataframe thead th {\n",
       "        text-align: right;\n",
       "    }\n",
       "</style>\n",
       "<table border=\"1\" class=\"dataframe\">\n",
       "  <thead>\n",
       "    <tr style=\"text-align: right;\">\n",
       "      <th></th>\n",
       "      <th>index</th>\n",
       "      <th>kamar_mandi</th>\n",
       "      <th>kamar</th>\n",
       "      <th>lb</th>\n",
       "      <th>lt</th>\n",
       "      <th>tipe_property</th>\n",
       "      <th>price</th>\n",
       "      <th>sertifikat</th>\n",
       "      <th>deskripsi</th>\n",
       "      <th>lokasi</th>\n",
       "      <th>ada_garasi</th>\n",
       "      <th>pool</th>\n",
       "      <th>taman</th>\n",
       "      <th>electricity</th>\n",
       "      <th>floors_total</th>\n",
       "      <th>gym</th>\n",
       "      <th>floors_total_new</th>\n",
       "    </tr>\n",
       "  </thead>\n",
       "  <tbody>\n",
       "    <tr>\n",
       "      <th>12</th>\n",
       "      <td>13</td>\n",
       "      <td>5</td>\n",
       "      <td>5</td>\n",
       "      <td>500.0</td>\n",
       "      <td>1038.0</td>\n",
       "      <td>Rumah</td>\n",
       "      <td>1.750000e+10</td>\n",
       "      <td>True</td>\n",
       "      <td>shm 2 lantai ruang kerja ruang musik dapur ber...</td>\n",
       "      <td>Cilandak</td>\n",
       "      <td>True</td>\n",
       "      <td>True</td>\n",
       "      <td>True</td>\n",
       "      <td>NaN</td>\n",
       "      <td>8.0</td>\n",
       "      <td>False</td>\n",
       "      <td>2.0</td>\n",
       "    </tr>\n",
       "    <tr>\n",
       "      <th>14</th>\n",
       "      <td>15</td>\n",
       "      <td>4</td>\n",
       "      <td>3</td>\n",
       "      <td>275.0</td>\n",
       "      <td>320.0</td>\n",
       "      <td>Rumah</td>\n",
       "      <td>7.700000e+09</td>\n",
       "      <td>True</td>\n",
       "      <td>dijual rumah 2 lantai villa fatmawati town hou...</td>\n",
       "      <td>Cilandak</td>\n",
       "      <td>True</td>\n",
       "      <td>True</td>\n",
       "      <td>False</td>\n",
       "      <td>NaN</td>\n",
       "      <td>8.0</td>\n",
       "      <td>False</td>\n",
       "      <td>2.0</td>\n",
       "    </tr>\n",
       "    <tr>\n",
       "      <th>60</th>\n",
       "      <td>63</td>\n",
       "      <td>5</td>\n",
       "      <td>6</td>\n",
       "      <td>126.0</td>\n",
       "      <td>104.0</td>\n",
       "      <td>Rumah</td>\n",
       "      <td>2.737800e+09</td>\n",
       "      <td>True</td>\n",
       "      <td>satu lagi kami hadirkan the colony residence k...</td>\n",
       "      <td>Cilandak</td>\n",
       "      <td>True</td>\n",
       "      <td>False</td>\n",
       "      <td>False</td>\n",
       "      <td>NaN</td>\n",
       "      <td>3.0</td>\n",
       "      <td>False</td>\n",
       "      <td>2.0</td>\n",
       "    </tr>\n",
       "    <tr>\n",
       "      <th>62</th>\n",
       "      <td>65</td>\n",
       "      <td>5</td>\n",
       "      <td>7</td>\n",
       "      <td>185.0</td>\n",
       "      <td>100.0</td>\n",
       "      <td>Rumah</td>\n",
       "      <td>3.500000e+09</td>\n",
       "      <td>True</td>\n",
       "      <td>dijual murah rumah siap huni di tebet utara - ...</td>\n",
       "      <td>Tebet</td>\n",
       "      <td>True</td>\n",
       "      <td>False</td>\n",
       "      <td>False</td>\n",
       "      <td>NaN</td>\n",
       "      <td>3.0</td>\n",
       "      <td>False</td>\n",
       "      <td>2.0</td>\n",
       "    </tr>\n",
       "    <tr>\n",
       "      <th>71</th>\n",
       "      <td>74</td>\n",
       "      <td>5</td>\n",
       "      <td>5</td>\n",
       "      <td>140.0</td>\n",
       "      <td>158.0</td>\n",
       "      <td>Rumah</td>\n",
       "      <td>3.950000e+09</td>\n",
       "      <td>True</td>\n",
       "      <td>rumah modern minimalis dalam cluster area bint...</td>\n",
       "      <td>Pesanggrahan</td>\n",
       "      <td>True</td>\n",
       "      <td>False</td>\n",
       "      <td>True</td>\n",
       "      <td>NaN</td>\n",
       "      <td>4.0</td>\n",
       "      <td>False</td>\n",
       "      <td>2.0</td>\n",
       "    </tr>\n",
       "  </tbody>\n",
       "</table>\n",
       "</div>"
      ],
      "text/plain": [
       "    index  kamar_mandi  kamar     lb      lt  ...  taman  electricity  floors_total    gym floors_total_new\n",
       "12     13            5      5  500.0  1038.0  ...   True          NaN           8.0  False              2.0\n",
       "14     15            4      3  275.0   320.0  ...  False          NaN           8.0  False              2.0\n",
       "60     63            5      6  126.0   104.0  ...  False          NaN           3.0  False              2.0\n",
       "62     65            5      7  185.0   100.0  ...  False          NaN           3.0  False              2.0\n",
       "71     74            5      5  140.0   158.0  ...   True          NaN           4.0  False              2.0\n",
       "\n",
       "[5 rows x 17 columns]"
      ]
     },
     "execution_count": 89,
     "metadata": {},
     "output_type": "execute_result"
    }
   ],
   "source": [
    "# df.info()\n",
    "df[df['floors_total'] != df['floors_total_new']].head()"
   ]
  },
  {
   "cell_type": "code",
   "execution_count": 90,
   "metadata": {},
   "outputs": [
    {
     "data": {
      "text/plain": [
       "'shm 2 lantai ruang kerja ruang musik dapur bersih luas dapur kotor sangat luas ruang keluarga sangat besar 2 ruang tamu listrik 10.000 taman luas ada space buat bikin pool rumah hook lokasi tenang dekat ke toll desari'"
      ]
     },
     "execution_count": 90,
     "metadata": {},
     "output_type": "execute_result"
    }
   ],
   "source": [
    "df[df['floors_total'] != df['floors_total_new']].iloc[0]['deskripsi']"
   ]
  },
  {
   "cell_type": "code",
   "execution_count": 91,
   "metadata": {},
   "outputs": [],
   "source": [
    "df['floors_total_new'] = df['floors_total_new'].astype(int)"
   ]
  },
  {
   "cell_type": "markdown",
   "metadata": {},
   "source": [
    "### Cleaning kolom `kamar` dan `kamar_mandi`"
   ]
  },
  {
   "cell_type": "code",
   "execution_count": 92,
   "metadata": {},
   "outputs": [
    {
     "data": {
      "text/plain": [
       "Rumah        15933\n",
       "lainnya       2342\n",
       "Apartemen     1894\n",
       "Name: tipe_property, dtype: int64"
      ]
     },
     "execution_count": 92,
     "metadata": {},
     "output_type": "execute_result"
    }
   ],
   "source": [
    "df['tipe_property'].value_counts()"
   ]
  },
  {
   "cell_type": "code",
   "execution_count": 93,
   "metadata": {},
   "outputs": [
    {
     "data": {
      "text/html": [
       "<div>\n",
       "<style scoped>\n",
       "    .dataframe tbody tr th:only-of-type {\n",
       "        vertical-align: middle;\n",
       "    }\n",
       "\n",
       "    .dataframe tbody tr th {\n",
       "        vertical-align: top;\n",
       "    }\n",
       "\n",
       "    .dataframe thead th {\n",
       "        text-align: right;\n",
       "    }\n",
       "</style>\n",
       "<table border=\"1\" class=\"dataframe\">\n",
       "  <thead>\n",
       "    <tr style=\"text-align: right;\">\n",
       "      <th></th>\n",
       "      <th>kamar</th>\n",
       "      <th>kamar_mandi</th>\n",
       "    </tr>\n",
       "  </thead>\n",
       "  <tbody>\n",
       "    <tr>\n",
       "      <th>count</th>\n",
       "      <td>20169.000000</td>\n",
       "      <td>20169.000000</td>\n",
       "    </tr>\n",
       "    <tr>\n",
       "      <th>mean</th>\n",
       "      <td>4.803709</td>\n",
       "      <td>3.828945</td>\n",
       "    </tr>\n",
       "    <tr>\n",
       "      <th>std</th>\n",
       "      <td>2.963766</td>\n",
       "      <td>2.364997</td>\n",
       "    </tr>\n",
       "    <tr>\n",
       "      <th>min</th>\n",
       "      <td>1.000000</td>\n",
       "      <td>1.000000</td>\n",
       "    </tr>\n",
       "    <tr>\n",
       "      <th>25%</th>\n",
       "      <td>3.000000</td>\n",
       "      <td>3.000000</td>\n",
       "    </tr>\n",
       "    <tr>\n",
       "      <th>50%</th>\n",
       "      <td>4.000000</td>\n",
       "      <td>3.000000</td>\n",
       "    </tr>\n",
       "    <tr>\n",
       "      <th>75%</th>\n",
       "      <td>5.000000</td>\n",
       "      <td>5.000000</td>\n",
       "    </tr>\n",
       "    <tr>\n",
       "      <th>max</th>\n",
       "      <td>54.000000</td>\n",
       "      <td>29.000000</td>\n",
       "    </tr>\n",
       "  </tbody>\n",
       "</table>\n",
       "</div>"
      ],
      "text/plain": [
       "              kamar   kamar_mandi\n",
       "count  20169.000000  20169.000000\n",
       "mean       4.803709      3.828945\n",
       "std        2.963766      2.364997\n",
       "min        1.000000      1.000000\n",
       "25%        3.000000      3.000000\n",
       "50%        4.000000      3.000000\n",
       "75%        5.000000      5.000000\n",
       "max       54.000000     29.000000"
      ]
     },
     "execution_count": 93,
     "metadata": {},
     "output_type": "execute_result"
    }
   ],
   "source": [
    "df[['kamar','kamar_mandi']].describe()"
   ]
  },
  {
   "cell_type": "code",
   "execution_count": 94,
   "metadata": {},
   "outputs": [],
   "source": [
    "# df['kosan'] = 0\n",
    "# df.sample()\n",
    "# for i in range(len(df)):\n",
    "#     if 'kos' in df['deskripsi'].iloc[i].lower():\n",
    "#         df['kosan'].iloc[i] = 1\n",
    "#     else:\n",
    "#         df['kosan'].iloc[i] = 0"
   ]
  },
  {
   "cell_type": "code",
   "execution_count": 95,
   "metadata": {},
   "outputs": [
    {
     "name": "stdout",
     "output_type": "stream",
     "text": [
      "<class 'pandas.core.frame.DataFrame'>\n",
      "Int64Index: 20169 entries, 0 to 24660\n",
      "Data columns (total 17 columns):\n",
      " #   Column            Non-Null Count  Dtype  \n",
      "---  ------            --------------  -----  \n",
      " 0   index             20169 non-null  int64  \n",
      " 1   kamar_mandi       20169 non-null  int32  \n",
      " 2   kamar             20169 non-null  int32  \n",
      " 3   lb                20169 non-null  float64\n",
      " 4   lt                20169 non-null  float64\n",
      " 5   tipe_property     20169 non-null  object \n",
      " 6   price             20169 non-null  float64\n",
      " 7   sertifikat        20169 non-null  bool   \n",
      " 8   deskripsi         20169 non-null  object \n",
      " 9   lokasi            20169 non-null  object \n",
      " 10  ada_garasi        20169 non-null  bool   \n",
      " 11  pool              20169 non-null  bool   \n",
      " 12  taman             20169 non-null  bool   \n",
      " 13  electricity       19531 non-null  float64\n",
      " 14  floors_total      20169 non-null  float64\n",
      " 15  gym               20169 non-null  bool   \n",
      " 16  floors_total_new  20169 non-null  int32  \n",
      "dtypes: bool(5), float64(5), int32(3), int64(1), object(3)\n",
      "memory usage: 1.9+ MB\n"
     ]
    }
   ],
   "source": [
    "df.info()"
   ]
  },
  {
   "cell_type": "markdown",
   "metadata": {},
   "source": [
    "### Cleaning Kolom `electricity`"
   ]
  },
  {
   "cell_type": "code",
   "execution_count": 96,
   "metadata": {},
   "outputs": [],
   "source": [
    "def listrik(df):    \n",
    "    df['electricity_desc'] = np.zeros(len(df))\n",
    "    for i in range(len(df)):\n",
    "        text = str(df['deskripsi'].iloc[i]).lower().replace('.','').replace(',','')\n",
    "        try:\n",
    "            cari = re.search('listrik',text)\n",
    "            S = cari.span()\n",
    "            txt = text[S[1]:S[1]+15]\n",
    "            clean = re.findall(r'[^\\D]+',txt)\n",
    "            clean = [int(i) for i in clean]\n",
    "            if re.search(r'x',txt):\n",
    "                clean = clean[0]*clean[1]\n",
    "            elif (len(clean)>=2) &( (len(str(clean[1]))<=2) | (len(str(clean[0]))<=2)):\n",
    "                clean = clean[np.argmax(clean)]\n",
    "            else:\n",
    "                clean = sum(clean)\n",
    "        except:\n",
    "            try:\n",
    "                cari = re.search('watt',text)\n",
    "                S = cari.span()\n",
    "                txt = text[S[1]-10:S[1]]\n",
    "                clean = re.findall(r'[^\\D]+',txt)\n",
    "                if re.search(r'x',txt):\n",
    "                    clean = clean[0]*clean[1]\n",
    "                elif  (len(clean)>=2) &( (len(str(clean[1]))<=2) | (len(str(clean[0]))<=2)):\n",
    "                    clean = clean[np.argmax(clean)]\n",
    "                else:\n",
    "                    clean = sum(clean)\n",
    "            except:\n",
    "                try:\n",
    "                    cari = re.search('va ',text)\n",
    "                    S = cari.span()\n",
    "                    txt = text[S[1]-8:S[1]]\n",
    "                    clean = re.findall(r'[^\\D]+',txt)\n",
    "                    if re.search(r'x',txt):\n",
    "                        clean = clean[0]*clean[1]\n",
    "                    elif (len(clean)>=2) &( (len(str(clean[1]))<=2) | (len(str(clean[0]))<=2)):\n",
    "                        clean = clean[np.argmax(clean)]\n",
    "                    else:\n",
    "                        clean = sum(clean)\n",
    "                except:\n",
    "                    clean = 0\n",
    "        df['electricity_desc'].iloc[i] = clean\n",
    "    return df"
   ]
  },
  {
   "cell_type": "code",
   "execution_count": 97,
   "metadata": {},
   "outputs": [
    {
     "name": "stderr",
     "output_type": "stream",
     "text": [
      "C:\\Users\\dosal\\anaconda3\\lib\\site-packages\\pandas\\core\\indexing.py:670: SettingWithCopyWarning: \n",
      "A value is trying to be set on a copy of a slice from a DataFrame\n",
      "\n",
      "See the caveats in the documentation: https://pandas.pydata.org/pandas-docs/stable/user_guide/indexing.html#returning-a-view-versus-a-copy\n",
      "  iloc._setitem_with_indexer(indexer, value)\n"
     ]
    }
   ],
   "source": [
    "df = listrik(df)\n",
    "df['electricity_desc'] = df['electricity_desc'].astype('int')\n",
    "\n",
    "df['listrik'] = np.zeros(len(df))\n",
    "for i in range(len(df)):\n",
    "    if df['electricity'].iloc[i] != df['electricity_desc'].iloc[i]:\n",
    "        if (df['electricity_desc'].iloc[i] % 100 == 0) & (df['electricity_desc'].iloc[i] != 0):\n",
    "            df['listrik'].iloc[i] = df['electricity_desc'].iloc[i]\n",
    "        else :\n",
    "            df['listrik'].iloc[i] = df['electricity'].iloc[i]"
   ]
  },
  {
   "cell_type": "code",
   "execution_count": 98,
   "metadata": {},
   "outputs": [
    {
     "name": "stdout",
     "output_type": "stream",
     "text": [
      "<class 'pandas.core.frame.DataFrame'>\n",
      "Int64Index: 20169 entries, 0 to 24660\n",
      "Data columns (total 19 columns):\n",
      " #   Column            Non-Null Count  Dtype  \n",
      "---  ------            --------------  -----  \n",
      " 0   index             20169 non-null  int64  \n",
      " 1   kamar_mandi       20169 non-null  int32  \n",
      " 2   kamar             20169 non-null  int32  \n",
      " 3   lb                20169 non-null  float64\n",
      " 4   lt                20169 non-null  float64\n",
      " 5   tipe_property     20169 non-null  object \n",
      " 6   price             20169 non-null  float64\n",
      " 7   sertifikat        20169 non-null  bool   \n",
      " 8   deskripsi         20169 non-null  object \n",
      " 9   lokasi            20169 non-null  object \n",
      " 10  ada_garasi        20169 non-null  bool   \n",
      " 11  pool              20169 non-null  bool   \n",
      " 12  taman             20169 non-null  bool   \n",
      " 13  electricity       19531 non-null  float64\n",
      " 14  floors_total      20169 non-null  float64\n",
      " 15  gym               20169 non-null  bool   \n",
      " 16  floors_total_new  20169 non-null  int32  \n",
      " 17  electricity_desc  20169 non-null  int32  \n",
      " 18  listrik           19545 non-null  float64\n",
      "dtypes: bool(5), float64(6), int32(4), int64(1), object(3)\n",
      "memory usage: 2.1+ MB\n"
     ]
    }
   ],
   "source": [
    "df.info()"
   ]
  },
  {
   "cell_type": "code",
   "execution_count": 99,
   "metadata": {},
   "outputs": [
    {
     "data": {
      "text/plain": [
       "2200.0     6281\n",
       "0.0        3144\n",
       "3500.0     1750\n",
       "1300.0     1701\n",
       "4400.0     1308\n",
       "           ... \n",
       "25000.0       1\n",
       "19200.0       1\n",
       "16100.0       1\n",
       "27500.0       1\n",
       "30800.0       1\n",
       "Name: listrik, Length: 136, dtype: int64"
      ]
     },
     "execution_count": 99,
     "metadata": {},
     "output_type": "execute_result"
    }
   ],
   "source": [
    "df['listrik'].value_counts()"
   ]
  },
  {
   "cell_type": "code",
   "execution_count": 100,
   "metadata": {},
   "outputs": [
    {
     "name": "stdout",
     "output_type": "stream",
     "text": [
      "<class 'pandas.core.frame.DataFrame'>\n",
      "Int64Index: 16255 entries, 52 to 24659\n",
      "Data columns (total 19 columns):\n",
      " #   Column            Non-Null Count  Dtype  \n",
      "---  ------            --------------  -----  \n",
      " 0   index             16255 non-null  int64  \n",
      " 1   kamar_mandi       16255 non-null  int32  \n",
      " 2   kamar             16255 non-null  int32  \n",
      " 3   lb                16255 non-null  float64\n",
      " 4   lt                16255 non-null  float64\n",
      " 5   tipe_property     16255 non-null  object \n",
      " 6   price             16255 non-null  float64\n",
      " 7   sertifikat        16255 non-null  bool   \n",
      " 8   deskripsi         16255 non-null  object \n",
      " 9   lokasi            16255 non-null  object \n",
      " 10  ada_garasi        16255 non-null  bool   \n",
      " 11  pool              16255 non-null  bool   \n",
      " 12  taman             16255 non-null  bool   \n",
      " 13  electricity       16241 non-null  float64\n",
      " 14  floors_total      16255 non-null  float64\n",
      " 15  gym               16255 non-null  bool   \n",
      " 16  floors_total_new  16255 non-null  int32  \n",
      " 17  electricity_desc  16255 non-null  int32  \n",
      " 18  listrik           16255 non-null  float64\n",
      "dtypes: bool(5), float64(6), int32(4), int64(1), object(3)\n",
      "memory usage: 1.7+ MB\n"
     ]
    }
   ],
   "source": [
    "df = df[df['listrik']>100]\n",
    "df.info()"
   ]
  },
  {
   "cell_type": "code",
   "execution_count": 101,
   "metadata": {},
   "outputs": [
    {
     "data": {
      "text/plain": [
       "<AxesSubplot:>"
      ]
     },
     "execution_count": 101,
     "metadata": {},
     "output_type": "execute_result"
    },
    {
     "data": {
      "image/png": "[encoded data removed]",
      "text/plain": [
       "<Figure size 1490.4x595.44 with 1 Axes>"
      ]
     },
     "metadata": {},
     "output_type": "display_data"
    }
   ],
   "source": [
    "df['lokasi'].value_counts().plot.bar()"
   ]
  },
  {
   "cell_type": "code",
   "execution_count": 102,
   "metadata": {},
   "outputs": [
    {
     "data": {
      "text/plain": [
       "13514"
      ]
     },
     "execution_count": 102,
     "metadata": {},
     "output_type": "execute_result"
    }
   ],
   "source": [
    "len(df[df['tipe_property'] == 'Rumah'])"
   ]
  },
  {
   "cell_type": "code",
   "execution_count": 103,
   "metadata": {},
   "outputs": [
    {
     "data": {
      "text/plain": [
       "Rumah        13514\n",
       "lainnya       2023\n",
       "Apartemen      718\n",
       "Name: tipe_property, dtype: int64"
      ]
     },
     "execution_count": 103,
     "metadata": {},
     "output_type": "execute_result"
    }
   ],
   "source": [
    "df['tipe_property'].value_counts()"
   ]
  },
  {
   "cell_type": "code",
   "execution_count": 104,
   "metadata": {},
   "outputs": [
    {
     "data": {
      "text/plain": [
       "<AxesSubplot:>"
      ]
     },
     "execution_count": 104,
     "metadata": {},
     "output_type": "execute_result"
    },
    {
     "data": {
      "image/png": "[encoded data removed]",
      "text/plain": [
       "<Figure size 1490.4x595.44 with 1 Axes>"
      ]
     },
     "metadata": {},
     "output_type": "display_data"
    }
   ],
   "source": [
    "df[df['tipe_property']=='Rumah']['lokasi'].value_counts().plot.bar()"
   ]
  },
  {
   "cell_type": "code",
   "execution_count": 105,
   "metadata": {},
   "outputs": [
    {
     "data": {
      "text/plain": [
       "53"
      ]
     },
     "execution_count": 105,
     "metadata": {},
     "output_type": "execute_result"
    }
   ],
   "source": [
    "len(df[(df['tipe_property']=='Rumah') & (df['lokasi'] == 'Jatinegara')])"
   ]
  },
  {
   "cell_type": "code",
   "execution_count": 106,
   "metadata": {},
   "outputs": [],
   "source": [
    "df = df[df['tipe_property']=='Rumah']"
   ]
  },
  {
   "cell_type": "code",
   "execution_count": 107,
   "metadata": {},
   "outputs": [
    {
     "name": "stdout",
     "output_type": "stream",
     "text": [
      "<class 'pandas.core.frame.DataFrame'>\n",
      "Int64Index: 13514 entries, 52 to 24659\n",
      "Data columns (total 19 columns):\n",
      " #   Column            Non-Null Count  Dtype  \n",
      "---  ------            --------------  -----  \n",
      " 0   index             13514 non-null  int64  \n",
      " 1   kamar_mandi       13514 non-null  int32  \n",
      " 2   kamar             13514 non-null  int32  \n",
      " 3   lb                13514 non-null  float64\n",
      " 4   lt                13514 non-null  float64\n",
      " 5   tipe_property     13514 non-null  object \n",
      " 6   price             13514 non-null  float64\n",
      " 7   sertifikat        13514 non-null  bool   \n",
      " 8   deskripsi         13514 non-null  object \n",
      " 9   lokasi            13514 non-null  object \n",
      " 10  ada_garasi        13514 non-null  bool   \n",
      " 11  pool              13514 non-null  bool   \n",
      " 12  taman             13514 non-null  bool   \n",
      " 13  electricity       13501 non-null  float64\n",
      " 14  floors_total      13514 non-null  float64\n",
      " 15  gym               13514 non-null  bool   \n",
      " 16  floors_total_new  13514 non-null  int32  \n",
      " 17  electricity_desc  13514 non-null  int32  \n",
      " 18  listrik           13514 non-null  float64\n",
      "dtypes: bool(5), float64(6), int32(4), int64(1), object(3)\n",
      "memory usage: 1.4+ MB\n"
     ]
    }
   ],
   "source": [
    "df.info()"
   ]
  },
  {
   "cell_type": "markdown",
   "metadata": {},
   "source": [
    "### Cleaning kolom `floors_total_new` again (with new function)"
   ]
  },
  {
   "cell_type": "code",
   "execution_count": 108,
   "metadata": {},
   "outputs": [],
   "source": [
    "def cari_lantai(text):\n",
    "    text = text.lower()\n",
    "    jlh_lantai = 0\n",
    "    lantai_found = True\n",
    "    cari = re.search('lantai',text)\n",
    "    try:\n",
    "        S = cari.span()\n",
    "        ttkdua = text[S[1]:S[1]+2]\n",
    "        if ':' in ttkdua:\n",
    "            hasil = text[S[1]:S[1]+4]\n",
    "            H = re.search(r\"\\d\",hasil)\n",
    "            try:\n",
    "                jlh_lantai = H.group()\n",
    "            except:\n",
    "                lantai_found = False\n",
    "        else:\n",
    "            if text[S[0]-1].isdigit() == True:\n",
    "                if text[S[0]-2] == '/' and text[S[0]-3].isdigit() == True:\n",
    "                    if text[S[0]-4].isdigit() == True:\n",
    "                        jlh_lantai = text[S[0]-4]\n",
    "                    elif text[S[0]-5].isdigit() == True:\n",
    "                        jlh_lantai = text[S[0]-5]\n",
    "                    else:\n",
    "                        lantai_found = False\n",
    "                elif text[S[0]-2] == ',' or text[S[0]-2] == '.':\n",
    "                    if text[S[0]-3].isdigit() == True:\n",
    "                        jlh_lantai = text[S[0]-3]\n",
    "                    else:\n",
    "                        jlh_lantai = text[S[0]-1]\n",
    "                else:\n",
    "                    jlh_lantai = text[S[0]-1]\n",
    "            elif text[S[0]-2].isdigit() == True:\n",
    "                if text[S[0]-3] == '/' and text[S[0]-4].isdigit() == True:\n",
    "                    if text[S[0]-5].isdigit() == True:\n",
    "                        jlh_lantai = text[S[0]-5]\n",
    "                    elif text[S[0]-6].isdigit() == True:\n",
    "                        jlh_lantai = text[S[0]-6]\n",
    "                    else:\n",
    "                        lantai_found = False\n",
    "                elif text[S[0]-3] == ',' or text[S[0]-3] == '.':\n",
    "                    if text[S[0]-4].isdigit() == True:\n",
    "                        jlh_lantai = text[S[0]-4]\n",
    "                    else:\n",
    "                        jlh_lantai = text[S[0]-2]\n",
    "                else:\n",
    "                    jlh_lantai = text[S[0]-2]\n",
    "            else:\n",
    "                lantai_found = False\n",
    "    except:\n",
    "        lantai_found = False\n",
    "    \n",
    "    tingkat_found = True\n",
    "    if lantai_found == False:\n",
    "        # Mencari tingkat\n",
    "        cari = re.search('tingkat',text)\n",
    "        try:\n",
    "            S = cari.span()\n",
    "            ttkdua = text[S[1]:S[1]+2]\n",
    "            if ':' in ttkdua:\n",
    "                hasil = text[S[1]:S[1]+4]\n",
    "                H = re.search(r\"\\d\",hasil)\n",
    "                try:\n",
    "                    jlh_lantai = H.group()\n",
    "                except:\n",
    "                    tingkat_found = False\n",
    "            else:\n",
    "                if text[S[0]-1].isdigit() == True:\n",
    "                    if text[S[0]-2] == '/' and text[S[0]-3].isdigit() == True:\n",
    "                        if text[S[0]-4].isdigit() == True:\n",
    "                            jlh_lantai = text[S[0]-4]\n",
    "                        elif text[S[0]-5].isdigit() == True:\n",
    "                            jlh_lantai = text[S[0]-5]\n",
    "                        else:\n",
    "                            tingkat_found = False\n",
    "                    elif text[S[0]-2] == ',' or text[S[0]-2] == '.':\n",
    "                        if text[S[0]-3].isdigit() == True:\n",
    "                            jlh_lantai = text[S[0]-3]\n",
    "                        else:\n",
    "                            jlh_lantai = text[S[0]-1]\n",
    "                    else:\n",
    "                        jlh_lantai = text[S[0]-1]\n",
    "                elif text[S[0]-2].isdigit() == True:\n",
    "                    if text[S[0]-3] == '/' and text[S[0]-4].isdigit() == True:\n",
    "                        if text[S[0]-5].isdigit() == True:\n",
    "                            jlh_lantai = text[S[0]-5]\n",
    "                        elif text[S[0]-6].isdigit() == True:\n",
    "                            jlh_lantai = text[S[0]-6]\n",
    "                        else:\n",
    "                            tingkat_found = False\n",
    "                    elif text[S[0]-3] == ',' or text[S[0]-3] == '.':\n",
    "                        if text[S[0]-4].isdigit() == True:\n",
    "                            jlh_lantai = text[S[0]-4]\n",
    "                        else:\n",
    "                            jlh_lantai = text[S[0]-2]\n",
    "                    else:\n",
    "                        jlh_lantai = text[S[0]-2]\n",
    "                else:\n",
    "                    tingkat_found = False\n",
    "        except:\n",
    "            tingkat_found = False\n",
    "    \n",
    "    if tingkat_found == False:\n",
    "        # Mencari floors\n",
    "        cari = re.search('floors',text)\n",
    "        try:\n",
    "            S = cari.span()\n",
    "            ttkdua = text[S[1]:S[1]+2]\n",
    "            if ':' in ttkdua:\n",
    "                hasil = text[S[1]:S[1]+4]\n",
    "                H = re.search(r\"\\d\",hasil)\n",
    "                try:\n",
    "                    jlh_lantai = H.group()\n",
    "                except:\n",
    "                    floors_found = False\n",
    "            else:\n",
    "                if text[S[0]-1].isdigit() == True:\n",
    "                    if text[S[0]-2] == '/' and text[S[0]-3].isdigit() == True:\n",
    "                        if text[S[0]-4].isdigit() == True:\n",
    "                            jlh_lantai = text[S[0]-4]\n",
    "                        elif text[S[0]-5].isdigit() == True:\n",
    "                            jlh_lantai = text[S[0]-5]\n",
    "                        else:\n",
    "                            floors_found = False\n",
    "                    elif text[S[0]-2] == ',' or text[S[0]-2] == '.':\n",
    "                        if text[S[0]-3].isdigit() == True:\n",
    "                            jlh_lantai = text[S[0]-3]\n",
    "                        else:\n",
    "                            jlh_lantai = text[S[0]-1]\n",
    "                    else:\n",
    "                        jlh_lantai = text[S[0]-1]\n",
    "                elif text[S[0]-2].isdigit() == True:\n",
    "                    if text[S[0]-3] == '/' and text[S[0]-4].isdigit() == True:\n",
    "                        if text[S[0]-5].isdigit() == True:\n",
    "                            jlh_lantai = text[S[0]-5]\n",
    "                        elif text[S[0]-6].isdigit() == True:\n",
    "                            jlh_lantai = text[S[0]-6]\n",
    "                        else:\n",
    "                            floors_found = False\n",
    "                    elif text[S[0]-3] == ',' or text[S[0]-3] == '.':\n",
    "                        if text[S[0]-4].isdigit() == True:\n",
    "                            jlh_lantai = text[S[0]-4]\n",
    "                        else:\n",
    "                            jlh_lantai = text[S[0]-2]\n",
    "                    else:\n",
    "                        jlh_lantai = text[S[0]-2]\n",
    "                else:\n",
    "                    floors_found = False\n",
    "        except:\n",
    "            floors_found = False\n",
    "\n",
    "    return jlh_lantai"
   ]
  },
  {
   "cell_type": "code",
   "execution_count": 109,
   "metadata": {},
   "outputs": [
    {
     "name": "stderr",
     "output_type": "stream",
     "text": [
      "C:\\Users\\dosal\\anaconda3\\lib\\site-packages\\pandas\\core\\indexing.py:670: SettingWithCopyWarning: \n",
      "A value is trying to be set on a copy of a slice from a DataFrame\n",
      "\n",
      "See the caveats in the documentation: https://pandas.pydata.org/pandas-docs/stable/user_guide/indexing.html#returning-a-view-versus-a-copy\n",
      "  iloc._setitem_with_indexer(indexer, value)\n"
     ]
    }
   ],
   "source": [
    "df['jumlah_lantai'] = 0\n",
    "for i in range(len(df)):\n",
    "    text = df['deskripsi'].iloc[i]\n",
    "    y = cari_lantai(text)\n",
    "    if y == 0:\n",
    "        df['jumlah_lantai'].iloc[i] = df['floors_total_new'].iloc[i]\n",
    "    else:\n",
    "        df['jumlah_lantai'].iloc[i] = y\n"
   ]
  },
  {
   "cell_type": "code",
   "execution_count": 110,
   "metadata": {},
   "outputs": [
    {
     "data": {
      "text/plain": [
       "2    4950\n",
       "2    3923\n",
       "3    1253\n",
       "1    1210\n",
       "1     939\n",
       "3     806\n",
       "4     179\n",
       "4     162\n",
       "5      38\n",
       "5      36\n",
       "0       7\n",
       "6       6\n",
       "²       2\n",
       "8       1\n",
       "7       1\n",
       "9       1\n",
       "Name: jumlah_lantai, dtype: int64"
      ]
     },
     "execution_count": 110,
     "metadata": {},
     "output_type": "execute_result"
    }
   ],
   "source": [
    "df['jumlah_lantai'].value_counts()"
   ]
  },
  {
   "cell_type": "code",
   "execution_count": 111,
   "metadata": {},
   "outputs": [
    {
     "data": {
      "text/plain": [
       "2    9288\n",
       "1    2244\n",
       "3    1633\n",
       "4     288\n",
       "5      61\n",
       "Name: floors_total_new, dtype: int64"
      ]
     },
     "execution_count": 111,
     "metadata": {},
     "output_type": "execute_result"
    }
   ],
   "source": [
    "df['floors_total_new'].value_counts()"
   ]
  },
  {
   "cell_type": "code",
   "execution_count": 112,
   "metadata": {},
   "outputs": [
    {
     "name": "stdout",
     "output_type": "stream",
     "text": [
      "<class 'pandas.core.frame.DataFrame'>\n",
      "Int64Index: 13514 entries, 52 to 24659\n",
      "Data columns (total 20 columns):\n",
      " #   Column            Non-Null Count  Dtype  \n",
      "---  ------            --------------  -----  \n",
      " 0   index             13514 non-null  int64  \n",
      " 1   kamar_mandi       13514 non-null  int32  \n",
      " 2   kamar             13514 non-null  int32  \n",
      " 3   lb                13514 non-null  float64\n",
      " 4   lt                13514 non-null  float64\n",
      " 5   tipe_property     13514 non-null  object \n",
      " 6   price             13514 non-null  float64\n",
      " 7   sertifikat        13514 non-null  bool   \n",
      " 8   deskripsi         13514 non-null  object \n",
      " 9   lokasi            13514 non-null  object \n",
      " 10  ada_garasi        13514 non-null  bool   \n",
      " 11  pool              13514 non-null  bool   \n",
      " 12  taman             13514 non-null  bool   \n",
      " 13  electricity       13501 non-null  float64\n",
      " 14  floors_total      13514 non-null  float64\n",
      " 15  gym               13514 non-null  bool   \n",
      " 16  floors_total_new  13514 non-null  int32  \n",
      " 17  electricity_desc  13514 non-null  int32  \n",
      " 18  listrik           13514 non-null  float64\n",
      " 19  jumlah_lantai     13514 non-null  object \n",
      "dtypes: bool(5), float64(6), int32(4), int64(1), object(4)\n",
      "memory usage: 1.5+ MB\n"
     ]
    }
   ],
   "source": [
    "df.info()"
   ]
  },
  {
   "cell_type": "code",
   "execution_count": 113,
   "metadata": {},
   "outputs": [
    {
     "data": {
      "text/plain": [
       "2    8873\n",
       "1    2149\n",
       "3    2059\n",
       "4     341\n",
       "5      74\n",
       "0       7\n",
       "6       6\n",
       "²       2\n",
       "9       1\n",
       "8       1\n",
       "7       1\n",
       "Name: jumlah_lantai, dtype: int64"
      ]
     },
     "execution_count": 113,
     "metadata": {},
     "output_type": "execute_result"
    }
   ],
   "source": [
    "for i in range(len(df)):\n",
    "    try:\n",
    "        df['jumlah_lantai'].iloc[i] = int(df['jumlah_lantai'].iloc[i])\n",
    "    except:\n",
    "        pass\n",
    "df['jumlah_lantai'].value_counts()"
   ]
  },
  {
   "cell_type": "code",
   "execution_count": 114,
   "metadata": {},
   "outputs": [
    {
     "data": {
      "text/plain": [
       "2    8873\n",
       "1    2149\n",
       "3    2059\n",
       "4     341\n",
       "5      74\n",
       "0      18\n",
       "Name: jumlah_lantai, dtype: int64"
      ]
     },
     "execution_count": 114,
     "metadata": {},
     "output_type": "execute_result"
    }
   ],
   "source": [
    "a = [1,2,3,4,5]\n",
    "for i in range(len(df)):\n",
    "    if df['jumlah_lantai'].iloc[i] in a:\n",
    "        pass\n",
    "    else:\n",
    "        df['jumlah_lantai'].iloc[i] = 0\n",
    "df['jumlah_lantai'].value_counts()"
   ]
  },
  {
   "cell_type": "code",
   "execution_count": 115,
   "metadata": {},
   "outputs": [],
   "source": [
    "df = df[df['jumlah_lantai'] != 0]"
   ]
  },
  {
   "cell_type": "code",
   "execution_count": 116,
   "metadata": {},
   "outputs": [
    {
     "name": "stdout",
     "output_type": "stream",
     "text": [
      "<class 'pandas.core.frame.DataFrame'>\n",
      "Int64Index: 13496 entries, 52 to 24659\n",
      "Data columns (total 20 columns):\n",
      " #   Column            Non-Null Count  Dtype  \n",
      "---  ------            --------------  -----  \n",
      " 0   index             13496 non-null  int64  \n",
      " 1   kamar_mandi       13496 non-null  int32  \n",
      " 2   kamar             13496 non-null  int32  \n",
      " 3   lb                13496 non-null  float64\n",
      " 4   lt                13496 non-null  float64\n",
      " 5   tipe_property     13496 non-null  object \n",
      " 6   price             13496 non-null  float64\n",
      " 7   sertifikat        13496 non-null  bool   \n",
      " 8   deskripsi         13496 non-null  object \n",
      " 9   lokasi            13496 non-null  object \n",
      " 10  ada_garasi        13496 non-null  bool   \n",
      " 11  pool              13496 non-null  bool   \n",
      " 12  taman             13496 non-null  bool   \n",
      " 13  electricity       13483 non-null  float64\n",
      " 14  floors_total      13496 non-null  float64\n",
      " 15  gym               13496 non-null  bool   \n",
      " 16  floors_total_new  13496 non-null  int32  \n",
      " 17  electricity_desc  13496 non-null  int32  \n",
      " 18  listrik           13496 non-null  float64\n",
      " 19  jumlah_lantai     13496 non-null  object \n",
      "dtypes: bool(5), float64(6), int32(4), int64(1), object(4)\n",
      "memory usage: 1.5+ MB\n"
     ]
    }
   ],
   "source": [
    "df.info()"
   ]
  },
  {
   "cell_type": "code",
   "execution_count": 117,
   "metadata": {},
   "outputs": [
    {
     "data": {
      "text/plain": [
       "Duren Sawit          990\n",
       "Kelapa Gading        757\n",
       "Cakung               755\n",
       "Penjaringan          737\n",
       "Jagakarsa            673\n",
       "Cilandak             631\n",
       "Tanjung Priok        583\n",
       "Pulo Gadung          539\n",
       "Kebayoran Lama       475\n",
       "Cipayung             473\n",
       "Menteng              431\n",
       "Cempaka Putih        428\n",
       "Pasar Minggu         423\n",
       "Ciracas              423\n",
       "Kembangan            412\n",
       "Cengkareng           386\n",
       "Kebon Jeruk          364\n",
       "Grogol Petamburan    335\n",
       "Kebayoran Baru       309\n",
       "Kalideres            261\n",
       "Kemayoran            245\n",
       "Mampang Prapatan     231\n",
       "Pademangan           225\n",
       "Pesanggrahan         217\n",
       "Pancoran             212\n",
       "Kramat Jati          212\n",
       "Tebet                191\n",
       "Pasar Rebo           164\n",
       "Matraman             146\n",
       "Palmerah             141\n",
       "Tanah Abang          135\n",
       "Johar Baru           132\n",
       "Cilincing            127\n",
       "Makasar              107\n",
       "Koja                 104\n",
       "Sawah Besar           94\n",
       "Tambora               86\n",
       "Taman Sari            84\n",
       "Senen                 83\n",
       "Setiabudi             66\n",
       "Gambir                56\n",
       "Jatinegara            53\n",
       "Name: lokasi, dtype: int64"
      ]
     },
     "execution_count": 117,
     "metadata": {},
     "output_type": "execute_result"
    }
   ],
   "source": [
    "df['lokasi'].value_counts()"
   ]
  },
  {
   "cell_type": "code",
   "execution_count": 118,
   "metadata": {},
   "outputs": [],
   "source": [
    "# ###\n",
    "# df.to_csv(r'C:\\Users\\dosal\\Downloads\\Buat_Dede\\My_Udemy_BuatDede\\Web_Scrapping_with_Python_With_BeautifulSoup_and_Selenium_2021\\file_scrapping_proyek_harga_rumah\\Stage_2_Data_Cleaning\\nodrop_ver2.csv')"
   ]
  },
  {
   "cell_type": "code",
   "execution_count": 119,
   "metadata": {},
   "outputs": [
    {
     "name": "stdout",
     "output_type": "stream",
     "text": [
      "<class 'pandas.core.frame.DataFrame'>\n",
      "Int64Index: 13496 entries, 52 to 24659\n",
      "Data columns (total 13 columns):\n",
      " #   Column         Non-Null Count  Dtype  \n",
      "---  ------         --------------  -----  \n",
      " 0   kamar_mandi    13496 non-null  int32  \n",
      " 1   kamar          13496 non-null  int32  \n",
      " 2   lb             13496 non-null  float64\n",
      " 3   lt             13496 non-null  float64\n",
      " 4   price          13496 non-null  float64\n",
      " 5   deskripsi      13496 non-null  object \n",
      " 6   lokasi         13496 non-null  object \n",
      " 7   ada_garasi     13496 non-null  bool   \n",
      " 8   pool           13496 non-null  bool   \n",
      " 9   taman          13496 non-null  bool   \n",
      " 10  gym            13496 non-null  bool   \n",
      " 11  listrik        13496 non-null  float64\n",
      " 12  jumlah_lantai  13496 non-null  object \n",
      "dtypes: bool(4), float64(4), int32(2), object(3)\n",
      "memory usage: 1001.7+ KB\n"
     ]
    }
   ],
   "source": [
    "df = df.drop(columns=['index', 'electricity_desc', 'electricity', 'sertifikat', 'tipe_property', 'floors_total', \n",
    "                     'floors_total_new'])\n",
    "df.info()"
   ]
  },
  {
   "cell_type": "code",
   "execution_count": 120,
   "metadata": {},
   "outputs": [
    {
     "name": "stdout",
     "output_type": "stream",
     "text": [
      "<class 'pandas.core.frame.DataFrame'>\n",
      "Int64Index: 13496 entries, 52 to 24659\n",
      "Data columns (total 13 columns):\n",
      " #   Column         Non-Null Count  Dtype  \n",
      "---  ------         --------------  -----  \n",
      " 0   kamar_mandi    13496 non-null  int32  \n",
      " 1   kamar_tidur    13496 non-null  int32  \n",
      " 2   luas_bangunan  13496 non-null  float64\n",
      " 3   luas_tanah     13496 non-null  float64\n",
      " 4   harga          13496 non-null  float64\n",
      " 5   deskripsi      13496 non-null  object \n",
      " 6   kecamatan      13496 non-null  object \n",
      " 7   garasi         13496 non-null  bool   \n",
      " 8   kolam_renang   13496 non-null  bool   \n",
      " 9   taman          13496 non-null  bool   \n",
      " 10  gym            13496 non-null  bool   \n",
      " 11  listrik        13496 non-null  float64\n",
      " 12  jumlah_lantai  13496 non-null  object \n",
      "dtypes: bool(4), float64(4), int32(2), object(3)\n",
      "memory usage: 1001.7+ KB\n"
     ]
    }
   ],
   "source": [
    "df.columns = ['kamar_mandi', 'kamar_tidur', 'luas_bangunan', 'luas_tanah', 'harga', 'deskripsi', 'kecamatan', 'garasi', 'kolam_renang', \n",
    "              'taman', 'gym', 'listrik', 'jumlah_lantai']\n",
    "df.info()"
   ]
  },
  {
   "cell_type": "code",
   "execution_count": 121,
   "metadata": {},
   "outputs": [
    {
     "data": {
      "text/plain": [
       "2    8873\n",
       "1    2149\n",
       "3    2059\n",
       "4     341\n",
       "5      74\n",
       "Name: jumlah_lantai, dtype: int64"
      ]
     },
     "execution_count": 121,
     "metadata": {},
     "output_type": "execute_result"
    }
   ],
   "source": [
    "df['jumlah_lantai'].value_counts()"
   ]
  },
  {
   "cell_type": "code",
   "execution_count": 122,
   "metadata": {},
   "outputs": [],
   "source": [
    "df['jumlah_lantai'] = df['jumlah_lantai'].astype('int')"
   ]
  },
  {
   "cell_type": "code",
   "execution_count": 123,
   "metadata": {},
   "outputs": [
    {
     "name": "stdout",
     "output_type": "stream",
     "text": [
      "<class 'pandas.core.frame.DataFrame'>\n",
      "Int64Index: 13496 entries, 52 to 24659\n",
      "Data columns (total 13 columns):\n",
      " #   Column         Non-Null Count  Dtype  \n",
      "---  ------         --------------  -----  \n",
      " 0   kamar_mandi    13496 non-null  int32  \n",
      " 1   kamar_tidur    13496 non-null  int32  \n",
      " 2   luas_bangunan  13496 non-null  float64\n",
      " 3   luas_tanah     13496 non-null  float64\n",
      " 4   harga          13496 non-null  float64\n",
      " 5   deskripsi      13496 non-null  object \n",
      " 6   kecamatan      13496 non-null  object \n",
      " 7   garasi         13496 non-null  bool   \n",
      " 8   kolam_renang   13496 non-null  bool   \n",
      " 9   taman          13496 non-null  bool   \n",
      " 10  gym            13496 non-null  bool   \n",
      " 11  listrik        13496 non-null  float64\n",
      " 12  jumlah_lantai  13496 non-null  int32  \n",
      "dtypes: bool(4), float64(4), int32(3), object(2)\n",
      "memory usage: 948.9+ KB\n"
     ]
    }
   ],
   "source": [
    "df.info()"
   ]
  },
  {
   "cell_type": "code",
   "execution_count": 124,
   "metadata": {},
   "outputs": [
    {
     "data": {
      "text/html": [
       "<div>\n",
       "<style scoped>\n",
       "    .dataframe tbody tr th:only-of-type {\n",
       "        vertical-align: middle;\n",
       "    }\n",
       "\n",
       "    .dataframe tbody tr th {\n",
       "        vertical-align: top;\n",
       "    }\n",
       "\n",
       "    .dataframe thead th {\n",
       "        text-align: right;\n",
       "    }\n",
       "</style>\n",
       "<table border=\"1\" class=\"dataframe\">\n",
       "  <thead>\n",
       "    <tr style=\"text-align: right;\">\n",
       "      <th></th>\n",
       "      <th>kamar_mandi</th>\n",
       "      <th>kamar_tidur</th>\n",
       "      <th>luas_bangunan</th>\n",
       "      <th>luas_tanah</th>\n",
       "      <th>harga</th>\n",
       "      <th>deskripsi</th>\n",
       "      <th>kecamatan</th>\n",
       "      <th>garasi</th>\n",
       "      <th>kolam_renang</th>\n",
       "      <th>taman</th>\n",
       "      <th>gym</th>\n",
       "      <th>listrik</th>\n",
       "      <th>jumlah_lantai</th>\n",
       "    </tr>\n",
       "  </thead>\n",
       "  <tbody>\n",
       "    <tr>\n",
       "      <th>52</th>\n",
       "      <td>5</td>\n",
       "      <td>6</td>\n",
       "      <td>353.0</td>\n",
       "      <td>155.0</td>\n",
       "      <td>6.700000e+09</td>\n",
       "      <td>telah hadir... townhouse terbaru dan termurah ...</td>\n",
       "      <td>Mampang Prapatan</td>\n",
       "      <td>True</td>\n",
       "      <td>True</td>\n",
       "      <td>False</td>\n",
       "      <td>False</td>\n",
       "      <td>6600.0</td>\n",
       "      <td>2</td>\n",
       "    </tr>\n",
       "    <tr>\n",
       "      <th>75</th>\n",
       "      <td>4</td>\n",
       "      <td>4</td>\n",
       "      <td>90.0</td>\n",
       "      <td>60.0</td>\n",
       "      <td>1.299000e+09</td>\n",
       "      <td>rumah murah dekat stasiun mrt lebak bulus, mod...</td>\n",
       "      <td>Cilandak</td>\n",
       "      <td>True</td>\n",
       "      <td>False</td>\n",
       "      <td>False</td>\n",
       "      <td>False</td>\n",
       "      <td>2200.0</td>\n",
       "      <td>2</td>\n",
       "    </tr>\n",
       "    <tr>\n",
       "      <th>93</th>\n",
       "      <td>4</td>\n",
       "      <td>6</td>\n",
       "      <td>160.0</td>\n",
       "      <td>109.0</td>\n",
       "      <td>2.300000e+09</td>\n",
       "      <td>rumah 2 lantai bebas banjir, dekat pusat perbe...</td>\n",
       "      <td>Kebayoran Baru</td>\n",
       "      <td>True</td>\n",
       "      <td>False</td>\n",
       "      <td>False</td>\n",
       "      <td>False</td>\n",
       "      <td>3500.0</td>\n",
       "      <td>2</td>\n",
       "    </tr>\n",
       "    <tr>\n",
       "      <th>131</th>\n",
       "      <td>3</td>\n",
       "      <td>4</td>\n",
       "      <td>125.0</td>\n",
       "      <td>72.0</td>\n",
       "      <td>3.149480e+09</td>\n",
       "      <td>di pasarkan satu-satunya townhouse termurah di...</td>\n",
       "      <td>Mampang Prapatan</td>\n",
       "      <td>True</td>\n",
       "      <td>False</td>\n",
       "      <td>True</td>\n",
       "      <td>False</td>\n",
       "      <td>2200.0</td>\n",
       "      <td>2</td>\n",
       "    </tr>\n",
       "    <tr>\n",
       "      <th>146</th>\n",
       "      <td>3</td>\n",
       "      <td>4</td>\n",
       "      <td>90.0</td>\n",
       "      <td>87.0</td>\n",
       "      <td>1.210000e+09</td>\n",
       "      <td>marwah regency jagakarsa jakarta selatan lokas...</td>\n",
       "      <td>Jagakarsa</td>\n",
       "      <td>True</td>\n",
       "      <td>True</td>\n",
       "      <td>False</td>\n",
       "      <td>False</td>\n",
       "      <td>2200.0</td>\n",
       "      <td>1</td>\n",
       "    </tr>\n",
       "  </tbody>\n",
       "</table>\n",
       "</div>"
      ],
      "text/plain": [
       "     kamar_mandi  kamar_tidur  luas_bangunan  luas_tanah  ...  taman    gym listrik  jumlah_lantai\n",
       "52             5            6          353.0       155.0  ...  False  False  6600.0              2\n",
       "75             4            4           90.0        60.0  ...  False  False  2200.0              2\n",
       "93             4            6          160.0       109.0  ...  False  False  3500.0              2\n",
       "131            3            4          125.0        72.0  ...   True  False  2200.0              2\n",
       "146            3            4           90.0        87.0  ...  False  False  2200.0              1\n",
       "\n",
       "[5 rows x 13 columns]"
      ]
     },
     "execution_count": 124,
     "metadata": {},
     "output_type": "execute_result"
    }
   ],
   "source": [
    "df.head()"
   ]
  },
  {
   "cell_type": "code",
   "execution_count": 125,
   "metadata": {},
   "outputs": [
    {
     "data": {
      "text/html": [
       "<div>\n",
       "<style scoped>\n",
       "    .dataframe tbody tr th:only-of-type {\n",
       "        vertical-align: middle;\n",
       "    }\n",
       "\n",
       "    .dataframe tbody tr th {\n",
       "        vertical-align: top;\n",
       "    }\n",
       "\n",
       "    .dataframe thead th {\n",
       "        text-align: right;\n",
       "    }\n",
       "</style>\n",
       "<table border=\"1\" class=\"dataframe\">\n",
       "  <thead>\n",
       "    <tr style=\"text-align: right;\">\n",
       "      <th></th>\n",
       "      <th>kamar_mandi</th>\n",
       "      <th>kamar_tidur</th>\n",
       "      <th>luas_bangunan</th>\n",
       "      <th>luas_tanah</th>\n",
       "      <th>harga</th>\n",
       "      <th>deskripsi</th>\n",
       "      <th>kecamatan</th>\n",
       "      <th>garasi</th>\n",
       "      <th>kolam_renang</th>\n",
       "      <th>taman</th>\n",
       "      <th>gym</th>\n",
       "      <th>listrik</th>\n",
       "      <th>jumlah_lantai</th>\n",
       "    </tr>\n",
       "  </thead>\n",
       "  <tbody>\n",
       "    <tr>\n",
       "      <th>0</th>\n",
       "      <td>5</td>\n",
       "      <td>6</td>\n",
       "      <td>353.0</td>\n",
       "      <td>155.0</td>\n",
       "      <td>6.700000e+09</td>\n",
       "      <td>telah hadir... townhouse terbaru dan termurah ...</td>\n",
       "      <td>Mampang Prapatan</td>\n",
       "      <td>True</td>\n",
       "      <td>True</td>\n",
       "      <td>False</td>\n",
       "      <td>False</td>\n",
       "      <td>6600.0</td>\n",
       "      <td>2</td>\n",
       "    </tr>\n",
       "    <tr>\n",
       "      <th>1</th>\n",
       "      <td>4</td>\n",
       "      <td>4</td>\n",
       "      <td>90.0</td>\n",
       "      <td>60.0</td>\n",
       "      <td>1.299000e+09</td>\n",
       "      <td>rumah murah dekat stasiun mrt lebak bulus, mod...</td>\n",
       "      <td>Cilandak</td>\n",
       "      <td>True</td>\n",
       "      <td>False</td>\n",
       "      <td>False</td>\n",
       "      <td>False</td>\n",
       "      <td>2200.0</td>\n",
       "      <td>2</td>\n",
       "    </tr>\n",
       "    <tr>\n",
       "      <th>2</th>\n",
       "      <td>4</td>\n",
       "      <td>6</td>\n",
       "      <td>160.0</td>\n",
       "      <td>109.0</td>\n",
       "      <td>2.300000e+09</td>\n",
       "      <td>rumah 2 lantai bebas banjir, dekat pusat perbe...</td>\n",
       "      <td>Kebayoran Baru</td>\n",
       "      <td>True</td>\n",
       "      <td>False</td>\n",
       "      <td>False</td>\n",
       "      <td>False</td>\n",
       "      <td>3500.0</td>\n",
       "      <td>2</td>\n",
       "    </tr>\n",
       "    <tr>\n",
       "      <th>3</th>\n",
       "      <td>3</td>\n",
       "      <td>4</td>\n",
       "      <td>125.0</td>\n",
       "      <td>72.0</td>\n",
       "      <td>3.149480e+09</td>\n",
       "      <td>di pasarkan satu-satunya townhouse termurah di...</td>\n",
       "      <td>Mampang Prapatan</td>\n",
       "      <td>True</td>\n",
       "      <td>False</td>\n",
       "      <td>True</td>\n",
       "      <td>False</td>\n",
       "      <td>2200.0</td>\n",
       "      <td>2</td>\n",
       "    </tr>\n",
       "    <tr>\n",
       "      <th>4</th>\n",
       "      <td>3</td>\n",
       "      <td>4</td>\n",
       "      <td>90.0</td>\n",
       "      <td>87.0</td>\n",
       "      <td>1.210000e+09</td>\n",
       "      <td>marwah regency jagakarsa jakarta selatan lokas...</td>\n",
       "      <td>Jagakarsa</td>\n",
       "      <td>True</td>\n",
       "      <td>True</td>\n",
       "      <td>False</td>\n",
       "      <td>False</td>\n",
       "      <td>2200.0</td>\n",
       "      <td>1</td>\n",
       "    </tr>\n",
       "  </tbody>\n",
       "</table>\n",
       "</div>"
      ],
      "text/plain": [
       "   kamar_mandi  kamar_tidur  luas_bangunan  luas_tanah  ...  taman    gym listrik  jumlah_lantai\n",
       "0            5            6          353.0       155.0  ...  False  False  6600.0              2\n",
       "1            4            4           90.0        60.0  ...  False  False  2200.0              2\n",
       "2            4            6          160.0       109.0  ...  False  False  3500.0              2\n",
       "3            3            4          125.0        72.0  ...   True  False  2200.0              2\n",
       "4            3            4           90.0        87.0  ...  False  False  2200.0              1\n",
       "\n",
       "[5 rows x 13 columns]"
      ]
     },
     "execution_count": 125,
     "metadata": {},
     "output_type": "execute_result"
    }
   ],
   "source": [
    "df = df.reset_index(drop=True)\n",
    "df.head()"
   ]
  },
  {
   "cell_type": "code",
   "execution_count": 126,
   "metadata": {},
   "outputs": [
    {
     "data": {
      "text/html": [
       "<div>\n",
       "<style scoped>\n",
       "    .dataframe tbody tr th:only-of-type {\n",
       "        vertical-align: middle;\n",
       "    }\n",
       "\n",
       "    .dataframe tbody tr th {\n",
       "        vertical-align: top;\n",
       "    }\n",
       "\n",
       "    .dataframe thead th {\n",
       "        text-align: right;\n",
       "    }\n",
       "</style>\n",
       "<table border=\"1\" class=\"dataframe\">\n",
       "  <thead>\n",
       "    <tr style=\"text-align: right;\">\n",
       "      <th></th>\n",
       "      <th>kamar_mandi</th>\n",
       "      <th>kamar_tidur</th>\n",
       "      <th>luas_bangunan</th>\n",
       "      <th>luas_tanah</th>\n",
       "      <th>harga</th>\n",
       "      <th>deskripsi</th>\n",
       "      <th>kecamatan</th>\n",
       "      <th>garasi</th>\n",
       "      <th>kolam_renang</th>\n",
       "      <th>taman</th>\n",
       "      <th>gym</th>\n",
       "      <th>listrik</th>\n",
       "      <th>jumlah_lantai</th>\n",
       "    </tr>\n",
       "  </thead>\n",
       "  <tbody>\n",
       "    <tr>\n",
       "      <th>0</th>\n",
       "      <td>5</td>\n",
       "      <td>6</td>\n",
       "      <td>353.0</td>\n",
       "      <td>155.0</td>\n",
       "      <td>6.700000e+09</td>\n",
       "      <td>telah hadir... townhouse terbaru dan termurah ...</td>\n",
       "      <td>Mampang Prapatan</td>\n",
       "      <td>True</td>\n",
       "      <td>True</td>\n",
       "      <td>False</td>\n",
       "      <td>False</td>\n",
       "      <td>6600.0</td>\n",
       "      <td>2</td>\n",
       "    </tr>\n",
       "    <tr>\n",
       "      <th>1</th>\n",
       "      <td>4</td>\n",
       "      <td>4</td>\n",
       "      <td>90.0</td>\n",
       "      <td>60.0</td>\n",
       "      <td>1.299000e+09</td>\n",
       "      <td>rumah murah dekat stasiun mrt lebak bulus, mod...</td>\n",
       "      <td>Cilandak</td>\n",
       "      <td>True</td>\n",
       "      <td>False</td>\n",
       "      <td>False</td>\n",
       "      <td>False</td>\n",
       "      <td>2200.0</td>\n",
       "      <td>2</td>\n",
       "    </tr>\n",
       "    <tr>\n",
       "      <th>2</th>\n",
       "      <td>4</td>\n",
       "      <td>6</td>\n",
       "      <td>160.0</td>\n",
       "      <td>109.0</td>\n",
       "      <td>2.300000e+09</td>\n",
       "      <td>rumah 2 lantai bebas banjir, dekat pusat perbe...</td>\n",
       "      <td>Kebayoran Baru</td>\n",
       "      <td>True</td>\n",
       "      <td>False</td>\n",
       "      <td>False</td>\n",
       "      <td>False</td>\n",
       "      <td>3500.0</td>\n",
       "      <td>2</td>\n",
       "    </tr>\n",
       "    <tr>\n",
       "      <th>3</th>\n",
       "      <td>3</td>\n",
       "      <td>4</td>\n",
       "      <td>125.0</td>\n",
       "      <td>72.0</td>\n",
       "      <td>3.149480e+09</td>\n",
       "      <td>di pasarkan satu-satunya townhouse termurah di...</td>\n",
       "      <td>Mampang Prapatan</td>\n",
       "      <td>True</td>\n",
       "      <td>False</td>\n",
       "      <td>True</td>\n",
       "      <td>False</td>\n",
       "      <td>2200.0</td>\n",
       "      <td>2</td>\n",
       "    </tr>\n",
       "    <tr>\n",
       "      <th>4</th>\n",
       "      <td>3</td>\n",
       "      <td>4</td>\n",
       "      <td>90.0</td>\n",
       "      <td>87.0</td>\n",
       "      <td>1.210000e+09</td>\n",
       "      <td>marwah regency jagakarsa jakarta selatan lokas...</td>\n",
       "      <td>Jagakarsa</td>\n",
       "      <td>True</td>\n",
       "      <td>True</td>\n",
       "      <td>False</td>\n",
       "      <td>False</td>\n",
       "      <td>2200.0</td>\n",
       "      <td>1</td>\n",
       "    </tr>\n",
       "    <tr>\n",
       "      <th>...</th>\n",
       "      <td>...</td>\n",
       "      <td>...</td>\n",
       "      <td>...</td>\n",
       "      <td>...</td>\n",
       "      <td>...</td>\n",
       "      <td>...</td>\n",
       "      <td>...</td>\n",
       "      <td>...</td>\n",
       "      <td>...</td>\n",
       "      <td>...</td>\n",
       "      <td>...</td>\n",
       "      <td>...</td>\n",
       "      <td>...</td>\n",
       "    </tr>\n",
       "    <tr>\n",
       "      <th>13491</th>\n",
       "      <td>5</td>\n",
       "      <td>5</td>\n",
       "      <td>350.0</td>\n",
       "      <td>250.0</td>\n",
       "      <td>3.800000e+09</td>\n",
       "      <td>jenis property : rumah\\njual/sewa : jual\\nharg...</td>\n",
       "      <td>Koja</td>\n",
       "      <td>True</td>\n",
       "      <td>False</td>\n",
       "      <td>False</td>\n",
       "      <td>False</td>\n",
       "      <td>2200.0</td>\n",
       "      <td>2</td>\n",
       "    </tr>\n",
       "    <tr>\n",
       "      <th>13492</th>\n",
       "      <td>5</td>\n",
       "      <td>5</td>\n",
       "      <td>250.0</td>\n",
       "      <td>320.0</td>\n",
       "      <td>8.800000e+09</td>\n",
       "      <td>rumah dijual jakarta utara rumah lux, terawat ...</td>\n",
       "      <td>Koja</td>\n",
       "      <td>True</td>\n",
       "      <td>False</td>\n",
       "      <td>False</td>\n",
       "      <td>False</td>\n",
       "      <td>2200.0</td>\n",
       "      <td>1</td>\n",
       "    </tr>\n",
       "    <tr>\n",
       "      <th>13493</th>\n",
       "      <td>6</td>\n",
       "      <td>6</td>\n",
       "      <td>250.0</td>\n",
       "      <td>173.0</td>\n",
       "      <td>2.950000e+09</td>\n",
       "      <td>rumah dijual jakarta utara</td>\n",
       "      <td>Koja</td>\n",
       "      <td>True</td>\n",
       "      <td>False</td>\n",
       "      <td>False</td>\n",
       "      <td>False</td>\n",
       "      <td>2200.0</td>\n",
       "      <td>1</td>\n",
       "    </tr>\n",
       "    <tr>\n",
       "      <th>13494</th>\n",
       "      <td>5</td>\n",
       "      <td>5</td>\n",
       "      <td>97.0</td>\n",
       "      <td>75.0</td>\n",
       "      <td>1.750000e+09</td>\n",
       "      <td>launching perdana! rumah murah cluster georgia...</td>\n",
       "      <td>Koja</td>\n",
       "      <td>True</td>\n",
       "      <td>False</td>\n",
       "      <td>False</td>\n",
       "      <td>False</td>\n",
       "      <td>2200.0</td>\n",
       "      <td>1</td>\n",
       "    </tr>\n",
       "    <tr>\n",
       "      <th>13495</th>\n",
       "      <td>4</td>\n",
       "      <td>4</td>\n",
       "      <td>356.0</td>\n",
       "      <td>331.0</td>\n",
       "      <td>7.700000e+09</td>\n",
       "      <td>dijual cepat rumah 3 lantai di perumahan villa...</td>\n",
       "      <td>Koja</td>\n",
       "      <td>True</td>\n",
       "      <td>False</td>\n",
       "      <td>False</td>\n",
       "      <td>False</td>\n",
       "      <td>2200.0</td>\n",
       "      <td>3</td>\n",
       "    </tr>\n",
       "  </tbody>\n",
       "</table>\n",
       "<p>13496 rows × 13 columns</p>\n",
       "</div>"
      ],
      "text/plain": [
       "       kamar_mandi  kamar_tidur  luas_bangunan  luas_tanah  ...  taman    gym listrik  jumlah_lantai\n",
       "0                5            6          353.0       155.0  ...  False  False  6600.0              2\n",
       "1                4            4           90.0        60.0  ...  False  False  2200.0              2\n",
       "2                4            6          160.0       109.0  ...  False  False  3500.0              2\n",
       "3                3            4          125.0        72.0  ...   True  False  2200.0              2\n",
       "4                3            4           90.0        87.0  ...  False  False  2200.0              1\n",
       "...            ...          ...            ...         ...  ...    ...    ...     ...            ...\n",
       "13491            5            5          350.0       250.0  ...  False  False  2200.0              2\n",
       "13492            5            5          250.0       320.0  ...  False  False  2200.0              1\n",
       "13493            6            6          250.0       173.0  ...  False  False  2200.0              1\n",
       "13494            5            5           97.0        75.0  ...  False  False  2200.0              1\n",
       "13495            4            4          356.0       331.0  ...  False  False  2200.0              3\n",
       "\n",
       "[13496 rows x 13 columns]"
      ]
     },
     "execution_count": 126,
     "metadata": {},
     "output_type": "execute_result"
    }
   ],
   "source": [
    "df"
   ]
  },
  {
   "cell_type": "code",
   "execution_count": 127,
   "metadata": {},
   "outputs": [],
   "source": [
    "# df.to_csv(r'C:\\Users\\dosal\\Downloads\\Buat_Dede\\My_Udemy_BuatDede\\Web_Scrapping_with_Python_With_BeautifulSoup_and_Selenium_2021\\file_scrapping_proyek_harga_rumah\\Stage_2_Data_Cleaning\\data_bersih_ver2.csv')"
   ]
  },
  {
   "cell_type": "code",
   "execution_count": 128,
   "metadata": {},
   "outputs": [],
   "source": [
    "# ## Deskripsi dibaca dari nodrop_ver2.csv\n",
    "# dg = pd.read_csv('nodrop_ver2.csv')\n",
    "# dg = dg.drop(['Unnamed: 0', 'index', 'sertifikat' , 'electricity', 'floors_total', \n",
    "#               'floors_total_new', 'electricity_desc'], axis = 1)\n",
    "# dg.head()"
   ]
  },
  {
   "cell_type": "code",
   "execution_count": 129,
   "metadata": {},
   "outputs": [
    {
     "name": "stdout",
     "output_type": "stream",
     "text": [
      "<class 'pandas.core.frame.DataFrame'>\n",
      "RangeIndex: 13496 entries, 0 to 13495\n",
      "Data columns (total 14 columns):\n",
      " #   Column         Non-Null Count  Dtype  \n",
      "---  ------         --------------  -----  \n",
      " 0   kamar_mandi    13496 non-null  int32  \n",
      " 1   kamar_tidur    13496 non-null  int32  \n",
      " 2   luas_bangunan  13496 non-null  float64\n",
      " 3   luas_tanah     13496 non-null  float64\n",
      " 4   harga          13496 non-null  float64\n",
      " 5   deskripsi      13496 non-null  object \n",
      " 6   kecamatan      13496 non-null  object \n",
      " 7   garasi         13496 non-null  bool   \n",
      " 8   kolam_renang   13496 non-null  bool   \n",
      " 9   taman          13496 non-null  bool   \n",
      " 10  gym            13496 non-null  bool   \n",
      " 11  listrik        13496 non-null  float64\n",
      " 12  jumlah_lantai  13496 non-null  int32  \n",
      " 13  tipe           13496 non-null  object \n",
      "dtypes: bool(4), float64(4), int32(3), object(3)\n",
      "memory usage: 949.1+ KB\n"
     ]
    }
   ],
   "source": [
    "def kostan(text):\n",
    "    text = text.lower()\n",
    "    if 'kos' in text or 'kost' in text:\n",
    "        return 'Kost'\n",
    "    else:\n",
    "        return 'Rumah'\n",
    "\n",
    "df['tipe'] = 0\n",
    "df['tipe'] = df['deskripsi'].apply(lambda x : kostan(x))\n",
    "df.info()"
   ]
  },
  {
   "cell_type": "code",
   "execution_count": 130,
   "metadata": {},
   "outputs": [],
   "source": [
    "# df.to_csv(r'C:\\Users\\dosal\\Downloads\\Buat_Dede\\My_Udemy_BuatDede\\Web_Scrapping_with_Python_With_BeautifulSoup_and_Selenium_2021\\file_scrapping_proyek_harga_rumah\\Stage_2_Data_Cleaning\\data_bersih.csv')"
   ]
  },
  {
   "cell_type": "code",
   "execution_count": null,
   "metadata": {},
   "outputs": [],
   "source": []
  }
 ],
 "metadata": {
  "kernelspec": {
   "display_name": "Python 3",
   "language": "python",
   "name": "python3"
  },
  "language_info": {
   "codemirror_mode": {
    "name": "ipython",
    "version": 3
   },
   "file_extension": ".py",
   "mimetype": "text/x-python",
   "name": "python",
   "nbconvert_exporter": "python",
   "pygments_lexer": "ipython3",
   "version": "3.7.6"
  }
 },
 "nbformat": 4,
 "nbformat_minor": 4
}
