{
 "cells": [
  {
   "cell_type": "code",
   "execution_count": 1,
   "metadata": {},
   "outputs": [],
   "source": [
    "import numpy as np\n",
    "import pandas as pd\n",
    "import warnings\n",
    "\n",
    "warnings.filterwarnings('ignore')\n",
    "pd.set_option('display.max_columns',False)\n",
    "pd.set_option('precision',2)"
   ]
  },
  {
   "cell_type": "code",
   "execution_count": 2,
   "metadata": {},
   "outputs": [],
   "source": [
    "df = pd.read_csv('jakarta_houseprice.csv')"
   ]
  },
  {
   "cell_type": "code",
   "execution_count": 3,
   "metadata": {},
   "outputs": [
    {
     "name": "stdout",
     "output_type": "stream",
     "text": [
      "<class 'pandas.core.frame.DataFrame'>\n",
      "RangeIndex: 15825 entries, 0 to 15824\n",
      "Data columns (total 24 columns):\n",
      " #   Column            Non-Null Count  Dtype  \n",
      "---  ------            --------------  -----  \n",
      " 0   Unnamed: 0        15825 non-null  int64  \n",
      " 1   Unnamed: 0.1      15825 non-null  int64  \n",
      " 2   bathrooms         15823 non-null  float64\n",
      " 3   bedrooms          15823 non-null  float64\n",
      " 4   building_size     15825 non-null  float64\n",
      " 5   deskripsi         15822 non-null  object \n",
      " 6   fasilitas         15825 non-null  object \n",
      " 7   land_size         15823 non-null  float64\n",
      " 8   lb                15016 non-null  float64\n",
      " 9   lokasi            15380 non-null  object \n",
      " 10  lt                12084 non-null  float64\n",
      " 11  price             15780 non-null  object \n",
      " 12  car_spaces        15808 non-null  float64\n",
      " 13  floors_total      15817 non-null  float64\n",
      " 14  price_conditions  15602 non-null  object \n",
      " 15  year_built        15604 non-null  float64\n",
      " 16  empty             15611 non-null  object \n",
      " 17  rooms_total       15782 non-null  float64\n",
      " 18  maidbathrooms     15729 non-null  float64\n",
      " 19  maidrooms         15778 non-null  float64\n",
      " 20  floor             14381 non-null  object \n",
      " 21  deposit           11289 non-null  float64\n",
      " 22  electricity       15066 non-null  float64\n",
      " 23  terdekat          2999 non-null   object \n",
      "dtypes: float64(14), int64(2), object(8)\n",
      "memory usage: 2.9+ MB\n"
     ]
    }
   ],
   "source": [
    "df.info()"
   ]
  },
  {
   "cell_type": "code",
   "execution_count": 4,
   "metadata": {},
   "outputs": [],
   "source": [
    "df = df.drop(['Unnamed: 0','Unnamed: 0.1'], axis = 1)"
   ]
  },
  {
   "cell_type": "code",
   "execution_count": 5,
   "metadata": {},
   "outputs": [],
   "source": [
    "df = df.drop_duplicates(subset = 'deskripsi')"
   ]
  },
  {
   "cell_type": "code",
   "execution_count": 6,
   "metadata": {},
   "outputs": [],
   "source": [
    "df = df.dropna(how = 'all')"
   ]
  },
  {
   "cell_type": "code",
   "execution_count": 7,
   "metadata": {},
   "outputs": [
    {
     "name": "stdout",
     "output_type": "stream",
     "text": [
      "<class 'pandas.core.frame.DataFrame'>\n",
      "Int64Index: 13869 entries, 0 to 15824\n",
      "Data columns (total 22 columns):\n",
      " #   Column            Non-Null Count  Dtype  \n",
      "---  ------            --------------  -----  \n",
      " 0   bathrooms         13869 non-null  float64\n",
      " 1   bedrooms          13869 non-null  float64\n",
      " 2   building_size     13869 non-null  float64\n",
      " 3   deskripsi         13868 non-null  object \n",
      " 4   fasilitas         13869 non-null  object \n",
      " 5   land_size         13867 non-null  float64\n",
      " 6   lb                13146 non-null  float64\n",
      " 7   lokasi            13500 non-null  object \n",
      " 8   lt                10586 non-null  float64\n",
      " 9   price             13844 non-null  object \n",
      " 10  car_spaces        13862 non-null  float64\n",
      " 11  floors_total      13861 non-null  float64\n",
      " 12  price_conditions  13677 non-null  object \n",
      " 13  year_built        13718 non-null  float64\n",
      " 14  empty             13674 non-null  object \n",
      " 15  rooms_total       13828 non-null  float64\n",
      " 16  maidbathrooms     13778 non-null  float64\n",
      " 17  maidrooms         13826 non-null  float64\n",
      " 18  floor             13015 non-null  object \n",
      " 19  deposit           10486 non-null  float64\n",
      " 20  electricity       13417 non-null  float64\n",
      " 21  terdekat          2733 non-null   object \n",
      "dtypes: float64(14), object(8)\n",
      "memory usage: 2.4+ MB\n"
     ]
    }
   ],
   "source": [
    "df.info()"
   ]
  },
  {
   "cell_type": "code",
   "execution_count": 8,
   "metadata": {},
   "outputs": [],
   "source": [
    "df = df.dropna(subset = ['price'])\n",
    "df['price']=df[df['price']!='agen']['price'].apply(lambda x: int(x.replace('.','')))"
   ]
  },
  {
   "cell_type": "code",
   "execution_count": 9,
   "metadata": {},
   "outputs": [
    {
     "name": "stdout",
     "output_type": "stream",
     "text": [
      "<class 'pandas.core.frame.DataFrame'>\n",
      "Int64Index: 13844 entries, 0 to 15824\n",
      "Data columns (total 22 columns):\n",
      " #   Column            Non-Null Count  Dtype  \n",
      "---  ------            --------------  -----  \n",
      " 0   bathrooms         13844 non-null  float64\n",
      " 1   bedrooms          13844 non-null  float64\n",
      " 2   building_size     13844 non-null  float64\n",
      " 3   deskripsi         13843 non-null  object \n",
      " 4   fasilitas         13844 non-null  object \n",
      " 5   land_size         13842 non-null  float64\n",
      " 6   lb                13129 non-null  float64\n",
      " 7   lokasi            13475 non-null  object \n",
      " 8   lt                10576 non-null  float64\n",
      " 9   price             13833 non-null  float64\n",
      " 10  car_spaces        13837 non-null  float64\n",
      " 11  floors_total      13836 non-null  float64\n",
      " 12  price_conditions  13652 non-null  object \n",
      " 13  year_built        13693 non-null  float64\n",
      " 14  empty             13649 non-null  object \n",
      " 15  rooms_total       13803 non-null  float64\n",
      " 16  maidbathrooms     13753 non-null  float64\n",
      " 17  maidrooms         13801 non-null  float64\n",
      " 18  floor             12991 non-null  object \n",
      " 19  deposit           10465 non-null  float64\n",
      " 20  electricity       13394 non-null  float64\n",
      " 21  terdekat          2733 non-null   object \n",
      "dtypes: float64(15), object(7)\n",
      "memory usage: 2.4+ MB\n"
     ]
    }
   ],
   "source": [
    "df.info()"
   ]
  },
  {
   "cell_type": "code",
   "execution_count": 10,
   "metadata": {},
   "outputs": [],
   "source": [
    "def garasi(df):\n",
    "    df_copy = df.copy()\n",
    "    df_copy['deskripsi'] = df_copy['deskripsi'].apply(lambda x:str(x).lower())\n",
    "    df_copy['garasi_desc'] = df_copy['deskripsi'].apply(\n",
    "        lambda x:0 if ('tidak ada garasi' in x) else 1 if ('carport' in x) or ('garasi' in x) \\\n",
    "        else 0\n",
    "    )\n",
    "    df_copy['car_spaces'] = df_copy['car_spaces'].fillna(0)\n",
    "    df_copy['ada_garasi'] = np.where((df_copy['garasi_desc'] > 0),\n",
    "                                     1,np.where(df_copy['car_spaces'] > 0 ,1 ,0)\n",
    "                                    )\n",
    "    \n",
    "    return df_copy.drop('garasi_desc',axis=1)"
   ]
  },
  {
   "cell_type": "code",
   "execution_count": 11,
   "metadata": {},
   "outputs": [],
   "source": [
    "def apartemen(df):\n",
    "    df_copy = df.copy()\n",
    "    df_copy['deskripsi'] = df_copy['deskripsi'].apply(lambda x:str(x).lower())\n",
    "    df_copy['apartemen'] = df_copy['deskripsi'].apply(lambda x:1 if ('apartement' in x)\\\n",
    "                                                       or ('apartemen' in x) \\\n",
    "                                                      or ('apt' in x) else 0)\n",
    "    return df_copy"
   ]
  },
  {
   "cell_type": "code",
   "execution_count": 12,
   "metadata": {},
   "outputs": [],
   "source": [
    "def taman(df):\n",
    "    df_copy = df.copy()\n",
    "    df_copy['deskripsi'] = df_copy['deskripsi'].apply(lambda x:str(x).lower())\n",
    "    df_copy['taman'] = df_copy['deskripsi'].apply(\n",
    "        lambda x:1 if ('taman' in x) or ('garden' in x) or ('pekarangan' in x) else 0\n",
    "    )\n",
    "    return df_copy"
   ]
  },
  {
   "cell_type": "code",
   "execution_count": 13,
   "metadata": {},
   "outputs": [],
   "source": [
    "def pool(df):\n",
    "    df_copy = df.copy()\n",
    "    df_copy['deskripsi'] = df_copy['deskripsi'].apply(lambda x:str(x).lower())\n",
    "    df_copy['pool'] = df_copy['deskripsi'].apply(\n",
    "        lambda x:1 if ('pool' in x) or ('kolam renang' in x) else 0\n",
    "    )\n",
    "    return df_copy"
   ]
  },
  {
   "cell_type": "code",
   "execution_count": 14,
   "metadata": {},
   "outputs": [],
   "source": [
    "def shm(df):\n",
    "    df_copy = df.copy()\n",
    "    df_copy['deskripsi'] = df_copy['deskripsi'].apply(lambda x:str(x).lower())\n",
    "    df_copy['shm'] = df_copy['deskripsi'].apply(\n",
    "        lambda x:1 if ('shm' in x) or ('sertifikat hak milik' in x) else 0\n",
    "    )\n",
    "    return df_copy"
   ]
  },
  {
   "cell_type": "code",
   "execution_count": 15,
   "metadata": {},
   "outputs": [],
   "source": [
    "def imb(df):\n",
    "    df_copy = df.copy()\n",
    "    df_copy['deskripsi'] = df_copy['deskripsi'].apply(lambda x:str(x).lower())\n",
    "    df_copy['imb'] = df_copy['deskripsi'].apply(\n",
    "        lambda x:1 if ('imb' in x) or ('mendirikan bangunan' in x) else 0\n",
    "    )\n",
    "    return df_copy"
   ]
  },
  {
   "cell_type": "code",
   "execution_count": 16,
   "metadata": {},
   "outputs": [],
   "source": [
    "def hgb(df):\n",
    "    df_copy = df.copy()\n",
    "    df_copy['deskripsi'] = df_copy['deskripsi'].apply(lambda x:str(x).lower())\n",
    "    df_copy['hgb'] = df_copy['deskripsi'].apply(\n",
    "        lambda x:1 if ('hgb' in x) or ('hak guna bangunan' in x) or  ('shgb' in x) else 0\n",
    "    )\n",
    "    return df_copy"
   ]
  },
  {
   "cell_type": "code",
   "execution_count": 17,
   "metadata": {},
   "outputs": [],
   "source": [
    "def sertifikat(df):\n",
    "    df_copy = df.copy()\n",
    "    df_copy['deskripsi'] = df_copy['deskripsi'].apply(lambda x:str(x).lower())\n",
    "    df_copy['sertifikat'] = df_copy['deskripsi'].apply(\n",
    "        lambda x:1 if ('sertifikat' in x)else 0\n",
    "    )\n",
    "    return df_copy"
   ]
  },
  {
   "cell_type": "code",
   "execution_count": 18,
   "metadata": {},
   "outputs": [],
   "source": [
    "def gym(df):\n",
    "    df_copy = df.copy()\n",
    "    df_copy['deskripsi'] = df_copy['deskripsi'].apply(lambda x:str(x).lower())\n",
    "    df_copy['gym'] = df_copy['deskripsi'].apply(\n",
    "        lambda x:1 if ('gym' in x) else 0\n",
    "    )\n",
    "    return df_copy"
   ]
  },
  {
   "cell_type": "code",
   "execution_count": 19,
   "metadata": {},
   "outputs": [],
   "source": [
    "#garasi, apartemen, taman, pool, shm, imb, hgb, sertifikat, gym"
   ]
  },
  {
   "cell_type": "code",
   "execution_count": 20,
   "metadata": {},
   "outputs": [],
   "source": [
    "temp = garasi(df)"
   ]
  },
  {
   "cell_type": "code",
   "execution_count": 21,
   "metadata": {},
   "outputs": [
    {
     "data": {
      "text/plain": [
       "13839"
      ]
     },
     "execution_count": 21,
     "metadata": {},
     "output_type": "execute_result"
    }
   ],
   "source": [
    "temp['ada_garasi'].sum()"
   ]
  },
  {
   "cell_type": "code",
   "execution_count": 22,
   "metadata": {},
   "outputs": [],
   "source": [
    "temp = hgb(temp)"
   ]
  },
  {
   "cell_type": "code",
   "execution_count": 23,
   "metadata": {},
   "outputs": [
    {
     "data": {
      "text/plain": [
       "997"
      ]
     },
     "execution_count": 23,
     "metadata": {},
     "output_type": "execute_result"
    }
   ],
   "source": [
    "temp['hgb'].sum()"
   ]
  },
  {
   "cell_type": "code",
   "execution_count": 24,
   "metadata": {},
   "outputs": [],
   "source": [
    "temp = apartemen(temp)"
   ]
  },
  {
   "cell_type": "code",
   "execution_count": 25,
   "metadata": {},
   "outputs": [
    {
     "data": {
      "text/plain": [
       "1239"
      ]
     },
     "execution_count": 25,
     "metadata": {},
     "output_type": "execute_result"
    }
   ],
   "source": [
    "temp['apartemen'].sum()"
   ]
  },
  {
   "cell_type": "code",
   "execution_count": 26,
   "metadata": {},
   "outputs": [],
   "source": [
    "temp = taman(temp)"
   ]
  },
  {
   "cell_type": "code",
   "execution_count": 27,
   "metadata": {},
   "outputs": [
    {
     "data": {
      "text/plain": [
       "2362"
      ]
     },
     "execution_count": 27,
     "metadata": {},
     "output_type": "execute_result"
    }
   ],
   "source": [
    "temp['taman'].sum()"
   ]
  },
  {
   "cell_type": "code",
   "execution_count": 28,
   "metadata": {},
   "outputs": [],
   "source": [
    "temp = pool(temp)"
   ]
  },
  {
   "cell_type": "code",
   "execution_count": 29,
   "metadata": {},
   "outputs": [
    {
     "data": {
      "text/plain": [
       "1649"
      ]
     },
     "execution_count": 29,
     "metadata": {},
     "output_type": "execute_result"
    }
   ],
   "source": [
    "temp['pool'].sum()"
   ]
  },
  {
   "cell_type": "code",
   "execution_count": 30,
   "metadata": {},
   "outputs": [],
   "source": [
    "temp = shm(temp)"
   ]
  },
  {
   "cell_type": "code",
   "execution_count": 31,
   "metadata": {},
   "outputs": [
    {
     "data": {
      "text/plain": [
       "6242"
      ]
     },
     "execution_count": 31,
     "metadata": {},
     "output_type": "execute_result"
    }
   ],
   "source": [
    "temp['shm'].sum()"
   ]
  },
  {
   "cell_type": "code",
   "execution_count": 32,
   "metadata": {},
   "outputs": [],
   "source": [
    "temp = imb(temp)"
   ]
  },
  {
   "cell_type": "code",
   "execution_count": 33,
   "metadata": {},
   "outputs": [
    {
     "data": {
      "text/plain": [
       "1987"
      ]
     },
     "execution_count": 33,
     "metadata": {},
     "output_type": "execute_result"
    }
   ],
   "source": [
    "temp['imb'].sum()"
   ]
  },
  {
   "cell_type": "code",
   "execution_count": 34,
   "metadata": {},
   "outputs": [],
   "source": [
    "temp = sertifikat(temp)"
   ]
  },
  {
   "cell_type": "code",
   "execution_count": 35,
   "metadata": {},
   "outputs": [
    {
     "data": {
      "text/plain": [
       "2034"
      ]
     },
     "execution_count": 35,
     "metadata": {},
     "output_type": "execute_result"
    }
   ],
   "source": [
    "temp['sertifikat'].sum()"
   ]
  },
  {
   "cell_type": "code",
   "execution_count": 36,
   "metadata": {},
   "outputs": [],
   "source": [
    "temp = gym(temp)"
   ]
  },
  {
   "cell_type": "code",
   "execution_count": 37,
   "metadata": {},
   "outputs": [
    {
     "data": {
      "text/plain": [
       "304"
      ]
     },
     "execution_count": 37,
     "metadata": {},
     "output_type": "execute_result"
    }
   ],
   "source": [
    "temp['gym'].sum()"
   ]
  },
  {
   "cell_type": "code",
   "execution_count": 38,
   "metadata": {},
   "outputs": [],
   "source": [
    "temp['tipe_properti'] = np.where(temp['apartemen']==0,'Apartemen','Rumah')"
   ]
  },
  {
   "cell_type": "code",
   "execution_count": 39,
   "metadata": {},
   "outputs": [],
   "source": [
    "temp['kamar'] = temp['maidrooms'].fillna(0)+temp['bedrooms']"
   ]
  },
  {
   "cell_type": "code",
   "execution_count": 40,
   "metadata": {},
   "outputs": [],
   "source": [
    "temp['kamar_mandi'] = temp['maidbathrooms'].fillna(0)+temp['bathrooms']"
   ]
  },
  {
   "cell_type": "code",
   "execution_count": 41,
   "metadata": {},
   "outputs": [],
   "source": [
    "temp['sertifikat'] = np.where(temp['sertifikat'] == 1, 1,\n",
    "                             np.where(temp['shm'] == 1, 1,\n",
    "                                     np.where(temp['imb'] == 1, 1,\n",
    "                                             np.where(temp['hgb'] == 1, 1,0))))"
   ]
  },
  {
   "cell_type": "code",
   "execution_count": 42,
   "metadata": {},
   "outputs": [
    {
     "name": "stdout",
     "output_type": "stream",
     "text": [
      "<class 'pandas.core.frame.DataFrame'>\n",
      "Int64Index: 13844 entries, 0 to 15824\n",
      "Data columns (total 34 columns):\n",
      " #   Column            Non-Null Count  Dtype  \n",
      "---  ------            --------------  -----  \n",
      " 0   bathrooms         13844 non-null  float64\n",
      " 1   bedrooms          13844 non-null  float64\n",
      " 2   building_size     13844 non-null  float64\n",
      " 3   deskripsi         13844 non-null  object \n",
      " 4   fasilitas         13844 non-null  object \n",
      " 5   land_size         13842 non-null  float64\n",
      " 6   lb                13129 non-null  float64\n",
      " 7   lokasi            13475 non-null  object \n",
      " 8   lt                10576 non-null  float64\n",
      " 9   price             13833 non-null  float64\n",
      " 10  car_spaces        13844 non-null  float64\n",
      " 11  floors_total      13836 non-null  float64\n",
      " 12  price_conditions  13652 non-null  object \n",
      " 13  year_built        13693 non-null  float64\n",
      " 14  empty             13649 non-null  object \n",
      " 15  rooms_total       13803 non-null  float64\n",
      " 16  maidbathrooms     13753 non-null  float64\n",
      " 17  maidrooms         13801 non-null  float64\n",
      " 18  floor             12991 non-null  object \n",
      " 19  deposit           10465 non-null  float64\n",
      " 20  electricity       13394 non-null  float64\n",
      " 21  terdekat          2733 non-null   object \n",
      " 22  ada_garasi        13844 non-null  int64  \n",
      " 23  hgb               13844 non-null  int64  \n",
      " 24  apartemen         13844 non-null  int64  \n",
      " 25  taman             13844 non-null  int64  \n",
      " 26  pool              13844 non-null  int64  \n",
      " 27  shm               13844 non-null  int64  \n",
      " 28  imb               13844 non-null  int64  \n",
      " 29  sertifikat        13844 non-null  int64  \n",
      " 30  gym               13844 non-null  int64  \n",
      " 31  tipe_properti     13844 non-null  object \n",
      " 32  kamar             13844 non-null  float64\n",
      " 33  kamar_mandi       13844 non-null  float64\n",
      "dtypes: float64(17), int64(9), object(8)\n",
      "memory usage: 3.7+ MB\n"
     ]
    }
   ],
   "source": [
    "temp.info()"
   ]
  },
  {
   "cell_type": "code",
   "execution_count": 43,
   "metadata": {},
   "outputs": [
    {
     "data": {
      "text/plain": [
       "0        1\n",
       "1        0\n",
       "2        1\n",
       "3        1\n",
       "4        1\n",
       "        ..\n",
       "15820    0\n",
       "15821    0\n",
       "15822    1\n",
       "15823    0\n",
       "15824    0\n",
       "Name: sertifikat, Length: 13844, dtype: int64"
      ]
     },
     "execution_count": 43,
     "metadata": {},
     "output_type": "execute_result"
    }
   ],
   "source": [
    "temp['sertifikat']"
   ]
  },
  {
   "cell_type": "code",
   "execution_count": 44,
   "metadata": {},
   "outputs": [
    {
     "data": {
      "text/html": [
       "<div>\n",
       "<style scoped>\n",
       "    .dataframe tbody tr th:only-of-type {\n",
       "        vertical-align: middle;\n",
       "    }\n",
       "\n",
       "    .dataframe tbody tr th {\n",
       "        vertical-align: top;\n",
       "    }\n",
       "\n",
       "    .dataframe thead th {\n",
       "        text-align: right;\n",
       "    }\n",
       "</style>\n",
       "<table border=\"1\" class=\"dataframe\">\n",
       "  <thead>\n",
       "    <tr style=\"text-align: right;\">\n",
       "      <th></th>\n",
       "      <th>bathrooms</th>\n",
       "      <th>bedrooms</th>\n",
       "      <th>building_size</th>\n",
       "      <th>deskripsi</th>\n",
       "      <th>fasilitas</th>\n",
       "      <th>land_size</th>\n",
       "      <th>lb</th>\n",
       "      <th>lokasi</th>\n",
       "      <th>lt</th>\n",
       "      <th>price</th>\n",
       "      <th>car_spaces</th>\n",
       "      <th>floors_total</th>\n",
       "      <th>price_conditions</th>\n",
       "      <th>year_built</th>\n",
       "      <th>empty</th>\n",
       "      <th>rooms_total</th>\n",
       "      <th>maidbathrooms</th>\n",
       "      <th>maidrooms</th>\n",
       "      <th>floor</th>\n",
       "      <th>deposit</th>\n",
       "      <th>electricity</th>\n",
       "      <th>terdekat</th>\n",
       "      <th>ada_garasi</th>\n",
       "      <th>hgb</th>\n",
       "      <th>apartemen</th>\n",
       "      <th>taman</th>\n",
       "      <th>pool</th>\n",
       "      <th>shm</th>\n",
       "      <th>imb</th>\n",
       "      <th>sertifikat</th>\n",
       "      <th>gym</th>\n",
       "      <th>tipe_properti</th>\n",
       "      <th>kamar</th>\n",
       "      <th>kamar_mandi</th>\n",
       "    </tr>\n",
       "  </thead>\n",
       "  <tbody>\n",
       "    <tr>\n",
       "      <th>0</th>\n",
       "      <td>3.0</td>\n",
       "      <td>3.0</td>\n",
       "      <td>240.0</td>\n",
       "      <td>ryo 2448rj rumah mewah konsep classic private ...</td>\n",
       "      <td>Institut Sains dan Teknologi Nasional</td>\n",
       "      <td>200.0</td>\n",
       "      <td>240.0</td>\n",
       "      <td>Jagakarsa</td>\n",
       "      <td>200.0</td>\n",
       "      <td>3.50e+09</td>\n",
       "      <td>0.0</td>\n",
       "      <td>NaN</td>\n",
       "      <td>NaN</td>\n",
       "      <td>NaN</td>\n",
       "      <td>NaN</td>\n",
       "      <td>NaN</td>\n",
       "      <td>NaN</td>\n",
       "      <td>NaN</td>\n",
       "      <td>NaN</td>\n",
       "      <td>NaN</td>\n",
       "      <td>NaN</td>\n",
       "      <td>NaN</td>\n",
       "      <td>1</td>\n",
       "      <td>0</td>\n",
       "      <td>0</td>\n",
       "      <td>0</td>\n",
       "      <td>1</td>\n",
       "      <td>1</td>\n",
       "      <td>1</td>\n",
       "      <td>1</td>\n",
       "      <td>0</td>\n",
       "      <td>Apartemen</td>\n",
       "      <td>3.0</td>\n",
       "      <td>3.0</td>\n",
       "    </tr>\n",
       "    <tr>\n",
       "      <th>1</th>\n",
       "      <td>6.0</td>\n",
       "      <td>6.0</td>\n",
       "      <td>2700.0</td>\n",
       "      <td>dijual rumah super mewah deket golf pondok ind...</td>\n",
       "      <td>Pondok Indah MallPondok Indah Mall 2Pondok Ind...</td>\n",
       "      <td>1025.0</td>\n",
       "      <td>2700.0</td>\n",
       "      <td>Pondok Indah</td>\n",
       "      <td>1025.0</td>\n",
       "      <td>1.00e+11</td>\n",
       "      <td>12.0</td>\n",
       "      <td>2.0</td>\n",
       "      <td>Nego</td>\n",
       "      <td>2021.0</td>\n",
       "      <td>NaN</td>\n",
       "      <td>NaN</td>\n",
       "      <td>NaN</td>\n",
       "      <td>NaN</td>\n",
       "      <td>NaN</td>\n",
       "      <td>NaN</td>\n",
       "      <td>NaN</td>\n",
       "      <td>NaN</td>\n",
       "      <td>1</td>\n",
       "      <td>0</td>\n",
       "      <td>0</td>\n",
       "      <td>0</td>\n",
       "      <td>1</td>\n",
       "      <td>0</td>\n",
       "      <td>0</td>\n",
       "      <td>0</td>\n",
       "      <td>0</td>\n",
       "      <td>Apartemen</td>\n",
       "      <td>6.0</td>\n",
       "      <td>6.0</td>\n",
       "    </tr>\n",
       "    <tr>\n",
       "      <th>2</th>\n",
       "      <td>6.0</td>\n",
       "      <td>6.0</td>\n",
       "      <td>2700.0</td>\n",
       "      <td>tanah pinggir jalan raya kebagusan. tidak jauh...</td>\n",
       "      <td>STIE Kusuma Negara</td>\n",
       "      <td>2500.0</td>\n",
       "      <td>NaN</td>\n",
       "      <td>Kebagusan</td>\n",
       "      <td>2500.0</td>\n",
       "      <td>3.25e+10</td>\n",
       "      <td>12.0</td>\n",
       "      <td>2.0</td>\n",
       "      <td>Nego</td>\n",
       "      <td>2021.0</td>\n",
       "      <td>NaN</td>\n",
       "      <td>NaN</td>\n",
       "      <td>NaN</td>\n",
       "      <td>NaN</td>\n",
       "      <td>NaN</td>\n",
       "      <td>NaN</td>\n",
       "      <td>NaN</td>\n",
       "      <td>NaN</td>\n",
       "      <td>1</td>\n",
       "      <td>0</td>\n",
       "      <td>0</td>\n",
       "      <td>0</td>\n",
       "      <td>0</td>\n",
       "      <td>1</td>\n",
       "      <td>0</td>\n",
       "      <td>1</td>\n",
       "      <td>0</td>\n",
       "      <td>Apartemen</td>\n",
       "      <td>6.0</td>\n",
       "      <td>6.0</td>\n",
       "    </tr>\n",
       "    <tr>\n",
       "      <th>3</th>\n",
       "      <td>6.0</td>\n",
       "      <td>6.0</td>\n",
       "      <td>2700.0</td>\n",
       "      <td>dijual tanah cocok utk dibangun cluster di jl ...</td>\n",
       "      <td>Universitas ParamadinaPatung PancoranLippo Pla...</td>\n",
       "      <td>3370.0</td>\n",
       "      <td>NaN</td>\n",
       "      <td>Kalibata</td>\n",
       "      <td>3370.0</td>\n",
       "      <td>4.72e+10</td>\n",
       "      <td>12.0</td>\n",
       "      <td>2.0</td>\n",
       "      <td>Nego</td>\n",
       "      <td>2021.0</td>\n",
       "      <td>07/08/20</td>\n",
       "      <td>NaN</td>\n",
       "      <td>NaN</td>\n",
       "      <td>NaN</td>\n",
       "      <td>NaN</td>\n",
       "      <td>NaN</td>\n",
       "      <td>NaN</td>\n",
       "      <td>NaN</td>\n",
       "      <td>1</td>\n",
       "      <td>0</td>\n",
       "      <td>0</td>\n",
       "      <td>0</td>\n",
       "      <td>0</td>\n",
       "      <td>1</td>\n",
       "      <td>0</td>\n",
       "      <td>1</td>\n",
       "      <td>0</td>\n",
       "      <td>Apartemen</td>\n",
       "      <td>6.0</td>\n",
       "      <td>6.0</td>\n",
       "    </tr>\n",
       "    <tr>\n",
       "      <th>4</th>\n",
       "      <td>6.0</td>\n",
       "      <td>6.0</td>\n",
       "      <td>2700.0</td>\n",
       "      <td>tanah pinggir jalan raya kebagusan dekat tb si...</td>\n",
       "      <td>Sahati HotelKebagusan Indah Guest HouseRumah K...</td>\n",
       "      <td>1692.0</td>\n",
       "      <td>NaN</td>\n",
       "      <td>Kebagusan</td>\n",
       "      <td>1692.0</td>\n",
       "      <td>2.12e+10</td>\n",
       "      <td>12.0</td>\n",
       "      <td>2.0</td>\n",
       "      <td>Nego</td>\n",
       "      <td>2021.0</td>\n",
       "      <td>07/08/20</td>\n",
       "      <td>NaN</td>\n",
       "      <td>NaN</td>\n",
       "      <td>NaN</td>\n",
       "      <td>NaN</td>\n",
       "      <td>NaN</td>\n",
       "      <td>NaN</td>\n",
       "      <td>NaN</td>\n",
       "      <td>1</td>\n",
       "      <td>0</td>\n",
       "      <td>0</td>\n",
       "      <td>0</td>\n",
       "      <td>0</td>\n",
       "      <td>1</td>\n",
       "      <td>0</td>\n",
       "      <td>1</td>\n",
       "      <td>0</td>\n",
       "      <td>Apartemen</td>\n",
       "      <td>6.0</td>\n",
       "      <td>6.0</td>\n",
       "    </tr>\n",
       "    <tr>\n",
       "      <th>...</th>\n",
       "      <td>...</td>\n",
       "      <td>...</td>\n",
       "      <td>...</td>\n",
       "      <td>...</td>\n",
       "      <td>...</td>\n",
       "      <td>...</td>\n",
       "      <td>...</td>\n",
       "      <td>...</td>\n",
       "      <td>...</td>\n",
       "      <td>...</td>\n",
       "      <td>...</td>\n",
       "      <td>...</td>\n",
       "      <td>...</td>\n",
       "      <td>...</td>\n",
       "      <td>...</td>\n",
       "      <td>...</td>\n",
       "      <td>...</td>\n",
       "      <td>...</td>\n",
       "      <td>...</td>\n",
       "      <td>...</td>\n",
       "      <td>...</td>\n",
       "      <td>...</td>\n",
       "      <td>...</td>\n",
       "      <td>...</td>\n",
       "      <td>...</td>\n",
       "      <td>...</td>\n",
       "      <td>...</td>\n",
       "      <td>...</td>\n",
       "      <td>...</td>\n",
       "      <td>...</td>\n",
       "      <td>...</td>\n",
       "      <td>...</td>\n",
       "      <td>...</td>\n",
       "      <td>...</td>\n",
       "    </tr>\n",
       "    <tr>\n",
       "      <th>15820</th>\n",
       "      <td>3.0</td>\n",
       "      <td>4.0</td>\n",
       "      <td>545.0</td>\n",
       "      <td>wts turun harga....ruko central park, jl.s par...</td>\n",
       "      <td>Central ParkUniversitas TrisaktiMall Taman Ang...</td>\n",
       "      <td>118.0</td>\n",
       "      <td>545.0</td>\n",
       "      <td>Grogol Petamburan</td>\n",
       "      <td>NaN</td>\n",
       "      <td>1.20e+10</td>\n",
       "      <td>2.0</td>\n",
       "      <td>3.0</td>\n",
       "      <td>NEGO</td>\n",
       "      <td>2011.0</td>\n",
       "      <td>31/01/19</td>\n",
       "      <td>1.0</td>\n",
       "      <td>1.0</td>\n",
       "      <td>1.0</td>\n",
       "      <td>15</td>\n",
       "      <td>5.00e+07</td>\n",
       "      <td>22528.0</td>\n",
       "      <td>NaN</td>\n",
       "      <td>1</td>\n",
       "      <td>0</td>\n",
       "      <td>1</td>\n",
       "      <td>0</td>\n",
       "      <td>0</td>\n",
       "      <td>0</td>\n",
       "      <td>0</td>\n",
       "      <td>0</td>\n",
       "      <td>0</td>\n",
       "      <td>Rumah</td>\n",
       "      <td>5.0</td>\n",
       "      <td>4.0</td>\n",
       "    </tr>\n",
       "    <tr>\n",
       "      <th>15821</th>\n",
       "      <td>3.0</td>\n",
       "      <td>4.0</td>\n",
       "      <td>280.0</td>\n",
       "      <td>bangunan ini berada di jl. wijaya kusuma, toma...</td>\n",
       "      <td>Central ParkMall Taman AnggrekPasar Tanah Aban...</td>\n",
       "      <td>104.0</td>\n",
       "      <td>280.0</td>\n",
       "      <td>Palmerah</td>\n",
       "      <td>NaN</td>\n",
       "      <td>4.30e+09</td>\n",
       "      <td>2.0</td>\n",
       "      <td>3.0</td>\n",
       "      <td>NEGO</td>\n",
       "      <td>2011.0</td>\n",
       "      <td>31/01/19</td>\n",
       "      <td>1.0</td>\n",
       "      <td>1.0</td>\n",
       "      <td>1.0</td>\n",
       "      <td>15</td>\n",
       "      <td>5.00e+07</td>\n",
       "      <td>22528.0</td>\n",
       "      <td>NaN</td>\n",
       "      <td>1</td>\n",
       "      <td>0</td>\n",
       "      <td>0</td>\n",
       "      <td>0</td>\n",
       "      <td>0</td>\n",
       "      <td>0</td>\n",
       "      <td>0</td>\n",
       "      <td>0</td>\n",
       "      <td>0</td>\n",
       "      <td>Apartemen</td>\n",
       "      <td>5.0</td>\n",
       "      <td>4.0</td>\n",
       "    </tr>\n",
       "    <tr>\n",
       "      <th>15822</th>\n",
       "      <td>2.0</td>\n",
       "      <td>3.0</td>\n",
       "      <td>80.0</td>\n",
       "      <td>rumah east asia uk : 4 x 15 lt : 60m lb : 80m ...</td>\n",
       "      <td>Pasar Laris Kosambi</td>\n",
       "      <td>60.0</td>\n",
       "      <td>80.0</td>\n",
       "      <td>Cengkareng</td>\n",
       "      <td>60.0</td>\n",
       "      <td>1.40e+09</td>\n",
       "      <td>2.0</td>\n",
       "      <td>3.0</td>\n",
       "      <td>NEGO</td>\n",
       "      <td>2011.0</td>\n",
       "      <td>31/01/19</td>\n",
       "      <td>1.0</td>\n",
       "      <td>1.0</td>\n",
       "      <td>1.0</td>\n",
       "      <td>15</td>\n",
       "      <td>5.00e+07</td>\n",
       "      <td>22528.0</td>\n",
       "      <td>NaN</td>\n",
       "      <td>1</td>\n",
       "      <td>0</td>\n",
       "      <td>0</td>\n",
       "      <td>0</td>\n",
       "      <td>0</td>\n",
       "      <td>1</td>\n",
       "      <td>0</td>\n",
       "      <td>1</td>\n",
       "      <td>0</td>\n",
       "      <td>Apartemen</td>\n",
       "      <td>4.0</td>\n",
       "      <td>3.0</td>\n",
       "    </tr>\n",
       "    <tr>\n",
       "      <th>15823</th>\n",
       "      <td>2.0</td>\n",
       "      <td>3.0</td>\n",
       "      <td>136.0</td>\n",
       "      <td>dijual rumah jl.hikmah raya bojong jakarta bar...</td>\n",
       "      <td>Mall Daan MogotBebek Kaleyo Daan MogotPasar La...</td>\n",
       "      <td>68.0</td>\n",
       "      <td>136.0</td>\n",
       "      <td>Cengkareng</td>\n",
       "      <td>68.0</td>\n",
       "      <td>1.00e+09</td>\n",
       "      <td>1.0</td>\n",
       "      <td>3.0</td>\n",
       "      <td>NEGO</td>\n",
       "      <td>2011.0</td>\n",
       "      <td>31/07/19</td>\n",
       "      <td>1.0</td>\n",
       "      <td>1.0</td>\n",
       "      <td>1.0</td>\n",
       "      <td>15</td>\n",
       "      <td>5.00e+07</td>\n",
       "      <td>22528.0</td>\n",
       "      <td>NaN</td>\n",
       "      <td>1</td>\n",
       "      <td>0</td>\n",
       "      <td>0</td>\n",
       "      <td>0</td>\n",
       "      <td>0</td>\n",
       "      <td>0</td>\n",
       "      <td>0</td>\n",
       "      <td>0</td>\n",
       "      <td>0</td>\n",
       "      <td>Apartemen</td>\n",
       "      <td>4.0</td>\n",
       "      <td>3.0</td>\n",
       "    </tr>\n",
       "    <tr>\n",
       "      <th>15824</th>\n",
       "      <td>1.0</td>\n",
       "      <td>2.0</td>\n",
       "      <td>88.0</td>\n",
       "      <td>dijual apt taman anggrek di jl. letjend s parm...</td>\n",
       "      <td>Central ParkUniversitas TrisaktiMall Taman Ang...</td>\n",
       "      <td>68.0</td>\n",
       "      <td>88.0</td>\n",
       "      <td>Tanjung Duren</td>\n",
       "      <td>NaN</td>\n",
       "      <td>1.80e+09</td>\n",
       "      <td>1.0</td>\n",
       "      <td>3.0</td>\n",
       "      <td>NEGO</td>\n",
       "      <td>2011.0</td>\n",
       "      <td>31/07/19</td>\n",
       "      <td>1.0</td>\n",
       "      <td>1.0</td>\n",
       "      <td>1.0</td>\n",
       "      <td>15</td>\n",
       "      <td>5.00e+07</td>\n",
       "      <td>22528.0</td>\n",
       "      <td>NaN</td>\n",
       "      <td>1</td>\n",
       "      <td>0</td>\n",
       "      <td>1</td>\n",
       "      <td>1</td>\n",
       "      <td>0</td>\n",
       "      <td>0</td>\n",
       "      <td>0</td>\n",
       "      <td>0</td>\n",
       "      <td>0</td>\n",
       "      <td>Rumah</td>\n",
       "      <td>3.0</td>\n",
       "      <td>2.0</td>\n",
       "    </tr>\n",
       "  </tbody>\n",
       "</table>\n",
       "<p>13844 rows × 34 columns</p>\n",
       "</div>"
      ],
      "text/plain": [
       "       bathrooms  bedrooms  building_size  ... tipe_properti kamar  kamar_mandi\n",
       "0            3.0       3.0          240.0  ...     Apartemen   3.0          3.0\n",
       "1            6.0       6.0         2700.0  ...     Apartemen   6.0          6.0\n",
       "2            6.0       6.0         2700.0  ...     Apartemen   6.0          6.0\n",
       "3            6.0       6.0         2700.0  ...     Apartemen   6.0          6.0\n",
       "4            6.0       6.0         2700.0  ...     Apartemen   6.0          6.0\n",
       "...          ...       ...            ...  ...           ...   ...          ...\n",
       "15820        3.0       4.0          545.0  ...         Rumah   5.0          4.0\n",
       "15821        3.0       4.0          280.0  ...     Apartemen   5.0          4.0\n",
       "15822        2.0       3.0           80.0  ...     Apartemen   4.0          3.0\n",
       "15823        2.0       3.0          136.0  ...     Apartemen   4.0          3.0\n",
       "15824        1.0       2.0           88.0  ...         Rumah   3.0          2.0\n",
       "\n",
       "[13844 rows x 34 columns]"
      ]
     },
     "execution_count": 44,
     "metadata": {},
     "output_type": "execute_result"
    }
   ],
   "source": [
    "temp"
   ]
  },
  {
   "cell_type": "code",
   "execution_count": 45,
   "metadata": {},
   "outputs": [],
   "source": [
    "kecamatan={\n",
    "'Cempaka Putih' : ['Cempaka Putih Barat','Cempaka Putih Timur', 'Rawasari','Rawa Sari'],\n",
    "'Gambir' : ['Cideng','Duri Pulo', 'Gambir', 'Kebon Kelapa', 'Petojo Selatan', 'Petojo Utara',\n",
    "           'Roxy','Petojo'],\n",
    "'Johar Baru' : ['Galur', 'Johar Baru', 'Kampung Rawa', 'Tanah Tinggi'],\n",
    "'Kemayoran' : ['Cempaka Baru', 'Gunung Sahari Selatan', 'Harapan Mulya', 'Kebon Kosong',\n",
    "               'Kemayoran', 'Serdang', 'Sumur Batu', 'Utan Panjang'],\n",
    "'Menteng' : ['Cikini', 'Gondangdia', 'Kebon Sirih', 'Menteng', 'Pegangsaan'],\n",
    "'Sawah Besar': ['Gunung Sahari Utara', 'Karang Anyar', 'Kartini', 'Kampung Anyar',\n",
    "                'Mangga Dua Selatan', 'Pasar Baru', 'Gunung Sahari'],\n",
    "'Senen' : ['Bungur', 'Kenari', 'Kramat', 'Kwitang', 'Paseban', 'Senen'],\n",
    "'Tanah Abang' : ['Bendungan Hilir', 'Gelora', 'Kampung Bali', 'Karet Tengsin', \n",
    "                 'Kebon Kacang', 'Kebon Melati', 'Petamburan', 'KH Mas Mansyur',\n",
    "                'Kebon Kacang Lama'],\n",
    "'Cilincing' : ['Cilincing', 'Kalibaru', 'Marunda', 'Rorotan','Suka Pura', 'Semper',\n",
    "                'Semper Barat', 'Semper Timur', 'Sukapura'],\n",
    "'Kelapa Gading' : ['Kelapa Gading Barat', 'Kelapa Gading Timur', 'Pegangsaan Dua'],\n",
    "'Koja' : ['Koja', 'Lagoa', 'Rawa Badak Selatan', 'Rawa Badak Utara','Tugu',\n",
    "          'Tugu Selatan', 'Tugu Utara','Rawabadak Selatan'],\n",
    "'Pademangan' : ['Ancol', 'Pademangan Barat', 'Pademangan Timur'],\n",
    "'Penjaringan' : ['Kamal Muara', 'Kapuk Muara', 'Pejagalan', 'Penjaringan', 'Pluit',\n",
    "                'Pantai Indah Kapuk','Bandengan','Teluk Gong','Muara Karang'],\n",
    "'Tanjung Priok' : ['Kebon Bawang', 'Papanggo', 'Sungai Bambu', 'Sunter Agung', 'Sunter',\n",
    "                    'Sunter Jaya', 'Tanjung Priok', 'Warakas'],\n",
    "'Cakung' : ['Cakung Barat', 'Cakung Timur', 'Jatinegara', 'Penggilingan', \n",
    "            'Pulo Gebang', 'Rawa Terate', 'Ujung Menteng'],\n",
    "'Cipayung' : ['Bambu Apus', 'Ceger', 'Cilangkap', 'Cipayung', 'Lubang Buaya',\n",
    "              'Munjul', 'Pondok Ranggon', 'Setu'],\n",
    "'Ciracas' : ['Cibubur', 'Ciracas', 'Kelapa Dua Wetan', 'Rambutan Susukan','Kampung Rambutan'],\n",
    "'Duren Sawit' : ['Duren Sawit', 'Klender', 'Malaka Jaya', 'Malaka Sari', \n",
    "                 'Pondok Bambu', 'Pondok Kelapa', 'Pondok Kopi'],\n",
    "'Jatinegara' :['Bali Mester', 'Bidara Cina', 'Cipinang Besar Selatan', 'Cipinang Besar Utara', \n",
    "                'Cipinang Cempedak', 'Cipinang Muara', 'Kampung Melayu', 'Rawa Bunga'],\n",
    "'Kramat Jati': ['Balekambang', 'Batu Ampar', 'Cawang', 'Cililitan',\n",
    "                'Dukuh', 'Kramat Jati', 'Tengah', 'Condet'],\n",
    "'Makasar' : ['Cipinang Melayu', 'Halim Perdana Kusuma', 'Kebon Pala', 'Makasar', \n",
    "             'Pinang Ranti','Halim Perdana Kusumah'],\n",
    "'Matraman' : ['Kayu Manis', 'Kebon Manggis', 'Pal Meriam', 'Pisangan Baru', \n",
    "              'Utan Kayu Selatan', 'Utan Kayu Utara','Utan Kayu'],\n",
    "'Pasar Rebo' : ['Baru', 'Cijantung', 'Gedong', 'Kalisari', 'Pekayon'],\n",
    "'Pulo Gadung' : ['Cipinang', 'Jati', 'Jatinegara Kaum', 'Kayu Putih', \n",
    "                  'Pisangan Timur', 'Pulo Gadung', 'Rawamangun'],\n",
    "'Cilandak' : ['Cilandak Barat', 'Cipete Selatan', 'Gandaria Selatan', 'TB Simatupang', 'Cipete',\n",
    "              'Lebak Bulus', 'Pondok Labu', 'Fatmawati'],\n",
    "'Jagakarsa' :  ['Ciganjur', 'Cipedak', 'Jagakarsa', 'Lenteng Agung', \n",
    "                'Srengseng Sawah', 'Tanjung Barat'],\n",
    "'Kebayoran Baru' : ['Cipete Utara', 'Gandaria Utara', 'Gunung', 'Kramat Pela', 'Radio Dalam',\n",
    "                    'Melawai', 'Petogogan', 'Pulo', 'Rawa Barat', 'Selong', 'Senayan',\n",
    "                   'Antasari','Panglima Polim','Gandaria'],\n",
    "'Kebayoran Lama' : ['Cipulir', 'Grogol Selatan', 'Grogol Utara', 'Tanah Kusir', 'Permata Hijau',\n",
    "                    'Kebayoran Lama Selatan', 'Kebayoran Lama Utara', 'Pondok Pinang',\n",
    "                   'Pondok Indah'],\n",
    "'Mampang Prapatan' : ['Bangka', 'Kuningan Barat', 'Mampang Prapatan','Kemang',\n",
    "                      'Pela Mampang', 'Tegal Parang','Warung Buncit'],\n",
    "'Pancoran' : ['Cikoko', 'Duren Tiga', 'Kalibata', 'Pancoran', 'Pengadegan', 'Rawajati'],\n",
    "'Pasar Minggu' : ['Cilandak Timur', 'Jati Padang', 'Kebagusan', 'Pejaten', 'Ampera',\n",
    "                  'Pasar Minggu', 'Pejaten Barat', 'Pejaten Timur', 'Ragunan'],\n",
    "'Pesanggrahan' : ['Bintaro', 'Pesanggrahan', 'Petukangan Selatan', 'Petukangan',\n",
    "                  'Petukangan Utara', 'Ulujami'],\n",
    "'Setiabudi' : ['Guntur', 'Karet Kuningan', 'Karet Semanggi', 'Karet', 'Kuningan Timur',\n",
    "               'Menteng Atas', 'Pasar Manggis', 'Setiabudi','Kuningan','SetiaBudi'],\n",
    "'Tebet' : ['Bukit Duri', 'Kebon Baru', 'Manggarai Selatan', 'Manggarai', 'MT Haryono',\n",
    "           'Menteng Dalam', 'Tebet Barat', 'Tebet Timur','Casablanca'],\n",
    "'Cengkareng' : ['Cengkareng Barat', 'Cengkareng Timur', 'Duri Kosambi', \n",
    "                'Kapuk', 'Kedaung Kali Angke', 'Rawa Buaya','Daan Mogot'],\n",
    "'Grogol Petamburan' : ['Grogol', 'Jelambar Baru', 'Jelambar', 'Tanjung Duren Selatan', \n",
    "                       'Tanjung Duren Utara', 'Tomang', 'Wijaya Kusuma', 'Tanjung Duren',\n",
    "                      'Wijaya Kesuma'],\n",
    "'Taman Sari' : ['Glodok', 'Keagungan', 'Krukut', 'Mangga Besar', 'Maphar','Kota', \n",
    "                'Pinangsia', 'Taman Sari', 'Tangki','Hayam Wuruk','Gajah Mada'],\n",
    "'Tambora' : ['Angke', 'Duri Selatan', 'Duri Utara', 'Jembatan Besi', 'Jembatan Lima',\n",
    "             'Kali Anyar', 'Krendang', 'Pekojan', 'Roa Malaka', 'Tambora', 'Tanah Sereal'],\n",
    "'Kebon Jeruk' : ['Duri Kepa', 'Kebon Jeruk', 'Kedoya Selatan', 'Kedoya Utara','Sunrise Garden',\n",
    "                 'Kelapa Dua', 'Sukabumi Selatan', 'Sukabumi Utara','Pos Pengumben',\n",
    "                'Kedoya'],\n",
    "'Kalideres' : ['Kalideres', 'Kamal', 'Pegadungan', 'Semanan', 'Tegal Alur'],\n",
    "'Palmerah' : ['Jatipulo', 'Kemanggisan', 'Kota Bambu Selatan', 'Kota Bambu','Jati Pulo',\n",
    "              'Kota Bambu Utara', 'Palmerah', 'Slipi'],\n",
    "'Kembangan' : ['Joglo', 'Kembangan Selatan', 'Kembangan Utara', 'Puri Indah',\n",
    "               'Meruya Selatan', 'Meruya Utara', 'Srengseng','Meruya']\n",
    "}"
   ]
  },
  {
   "cell_type": "code",
   "execution_count": 46,
   "metadata": {},
   "outputs": [
    {
     "data": {
      "text/plain": [
       "48"
      ]
     },
     "execution_count": 46,
     "metadata": {},
     "output_type": "execute_result"
    }
   ],
   "source": [
    "for i in range(len(temp)):\n",
    "    for j in kecamatan.keys():\n",
    "        if temp['lokasi'].iloc[i] in kecamatan[j]:\n",
    "            temp['lokasi'].iloc[i] = j\n",
    "            break\n",
    "temp['lokasi'].nunique()"
   ]
  },
  {
   "cell_type": "code",
   "execution_count": 51,
   "metadata": {},
   "outputs": [
    {
     "name": "stdout",
     "output_type": "stream",
     "text": [
      "nan\n",
      "Sudirman\n",
      "Gatot Subroto\n",
      "Thamrin\n",
      "Mekar Wangi\n",
      "Kedungwaringin\n",
      "Cimahpar\n"
     ]
    }
   ],
   "source": [
    "lok = [i for i in temp['lokasi'].unique()]\n",
    "for i in lok:\n",
    "    if i not in kecamatan.keys():\n",
    "        print(i)"
   ]
  },
  {
   "cell_type": "code",
   "execution_count": 47,
   "metadata": {},
   "outputs": [],
   "source": [
    "# 'Kedungwaringin' bekasi, 'Cimahpar' bogor 'Mekar Wangi' negeri entah berantah\n",
    "# 'Sudirman', 'Gatot Subroto' 'Thamrin'"
   ]
  },
  {
   "cell_type": "code",
   "execution_count": 48,
   "metadata": {},
   "outputs": [],
   "source": [
    "#kamar mandi,kamar, luas bangunan, luas tanah, \n",
    "#lokasi, garasi, apartemen, taman, pool,  gym, sertifikat, listrik, lantai"
   ]
  },
  {
   "cell_type": "code",
   "execution_count": 50,
   "metadata": {},
   "outputs": [
    {
     "name": "stdout",
     "output_type": "stream",
     "text": [
      "<class 'pandas.core.frame.DataFrame'>\n",
      "Int64Index: 13844 entries, 0 to 15824\n",
      "Data columns (total 15 columns):\n",
      " #   Column         Non-Null Count  Dtype  \n",
      "---  ------         --------------  -----  \n",
      " 0   kamar_mandi    13844 non-null  float64\n",
      " 1   kamar          13844 non-null  float64\n",
      " 2   lb             13129 non-null  float64\n",
      " 3   lt             10576 non-null  float64\n",
      " 4   tipe_properti  13844 non-null  object \n",
      " 5   price          13833 non-null  float64\n",
      " 6   sertifikat     13844 non-null  int64  \n",
      " 7   deskripsi      13844 non-null  object \n",
      " 8   lokasi         13475 non-null  object \n",
      " 9   ada_garasi     13844 non-null  int64  \n",
      " 10  pool           13844 non-null  int64  \n",
      " 11  taman          13844 non-null  int64  \n",
      " 12  electricity    13394 non-null  float64\n",
      " 13  floors_total   13836 non-null  float64\n",
      " 14  gym            13844 non-null  int64  \n",
      "dtypes: float64(7), int64(5), object(3)\n",
      "memory usage: 1.7+ MB\n"
     ]
    }
   ],
   "source": [
    "temp[['kamar_mandi','kamar','lb','lt','tipe_properti','price','sertifikat','deskripsi',\n",
    "     'lokasi','ada_garasi','pool','taman','electricity','floors_total','gym']].info()"
   ]
  },
  {
   "cell_type": "code",
   "execution_count": null,
   "metadata": {},
   "outputs": [],
   "source": []
  }
 ],
 "metadata": {
  "kernelspec": {
   "display_name": "ML",
   "language": "python",
   "name": "ml"
  },
  "language_info": {
   "codemirror_mode": {
    "name": "ipython",
    "version": 3
   },
   "file_extension": ".py",
   "mimetype": "text/x-python",
   "name": "python",
   "nbconvert_exporter": "python",
   "pygments_lexer": "ipython3",
   "version": "3.8.1"
  }
 },
 "nbformat": 4,
 "nbformat_minor": 4
}
