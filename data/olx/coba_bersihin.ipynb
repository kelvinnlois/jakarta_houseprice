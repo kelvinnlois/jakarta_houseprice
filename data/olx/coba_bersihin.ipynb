{
 "cells": [
  {
   "cell_type": "code",
   "execution_count": 1,
   "metadata": {},
   "outputs": [],
   "source": [
    "import numpy as np\n",
    "import pandas as pd\n",
    "import re\n",
    "import warnings\n",
    "\n",
    "warnings.filterwarnings('ignore')\n",
    "pd.set_option('display.max_columns',False)\n",
    "pd.set_option('precision',2)"
   ]
  },
  {
   "cell_type": "code",
   "execution_count": 2,
   "metadata": {},
   "outputs": [],
   "source": [
    "df = pd.read_csv('jakarta_houseprice.csv')"
   ]
  },
  {
   "cell_type": "code",
   "execution_count": 3,
   "metadata": {},
   "outputs": [
    {
     "name": "stdout",
     "output_type": "stream",
     "text": [
      "<class 'pandas.core.frame.DataFrame'>\n",
      "RangeIndex: 2367 entries, 0 to 2366\n",
      "Data columns (total 12 columns):\n",
      " #   Column           Non-Null Count  Dtype  \n",
      "---  ------           --------------  -----  \n",
      " 0   Unnamed: 0       2367 non-null   int64  \n",
      " 1   desc             2152 non-null   object \n",
      " 2   fasilitas_total  1700 non-null   object \n",
      " 3   kamar            2152 non-null   object \n",
      " 4   km               2152 non-null   object \n",
      " 5   lantai           1974 non-null   float64\n",
      " 6   lb               2152 non-null   float64\n",
      " 7   lokasi           2152 non-null   object \n",
      " 8   lt               2152 non-null   float64\n",
      " 9   price            2152 non-null   object \n",
      " 10  sertifikat       2062 non-null   object \n",
      " 11  tipe             2152 non-null   object \n",
      "dtypes: float64(3), int64(1), object(8)\n",
      "memory usage: 222.0+ KB\n"
     ]
    }
   ],
   "source": [
    "df.info()"
   ]
  },
  {
   "cell_type": "code",
   "execution_count": 4,
   "metadata": {},
   "outputs": [],
   "source": [
    "df = df.dropna(subset = ['price'])\n",
    "df['price']=df[df['price']!='agen']['price'].apply(lambda x: int(x.replace('.','')))"
   ]
  },
  {
   "cell_type": "code",
   "execution_count": 5,
   "metadata": {},
   "outputs": [],
   "source": [
    "df = df.drop_duplicates(subset = 'desc')"
   ]
  },
  {
   "cell_type": "code",
   "execution_count": 6,
   "metadata": {},
   "outputs": [],
   "source": [
    "df = df.dropna(how = 'all')"
   ]
  },
  {
   "cell_type": "code",
   "execution_count": 7,
   "metadata": {},
   "outputs": [
    {
     "name": "stdout",
     "output_type": "stream",
     "text": [
      "<class 'pandas.core.frame.DataFrame'>\n",
      "Int64Index: 1961 entries, 0 to 2366\n",
      "Data columns (total 12 columns):\n",
      " #   Column           Non-Null Count  Dtype  \n",
      "---  ------           --------------  -----  \n",
      " 0   Unnamed: 0       1961 non-null   int64  \n",
      " 1   desc             1961 non-null   object \n",
      " 2   fasilitas_total  1512 non-null   object \n",
      " 3   kamar            1961 non-null   object \n",
      " 4   km               1961 non-null   object \n",
      " 5   lantai           1786 non-null   float64\n",
      " 6   lb               1961 non-null   float64\n",
      " 7   lokasi           1961 non-null   object \n",
      " 8   lt               1961 non-null   float64\n",
      " 9   price            1961 non-null   int64  \n",
      " 10  sertifikat       1875 non-null   object \n",
      " 11  tipe             1961 non-null   object \n",
      "dtypes: float64(3), int64(2), object(7)\n",
      "memory usage: 199.2+ KB\n"
     ]
    }
   ],
   "source": [
    "df.info()"
   ]
  },
  {
   "cell_type": "code",
   "execution_count": 8,
   "metadata": {},
   "outputs": [],
   "source": [
    "def garasi(df):\n",
    "    df_copy = df.copy()\n",
    "    df_copy['desc'] = df_copy['desc'].apply(lambda x:str(x).lower())\n",
    "    df_copy['garasi_desc'] = df_copy['desc'].apply(\n",
    "        lambda x:0 if ('tidak ada garasi' in x) else 1 if ('carport' in x) or ('garasi' in x) \\\n",
    "        else 0\n",
    "    )\n",
    "    df_copy['garasi_fasilitas'] = np.zeros(len(df_copy))\n",
    "    for i in range(len(df_copy)):\n",
    "        if 'garasi' in str(df_copy['fasilitas_total'].iloc[i]).lower():\n",
    "            df_copy['garasi_fasilitas'].iloc[i] = 1\n",
    "        elif 'carport' in str(df_copy['fasilitas_total'].iloc[i]).lower():\n",
    "            df_copy['garasi_fasilitas'].iloc[i] = 1\n",
    "    df_copy['ada_garasi'] = np.where((df_copy['garasi_desc'] > 0),\n",
    "                                     1,np.where(df_copy['garasi_fasilitas'] > 0 ,1 ,0)\n",
    "                                    )\n",
    "    \n",
    "    return df_copy.drop(['garasi_desc','garasi_fasilitas'],axis=1)"
   ]
  },
  {
   "cell_type": "code",
   "execution_count": 9,
   "metadata": {},
   "outputs": [],
   "source": [
    "def tipe_property(df):\n",
    "    df_copy = df.copy()\n",
    "    df_copy['desc'] = df_copy['desc'].apply(lambda x:str(x).lower())\n",
    "    df_copy['tipe_property'] = df_copy['desc'].apply(\n",
    "        lambda x:'Rumah' if ('rumah' in x) else 'Ruko' if ('ruko' in x) else\\\n",
    "        'Apartemen' if ('apartemen'  in x) or ('apt' in x) else \"lainnya\")\n",
    "    return df_copy"
   ]
  },
  {
   "cell_type": "code",
   "execution_count": 10,
   "metadata": {},
   "outputs": [],
   "source": [
    "def taman(df):\n",
    "    df_copy = df.copy()\n",
    "    df_copy['desc'] = df_copy['desc'].apply(lambda x:str(x).lower())\n",
    "    df_copy['taman'] = df_copy['desc'].apply(\n",
    "        lambda x:1 if ('taman' in x) or ('garden' in x) or ('pekarangan' in x) else 0\n",
    "    )\n",
    "    return df_copy"
   ]
  },
  {
   "cell_type": "code",
   "execution_count": 11,
   "metadata": {},
   "outputs": [],
   "source": [
    "def pool(df):\n",
    "    df_copy = df.copy()\n",
    "    df_copy['desc'] = df_copy['desc'].apply(lambda x:str(x).lower())\n",
    "    df_copy['pool'] = df_copy['desc'].apply(\n",
    "        lambda x:1 if ('pool' in x) or ('kolam renang' in x) else 0\n",
    "    )\n",
    "    return df_copy"
   ]
  },
  {
   "cell_type": "code",
   "execution_count": 12,
   "metadata": {},
   "outputs": [],
   "source": [
    "def listrik(df):\n",
    "    df_copy = df.copy()\n",
    "    df_copy['electricity'] = np.zeros(len(df_copy))\n",
    "    df_copy['desc'] = df_copy['desc'].fillna('aaaa')\n",
    "    for i in range(len(df_copy)):\n",
    "        text = str(df_copy['desc'].iloc[i]).lower())\n",
    "        try:\n",
    "            cari = re.search('listrik',text)\n",
    "            S = cari.span()\n",
    "            txt = text[S[1]:S[1]+10]\n",
    "            clean = ''.join(re.findall(r'[^\\D]+',txt))\n",
    "            df_copy['electricity'].iloc[i] = clean\n",
    "        except:\n",
    "            pass\n",
    "    return df_copy"
   ]
  },
  {
   "cell_type": "code",
   "execution_count": 13,
   "metadata": {},
   "outputs": [],
   "source": [
    "def gym(df):\n",
    "    df_copy = df.copy()\n",
    "    df_copy['desc'] = df_copy['desc'].apply(lambda x:str(x).lower())\n",
    "    df_copy['gym'] = df_copy['desc'].apply(\n",
    "        lambda x:1 if ('gym' in x) else 0\n",
    "    )\n",
    "    return df_copy"
   ]
  },
  {
   "cell_type": "code",
   "execution_count": 14,
   "metadata": {},
   "outputs": [],
   "source": [
    "df = garasi(df)"
   ]
  },
  {
   "cell_type": "code",
   "execution_count": 15,
   "metadata": {},
   "outputs": [],
   "source": [
    "df = tipe_property(df)"
   ]
  },
  {
   "cell_type": "code",
   "execution_count": 16,
   "metadata": {},
   "outputs": [],
   "source": [
    "df = taman(df)"
   ]
  },
  {
   "cell_type": "code",
   "execution_count": 17,
   "metadata": {},
   "outputs": [],
   "source": [
    "df = pool(df)"
   ]
  },
  {
   "cell_type": "code",
   "execution_count": 18,
   "metadata": {},
   "outputs": [],
   "source": [
    "df = gym(df)"
   ]
  },
  {
   "cell_type": "code",
   "execution_count": 19,
   "metadata": {},
   "outputs": [],
   "source": [
    "df = listrik(df)"
   ]
  },
  {
   "cell_type": "code",
   "execution_count": 20,
   "metadata": {},
   "outputs": [],
   "source": [
    "df['sertifikat'] = np.where(df['sertifikat'].isna(),0,1)"
   ]
  },
  {
   "cell_type": "code",
   "execution_count": 21,
   "metadata": {},
   "outputs": [],
   "source": [
    "kecamatan={\n",
    "'Cempaka Putih' : ['Cempaka Putih Barat','Cempaka Putih Timur', 'Rawasari','Rawa Sari'],\n",
    "'Gambir' : ['Cideng','Duri Pulo', 'Gambir', 'Kebon Kelapa', 'Petojo Selatan', 'Petojo Utara',\n",
    "           'Roxy','Petojo'],\n",
    "'Johar Baru' : ['Galur', 'Johar Baru', 'Kampung Rawa', 'Tanah Tinggi'],\n",
    "'Kemayoran' : ['Cempaka Baru', 'Gunung Sahari Selatan', 'Harapan Mulya', 'Kebon Kosong',\n",
    "               'Kemayoran', 'Serdang', 'Sumur Batu', 'Utan Panjang'],\n",
    "'Menteng' : ['Cikini', 'Gondangdia', 'Kebon Sirih', 'Menteng', 'Pegangsaan'],\n",
    "'Sawah Besar': ['Gunung Sahari Utara', 'Karang Anyar', 'Kartini', 'Kampung Anyar',\n",
    "                'Mangga Dua Selatan', 'Pasar Baru', 'Gunung Sahari'],\n",
    "'Senen' : ['Bungur', 'Kenari', 'Kramat', 'Kwitang', 'Paseban', 'Senen'],\n",
    "'Tanah Abang' : ['Bendungan Hilir', 'Gelora', 'Kampung Bali', 'Karet Tengsin', \n",
    "                 'Kebon Kacang', 'Kebon Melati', 'Petamburan', 'KH Mas Mansyur',\n",
    "                'Kebon Kacang Lama'],\n",
    "'Cilincing' : ['Cilincing', 'Kalibaru', 'Marunda', 'Rorotan','Suka Pura', 'Semper',\n",
    "                'Semper Barat', 'Semper Timur', 'Sukapura'],\n",
    "'Kelapa Gading' : ['Kelapa Gading Barat', 'Kelapa Gading Timur', 'Pegangsaan Dua'],\n",
    "'Koja' : ['Koja', 'Lagoa', 'Rawa Badak Selatan', 'Rawa Badak Utara','Tugu',\n",
    "          'Tugu Selatan', 'Tugu Utara','Rawabadak Selatan'],\n",
    "'Pademangan' : ['Ancol', 'Pademangan Barat', 'Pademangan Timur'],\n",
    "'Penjaringan' : ['Kamal Muara', 'Kapuk Muara', 'Pejagalan', 'Penjaringan', 'Pluit',\n",
    "                'Pantai Indah Kapuk','Bandengan','Teluk Gong','Muara Karang'],\n",
    "'Tanjung Priok' : ['Kebon Bawang', 'Papanggo', 'Sungai Bambu', 'Sunter Agung', 'Sunter',\n",
    "                    'Sunter Jaya', 'Tanjung Priok', 'Warakas'],\n",
    "'Cakung' : ['Cakung Barat', 'Cakung Timur', 'Jatinegara', 'Penggilingan', \n",
    "            'Pulo Gebang', 'Rawa Terate', 'Ujung Menteng'],\n",
    "'Cipayung' : ['Bambu Apus', 'Ceger', 'Cilangkap', 'Cipayung', 'Lubang Buaya',\n",
    "              'Munjul', 'Pondok Ranggon', 'Setu'],\n",
    "'Ciracas' : ['Cibubur', 'Ciracas', 'Kelapa Dua Wetan', 'Rambutan Susukan','Kampung Rambutan'],\n",
    "'Duren Sawit' : ['Duren Sawit', 'Klender', 'Malaka Jaya', 'Malaka Sari', \n",
    "                 'Pondok Bambu', 'Pondok Kelapa', 'Pondok Kopi'],\n",
    "'Jatinegara' :['Bali Mester', 'Bidara Cina', 'Cipinang Besar Selatan', 'Cipinang Besar Utara', \n",
    "                'Cipinang Cempedak', 'Cipinang Muara', 'Kampung Melayu', 'Rawa Bunga'],\n",
    "'Kramat Jati': ['Balekambang', 'Batu Ampar', 'Cawang', 'Cililitan',\n",
    "                'Dukuh', 'Kramat Jati', 'Tengah', 'Condet'],\n",
    "'Makasar' : ['Cipinang Melayu', 'Halim Perdana Kusuma', 'Kebon Pala', 'Makasar', \n",
    "             'Pinang Ranti','Halim Perdana Kusumah'],\n",
    "'Matraman' : ['Kayu Manis', 'Kebon Manggis', 'Pal Meriam', 'Pisangan Baru', \n",
    "              'Utan Kayu Selatan', 'Utan Kayu Utara','Utan Kayu'],\n",
    "'Pasar Rebo' : ['Baru', 'Cijantung', 'Gedong', 'Kalisari', 'Pekayon'],\n",
    "'Pulo Gadung' : ['Cipinang', 'Jati', 'Jatinegara Kaum', 'Kayu Putih', \n",
    "                  'Pisangan Timur', 'Pulo Gadung', 'Rawamangun'],\n",
    "'Cilandak' : ['Cilandak Barat', 'Cipete Selatan', 'Gandaria Selatan', 'TB Simatupang', 'Cipete',\n",
    "              'Lebak Bulus', 'Pondok Labu', 'Fatmawati'],\n",
    "'Jagakarsa' :  ['Ciganjur', 'Cipedak', 'Jagakarsa', 'Lenteng Agung', \n",
    "                'Srengseng Sawah', 'Tanjung Barat'],\n",
    "'Kebayoran Baru' : ['Cipete Utara', 'Gandaria Utara', 'Gunung', 'Kramat Pela', 'Radio Dalam',\n",
    "                    'Melawai', 'Petogogan', 'Pulo', 'Rawa Barat', 'Selong', 'Senayan',\n",
    "                   'Antasari','Panglima Polim','Gandaria'],\n",
    "'Kebayoran Lama' : ['Cipulir', 'Grogol Selatan', 'Grogol Utara', 'Tanah Kusir', 'Permata Hijau',\n",
    "                    'Kebayoran Lama Selatan', 'Kebayoran Lama Utara', 'Pondok Pinang',\n",
    "                   'Pondok Indah'],\n",
    "'Mampang Prapatan' : ['Bangka', 'Kuningan Barat', 'Mampang Prapatan','Kemang',\n",
    "                      'Pela Mampang', 'Tegal Parang','Warung Buncit'],\n",
    "'Pancoran' : ['Cikoko', 'Duren Tiga', 'Kalibata', 'Pancoran', 'Pengadegan', 'Rawajati'],\n",
    "'Pasar Minggu' : ['Cilandak Timur', 'Jati Padang', 'Kebagusan', 'Pejaten', 'Ampera',\n",
    "                  'Pasar Minggu', 'Pejaten Barat', 'Pejaten Timur', 'Ragunan'],\n",
    "'Pesanggrahan' : ['Bintaro', 'Pesanggrahan', 'Petukangan Selatan', 'Petukangan',\n",
    "                  'Petukangan Utara', 'Ulujami'],\n",
    "'Setiabudi' : ['Guntur', 'Karet Kuningan', 'Karet Semanggi', 'Karet', 'Kuningan Timur',\n",
    "               'Menteng Atas', 'Pasar Manggis', 'Setiabudi','Kuningan','SetiaBudi',\n",
    "               'Setia Budi'],\n",
    "'Tebet' : ['Bukit Duri', 'Kebon Baru', 'Manggarai Selatan', 'Manggarai', 'MT Haryono',\n",
    "           'Menteng Dalam', 'Tebet Barat', 'Tebet Timur','Casablanca'],\n",
    "'Cengkareng' : ['Cengkareng Barat', 'Cengkareng Timur', 'Duri Kosambi', \n",
    "                'Kapuk', 'Kedaung Kali Angke', 'Rawa Buaya','Daan Mogot'],\n",
    "'Grogol Petamburan' : ['Grogol', 'Jelambar Baru', 'Jelambar', 'Tanjung Duren Selatan', \n",
    "                       'Tanjung Duren Utara', 'Tomang', 'Wijaya Kusuma', 'Tanjung Duren',\n",
    "                      'Wijaya Kesuma'],\n",
    "'Taman Sari' : ['Glodok', 'Keagungan', 'Krukut', 'Mangga Besar', 'Maphar','Kota', \n",
    "                'Pinangsia', 'Taman Sari', 'Tangki','Hayam Wuruk','Gajah Mada'],\n",
    "'Tambora' : ['Angke', 'Duri Selatan', 'Duri Utara', 'Jembatan Besi', 'Jembatan Lima',\n",
    "             'Kali Anyar', 'Krendang', 'Pekojan', 'Roa Malaka', 'Tambora', 'Tanah Sereal'],\n",
    "'Kebon Jeruk' : ['Duri Kepa', 'Kebon Jeruk', 'Kedoya Selatan', 'Kedoya Utara','Sunrise Garden',\n",
    "                 'Kelapa Dua', 'Sukabumi Selatan', 'Sukabumi Utara','Pos Pengumben',\n",
    "                'Kedoya'],\n",
    "'Kalideres' : ['Kalideres', 'Kamal', 'Pegadungan', 'Semanan', 'Tegal Alur'],\n",
    "'Palmerah' : ['Jatipulo', 'Kemanggisan', 'Kota Bambu Selatan', 'Kota Bambu','Jati Pulo',\n",
    "              'Kota Bambu Utara', 'Palmerah', 'Slipi'],\n",
    "'Kembangan' : ['Joglo', 'Kembangan Selatan', 'Kembangan Utara', 'Puri Indah',\n",
    "               'Meruya Selatan', 'Meruya Utara', 'Srengseng','Meruya']\n",
    "}"
   ]
  },
  {
   "cell_type": "code",
   "execution_count": 22,
   "metadata": {},
   "outputs": [
    {
     "data": {
      "text/plain": [
       "51"
      ]
     },
     "execution_count": 22,
     "metadata": {},
     "output_type": "execute_result"
    }
   ],
   "source": [
    "for i in range(len(df)):\n",
    "    for j in kecamatan.keys():\n",
    "        if df['lokasi'].iloc[i] in kecamatan[j]:\n",
    "            df['lokasi'].iloc[i] = j\n",
    "            break\n",
    "df['lokasi'].nunique()"
   ]
  },
  {
   "cell_type": "code",
   "execution_count": 23,
   "metadata": {},
   "outputs": [
    {
     "name": "stdout",
     "output_type": "stream",
     "text": [
      "Bekasi Barat\n",
      "Pondok Melati\n",
      "Karang Tengah\n",
      "Pinang (Penang)\n",
      "Pondok Gede\n",
      "Cipondoh\n",
      "Larangan\n",
      "Ciledug\n",
      "Medan Satria\n",
      "Benda\n"
     ]
    }
   ],
   "source": [
    "temp = [i for i in df['lokasi'].unique()]\n",
    "for i in temp:\n",
    "    if i not in kecamatan.keys():\n",
    "        print(i)"
   ]
  },
  {
   "cell_type": "code",
   "execution_count": 24,
   "metadata": {},
   "outputs": [],
   "source": [
    "#Pondok Melati,Ciledug,Bekasi Barat,Karang Tengah,Larangan,Pondok Gede,Cipondoh,Medan Satria\n",
    "#Benda bukan di jakarta"
   ]
  },
  {
   "cell_type": "code",
   "execution_count": 25,
   "metadata": {},
   "outputs": [
    {
     "name": "stdout",
     "output_type": "stream",
     "text": [
      "<class 'pandas.core.frame.DataFrame'>\n",
      "Int64Index: 1961 entries, 0 to 2366\n",
      "Data columns (total 18 columns):\n",
      " #   Column           Non-Null Count  Dtype  \n",
      "---  ------           --------------  -----  \n",
      " 0   Unnamed: 0       1961 non-null   int64  \n",
      " 1   desc             1961 non-null   object \n",
      " 2   fasilitas_total  1512 non-null   object \n",
      " 3   kamar            1961 non-null   object \n",
      " 4   km               1961 non-null   object \n",
      " 5   lantai           1786 non-null   float64\n",
      " 6   lb               1961 non-null   float64\n",
      " 7   lokasi           1961 non-null   object \n",
      " 8   lt               1961 non-null   float64\n",
      " 9   price            1961 non-null   int64  \n",
      " 10  sertifikat       1961 non-null   int64  \n",
      " 11  tipe             1961 non-null   object \n",
      " 12  ada_garasi       1961 non-null   int64  \n",
      " 13  tipe_property    1961 non-null   object \n",
      " 14  taman            1961 non-null   int64  \n",
      " 15  pool             1961 non-null   int64  \n",
      " 16  gym              1961 non-null   int64  \n",
      " 17  electricity      1961 non-null   object \n",
      "dtypes: float64(3), int64(7), object(8)\n",
      "memory usage: 291.1+ KB\n"
     ]
    }
   ],
   "source": [
    "df.info()"
   ]
  },
  {
   "cell_type": "code",
   "execution_count": 26,
   "metadata": {},
   "outputs": [],
   "source": [
    "df = df[['km','kamar','lb','lt','tipe_property','price','sertifikat','desc',\n",
    "     'lokasi','ada_garasi','pool','taman','electricity','lantai','gym']]"
   ]
  },
  {
   "cell_type": "code",
   "execution_count": 27,
   "metadata": {},
   "outputs": [],
   "source": [
    "df.columns = ['kamar_mandi','kamar','lb','lt','tipe_property','price','sertifikat','deskripsi',\n",
    "     'lokasi','ada_garasi','pool','taman','electricity','floors_total','gym']"
   ]
  },
  {
   "cell_type": "code",
   "execution_count": 28,
   "metadata": {},
   "outputs": [],
   "source": [
    "not_include =['Pondok Melati', 'Ciledug', 'Bekasi Barat', 'Karang Tengah', 'Larangan',\n",
    "    'Pondok Gede', 'Cipondoh', 'Medan Satria', 'Benda', 'Pinang (Penang)']"
   ]
  },
  {
   "cell_type": "code",
   "execution_count": 29,
   "metadata": {},
   "outputs": [],
   "source": [
    "df = df[~df['lokasi'].isin(not_include)]"
   ]
  },
  {
   "cell_type": "code",
   "execution_count": 30,
   "metadata": {},
   "outputs": [
    {
     "data": {
      "text/html": [
       "<div>\n",
       "<style scoped>\n",
       "    .dataframe tbody tr th:only-of-type {\n",
       "        vertical-align: middle;\n",
       "    }\n",
       "\n",
       "    .dataframe tbody tr th {\n",
       "        vertical-align: top;\n",
       "    }\n",
       "\n",
       "    .dataframe thead th {\n",
       "        text-align: right;\n",
       "    }\n",
       "</style>\n",
       "<table border=\"1\" class=\"dataframe\">\n",
       "  <thead>\n",
       "    <tr style=\"text-align: right;\">\n",
       "      <th></th>\n",
       "      <th>kamar_mandi</th>\n",
       "      <th>kamar</th>\n",
       "      <th>lb</th>\n",
       "      <th>lt</th>\n",
       "      <th>tipe_property</th>\n",
       "      <th>price</th>\n",
       "      <th>sertifikat</th>\n",
       "      <th>deskripsi</th>\n",
       "      <th>lokasi</th>\n",
       "      <th>ada_garasi</th>\n",
       "      <th>pool</th>\n",
       "      <th>taman</th>\n",
       "      <th>electricity</th>\n",
       "      <th>floors_total</th>\n",
       "      <th>gym</th>\n",
       "    </tr>\n",
       "  </thead>\n",
       "  <tbody>\n",
       "    <tr>\n",
       "      <th>0</th>\n",
       "      <td>3</td>\n",
       "      <td>7</td>\n",
       "      <td>220.0</td>\n",
       "      <td>120.0</td>\n",
       "      <td>Rumah</td>\n",
       "      <td>2800000000</td>\n",
       "      <td>1</td>\n",
       "      <td>['dijual rumah 2.5 lantai', 'kamar tidur 7', '...</td>\n",
       "      <td>Kelapa Gading</td>\n",
       "      <td>1</td>\n",
       "      <td>0</td>\n",
       "      <td>0</td>\n",
       "      <td>0</td>\n",
       "      <td>3.0</td>\n",
       "      <td>0</td>\n",
       "    </tr>\n",
       "    <tr>\n",
       "      <th>1</th>\n",
       "      <td>1</td>\n",
       "      <td>1</td>\n",
       "      <td>40.0</td>\n",
       "      <td>21.0</td>\n",
       "      <td>lainnya</td>\n",
       "      <td>695000000</td>\n",
       "      <td>1</td>\n",
       "      <td>['spesifikasi :', 'ukuran 3.5 x 6', 'listrik 2...</td>\n",
       "      <td>Cempaka Putih</td>\n",
       "      <td>0</td>\n",
       "      <td>0</td>\n",
       "      <td>0</td>\n",
       "      <td>2200</td>\n",
       "      <td>2.0</td>\n",
       "      <td>0</td>\n",
       "    </tr>\n",
       "    <tr>\n",
       "      <th>2</th>\n",
       "      <td>7</td>\n",
       "      <td>&gt;10</td>\n",
       "      <td>387.0</td>\n",
       "      <td>299.0</td>\n",
       "      <td>Rumah</td>\n",
       "      <td>5900000000</td>\n",
       "      <td>0</td>\n",
       "      <td>['nego sampe deal', 'usaha kost', 'luas tanah ...</td>\n",
       "      <td>Pancoran</td>\n",
       "      <td>1</td>\n",
       "      <td>0</td>\n",
       "      <td>0</td>\n",
       "      <td>5000</td>\n",
       "      <td>3.0</td>\n",
       "      <td>0</td>\n",
       "    </tr>\n",
       "    <tr>\n",
       "      <th>3</th>\n",
       "      <td>4</td>\n",
       "      <td>4</td>\n",
       "      <td>209.0</td>\n",
       "      <td>209.0</td>\n",
       "      <td>Apartemen</td>\n",
       "      <td>4300000000</td>\n",
       "      <td>1</td>\n",
       "      <td>['kode listingan : rj3133at20\\t', '( mohon seb...</td>\n",
       "      <td>Kebon Jeruk</td>\n",
       "      <td>0</td>\n",
       "      <td>0</td>\n",
       "      <td>0</td>\n",
       "      <td>0</td>\n",
       "      <td>2.0</td>\n",
       "      <td>0</td>\n",
       "    </tr>\n",
       "    <tr>\n",
       "      <th>4</th>\n",
       "      <td>2</td>\n",
       "      <td>3</td>\n",
       "      <td>42.0</td>\n",
       "      <td>42.0</td>\n",
       "      <td>Apartemen</td>\n",
       "      <td>850000001</td>\n",
       "      <td>1</td>\n",
       "      <td>['dijual apartemen 3 br bassura city jakarta t...</td>\n",
       "      <td>Cakung</td>\n",
       "      <td>0</td>\n",
       "      <td>0</td>\n",
       "      <td>1</td>\n",
       "      <td>0</td>\n",
       "      <td>16.0</td>\n",
       "      <td>0</td>\n",
       "    </tr>\n",
       "    <tr>\n",
       "      <th>...</th>\n",
       "      <td>...</td>\n",
       "      <td>...</td>\n",
       "      <td>...</td>\n",
       "      <td>...</td>\n",
       "      <td>...</td>\n",
       "      <td>...</td>\n",
       "      <td>...</td>\n",
       "      <td>...</td>\n",
       "      <td>...</td>\n",
       "      <td>...</td>\n",
       "      <td>...</td>\n",
       "      <td>...</td>\n",
       "      <td>...</td>\n",
       "      <td>...</td>\n",
       "      <td>...</td>\n",
       "    </tr>\n",
       "    <tr>\n",
       "      <th>2360</th>\n",
       "      <td>3</td>\n",
       "      <td>3</td>\n",
       "      <td>215.0</td>\n",
       "      <td>324.0</td>\n",
       "      <td>Rumah</td>\n",
       "      <td>3099000000</td>\n",
       "      <td>1</td>\n",
       "      <td>['kode listing : iqb 010 rj', none, 'di jual r...</td>\n",
       "      <td>Pesanggrahan</td>\n",
       "      <td>1</td>\n",
       "      <td>0</td>\n",
       "      <td>0</td>\n",
       "      <td>6600</td>\n",
       "      <td>2.0</td>\n",
       "      <td>0</td>\n",
       "    </tr>\n",
       "    <tr>\n",
       "      <th>2361</th>\n",
       "      <td>2</td>\n",
       "      <td>3</td>\n",
       "      <td>48.0</td>\n",
       "      <td>60.0</td>\n",
       "      <td>lainnya</td>\n",
       "      <td>600000088</td>\n",
       "      <td>1</td>\n",
       "      <td>['- boston residence bintaro (739 juta nego)',...</td>\n",
       "      <td>Cilandak</td>\n",
       "      <td>1</td>\n",
       "      <td>0</td>\n",
       "      <td>0</td>\n",
       "      <td>0</td>\n",
       "      <td>2.0</td>\n",
       "      <td>0</td>\n",
       "    </tr>\n",
       "    <tr>\n",
       "      <th>2362</th>\n",
       "      <td>2</td>\n",
       "      <td>3</td>\n",
       "      <td>110.0</td>\n",
       "      <td>65.0</td>\n",
       "      <td>Rumah</td>\n",
       "      <td>1500000000</td>\n",
       "      <td>1</td>\n",
       "      <td>['vine property ', none, 'for sale!!', 'rumah ...</td>\n",
       "      <td>Pasar Minggu</td>\n",
       "      <td>1</td>\n",
       "      <td>0</td>\n",
       "      <td>0</td>\n",
       "      <td>0</td>\n",
       "      <td>2.0</td>\n",
       "      <td>0</td>\n",
       "    </tr>\n",
       "    <tr>\n",
       "      <th>2363</th>\n",
       "      <td>2</td>\n",
       "      <td>3</td>\n",
       "      <td>91.0</td>\n",
       "      <td>61.0</td>\n",
       "      <td>Rumah</td>\n",
       "      <td>1280000000</td>\n",
       "      <td>1</td>\n",
       "      <td>['deskripsi', none, 'miliki hunian rumah denga...</td>\n",
       "      <td>Pancoran</td>\n",
       "      <td>1</td>\n",
       "      <td>0</td>\n",
       "      <td>0</td>\n",
       "      <td>0</td>\n",
       "      <td>2.0</td>\n",
       "      <td>0</td>\n",
       "    </tr>\n",
       "    <tr>\n",
       "      <th>2366</th>\n",
       "      <td>3</td>\n",
       "      <td>3</td>\n",
       "      <td>205.0</td>\n",
       "      <td>144.0</td>\n",
       "      <td>Rumah</td>\n",
       "      <td>3200000000</td>\n",
       "      <td>1</td>\n",
       "      <td>['jual rumah di kebun jeruk indah, jakarta bar...</td>\n",
       "      <td>Kembangan</td>\n",
       "      <td>1</td>\n",
       "      <td>0</td>\n",
       "      <td>0</td>\n",
       "      <td>3500</td>\n",
       "      <td>2.0</td>\n",
       "      <td>0</td>\n",
       "    </tr>\n",
       "  </tbody>\n",
       "</table>\n",
       "<p>1923 rows × 15 columns</p>\n",
       "</div>"
      ],
      "text/plain": [
       "     kamar_mandi kamar     lb     lt  ... taman  electricity  floors_total gym\n",
       "0              3     7  220.0  120.0  ...     0            0           3.0   0\n",
       "1              1     1   40.0   21.0  ...     0         2200           2.0   0\n",
       "2              7   >10  387.0  299.0  ...     0         5000           3.0   0\n",
       "3              4     4  209.0  209.0  ...     0            0           2.0   0\n",
       "4              2     3   42.0   42.0  ...     1            0          16.0   0\n",
       "...          ...   ...    ...    ...  ...   ...          ...           ...  ..\n",
       "2360           3     3  215.0  324.0  ...     0         6600           2.0   0\n",
       "2361           2     3   48.0   60.0  ...     0            0           2.0   0\n",
       "2362           2     3  110.0   65.0  ...     0            0           2.0   0\n",
       "2363           2     3   91.0   61.0  ...     0            0           2.0   0\n",
       "2366           3     3  205.0  144.0  ...     0         3500           2.0   0\n",
       "\n",
       "[1923 rows x 15 columns]"
      ]
     },
     "execution_count": 30,
     "metadata": {},
     "output_type": "execute_result"
    }
   ],
   "source": [
    "df"
   ]
  },
  {
   "cell_type": "code",
   "execution_count": 31,
   "metadata": {},
   "outputs": [
    {
     "name": "stdout",
     "output_type": "stream",
     "text": [
      "<class 'pandas.core.frame.DataFrame'>\n",
      "Int64Index: 1923 entries, 0 to 2366\n",
      "Data columns (total 15 columns):\n",
      " #   Column         Non-Null Count  Dtype  \n",
      "---  ------         --------------  -----  \n",
      " 0   kamar_mandi    1923 non-null   object \n",
      " 1   kamar          1923 non-null   object \n",
      " 2   lb             1923 non-null   float64\n",
      " 3   lt             1923 non-null   float64\n",
      " 4   tipe_property  1923 non-null   object \n",
      " 5   price          1923 non-null   int64  \n",
      " 6   sertifikat     1923 non-null   int64  \n",
      " 7   deskripsi      1923 non-null   object \n",
      " 8   lokasi         1923 non-null   object \n",
      " 9   ada_garasi     1923 non-null   int64  \n",
      " 10  pool           1923 non-null   int64  \n",
      " 11  taman          1923 non-null   int64  \n",
      " 12  electricity    1923 non-null   object \n",
      " 13  floors_total   1750 non-null   float64\n",
      " 14  gym            1923 non-null   int64  \n",
      "dtypes: float64(3), int64(6), object(6)\n",
      "memory usage: 240.4+ KB\n"
     ]
    }
   ],
   "source": [
    "df.info()"
   ]
  },
  {
   "cell_type": "code",
   "execution_count": 32,
   "metadata": {},
   "outputs": [],
   "source": [
    "df.to_csv('csv_(agak)bersih.csv')"
   ]
  },
  {
   "cell_type": "code",
   "execution_count": null,
   "metadata": {},
   "outputs": [],
   "source": []
  }
 ],
 "metadata": {
  "kernelspec": {
   "display_name": "Python 3",
   "language": "python",
   "name": "python3"
  },
  "language_info": {
   "codemirror_mode": {
    "name": "ipython",
    "version": 3
   },
   "file_extension": ".py",
   "mimetype": "text/x-python",
   "name": "python",
   "nbconvert_exporter": "python",
   "pygments_lexer": "ipython3",
   "version": "3.8.5"
  }
 },
 "nbformat": 4,
 "nbformat_minor": 4
}
